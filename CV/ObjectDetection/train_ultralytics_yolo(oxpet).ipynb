{
  "nbformat": 4,
  "nbformat_minor": 0,
  "metadata": {
    "colab": {
      "name": "train_ultralytics_yolo(oxpet).ipynb",
      "provenance": [],
      "collapsed_sections": [],
      "include_colab_link": true
    },
    "kernelspec": {
      "name": "python3",
      "display_name": "Python 3"
    },
    "language_info": {
      "name": "python"
    }
  },
  "cells": [
    {
      "cell_type": "markdown",
      "metadata": {
        "id": "view-in-github",
        "colab_type": "text"
      },
      "source": [
        "<a href=\"https://colab.research.google.com/github/silverstar0727/pragmatism-AI/blob/main/train_ultralytics_yolo(oxpet).ipynb\" target=\"_parent\"><img src=\"https://colab.research.google.com/assets/colab-badge.svg\" alt=\"Open In Colab\"/></a>"
      ]
    },
    {
      "cell_type": "code",
      "metadata": {
        "colab": {
          "base_uri": "https://localhost:8080/"
        },
        "id": "AEa64U9kUTL4",
        "outputId": "53adbf31-795a-4b12-e4ca-f472ac85a108"
      },
      "source": [
        "!git clone https://github.com/ultralytics/yolov3\n",
        "!cd yolov3;pip install -qr requirements.txt"
      ],
      "execution_count": null,
      "outputs": [
        {
          "output_type": "stream",
          "text": [
            "Cloning into 'yolov3'...\n",
            "remote: Enumerating objects: 9862, done.\u001b[K\n",
            "remote: Total 9862 (delta 0), reused 0 (delta 0), pack-reused 9862\u001b[K\n",
            "Receiving objects: 100% (9862/9862), 9.19 MiB | 20.37 MiB/s, done.\n",
            "Resolving deltas: 100% (6667/6667), done.\n",
            "\u001b[K     |████████████████████████████████| 636 kB 24.9 MB/s \n",
            "\u001b[?25h"
          ],
          "name": "stdout"
        }
      ]
    },
    {
      "cell_type": "code",
      "metadata": {
        "colab": {
          "base_uri": "https://localhost:8080/"
        },
        "id": "HJ51Z0SwVZQ_",
        "outputId": "a1df85a0-8e93-4eee-894c-09815bc69e6e"
      },
      "source": [
        "import torch\n",
        "from IPython.display import Image, clear_output  # to display images\n",
        "\n",
        "clear_output()\n",
        "print(f\"Setup complete. Using torch {torch.__version__} ({torch.cuda.get_device_properties(0).name if torch.cuda.is_available() else 'CPU'})\")"
      ],
      "execution_count": null,
      "outputs": [
        {
          "output_type": "stream",
          "text": [
            "Setup complete. Using torch 1.9.0+cu102 (CPU)\n"
          ],
          "name": "stdout"
        }
      ]
    },
    {
      "cell_type": "code",
      "metadata": {
        "colab": {
          "base_uri": "https://localhost:8080/"
        },
        "id": "oABUtNuxVb2Y",
        "outputId": "2dcd90fc-3ea8-4551-8b13-659dc9805133"
      },
      "source": [
        "!wget https://www.robots.ox.ac.uk/~vgg/data/pets/data/images.tar.gz -q\n",
        "!wget https://www.robots.ox.ac.uk/~vgg/data/pets/data/annotations.tar.gz -q\n",
        "\n",
        "# /content/data 디렉토리를 만들고 해당 디렉토리에 다운로드 받은 압축 파일 풀기.\n",
        "!mkdir /content/data\n",
        "!tar -xf images.tar.gz -C /content/data\n",
        "!tar -xf annotations.tar.gz -C /content/data"
      ],
      "execution_count": null,
      "outputs": [
        {
          "output_type": "stream",
          "text": [
            "mkdir: cannot create directory ‘/content/data’: File exists\n"
          ],
          "name": "stdout"
        }
      ]
    },
    {
      "cell_type": "markdown",
      "metadata": {
        "id": "4lCcnodtVs-C"
      },
      "source": [
        "아래 코드로 완성된 디렉토리 구조\n",
        "\n",
        "![스크린샷 2021-08-16 오전 9.22.32.png](data:image/png;base64,iVBORw0KGgoAAAANSUhEUgAAAlYAAAFMCAYAAAAJAPJ/AAAK4WlDQ1BJQ0MgUHJvZmlsZQAASImVlwdUU1kTgO976SGhhS4l9I4UgQBSQg+g9CoqIQkkEGJMQcGOiAqsKCIioC7ogoiCqysga0EsWFgEFewuyKKirosFLKjsA37C7l/PP+fcc783b+7cmXvuvDMPAHIUUyjkw4oAZAgkoogAb2pcfAIVNwQwgABUgC2wY7LEQnpYWAhAZGb+u4z1AWhyvmU96etf3/9XUWZzxCwAoESEk9liVgbCbcgYYwlFEgBQLYjecIVEOMkPEVYRIQEiPDLJqVOMRk9y8jRrTNlERfggbAUAnsRkilIBINEQPTWTlYr4IcUhbCtg8wQIb0HYg8VlshG+grBVRsaySX6PsBliLwSArI0wLfkvPlP/5j9Z5p/JTJXxdF5TgvfliYV8Ztb/eTT/WzL40pk9TJBB4ooCI5BZFzm/u+nLgmUsSF4YOsM89pT9FHOlgdEzzBL7JMwwm+kbLFvLXxgywyk8f4bMj4QRNcMcsV/kDIuWRcj2ShH50GeYKZrdV5oeLdNzOQyZ/2xuVOwMZ/JiFs6wOD0yeNbGR6YXSSNk8XMEAd6z+/rLcs8Q/yVfHkO2VsKNCpTlzpyNnyOgz/oUx8liY3N8/WZtomX2Qom3bC8hP0xmz+EHyPTizEjZWglyOWfXhsnOMI0ZFDbDIBLwABtwAAswgQhQgS/yLAZCwEeekWsk4ayUTCbls0yYJeKlciVUOlJ5HCpDwLKxotrb2tsBMFnH01fjXfhUfUJqnbM6CXKe7r8jddQ9q0tATuoI4lfdYVZnhtST6j4AWixYUlHmtG6y3JDvAxEoIF8ITSRiQ2AGrIE9cAJuwAv4gSAQCqJAPFiCxM8FGUgGK8BqsAHkgQKwHewC5WA/OAAOgaPgOGgGp8F5cBlcB92gFzwA/WAIvAQjYAyMQxCEg8gQBdKE9CBjyBKyh2iQB+QHhUARUDyUBKVCAkgKrYY2QgVQMVQOVUF10I/QKeg8dBXqge5BA9Aw9Bb6DKNgEqwC68Am8FyYBtPhYDgKXgynwsvhbDgX3gaXwdXwEbgJPg9fh3vhfvglPIoCKDmUGkofZY2ioXxQoagEVApKhFqLykeVoqpRDahWVAfqFqof9Qr1CY1FU9BUtDXaDR2Ijkaz0MvRa9GF6HL0IXQT+iL6FnoAPYL+hiFjtDGWGFcMAxOHScWswORhSjE1mJOYS5hezBBmDIvFqmFNsc7YQGw8Ng27CluI3YttxLZhe7CD2FEcDqeJs8S540JxTJwEl4fbgzuCO4e7iRvCfcTL4fXw9nh/fAJegM/Bl+IP48/ib+Kf4ccJigRjgishlMAmZBGKCAcJrYQbhCHCOFGJaEp0J0YR04gbiGXEBuIl4kPiOzk5OQM5F7lwOZ7cerkyuWNyV+QG5D6RlEkWJB9SIklK2kaqJbWR7pHekclkE7IXOYEsIW8j15EvkB+TP8pT5G3kGfJs+XXyFfJN8jflXysQFIwV6ApLFLIVShVOKNxQeKVIUDRR9FFkKq5VrFA8pXhHcVSJomSnFKqUoVSodFjpqtJzZZyyibKfMls5V/mA8gXlQQqKYkjxobAoGykHKZcoQypYFVMVhkqaSoHKUZUulRFVZdV5qjGqK1UrVM+o9quh1EzUGGp8tSK142p9ap/VddTp6hz1reoN6jfVP2jM0fDS4GjkazRq9Gp81qRq+mmma+7QbNZ8pIXWstAK11qhtU/rktarOSpz3Oaw5uTPOT7nvjasbaEdob1K+4B2p/aojq5OgI5QZ4/OBZ1Xumq6XrppuiW6Z3WH9Sh6Hno8vRK9c3ovqKpUOpVPLaNepI7oa+sH6kv1q/S79McNTA2iDXIMGg0eGRINaYYphiWG7YYjRnpGC4xWG9Ub3TcmGNOMuca7jTuMP5iYmsSabDZpNnluqmHKMM02rTd9aEY28zRbblZtdtsca04zTzffa95tAVs4WnAtKixuWMKWTpY8y72WPVYYKxcrgVW11R1rkjXdOtO63nrARs0mxCbHptnm9VyjuQlzd8ztmPvN1tGWb3vQ9oGdsl2QXY5dq91bewt7ln2F/W0HsoO/wzqHFoc38yzncebtm3fXkeK4wHGzY7vjVydnJ5FTg9Ows5FzknOl8x2aCi2MVki74oJx8XZZ53La5ZOrk6vE9bjrH27Wbuluh92ezzedz5l/cP6gu4E7073Kvd+D6pHk8b1Hv6e+J9Oz2vOJl6EX26vG6xndnJ5GP0J/7W3rLfI+6f3Bx9VnjU+bL8o3wDfft8tP2S/ar9zvsb+Bf6p/vf9IgGPAqoC2QExgcOCOwDsMHQaLUccYCXIOWhN0MZgUHBlcHvwkxCJEFNK6AF4QtGDngocLjRcKFjaHglBG6M7QR2GmYcvDfg7HhoeFV4Q/jbCLWB3REUmJXBp5OHIsyjuqKOpBtFm0NLo9RiEmMaYu5kOsb2xxbH/c3Lg1cdfjteJ58S0JuISYhJqE0UV+i3YtGkp0TMxL7Ftsunjl4qtLtJbwl5xZqrCUufREEiYpNulw0hdmKLOaOZrMSK5MHmH5sHazXrK92CXsYY47p5jzLMU9pTjleap76s7UYa4nt5T7iufDK+e9SQtM25/2IT00vTZ9gh/Lb8zAZyRlnBIoC9IFF5fpLlu5rEdoKcwT9i93Xb5r+YgoWFQjhsSLxS0SFaRh6pSaSTdJBzI9MisyP66IWXFipdJKwcrOLIusrVnPsv2zf1iFXsVa1b5af/WG1QNr6Guq1kJrk9e2rzNcl7tuaH3A+kMbiBvSN/ySY5tTnPN+Y+zG1lyd3PW5g5sCNtXnyeeJ8u5sdtu8fwt6C29L11aHrXu2fstn518rsC0oLfhSyCq89p3dd2XfTWxL2dZV5FS0bzt2u2B73w7PHYeKlYqziwd3LtjZVEItyS95v2vprqul80r37ybulu7uLwspa9ljtGf7ni/l3PLeCu+Kxkrtyq2VH/ay997c57WvYb/O/oL9n7/nfX+3KqCqqdqkuvQA9kDmgacHYw52/ED7oa5Gq6ag5mutoLb/UMShi3XOdXWHtQ8X1cP10vrhI4lHuo/6Hm1psG6oalRrLDgGjkmPvfgx6ce+48HH20/QTjT8ZPxT5UnKyfwmqCmraaSZ29zfEt/ScyroVHurW+vJn21+rj2tf7rijOqZorPEs7lnJ85lnxttE7a9Op96frB9afuDC3EXbl8Mv9h1KfjSlcv+ly900DvOXXG/cvqq69VT12jXmq87XW/qdOw8+YvjLye7nLqabjjfaOl26W7tmd9z9qbnzfO3fG9dvs24fb13YW9PX3Tf3TuJd/rvsu8+v8e/9+Z+5v3xB+sfYh7mP1J8VPpY+3H1r+a/NvY79Z8Z8B3ofBL55MEga/Dlb+LfvgzlPiU/LX2m96zuuf3z08P+w90vFr0Yeil8Of4q73el3ytfm73+6Q+vPzpH4kaG3ojeTLwtfKf5rvb9vPfto2Gjj8cyxsY/5H/U/HjoE+1Tx+fYz8/GV3zBfSn7av619Vvwt4cTGRMTQqaIOdUKoJABp6QA8LYW6ZPjAaB0A0BcNN1nTwk0/W8wReA/8XQvPiVOAFQhfVksEYDgTQCUDwBg2oD4bQIgjAxAlAuAHRxk4x8iTnGwn/ZFQnpAzOOJiXdIP4zbCcDX7RMT49UTE18PTP8/tAmm+3sAmEwhnxc22fdjXMC/kene/y85/vMMJiOYiuFv85+WFBz3FLFHXQAAAIplWElmTU0AKgAAAAgABAEaAAUAAAABAAAAPgEbAAUAAAABAAAARgEoAAMAAAABAAIAAIdpAAQAAAABAAAATgAAAAAAAACQAAAAAQAAAJAAAAABAAOShgAHAAAAEgAAAHigAgAEAAAAAQAAAlagAwAEAAAAAQAAAUwAAAAAQVNDSUkAAABTY3JlZW5zaG90z0HALgAAAAlwSFlzAAAWJQAAFiUBSVIk8AAAAdZpVFh0WE1MOmNvbS5hZG9iZS54bXAAAAAAADx4OnhtcG1ldGEgeG1sbnM6eD0iYWRvYmU6bnM6bWV0YS8iIHg6eG1wdGs9IlhNUCBDb3JlIDYuMC4wIj4KICAgPHJkZjpSREYgeG1sbnM6cmRmPSJodHRwOi8vd3d3LnczLm9yZy8xOTk5LzAyLzIyLXJkZi1zeW50YXgtbnMjIj4KICAgICAgPHJkZjpEZXNjcmlwdGlvbiByZGY6YWJvdXQ9IiIKICAgICAgICAgICAgeG1sbnM6ZXhpZj0iaHR0cDovL25zLmFkb2JlLmNvbS9leGlmLzEuMC8iPgogICAgICAgICA8ZXhpZjpQaXhlbFlEaW1lbnNpb24+MzMyPC9leGlmOlBpeGVsWURpbWVuc2lvbj4KICAgICAgICAgPGV4aWY6UGl4ZWxYRGltZW5zaW9uPjU5ODwvZXhpZjpQaXhlbFhEaW1lbnNpb24+CiAgICAgICAgIDxleGlmOlVzZXJDb21tZW50PlNjcmVlbnNob3Q8L2V4aWY6VXNlckNvbW1lbnQ+CiAgICAgIDwvcmRmOkRlc2NyaXB0aW9uPgogICA8L3JkZjpSREY+CjwveDp4bXBtZXRhPgo2f1JCAAAAHGlET1QAAAACAAAAAAAAAKYAAAAoAAAApgAAAKYAACfi9A5ZbgAAJ65JREFUeAHsnQn8jVX+x79osSSZKG2SyTBqhF6tFEJJky0t2jMN1bRNm5T2JhFalJLQoqgpbZNJ2ptKU2JahBYhokgyKf7R3+c05+m593ev3733d5fnd+/7vF7uc57znHOec97nKR/nfM/3VPl5YzACBCAAAQhAAAIQgEDKBD7++GOXt0mTJjFlqiCsYnhwAwEIQAACEIAABMolgLAqFxEZIAABCEAAAhCAQGoEEFapcSIXBCAAAQhAAAIQKJcAwqpcRGSAAAQgAAEIQAACqRFAWKXGiVwQgAAEIAABCECgXAIIq3IRkQECEIAABCAAAQikRgBhlRonckEAAhCAAAQgAIFyCSCsykVEBghAAAIQgAAEIJAaAYRVapzIBQEIQAACEIAABMolUBLCavny5bZixYpyYfgMTZs29VGuEIAABCAAAQhAIGUCRS+spk2bZhMnTkwZiDK2bdvW+vbtm1YZMheOwOTJk+3FF190DbjooousUaNGhWsMb4YABCAAgZImUNTCas6cOTZ06NCMBhhxlRG2ghS6/vrrbdy4ce7df//7323vvfcuSDt4KQQgAAEIQKCohZVmqjRjlWlAXGVKLr/lEFb55c3bIAABCEAgOYGiFlZDhgyxuXPnJu99Dp+0bt3aunXrZg0bNszaW9auXWsasCVLltgWW2xhzZo1swYNGiSsf/Xq1bZmzRr3rGbNmla7du0y+datW2crV6506dWqVbN69eqVyZNqwtdff20bNmyw6tWrW506dWzjId62aNEimzdvntWoUcOaN29udevWTam6H3/80Y3b4sWL7Te/+Y397ne/c9dw4fXr15ts5xSGDx9ujz76qIuPGjXKWrVqZVWrVrX69eu7NH4gAAEIQAAC+SKAsMohaQkaLUXqWpEgkTJmzBgbOXKkff/99zFV1apVy6677jrr0aNHTPrYsWPtb3/7m0uTuHv22Wed6AlnuuKKK+zBBx90SRIjjz32WPhxWvHGjRu7/BKTPXv2tLPPPrtMW/fZZx/Xh+222y5p3VrSu/nmm8uUlYi87bbbbPfdd3dl33zzTTvhhBOS1qMH+rglGAkQgAAEIACBfBFAWOWYdPfu3U1/KhIkqCQ2NhUkZm688UbbfPPNXbaffvrJevXqZR988IG7v+CCC5zY8XXMmjXLPff3U6dOtSZNmvjbtK9eWJVXcNttt7WHH37YEuW/++67XR82Vcd9991nBx10kL3xxht24oknbiorwmqTdHgIAQhAAAK5IICwygXVUJ2aCTrnnHNCKelFtcR1ySWXBIUknvbbbz/TUtjrr79uV111VfBM8VNOOSW4l/F+165dg/tXXnnFdtllF1dWQsyLLtV/xhlnBPkyicQLJdUnAaTlv7fffjumnWrT7bffHvOaKVOmBMJP4kt2U2L33Xff2T333GOPPPKIy6/Zt+eff94tO3755Zcu7dZbb7UnnnjCxUeMGOHKValSJavLsDGN5QYCEIAABCCQhADCKgmYbCXLJ9aAAQMyqm7BggXWoUOHoOwzzzxjv//974N7RWbMmGFHH320S9Oy4KuvvhpjyyQBI7Gh0LlzZxs9erRNmDDBrrzySpe255572uOPP17hJbOwsNISZJ8+fVz9/kciTsuEPjz33HPBst7SpUvtwAMP9I/stddes5122im4V+TCCy907VRcy6u9e/dW1AWM1z0JrhCAAAQgUGgCCKscj0BFhNVdd90VuIuQPZFsqRIFCTe5GVC45ppr7KSTTgqy/d///Z9bitTslcLgwYPdbJC31dJMkeyXKhq8sNptt93shRdeSFjdpZdeGsw8Kd6vXz+X7/7777err77axeOXLH1Fn376qROGutdsmwzWfUBYeRJcIQABCECg0AQyElazZ88Odpxl2gEZdGunWC5DIXcF+n5VRFideuqpbgZKdWmpq0WLFr7amGt41urkk08ORIrP9OGHH9qRRx7pb4NrMhETZEgjkoqwmj59uh1//PGu1nA7+/fvH7jFkA1Von5qx6H3TxVvaI+wSmOgyAoBCEAAAjklkJGwUouefPJJ9yeT1mXDoDuV91Z2YdWxY0ebP3++66rslGR7lCjI1YHsrhTke0szQPFBdkj644NmqTSG3tjdp2d6TUVYLVy40Nq3b+9eoSVO7VxU0BKht/dyCeX8aMnz/fffD3IhrAIURCAAAQhAoMAEMhZWancm4ipfokrtq+zCSu4J/BmHn3zyifPNpH7FB/m38rZXyZbiwqJG5QcOHGh//vOf46vK+D4VYSWfWX7WSbZdTz31lHuf7KtkZ5VO+Oyzz4LsCKsABREIQAACECgwgQoJK7U9HXGVT1GltlV2YSWjdC3zKbz77ru2zTbbuHj8jxxpageeQvwymc8rERW2fdKsj+435VPKl03lmoqwCttJaTZOvrkU5IPrvffec3HNqm211VYunuxHzj/btWsXPEZYBSiIQAACEIBAgQlUWFip/amIq3yLKrWrsguryy67zCZNmqSuuB1xe+21l4vH/4R9Oh1xxBHOCWc4j3b9aVddfPC7BOPTM7lPRVhpt593ByH7Mb8zUe4evOd0zWJpNiudgLBKhxZ5IQABCEAglwSyIqzUwE2Jq0KIKrWpsgsreSGXaFDQ7JX6kyicddZZzrO6nsW7Oli2bJl16tQp8GQu4SIh43cJyvGoxqeiIRVhdf755wfLf/L6ftppp7nXygWE75ucfl577bUJmyPfXXJ8uuWWW8Y8R1jF4OAGAhCAAAQKSCBrwkp9SCSuCiWq1J7KLqy+/fZbt8TnXSPo+JkDDjhAXQvCyy+/bH379g3u443cw0uActopURX2uq4lQTnc3H777YM6Mol4YaWy8S4flBbeuah7zbL5cw7DS5l65r2rK+7DDz/8YBJmsjWTh/bf/va3/pFzSSHXFAry2RV/vE+QkQgEIAABCEAgxwSyKqzU1rC4KqSoUlsqu7BSHySmNLvjg8SF3wGo8/J0fp4P8YIkvASoHYXyvO7PLdQynByFKmRjSTAsrFSnlvpk96XDn2fOnOn8ZyldIdGsVPxxNqeffrpzjrrZZpu5HYPqi985GF5GVH1hh6fa7Xjuuee6g5+1Q5KzAkWIAAEIQAAC+SKQdWGlhktcKWRjiclVlOFPMQgrLX+pHzrWZVNh2LBhMWf/xS8BSrhoSdCHVatWOdcMfjasokuC8cLKvyf+Kvup8ePHl3EdIUemEpD+6Jr4cv5eNlqDBg2KEUxffPGFHXzwwT5LcNUsmY7UIUAAAhCAAATyRSAnwipfjS/vPcUgrHwfteSnZS4/a+PTJVTOPPNMO/zww32Su8r5pz8/L9mM1NNPP23nnXeey68lwYceesiWL18eU095N3IJoV18XljJ3YOOnJFI8nZcvg4dQyMP637WzKeHry+99JLddNNNZcruv//+ro9hr/Lhcuqr+hwOCKswDeIQgAAEIJAPAgirHFOuiOf1RE1bt26dff7556YZHtlF1atXL1G2jNJkG6XlxHTC5MmTrWXLljHCyrt1WLNmjS1atMi0nNeoUaOYWaby3qF+yjmqlvIk1lJZ0pMdls5X1CyfzhpM5p6ivHfzHAIQgAAEIJApAYRVpuRSLJdtYZXiazPKpt149957b1plZfskNxDhGSsvrNKqiMwQgAAEIACBIiCAsMrxIFYmYaVZMHlxTydoCbFKlSoIq3SgkRcCEIAABIqWAMIqx0NbmYRVRVAwY1URepSFAAQgAIFiIVDUwmrixIk2bdq0go6VDMf79OlT0Dbk4+UIq3xQ5h0QgAAEIBB1AkUtrLQrTTvUChnkkFO+lYo9aEeejMZ33HFHGzBgQLF3l/5BAAIQgAAEEhIoamGlHmvGSjNXhQiaqdKMFQECEIAABCAAgdIgUPTCSsOobf8LFy7M64g2bNhwk/6a8toYXgYBCEAAAhCAQF4IlISwygtJXgIBCEAAAhCAQMkTQFiV/CcAAAhAAAIQgAAEskUAYZUtktQDAQhAAAIQgEDJE0BYlfwnAAAIQAACEIAABLJFAGGVLZLUAwEIQAACEIBAyRNAWJX8JwAACEAAAhCAAASyRQBhlS2S1AMBCEAAAhCAQMkTQFiV/CcAAAhAAAIQgAAEskUAYZUtktQDAQhAAAIQgEDJE0BYlfwnAAAIQAACEIAABLJFIKmw+vzzz3/O1kuoBwIQgAAEIAABCBQzgV133dV1D2FVzKNM3yAAAQhAAAIQyAsBhFVeMPMSCEAAAhCAAARKgQDCqhRGmT5CAAIQgAAEIJAXAgirvGDmJRCAAAQgAAEIlAIBhFUpjDJ9hAAEIAABCEAgLwQQVnnBzEsgAAEIQAACECgFAgirUhhl+ggBCEAAAhCAQF4IIKzygpmXQAACEIAABCBQCgQQVqUwynnooxyhffjhh7bffvvZDjvskIc38goIQAACEIBA9AggrCI0Jt9++62tWrUq5Rb5wUu5QI4yfvfdd9a9e3dX+zbbbGOPPfaYVa1aNUdvo1oIQAACEIBAZgRmzZplVapUsb322iuzClIo5f9uxvN6CrBymWX69Ok2derUtF7RsmXLQNCkVTDLmZcvX25HH310UOtzzz1nm2++eXBPBAIQgAAEIFBIAp988oldccUVtnTpUteMBg0a2HXXXWe777571puFsMo60vQr3Hgeo913333pF9xYIiri6p///KfNnDnTDjnkENt///0z6guFIAABCEAAArkgcNxxx9myZctiqpa4mjhxYkxaNm4QVtmgWME6nn32WXvrrbcyriUq4irjDlAQAhCAAAQgkCMCWv7761//mrD2m2++2U1QJHyYYSLCKkNw2Sx277332oIFC7JZZcp1NWvWzNq1a2dS7hUJ33zzjW3YsMG22GIL23rrrYOq1q5da6tXr3b3sr/abLPNTGmapfvyyy+tYcOGpo+wWrVqQRlF1q9f7/IsWrTI6tevbzvttJOpfCpB/yr59NNPXVYZ0u+444625ZZblltU7f/iiy9s/vz5Vq9ePdttt92sZs2ari0rV6505WvXrp20rp9//tmVVb/Un0aNGtn222/v1vM39XKVW7JkiePx3//+15VRf8McN1WeZxCAAAQgkJwAwio5m6J9UkhhJajVq1e38847z10zgfzTTz9Z586dXdEmTZrY3XffHVTz4IMP2j333OPu9S+DF154wf7xj38Ez33k9NNPtxNOOMF+/PFHu+WWWxLam8mO67TTTrMaNWr4YsFVQuz++++3Rx991NasWROkKyJxdMYZZ1jXrl3LCDif8cUXX7Thw4eXKduxY0fr1q2b46O8Z599th111FG+WHB955137Pbbby8jkPXuyy+/3A488MAgbzgyY8YMGzVqlH322WfhZBdXe9VfiTwCBCAAAQhkTiDRUqD+4Ttp0qTMK01SkhmrJGDymVxoYaW+ataqffv2GXU7VWFVXuUSEVoSnT17dtKsEjnxU7qaTbr22mtN/yrZVFD9J598cpksDzzwgI0bN65MeqKERMLq/ffft3PPPTdR9iAt0bv/9a9/OWPKIFOCiGbrxowZY3Xq1EnwlCQIQAACEEiFgIzXBw0aFNhZSVRdf/31GK+nAq8y5omCsGratKlJ0WcS0hFWe+65p5sB0hKklggfeughe/3112NeKzGhGSbl+eGHH+z555+P+VfFhAkT3NKgLzR69Ojgucr07NnTWrdu7ZbXXn75ZXv88cd9VjertcsuuwT3WoI99dRTg3uJS4k3CRn55ZJho5b2fIgXVlqqVFv9LNlZZ51lbdu2de4mXn31VTcb5cuG263l0C5duvhHrs16d926dU07RNVm/95DDz3UBg4cGOQlAgEIQAACmRHw/wCXbXKuAjNWuSKbRr1REFb6EMICI43mW6rCaueddzaJIC2P+aAlvH79+sUshWlJbY899vBZ3PVPf/pTkOfqq692M2x6oPK9e/c2+QBTvY888ojVqlUrpqxmuPx/TAMGDIgRNDfccINNmzbN5T/88MPt4osvjrGJkr2WhJPqV4gXVmLm7eM0a3bQQQe5fP5HuyWHDh3qbg877DC79NJLXVyiTXUpNG7c2C2XyreKD9oS3KdPH3erfj3zzDP+EVcIQAACEIgwAYRVBAanVITVNddcYwcffHAZ4rKNGj9+vEvXvyJkixUfwnm8PZbyyOD83XffddetttrKmjdvHl/U5Fdr8ODBLl2zcv3793dxibJOnToF+bXWrunh+BAWR2FhJedvEoUKydqt9skmS8JMxvd+9ixsTJlIWKlOOVqVw1gJLi1hxhv4Kw8BAhCAAASiRaCohZUMgmUMXZEgw279xZfLUCrCSuvZbdq0KYNSszHDhg1z6TKi79GjR5k8//73v02zTQonnXSS9e3bt0weJWiHnTzBr1ixwokSCRutrd91110uvwzgtVynoNkov/yZTBgpn2a0NLOlEBZWkydPtpEjR7p0CR/NnCUKmsmScbuCXGtoh+K6detMM1g+KK5+y/gfAeWpcIUABCCQXQL6Ry2e1yvIVDY2r7zySka1VMSgO50XlrqwCs8InX/++Qm9yUuYaJlOIZGwkpB66qmnEu4KDI9FWFiFjc61DHjJJZeEswbxZMJKux/TdS4nR7ByMaEQnknzL9Oy37777msdOnRw5y6m4ibCl+UKAQhAAAKJCeB5PTGXjFMzEVf5ElXqFMLqVzukTITVvHnz3E5Bb0DuPxT5sNLyoHxDeUPwsLAKi7Vwui/vr8mEldwzJHId4cslut55553OKN8/0w5ILYP6GS2f7q86gkHe7AkQgAAEIJA5gUTuFvC8njlPVzIdcZVPUaXGIawyF1ayk5KR99dff+3GWb6fjjnmGOd01CVs/AnPTIUFlASZt7f64x//aBdeeKEvEnNNJqzkBkG7GhX0zlatWsWUS3TTokWLGON9n0ftl08rHQskNwxhkSjj+WOPPdZn5QoBCEAAAmkQCNu0xhfD83o8kTTvUxFX+RZV6gLCKnNhFf4PRmcUeiP18KeRTFjJ/1WvXr1c1kxsrMJLeX/5y1+S2liF25JKXPZXEmz+/EgZvcueK7xrMJV6yAMBCEAAAuZ2hcf7P/RcEFaeRAWumxJXhRBV6grCKnNhFRY3Mh6XwIkPGnPtSFQIz1jJ0D28zCYv8Tr+Jj488cQTduutt7rksPG6lvH8+7QLRB7mdWRPoqBNFNoI4YMM+b0jVBnWxx9fIxcWaqt386BdkWH/W74erhCAAAQgUD6BREuBeF4vn1vKORKJq0KJKjUaYZW5sArbScnwWzM7YYPvjz76KNgFKNZyHhr2kh5ezpMPqiuvvDJGHOnMQbl38CEsrOJ9cGlnoPxaxc8sSbBpBip8tE3YfYSWI/3uRP8eCSt5a9fZhQoqL5sxAgQgAAEIpE8Az+vpM0u7RFhcFVJUqeEIq8yFlfw8hd0zaOZInspltP7ee++5swnDH4fO/tOxBj6ElwOVJhso2Vtpdkmi7Mknn4yxdwoLK+UPz1rpXmcCqryW7+Q4VPZS3rO83HZIyFWtWtUdEh0WbHJDoT86+Hnu3Lmm71PLnAoqN3bsWBfnBwIQgAAEMifg/78q849chaL2Y1UeNP3lpaCjRAoZEFaZCyuN25QpU+ymm25KOoSayfLG4PrgxTscdADzddddF05KGo8XVsoo8aWDozcVdJSPfGHVrl07yPbSSy+5Mw6DhCQRLRXqyCECBCAAAQhEn0BJC6uoDE8xCSud1SeXAj7Im7mOsVGQsDjggAP8o+Aqp5lDhgxx99qZpxmf+KDdchdccIFLPuWUU9ySWzjPG2+8YToKx7tV0DMJqu7duzu/V9ot6MPTTz/tZrT8va46YmbEiBHBsTlKU3nNhm233XaBcErmwFSzU3fccYe9/fbbKhoEOfzce++9XXvDS5Q+g3Ymyt2CZte8+PPPxOH4449nCdAD4QoBCECgEhBAWEVgkCq7sIoAwqAJ33zzjfO6rqVA+SiJt3cKMiaJSNwsXrzYGZNLUKm8jNJlJ6WQTBz66uTpXeJO9ehsxBo1avhH5V7lCV7G6jJk10HUyQzhy62IDBCAAAQgkJCAlgL1//W99tor4fNsJCKsskGxgnUgrCoIsILFZQBfp04dd5xMfFXxRuQTJkywnXbaKT4b9xCAAAQgEGECeF6P8ODkomkIq1xQTa3O8K7Bq666Ksbebu3atW5ZUzZUCmHj89RqJxcEIAABCESBQCJ3C3hej8LI5KgNCKscgU2h2rC7BmXXbj6/W0RTxt6PlJ7pbEDZTBEgAAEIQKDyEND/y3EQWnnGKystlfH2W2+9lZW6Mq1kv/32sy5dumRavFKXk+H5wIEDYwzfwx2S2BowYIDJszsBAhCAAAQqFwGEVeUar6y09vPPPw+OL8lKhRlUop12jRo1yqBkcRT54Ycf3M5A+aXSHy0DyqeUmHTq1Cnh+X7F0XN6AQEIQKD4CSRaCsTzepGP+/Tp023q1KkF6eVhhx3GbExByPNSCEAAAhDIBwE8r+eDcgTfofPkli5dmteWyXgvfIZdXl/OyyAAAQhAAAJ5JKBlQQVvS5uLV+NuIRdUqRMCEIAABCAAgZIkgLAqyWGn0xCAAAQgAAEI5IIAwioXVKkTAhCAAAQgAIGSJICwKslhp9MQgAAEIAABCOSCAMIqF1SpEwIQgAAEIACBkiSAsCrJYafTEIAABCAAAQjkggDCKhdUqRMCEIAABCAAgZIkgLAqyWGn0xCAAAQgAAEI5IIAwioXVKkTAhCAAAQgAIGSJICwKslhp9MQgAAEIAABCOSCQLnC6ueNIRcvpk4IQAACEIAABCBQrAQ+/vhj17UmTZrEdLEKwiqGBzcQgAAEIAABCECgXAIIq3IRkQECEIAABCAAAQikRgBhlRonckEAAhCAAAQgAIFyCSCsykVEBghAAAIQgAAEIJAaAYRVapzIBQEIQAACEIAABMolgLAqFxEZIAABCEAAAhCAQGoEEFapcSIXBCAAAQhAAAIQKJcAwqpcRGSAAAQgAAEIQAACqRFAWKXGiVwQyJjAsmXLbNq0abbHHntYq1atMq6HghCAAAQgEH0CCKvoj1HBW7h8+XJbsWJFyu1o2rRpynlLIWO3bt3sgw8+cF198cUXrVGjRqXQbfoIAQhAoCQJIKxKcthT77RmWiZOnJh6gY0527Zta3379k2rTK4yv//++zZ69GhXfffu3a1z5865elXSejt27Gjz5893zydPnmwtW7ZMmpcHEIAABCBQuQkgrCr3+OW09XPmzLGhQ4dm9I6oiKvnnnvOzjjjDNeHiy++2M4888yM+lORQm+99ZY98sgjtueee9qpp55qVapUqUh1lIUABCAAgQgTQFhFeHAK3TTNVGnGKtMQBXEVBWGVKT/KQQACEIBA5SOAsKp8Y5a3Fg8ZMsTmzp2bt/eFX9S6dWuTbVLDhg3DySnHv/rqK9t4kLjJpunyyy935fr162ennXaai9erV8+qVavm4l9//bVt2LDBtthiC6tbt679+OOP9uGHH9qSJUtsn332sQYNGsS8d/369W5pT//xbL311rbzzju7P76+mMwbb1atWuXqVPr2228fPFY9sl9TqF27ttWsWdPFv/jiC5s9e7bVqFHD2WOpfma5HBp+IAABCESeAMIqIkOkv0ibN28ekdb80oxCCiu1QEJDS5FecKQDp3HjxpvM/vDDDzvRpEw+r3bsnXjiiXbhhRcGZQcNGhTYi61cudKuuOIKmzJlSvDcR5o0aWJXXnmltWnTxicF12OPPdbefvttdz9r1iwnxnQzc+ZMO+qoo1z6gAED3PhfcMEFZTYKtGvXzgYPHlxG4LmC/EAAAhCAQKQIIKwiMhzvvPOOLV682GRgHZVQaGElDuKRCRMvlpKxnDRpku27777u8abyemElI/j+/fvb0qVLk1Xp0h988EE74IADYvKEhZXEVJ06ddzzsLDadtttywiqcCUtWrSwxx9/nJmrMBTiEIAABCJIAGEVkUGRsBo1alTGQiIX3YiCsNIs0jnnnJN29xYsWODKvPzyy3bNNde4uHYqnnTSSS6+44472uabb+7i8cJKRuayD9MypHbwNWvWzC1LepcJRxxxhPXq1cv+8Ic/2IwZM0wi7ZVXXnF1SSDJWL1q1aruXj+pCCufWcbt2kWo8Oyzz5qEmg/jxo2z9u3b+1uuEIAABCAQQQIIq4gMihdWak6mszTZ7koUhJV8YmmZLNOQivF6WFhpae6mm26Ked28efOsS5cuLu3ggw+28ePHx8wcff/9905k+UIvvfSS7brrrv42ZWGlZc/evXsH5RS54447bPjw4S5Ny4Rnn312zHNuIAABCEAgWgQQVhEZj7CwUpOiIK5KTVhptum1116z6tWrx3wVsq167733XJoEUyIHn5dccok9+uijLs/YsWOtQ4cOQR2pzFhpFmzkyJFBGR+RTZZmxxQkujJ1f+Hr4woBCEAAArklgLDKLd+Ua48XVipYaHFVasJqt912sxdeeKHcMfO7+XRUzerVq11+Of6UDZSCHJKGHZGmIqxOOeUUu+qqq1z58M+iRYtMxusKhx12mN15553hx8QhAAEIQCBiBBBWERmQRMJKTSukuEJYxX4ccpgqOyc/MxX79Ne7bAoruV7Q8qMCwupXxsQgAAEIRJUAwioiI5NMWKl5hRJXCKtfPw55Tr/00kt/TdgYq1WrlskIfsstt3R+rWRrpYCwchj4gQAEIFCSBBBWERn2TQkrNbEQ4gph9cvHoR2GYZupyy67zHr06GFyMuqDdnQOGzbM3SKsPBWuEIAABEqPAMIqImOOsEo8EPncFZjMxuq2226zW265xTVQour0008v01iEVRkkJEAAAhAoSQIIq4gM+6aEVSFmq4SFGatfPo7wjr+77rrLDj300DJfjbyuT5gwwaUzY1UGDwkQgAAESoYAwioiQ51MWBVKVAlLMQgrOQiVY1CFY445xm688UYXD/94P1bJZqxGjBhht99+uysi551jxowJF3eCSsLKB+Xt2rWrv03Jj1WyXYEYrwcYiUAAAhCoFAQQVhEZpkTCqpCiSliKQVjpEOnDDz/cjbKMzQcOHOj8UGmJUX6rFMoTVvKq7g9vVn7t0jvkkEPsp59+sldffdX9UboPN9xwgx133HH+FmEVkCACAQhAoPgJIKwiMsbxwqrQokpYikFYyeeUlu7mz58fM9J33323derUyaWVJ6yUSQczez9VMRX970aize8K1AyZzhj0oSJ+rJix8hS5QgACEKgcBBBWERmnsLCKgqgSlmIQVuqHzvjr169fzAHKiYRVkyZNbOrUqSpSJqxbt84eeOABZ8TuBZQyNWjQwC666CLbfffd3U5BpemswaeeekpRF0444QR78803XVwe3LfaaisX/89//mM9e/Z08Xgx5hI3/nz55ZfWpk0bd6vlRb8k6Z9zhQAEIACBaBFAWEVkPLywioqoEpZiEVbqi2au5DZhzZo1Vr9+ffcnfFCy8qQSVM+SJUts1apVtsMOOwTLiamUJQ8EIAABCBQ/AYRVRMZYwmrx4sXOX1VEmlRUwioqTGkHBCAAAQgUNwGEVUTGd/bs2da8efOItOaXZhTTjFWkwNIYCEAAAhAoWgIIq6Id2op3DGFVcYbUAAEIQAACpUUAYVVa451WbydOnGjTpk1Lq0y2M3fu3Nn69OmT7WqpDwIQgAAEIJATAgirnGAtjkrnzJljQ4cOLWhn5PW8WbNmBW0DL4cABCAAAQikSgBhlSqpEs2nGSvNXBUiaKZKM1YECEAAAhCAQGUhgLCqLCNVwHbKRcHChQvz2oKGDRtazZo18/pOXgYBCEAAAhCoKAGEVUUJUh4CEIAABCAAAQj8jwDCik8BAhCAAAQgAAEIZIkAwipLIKkGAhCAAAQgAAEIIKz4BiAAAQhAAAIQgECWCCCssgSSaiAAAQhAAAIQgADCim8AAhCAAAQgAAEIZIkAwipLIKkGAhCAAAQgAAEIIKz4BiAAAQhAAAIQgECWCCCssgSSaiAAAQhAAAIQgADCim8AAhCAAAQgAAEIZIkAwipLIKkGAhCAAAQgAAEIIKz4BiAAAQhAAAIQgECWCCCssgSSaiAAAQhAAAIQgADCim8AAhCAAAQgAAEIZIkAwipLIKkGAhCAAAQgAAEIIKz4BiAAAQhAAAIQgECWCCCssgSSaiAAAQhAAAIQgADCim8AAhCAAAQgAAEIZIkAwipLIKkGAiKwYMEC++yzzxyMli1bWt26dQEDAQhAAAIlRABhVUKDTVdzT+C2226zW265xb1o7Nix1qFDh9y/lDdAAAIQgEBkCCCsIjMU0W3I8uXLbcWKFSk3sGnTpinnLbaMCKtiG1H6AwEIQCA9Agir9HiVXO5p06bZxIkT0+p327ZtrW/fvmmVKZbMCKtiGUn6AQEIQCAzAgirzLiVRKk5c+bY0KFDM+prqYorhFVGnwuFIAABCBQNAYRV0Qxl9juimSrNWGUaSlFcIawy/VooBwEIQKA4CCCsimMcc9KLIUOG2Ny5c3NSd3mVtm7d2rp162YNGzYsL2vC56tXr7Y1a9a4Z9tuu61tttlmCfN9++23tnbtWvesfv36VrVq1TL5lixZYh999JFL32WXXVybqlevXiafEhBWCbGQCAEIQKBkCCCsIjLUs2fPtubNm0ekNb80o5DCSi2oWbOmW4rUNd1www032D333OOKDRs2zHr16lWmip9//tnatGljS5cudc9mzJgRuEdYv369E0njxo2z77//PqZsrVq1bODAgXbsscdatWrVYp4hrGJwcAMBCECg5AggrCIy5O+8844tXrzYunfvHpEWmRVaWAmEeGTCZNasWYGYkssDuT6IDx988IGbFVN6u3btbPz48S6LdkCec845Nn369PgiMffnn3++nXvuuTFpCKsYHNxAAAIQKDkCCKuIDLmE1ahRozIWErnoRhSEVatWrZzISbd/mo2SoFq4cKErOnPmTKtTp05MNTfffLONHDnSpd1666125JFHurj6PXr0aBdv0aKFnXzyyXbggQe6uqZMmWL3339/UM/zzz9vjRs3Du4RVgEKIhCAAARKkgDCKiLD7oWVmpPpLE22uxIFYSWfWAMGDMioa3fccYcNHz7clR0xYoT16NEjpp727dsHwkuzV1py1BLg/vvv7/x2acnvjTfesNq1a8eUO/7444PZLO2a7N27d/AcYRWgIAIBCECgJAkgrCIy7GFhpSZFQVxVdmGl42W85/OOHTvamDFjgtGeN2+edenSxd337NkzEGASVhJTGzZssK233to0YxYfJk+ebBdddJFL7t+/f4zwQ1jF0+IeAhCAQGkRQFhFZLzjhZWaVWhxVdmFlRgeffTRJqN0hfByoJZdZdSucN9999lBBx3k4vE/WlLUzsFly5bZypUrneDSRoPBgwe7rHKEOmjQoKAYwipAQQQCEIBASRJAWEVk2BMJKzWtkOKqGITVpEmT7LLLLnOjLJsq8VTo2rWryQGqlvtk6B6/u++rr76yhx56yBm9x+8KdBX87wdhFaZBHAIQgAAEkgmr/wcAAP//cIMpVgAAIhVJREFU7d1//E71/cfxF1qF4SZZZqGMcZPMr7pVCJmSbvn9YzSUWX6MtpX5NUnfkShCUWp+VNpHFpk/LD4K2UrhhmaGbRnF/JzKWFr4er7bObuu63N9Pq7P5bo+1/lc53FuN9fnnHOd8z7n3N/Xbj33Pu/zPiXOnZ+MqcgENm3aZLNnz457vI4dO5r+FfU0efJk27VrV1EfNup4derUsZEjR0atK8zC8ePHrUmTJm6Xtm3b2pw5c2zv3r3WunVrt65///42duzYqCK3b99uvXr1spMnT0atr169upUvX94+++wz27dvX9z9Z86cadOnT3ffzZ071z9OVEEsIIAAAghkrcBf/vIXd221a9eOusYSBKsoj7QvFBSsdPBMhKtsCFayGzx4sK1cuVKztm3bNlu8eLFNnDjRLS9btswaNGjg5vVx5swZa9GihR08eNCt69Gjhw0YMMBq1arlb6O60npNscGMYOUzMYMAAgiEUoBgFZBqJ1jFr4iLbbFSqatWrbJBgwa5A8yYMcMWLFhgW7ZsMbVArV271q33PjZs2GC9e/d2i2rVUqtT7ESwihVhGQEEEEDAEyBYeRIZ/ltQsMpEa5U4sqXF6vTp09a0aVN3a09Ns96Pfvjw4TZkyJComl+6dKlpvabY1ihvwxUrVtjQoUPjbkOLlafEXwQQQCCcAt5/Y7gVmOH6zy9YZSpUiSNbgpWuZdy4cbZw4ULN+tOaNWusRo0a/rJm1q9fb/369XPrypYta++//76VLl3a32br1q3WpUsXf7lv3742fvx4f5lg5VMwgwACCIRSgGAVkGqPF6wyGarEkk3BavPmzda9e3e/ths1amRLlizxl72ZyM7uWqf/x9G5c2crV66cbdy40ZYvX+5t6v526NDB76yuFQSrKB4WEEAAgdAJEKwCUuWxwSrToUos2RSszp49a82bN/c7pU+YMMHvSxX7E1Dn9lGjRsWu9pfVkuU9Majg5XWM1wYEK5+JGQQQQCCUAgSrgFR7ZLAKQqgSSzYFK11PZOiR9xVXXKHVcafVq1ebwpc3rII2UqDq06eP619Vv359fz/dHtQwDJpmzZplU6dOdfPz58+3li1bunk+EEAAAQTCIUCwCkg9e8EqKKFKLNkWrJKp6iNHjtihQ4dccKpWrZqVKFEimWLYBwEEEEAgJAIEq4BUtILV/v37MzIQaH4EBKv8ZFiPAAIIIIBAfAGCVXyXIl+7Y8cOq1evXpEft6ADEqwK0uE7BBBAAAEE8goQrPKasOa/AgQrfgoIIIAAAggUToBgVTivUG2dk5Njubm5Gb1mvd9P7+1jQgABBBBAoDgIEKyKQy1l6Bx37txpU6ZMydDRvzrsiBEjrG7duhk9Bw6OAAIIIIBAogIEq0SlQrqdWqzUcpWJSS1VarFiQgABBBBAoLgIEKyKS01l8DxPnToVNZ5TUZyKXpBcpkyZojgUx0AAAQQQQCBlAgSrlFFSEAIIIIAAAgiEXYBgFfZfANePAAIIIIAAAikTIFiljJKCEEAAAQQQQCDsAgSrsP8CuH4EEEAAAQQQSJkAwSpllBSEAAIIIIAAAmEXIFiF/RfA9SOAAAIIIIBAygQIVimjpCAEEEAAAQQQCLsAwSrsvwCuHwEEEEAAAQRSJkCwShklBSGAAAIIIIBA2AUIVmH/BXD9CCCAAAIIIJAyAYJVyigpCAEEEEAAAQTCLkCwCvsvgOtHAAEEEEAAgZQJEKxSRklBCCCAAAIIIBB2AYJV2H8BXD8CCCCAAAIIpEyAYJUySgpCAAEEEEAAgbALEKzC/gvg+hFAAAEEEEAgZQIEq5RRUhACCCCAAAIIhF2AYBX2XwDXjwACCCCAAAIpEyBYpYwyfAWdO3fO1q1bZ/pbvnx5a9KkSUoQTpw4YZs2bXJlVatWzWrVqpWSchMpZO/evfbhhx+6TRs2bGgVK1ZMZDe2QQABBBBAwAkQrPghJC3wn//8x+rUqeP2r1+/vi1fvjzpsiJ33LJli3Xt2tWt6tevnz3yyCORX6d1fubMmTZ9+nR3jLlz51rr1q3TejwKRwABBBDILgGCVQDq8+jRo3bs2LGEz8QLMwnvkKYNCVZpgqVYBBBAAIFiK0CwynDV5ebmWk5OTqHOonnz5ta/f/9C7ZOOjQlW6VClTAQQQACB4ixAsMpg7e3cudOmTJmS1BkEIVwRrJKqOnZCAAEEEMhiAYJVBitXLVVqsUp2ynS4IlglW3PshwACCCCQrQIEqwzW7OTJk23Xrl0ZOYPGjRtbhw4drHr16kkfvzDB6t///rft3r3bPvroI6tSpYrpab+rrroq7rHjdV4/c+aM/e1vf3P/tH/dunWtdOnScfePXXn8+HHTD/3w4cPuevWUYZkyZWI3c8uJdl4/dOiQ7du3zw4ePGjf+MY33PVUrVo1bpmsRAABBBAIjwDBKoN1nclgpctWuNCtyPxCxoVoEglWut05atQo++CDD/IU17ZtWxs9erRdc801Ud/FBisFoYcffjhqGy306NHD/u///s8uvfTSPN9pxalTp2zSpEn2yiuv5Pn+rrvusgkTJliFChWivrtQsNJQDE888YStXLkyaj8t3HTTTe5aGzRokOc7ViCAAAIIhEOAYJXBes50sNKld+zY0f1LhuFCwer111+3hx56qMCiy5Yta2+99ZZVrlzZ3y4yWPkr85nR2FkvvvhinnCoFq5BgwbZm2++mc+e5lrOXnvtNYtsaSooWOl/LF26dLGTJ0/mW6a++M1vfpOyMb0KPBBfIoAAAggEToBglcEqCUKwatSokQ0bNiwphYKClW6/RQ4YqpDTpk0b+9a3vuWClMKQ9+Pr3LmzTZ061T+HeMHqJz/5id18882mIPb73//eZOdNas267777vEX3d/z48fbSSy+5eV3jmDFjXMuYbt+ppUrH0NS9e/eosgoKVn379nXH1n633nqr3XPPPe6W5ObNm92TnRs3btRXVqlSJduwYYOVKlXKLfOBAAIIIBAeAe+/bbVr14666BLnR9M+F7WGhZQLBCFYaUyskSNHJnVtBQUr3X7zbt+NGDHCtR5FHuS9996zXr16uVUKIl4o0YrYYDV79mxr165d5O6uJepHP/qRv7/C1mWXXeaWV61a5R9PA5cuXbrULrnkEn//06dP2x133OH6SGnl6tWrrWbNmu77/ILVv/71L4u8xafgpL5V3vTFF1/Y3Xff7YdFPZTw7W9/2/uavwgggAACIREgWGWworM5WP397383vR5GkwJJ7Kthzp49a3qqUZ2/NSlMef2dIoNVp06dbNq0aW6b2A995/XdevXVV+2GG25wmwwePNjvA7Vo0SK78cYbY3c1ba/+XZpUD2q50pRfsFLn++uuu85to4/YYKV1uqW5detWzVq3bt0u6sEAVwgfCCCAAALFTiArg9WOHTtcx+WLqQ116K5Xr97FFHHBfbM5WMVevFqJ9CTdkSNH7PPPP3dfq+O59wPU7TQvfEUGq4JeaTNv3jx3W0+FPfXUU35fMa/1Sev1zsF4t+S2b99uffr00SbuVujPfvYzN59fsNKXkbcCdZtzyJAhrsN6ok8nugPwgQACCCCQ1QLef9ey7lbgb3/7W9O/ZKaL6dBdmONle7BSq9Tbb79tzz//vGvhKcgmmWD1u9/9zn784x+7YocPH+6Cjl7g/N3vfregQ+X5TsNOeO8HLChYKYypL1fs64fU9+vOO+90tyuvvPLKPOWzAgEEEEAgPAJZG6xUhcmEq6IKVTq/bA5WeipPt9r01F3kpP5UegJQfZ4UVLwpmWClW28DBgxwRegVP2PHjrX9+/dbixYtvGIT+qsXLeuFy5oKClb6Xq1uGqJCTzzGmwYOHGgKefFayeJtzzoEEEAAgewSyOpgpaoqTLgqylClc8vmYKUO4woYmhSmdNuvVatWUYN66qm6d999122TTLBatmyZPfjgg25/r4N8ZCdzHTeRVwaplen666935VwoWLmNzn9oyIU//OEPriVOAU9PG3pTZFDz1vEXAQQQQCAcAlkfrFSNiYSrog5VOq9sDlY9e/b0n/RT606823MXG6xmzZrlD9MwY8YM91SeXNWJ3btd99e//tVKliyp1QlNiQaryML0AK3ClfeUor7TcuzAp5H7MI8AAgggkJ0CoQhWqrqCwlUmQpXOKZuDVWS4iWyN0nVr+vLLL02jn3s/wMhtIjuva3T2OXPmfLVTxKf6b912221+S9GSJUtM41Vpuvfee13fLs0/88wz1r59e83mmfSkn4ZoiAxe+QUrjYmlzvKaHn30UWvZsmWe8oYOHWorVqxw6x9//HE3MnyejViBAAIIIJDVAt5/17Ku83q8WosXrjIVqnR+2Rysunbt6g/Cqb5P6gPlTep/pRHZly9f7q1ytwS9dwdGBittELu/1kWOk3Xttdeaxq7y+jW98cYbriO7ttPtQLWYXX311Vr0J72zUAHsO9/5jquH8uXLu+/yC1YaXqF3795uG93qU4d873heoRq3y3t9jgY81cCnTAgggAAC4RIIVbBS1UaGq0yGKp1LNgcrvU/v2Wef1WW6SSFD79I7cOCAG2NK7xCMnBSM9E5ATbHBSuu0v8a90tAG77zzji1cuFCr3aRxrjSmVeSkp/fWrVvnVmm0dvX30mChGupBrWMvv/yyf7swcgDS/IKVWtjUIua9zkZjc6klTC1zH3/8sa1fvz6qo74GQI18TU/kuTGPAAIIIJC9AqELVqpKhStNClaZnLI5WCmAaBiDPXv25EuswOMFleeee85uv/12t21ksFKLk9dfKl5BClzqoB7beqSBR/WqHoWogqbIvlnaLr9gpe8UBtXy5g1qqnXxpokTJ/qjysf7nnUIIIAAAtkrEMpgFZTqLO7BSq04upWmSS04ekovclIg0vhQ3u0x7zu1HP3yl790oUfv7dOkdwnqyT5N27Zt82+jKaToqT31WYoMaQpcP/zhD03DG5QoUcLtF/uhW44aRmHBggVRYUiB7pZbbnEDfjZr1ixqt8gO8fPnz8/Tl+qf//ynOxe9Qic2YKlF7YEHHrCmTZtGlckCAggggEB4BAhWGazr4h6sEqXTqOvq06R3C9aoUcM0qn0ykwb/1LAGGqG9atWqhSpC++qWnY5dvXr1fMNYYQr95JNPXJm6PanzYQT2wuixLQIIIJCdAgSrDNZrWIJVBok5NAIIIIAAAkUqQLAqUu7ogxGsoj1YQgABBBBAoLgLEKwyWIMEqwzic2gEEEAAAQTSIECwSgNqokXm5ORYbm5uopunZTsNwNmrV6+0lE2hCCCAAAIIhE2AYJXBGtfj+4m8yy6dp6gn8erWrZvOQ1A2AggggAACoREgWGW4qtVipZarTExqqVKLFRMCCCCAAAIIpEaAYJUax4sq5dSpU/477y6qoELsrCEHkh32oBCHYVMEEEAAAQRCJUCwClV1c7EIIIAAAgggkE4BglU6dSkbAQQQQAABBEIlQLAKVXVzsQgggAACCCCQTgGCVTp1KRsBBBBAAAEEQiVAsApVdXOxCCCAAAIIIJBOAYJVOnUpGwEEEEAAAQRCJUCwClV1c7EIIIAAAgggkE4BglU6dSkbAQQQQAABBEIlQLAKVXVzsQgggAACCCCQTgGCVTp1KRsBBBBAAAEEQiVAsApVdXOxCCCAAAIIIJBOAYJVOnUpGwEEEEAAAQRCJUCwClV1c7EIIIAAAgggkE4BglU6dSkbAQQQQAABBEIlQLAKVXVzsQgggAACCCCQTgGCVTp1KRsBBBBAAAEEQiVAsApVdXOxCCCAAAIIIJBOAYJVOnUpGwEEEEAAAQRCJUCwClV1c7EIIIAAAgggkE4BglU6dSkbgfMChw4dstzcXLvuuuusUaNGmCCAAAIIZLEAwSqLKzdVl3b06FE7duxYwsXVqVMn4W3DsGGHDh1s+/bt7lLfeustu+aaa8Jw2VwjAgggEEoBglUoqz3xi1ZLS05OTuI7nN+yefPm1r9//0Ltk66N//jHP9qcOXNc8R07drS2bdum61D5ltumTRvbs2eP+37p0qXWsGHDfLflCwQQQACB4i1AsCre9ZfWs9+5c6dNmTIlqWMEJVytWrXKBg0a5K7h5z//uQ0ePDip67mYnd577z1bvHix1a9f3+69914rUaLExRTHvggggAACARYgWAW4cjJ9amqpUotVslMQwlUQglWyfuyHAAIIIFD8BAhWxa/OiuyMJ0+ebLt27Sqy40UeqHHjxqa+SdWrV49cnfD84cOH7dy5c6Y+Tb/4xS/cfvfff7/dd999bv7KK6+0UqVKufkjR47Y2bNn7dJLL7WKFSva559/bn/605/swIEDdsMNN1iVKlWijnvmzBl3a0//4ylfvrxdffXV7p9XXtTG5xc+/fRTV6bWX3XVVf7XKkf91zSVK1fOypQp4+Y//vhj27Fjh5UuXdr1x1L5tHI5Gj4QQACBwAsQrAJSRfoPab169QJyNl+dRiaDlc5AQUO3Ir3AURicmjVrFrj5q6++6kKTNvK21RN7P/jBD+yhhx7y9x07dqzfX+z48eP28MMP24oVK/zvvZnatWvbuHHjrFmzZt4q/2/Pnj1t48aNbnnr1q0ujGlhy5Yt1rVrV7d+5MiRrv4ffPDBPA8KtGzZ0iZNmpQn4Lkd+UAAAQQQCJQAwSog1bFp0ybbv3+/qYN1UKZMBys5yCMZEy8s5We5aNEiu/HGG93XBW3rBSt1gh84cKAdPHgwvyLd+ldeecVuvvnmqG0ig5XCVIUKFdz3kcGqUqVKeQJVZCENGjSw119/nZarSBTmEUAAgQAKEKwCUikKVrNnz046SKTjMoIQrNSKNGzYsEJf3t69e90+a9eutUcffdTN60nFPn36uPmqVava1772NTcfG6zUyVz9w3QbUk/w1a1b192W9IZMuOuuu6xLly52/fXX2+bNm00hbd26da4sBSR1Vi9ZsqRb1kciwcrbWJ3b9RShpjfeeMMU1Lxp3rx51qpVK2+RvwgggAACARQgWAWkUrxgpdNJtpUm1ZcShGClMbF0myzZKZHO65HBSrfmnnjiiajD7d6929q1a+fW3XrrrTZ//vyolqOTJ0+6kOXttGbNGqtRo4a3mHCw0m3Pbt26+ftpZtasWTZ16lS3TrcJhw4dGvU9CwgggAACwRIgWAWkPiKDlU4pCOEqbMFKrU3r16+3yy+/POpXob5VH3zwgVunwBRvgM8RI0bYa6+95raZO3eutW7d2i8jkRYrtYI9/fTT/j7ejPpkqXVMk0JXssNfeOXxFwEEEEAgvQIEq/T6Jlx6bLDSjpkOV2ELVtdee629+eabF6wz72k+varmxIkTbnsN/Kk+UJo0IGnkQKSJBKt+/frZI4884vaP/Pjoo49Mndc13XHHHfbss89Gfs08AggggEDABAhWAamQeMFKp5bJcEWwiv5xaMBU9XPyWqaiv/3fUiqDlYZe0O1HTQSr/xkzhwACCARVgGAVkJrJL1jp9DIVrghW//txaOT0UaNG/W/F+bmyZcuaOsFfdtllblwr9bXSRLByDHwggAACoRQgWAWk2gsKVjrFTIQrgtVXPw49YRjZZ2rMmDHWqVMn0yCj3qQnOp988km3SLDyVPiLAAIIhE+AYBWQOidYxa+IonwqML8+VjNnzrTp06e7E1SoGjBgQJ6TJVjlIWEFAgggEEoBglVAqr2gYJWJ1iqx0GL11Y8j8om/5557zm6//fY8vxqNur5w4UK3nharPDysQAABBEIjQLAKSFXnF6wyFarEkg3BSgOEamBQTT169LDHH3/czUd+eONY5ddiNW3aNHvmmWfcLhq884UXXojc3QUqBStv0rbt27f3FhMaxyq/pwLpvO4zMoMAAggUCwGCVUCqKV6wymSoEks2BCu9RPrOO+90tazO5qNHj3bjUOkWo8at0nShYKVR1b2XN2t7PaV322232Zdffmlvv/22+6f13vTYY4/Z97//fW+RYOVLMIMAAghkvwDBKiB1HBusMh2qxJINwUpjTunW3Z49e6Jq+vnnn7fvfe97bt2FgpU20ouZvXGqogr674JCm/dUoFrI9I5Bb7qYcaxosfIU+YsAAggUDwGCVUDqKTJYBSFUiSUbgpWuQ+/4u//++6NeoBwvWNWuXdtWrlypXfJMX3zxhb388suuE7sXoLRRlSpVbPjw4VarVi33pKDW6V2Dy5cv16yb7rnnHnv33XfdvEZw//rXv+7mt23bZp07d3bzsWHMrTz/8Y9//MOaNWvmFnV70bsl6X3PXwQQQACBYAkQrAJSH16wCkqoEku2BCtdi1quNGzCqVOnrHLlyu5f5IuStU0ik8o5cOCAffrpp/bNb37Tv52YyL5sgwACCCCQ/QIEq4DUsYLV/v373XhVATmlrApWQTHlPBBAAAEEsluAYBWQ+t2xY4fVq1cvIGfz1WlkU4tVoGA5GQQQQACBrBUgWGVt1V78hRGsLt6QEhBAAAEEwiVAsApXfRfqanNyciw3N7dQ+6R647Zt21qvXr1SXSzlIYAAAgggkBYBglVaWLOj0J07d9qUKVMyejEa9bxu3boZPQcOjgACCCCAQKICBKtEpUK6nVqs1HKViUktVWqxYkIAAQQQQKC4CBCsiktNZfA8NUTBvn37ivQMqlevbmXKlCnSY3IwBBBAAAEELlaAYHWxguyPAAIIIIAAAgj8V4BgxU8BAQQQQAABBBBIkQDBKkWQFIMAAggggAACCBCs+A0ggAACCCCAAAIpEiBYpQiSYhBAAAEEEEAAAYIVvwEEEEAAAQQQQCBFAgSrFEFSDAIIIIAAAgggQLDiN4AAAggggAACCKRIgGCVIkiKQQABBBBAAAEECFb8BhBAAAEEEEAAgRQJEKxSBEkxCCCAAAIIIIAAwYrfAAIIIIAAAgggkCIBglWKICkGAQQQQAABBBAgWPEbQAABBBBAAAEEUiRAsEoRJMUggAACCCCAAAIEK34DCCCAAAIIIIBAigQIVimCpBgEEEAAAQQQQIBgxW8AAQQQQAABBBBIkQDBKkWQFIOABPbu3Wsffvihw2jYsKFVrFgRGAQQQACBEAkQrEJU2Vxq+gVmzpxp06dPdweaO3eutW7dOv0H5QgIIIAAAoERIFgFpiqCeyJHjx61Y8eOJXyCderUSXjbbNuQYJVtNcr1IIAAAoUTIFgVzit0W+fm5lpOTk6hrrt58+bWv3//Qu2TLRsTrLKlJrkOBBBAIDkBglVybqHYa+fOnTZlypSkrjWs4YpgldTPhZ0QQACBrBEgWGVNVab+QtRSpRarZKcwhiuCVbK/FvZDAAEEskOAYJUd9ZiWq5g8ebLt2rUrLWVfqNDGjRtbhw4drHr16hfaNO73J06csFOnTrnvKlWqZJdccknc7T755BM7ffq0+65y5cpWsmTJPNsdOHDA/vznP7v11apVc+d0+eWX59lOKwhWcVlYiQACCIRGgGAVkKresWOH1atXLyBn89VpZDJY6QzKlCnjbkXqb2Gnxx57zH71q1+53Z588knr0qVLniLOnTtnzZo1s4MHD7rvNm/e7A+PcObMGReS5s2bZydPnozat2zZsjZ69Gjr2bOnlSpVKuo7glUUBwsIIIBA6AQIVgGp8k2bNtn+/futY8eOATkjs0wHK0HIIxmTrVu3+mFKQx5o6IPYafv27a5VTOtbtmxp8+fPd5voCchhw4bZhg0bYneJWv7pT39qDzzwQNQ6glUUBwsIIIBA6AQIVgGpcgWr2bNnJx0k0nEZQQhWjRo1ciGnsNen1igFqn379rldt2zZYhUqVIgq5qmnnrKnn37arZsxY4bdfffdbl7XPWfOHDffoEED69u3r91yyy2urBUrVthLL73kl7N69WqrWbOmv0yw8imYQQABBEIpQLAKSLV7wUqnk2wrTaovJQjBSmNijRw5MqlLmzVrlk2dOtXtO23aNOvUqVNUOa1atfKDl1qvdMtRtwBvuukmN26Xbvm98847Vq5cuaj9evfu7bdm6anJbt26+d8TrHwKZhBAAIFQChCsAlLtkcFKpxSEcFXcg5VeL+ONfN6mTRt74YUX/NrevXu3tWvXzi137tzZD2AKVgpTZ8+etfLly5tazGKnpUuX2vDhw93qgQMHRgU/glWsFssIIIBAuAQIVgGp79hgpdPKdLgq7sFKht27dzd1StcUeTtQt13VqV3Tiy++aC1atHDzsR+6pagnBw8dOmTHjx93gUsPGkyaNMltqoFQx44d6+9GsPIpmEEAAQRCKUCwCki1xwtWOrVMhqtsCFaLFi2yMWPGuFpWnyp5amrfvr1pAFTd7lNH99in+w4fPmy//vWvXaf32KcCXQH//SBYRWowjwACCCBAsArIbyC/YKXTy1S4yoZgpVamJk2auFpu27at65QeeYswNhhpQ/W36tWrV55hFjSmlm4PfvbZZ37frNj9abFy1HwggAACoRUgWAWk6gsKVjrFTISrbAhWshs8eLCtXLlSs7Zt2zZbvHixTZw40S0vW7bM9OSfN6mPlW4LemNb9ejRwwYMGGC1atXyNjHVldZrIlj5LMwggAACCJwXIFgF5GdAsIpfERfzVKBX4qpVq2zQoEFuUcMqLFiwwPW3UgvU2rVrvc3cX41dpaf+NOU3/hXByvHwgQACCCAQR4BgFQclE6sKClaZaK2SQba0WOmVNU2bNnW39mrXru3/vwk92TdkyJCo6o584i+2NcrbUGNZDR061C3GbsOtQE+JvwgggEA4BQhWAan3/IJVpkKVWLIlWOlaxo0bZwsXLtSsP61Zs8Zq1KjhL2tm/fr11q9fP7dOHdvff/99K126tL9N5IjuWqnBQ8ePH+9/T7DyKZhBAAEEQilAsApItccLVpkMVWLJpmClIRc09II3aXyqJUuWeIv+38jO7lqpFi6Nc6VBQjdu3GjLly/3t9WMXhQ9ffp0fx3ByqdgBgEEEAilAMEqINUeG6wyHarEkk3BSgN+Nm/e3O+UPmHCBL8vVexPQJ3bR40aFbvaX1ZLljcEg4KX1zFeGxCsfCZmEEAAgVAKEKwCUu2RwSoIoUos2RSsdD2RoUfeV1xxhVbHnfQOQIUv712D2kiBqk+fPq5/Vf369f39dHtQwzBoinyNjl7qrJc7MyGAAAIIhEeAYBWQuvaCVVBClViyLVglU9VHjhxxo64rOFWrVs1KlCiRTDHsgwACCCAQEgGCVUAqWsFq//79/sjgQTgtglUQaoFzQAABBBAoTgIEq4DUlt4/V69evYCczVenQbAKVHVwMggggAACxUCAYFUMKilTp0iwypQ8x0UAAQQQKK4CBKviWnNFcN45OTmWm5tbBEfK/xB6v5/e28eEAAIIIIBAcRAgWBWHWsrQOe7cudOmTJmSoaN/ddgRI0ZY3bp1M3oOHBwBBBBAAIFEBQhWiUqFdDu1WKnlKhOTWqrUYsWEAAIIIIBAcREgWBWXmsrgeZ46dSpqPKeiOBW9ILlMmTJFcSiOgQACCCCAQMoECFYpo6QgBBBAAAEEEAi7AMEq7L8Arh8BBBBAAAEEUiZAsEoZJQUhgAACCCCAQNgFCFZh/wVw/QgggAACCCCQMgGCVcooKQgBBBBAAAEEwi5AsAr7L4DrRwABBBBAAIGUCeQXrP4fLzZVV+5CKegAAAAASUVORK5CYII=)"
      ]
    },
    {
      "cell_type": "code",
      "metadata": {
        "id": "-G2moesoVeLI"
      },
      "source": [
        "# Ultralytics Yolo images와 labels 디렉토리를 train, val 용으로 생성\n",
        "!mkdir /content/ox_pet;\n",
        "!cd /content/ox_pet; mkdir images; mkdir labels;\n",
        "!cd /content/ox_pet/images; mkdir train; mkdir val\n",
        "!cd /content/ox_pet/labels; mkdir train; mkdir val"
      ],
      "execution_count": null,
      "outputs": []
    },
    {
      "cell_type": "code",
      "metadata": {
        "id": "j-Qlyv2LWrNH"
      },
      "source": [
        "import pandas as pd\n",
        "import os\n",
        "from sklearn.model_selection import train_test_split\n",
        "\n",
        "def make_dataframe(txtfile, img_dir, anno_dir, test_size):\n",
        "    # /content/data/annotations/trainval.txt로부터 dataframe을 만듦\n",
        "    df = pd.read_csv(txtfile, \n",
        "                     sep=' ',\n",
        "                     header=None,\n",
        "                     names=['img_name', 'class_id', 'etc1', 'etc2'])\n",
        "    \n",
        "    # df에 class_name, img_filepath, anno_filepath를 추가\n",
        "    ## 클래스(class_name) = 파일이름(img_name)의 \"_\"문자 이전까지의 이름\n",
        "    df['class_name'] = df['img_name'].apply(lambda x: x[:x.rfind('_')])\n",
        "    df['img_filepath'] = img_dir + \"/\" + df['img_name'] + \".jpg\"\n",
        "    df['anno_filepath'] = anno_dir + \"/\" + df['img_name'] + \".xml\"\n",
        "\n",
        "    # annotation은 없고 trainval에는 존재하는 파일을 df에서 삭제\n",
        "    df = remove_no_annos(df) # 아래 별도 함수 지정\n",
        "\n",
        "    # 데이터 분할\n",
        "    train_df, val_df = train_test_split(df, test_size=test_size, stratify=df['class_id'], random_state=2021)\n",
        "    \n",
        "    return df, train_df, val_df"
      ],
      "execution_count": null,
      "outputs": []
    },
    {
      "cell_type": "code",
      "metadata": {
        "id": "iKwSk8yAal4n"
      },
      "source": [
        "# annotation은 없고 trainval에는 존재하는 파일을 df에서 삭제\n",
        "def remove_no_annos(df):\n",
        "    remove_rows = []\n",
        "    for index, row in df.iterrows():\n",
        "        anno_filepath = row['anno_filepath']\n",
        "\n",
        "        if not os.path.exists(anno_filepath):\n",
        "            print(f\"존재하지 않는 파일이므로 {anno_filepath}를 삭제\")\n",
        "            remove_rows.append(index)\n",
        "\n",
        "    df = df.drop(remove_rows, axis=0, inplace=False)\n",
        "\n",
        "    return df"
      ],
      "execution_count": null,
      "outputs": []
    },
    {
      "cell_type": "code",
      "metadata": {
        "colab": {
          "base_uri": "https://localhost:8080/"
        },
        "id": "TYOpHxgAalxS",
        "outputId": "5f1ddf36-fe04-41e0-f4e8-6cdd3bd29a84"
      },
      "source": [
        "df, train_df, val_df = make_dataframe(\"/content/data/annotations/trainval.txt\", \n",
        "                                      \"/content/data/images\", \n",
        "                                      \"/content/data/annotations/xmls\",\n",
        "                                      0.2)"
      ],
      "execution_count": null,
      "outputs": [
        {
          "output_type": "stream",
          "text": [
            "존재하지 않는 파일이므로 /content/data/annotations/xmls/Abyssinian_104.xml를 삭제\n",
            "존재하지 않는 파일이므로 /content/data/annotations/xmls/Bengal_111.xml를 삭제\n",
            "존재하지 않는 파일이므로 /content/data/annotations/xmls/samoyed_10.xml를 삭제\n",
            "존재하지 않는 파일이므로 /content/data/annotations/xmls/Bengal_175.xml를 삭제\n",
            "존재하지 않는 파일이므로 /content/data/annotations/xmls/Egyptian_Mau_14.xml를 삭제\n",
            "존재하지 않는 파일이므로 /content/data/annotations/xmls/Egyptian_Mau_156.xml를 삭제\n",
            "존재하지 않는 파일이므로 /content/data/annotations/xmls/Egyptian_Mau_186.xml를 삭제\n",
            "존재하지 않는 파일이므로 /content/data/annotations/xmls/Ragdoll_199.xml를 삭제\n",
            "존재하지 않는 파일이므로 /content/data/annotations/xmls/saint_bernard_15.xml를 삭제\n"
          ],
          "name": "stdout"
        }
      ]
    },
    {
      "cell_type": "code",
      "metadata": {
        "id": "JVP33DDualux"
      },
      "source": [
        "import glob\n",
        "import xml.etree.ElementTree as ET\n",
        "\n",
        "# 유니크한 클래스 리스트\n",
        "CLASS_NAMES = df['class_name'].unique().tolist()\n",
        "\n",
        "# 1개의 voc xml 파일을 Yolo 포맷용 txt 파일로 변경하는 함수 \n",
        "def xml_to_txt(input_xml_file, output_txt_file, object_name):\n",
        "  # ElementTree로 입력 XML파일 파싱. \n",
        "  tree = ET.parse(input_xml_file)\n",
        "  root = tree.getroot()\n",
        "  img_node = root.find('size')\n",
        "  \n",
        "  # img_node를 찾지 못하면 종료\n",
        "  if img_node is None:\n",
        "    return None\n",
        "\n",
        "  # 원본 이미지의 너비와 높이 추출. \n",
        "  img_width = int(img_node.find('width').text)\n",
        "  img_height = int(img_node.find('height').text)\n",
        "\n",
        "  # xml 파일내에 있는 모든 object Element를 찾음. \n",
        "  value_str = None\n",
        "  with open(output_txt_file, 'w') as output_fpointer:\n",
        "    for obj in root.findall('object'):\n",
        "        # bndbox를 찾아서 좌상단(xmin, ymin), 우하단(xmax, ymax) 좌표 추출. \n",
        "        xmlbox = obj.find('bndbox')\n",
        "        x1 = int(xmlbox.find('xmin').text)\n",
        "        y1 = int(xmlbox.find('ymin').text)\n",
        "        x2 = int(xmlbox.find('xmax').text)\n",
        "        y2 = int(xmlbox.find('ymax').text)\n",
        "\n",
        "        # 만약 좌표중에 하나라도 0보다 작은 값이 있으면 종료. \n",
        "        if (x1 < 0) or (x2 < 0) or (y1 < 0) or (y2 < 0):\n",
        "          break\n",
        "\n",
        "        # object_name과 원본 좌표를 입력하여 Yolo 포맷으로 변환하는 convert_yolo_coord()함수 호출. \n",
        "        class_id, cx_norm, cy_norm, w_norm, h_norm = convert_yolo_coord(object_name, \n",
        "                                                                        img_width, \n",
        "                                                                        img_height, \n",
        "                                                                        x1, y1, x2, y2)\n",
        "        # 변환된 yolo 좌표를 object 별로 출력 text 파일에 write\n",
        "        value_str = (f'{class_id} {cx_norm} {cy_norm} {w_norm} {h_norm}')\n",
        "        output_fpointer.write(value_str+'\\n')"
      ],
      "execution_count": null,
      "outputs": []
    },
    {
      "cell_type": "code",
      "metadata": {
        "id": "BeFbcBV6alr3"
      },
      "source": [
        "# object_name과 원본 좌표를 입력하여 Yolo 포맷으로 변환\n",
        "def convert_yolo_coord(object_name, img_width, img_height, x1, y1, x2, y2):\n",
        "  # class_id는 CLASS_NAMES 리스트에서 index 번호로 추출. \n",
        "  class_id = CLASS_NAMES.index(object_name)\n",
        "  \n",
        "  # 중심 좌표와 너비, 높이 계산. \n",
        "  center_x = (x1 + x2)/2\n",
        "  center_y = (y1 + y2)/2\n",
        "  width = x2 - x1\n",
        "  height = y2 - y1\n",
        "\n",
        "  # 원본 이미지 기준으로 중심 좌표와 너비 높이를 0-1 사이 값으로 scaling\n",
        "  center_x_norm = center_x / img_width\n",
        "  center_y_norm = center_y / img_height\n",
        "  width_norm = width / img_width\n",
        "  height_norm = height / img_height\n",
        "\n",
        "  return class_id, round(center_x_norm, 7), round(center_y_norm, 7), round(width_norm, 7), round(height_norm, 7)"
      ],
      "execution_count": null,
      "outputs": []
    },
    {
      "cell_type": "code",
      "metadata": {
        "id": "WZfYLIQ4jAC4"
      },
      "source": [
        "xml_to_txt('/content/data/annotations/xmls/Abyssinian_1.xml', \n",
        "           '/content/ox_pet/labels/train/Abyssinian_1.txt', \n",
        "           'Abyssinian')"
      ],
      "execution_count": null,
      "outputs": []
    },
    {
      "cell_type": "code",
      "metadata": {
        "id": "tMz70E6FjCb0"
      },
      "source": [
        "!wget -O -q /content/ox_pet/ox_pet.yaml https://raw.githubusercontent.com/chulminkw/DLCV/master/data/util/ox_pet.yaml\n",
        "# !cat /content/ox_pet/ox_pet.yaml"
      ],
      "execution_count": null,
      "outputs": []
    },
    {
      "cell_type": "code",
      "metadata": {
        "id": "uMvgspOVkG1n"
      },
      "source": [
        "# 1시간 정도 소요됨\n",
        "!mkdir results\n",
        "!cd /content/yolov3; python train.py --img 640 \\\n",
        "                                     --batch 16 \\\n",
        "                                     --epochs 20 \\\n",
        "                                     --data /content/ox_pet/ox_pet.yaml \\\n",
        "                                     --weights yolov3.pt \\\n",
        "                                     --project=/content/results \\\n",
        "                                     --name pet \\\n",
        "                                     --exist-ok"
      ],
      "execution_count": null,
      "outputs": []
    },
    {
      "cell_type": "code",
      "metadata": {
        "id": "8EKUL6AlknZe"
      },
      "source": [
        "# image 파일 inference \n",
        "!cd yolov3;python detect.py --source /content/data/images/pug_100.jpg \\\n",
        "                            --weights /content/results/ultra_workdir/pet/weights/best.pt \\\n",
        "                            --conf 0.2 \\\n",
        "                            --project=/content/data/output \\\n",
        "                            --name=run_image \\\n",
        "                            --exist-ok \\\n",
        "                            --line-thickness 2"
      ],
      "execution_count": null,
      "outputs": []
    },
    {
      "cell_type": "code",
      "metadata": {
        "id": "qFaqecsskv5z"
      },
      "source": [
        "# test파일로 eval\n",
        "!cd yolov3; python test.py --weights /content/results/ultra_workdir/pet/weights/best.pt  \\\n",
        "                           --data /content/ox_pet/ox_pet.yaml \\\n",
        "                           --project /content/data/output \\\n",
        "                           --name=test_result \\\n",
        "                           --exist-ok \\\n",
        "                           --img 640 \\\n",
        "                           --iou 0.65"
      ],
      "execution_count": null,
      "outputs": []
    }
  ]
}