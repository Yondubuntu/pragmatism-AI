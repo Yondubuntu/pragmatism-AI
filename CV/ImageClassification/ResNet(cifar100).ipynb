{
  "nbformat": 4,
  "nbformat_minor": 0,
  "metadata": {
    "accelerator": "GPU",
    "colab": {
      "name": "ResNet(cifar100).ipynb",
      "provenance": [],
      "collapsed_sections": [],
      "authorship_tag": "ABX9TyNUFMwJrWvsWo9k7javs9ZQ",
      "include_colab_link": true
    },
    "kernelspec": {
      "display_name": "Python 3",
      "name": "python3"
    },
    "language_info": {
      "name": "python"
    },
    "widgets": {
      "application/vnd.jupyter.widget-state+json": {
        "de2013c68d2d4119959bb8ec97385e88": {
          "model_module": "@jupyter-widgets/controls",
          "model_name": "VBoxModel",
          "state": {
            "_view_name": "VBoxView",
            "_dom_classes": [],
            "_model_name": "VBoxModel",
            "_view_module": "@jupyter-widgets/controls",
            "_model_module_version": "1.5.0",
            "_view_count": null,
            "_view_module_version": "1.5.0",
            "box_style": "",
            "layout": "IPY_MODEL_3ee036772cf240d68e9061c4eee09054",
            "_model_module": "@jupyter-widgets/controls",
            "children": [
              "IPY_MODEL_594ece14a7f94e1ca9abfab4cd0ed0f4",
              "IPY_MODEL_c675a1faac1e4eb89200033eaf38f386"
            ]
          }
        },
        "3ee036772cf240d68e9061c4eee09054": {
          "model_module": "@jupyter-widgets/base",
          "model_name": "LayoutModel",
          "state": {
            "_view_name": "LayoutView",
            "grid_template_rows": null,
            "right": null,
            "justify_content": null,
            "_view_module": "@jupyter-widgets/base",
            "overflow": null,
            "_model_module_version": "1.2.0",
            "_view_count": null,
            "flex_flow": null,
            "width": null,
            "min_width": null,
            "border": null,
            "align_items": null,
            "bottom": null,
            "_model_module": "@jupyter-widgets/base",
            "top": null,
            "grid_column": null,
            "overflow_y": null,
            "overflow_x": null,
            "grid_auto_flow": null,
            "grid_area": null,
            "grid_template_columns": null,
            "flex": null,
            "_model_name": "LayoutModel",
            "justify_items": null,
            "grid_row": null,
            "max_height": null,
            "align_content": null,
            "visibility": null,
            "align_self": null,
            "height": null,
            "min_height": null,
            "padding": null,
            "grid_auto_rows": null,
            "grid_gap": null,
            "max_width": null,
            "order": null,
            "_view_module_version": "1.2.0",
            "grid_template_areas": null,
            "object_position": null,
            "object_fit": null,
            "grid_auto_columns": null,
            "margin": null,
            "display": null,
            "left": null
          }
        },
        "594ece14a7f94e1ca9abfab4cd0ed0f4": {
          "model_module": "@jupyter-widgets/controls",
          "model_name": "LabelModel",
          "state": {
            "_view_name": "LabelView",
            "style": "IPY_MODEL_7647432065634ed1aaea482f548ffa53",
            "_dom_classes": [],
            "description": "",
            "_model_name": "LabelModel",
            "placeholder": "​",
            "_view_module": "@jupyter-widgets/controls",
            "_model_module_version": "1.5.0",
            "value": " 0.01MB of 0.01MB uploaded (0.00MB deduped)\r",
            "_view_count": null,
            "_view_module_version": "1.5.0",
            "description_tooltip": null,
            "_model_module": "@jupyter-widgets/controls",
            "layout": "IPY_MODEL_4d6bfb5cc6ce4f09abb16d5e7ef5b6f8"
          }
        },
        "c675a1faac1e4eb89200033eaf38f386": {
          "model_module": "@jupyter-widgets/controls",
          "model_name": "FloatProgressModel",
          "state": {
            "_view_name": "ProgressView",
            "style": "IPY_MODEL_4a3ab1371ff44e63842aab6f8baca64a",
            "_dom_classes": [],
            "description": "",
            "_model_name": "FloatProgressModel",
            "bar_style": "",
            "max": 1,
            "_view_module": "@jupyter-widgets/controls",
            "_model_module_version": "1.5.0",
            "value": 1,
            "_view_count": null,
            "_view_module_version": "1.5.0",
            "orientation": "horizontal",
            "min": 0,
            "description_tooltip": null,
            "_model_module": "@jupyter-widgets/controls",
            "layout": "IPY_MODEL_2ac72284283946d8979f713ff43f82cb"
          }
        },
        "7647432065634ed1aaea482f548ffa53": {
          "model_module": "@jupyter-widgets/controls",
          "model_name": "DescriptionStyleModel",
          "state": {
            "_view_name": "StyleView",
            "_model_name": "DescriptionStyleModel",
            "description_width": "",
            "_view_module": "@jupyter-widgets/base",
            "_model_module_version": "1.5.0",
            "_view_count": null,
            "_view_module_version": "1.2.0",
            "_model_module": "@jupyter-widgets/controls"
          }
        },
        "4d6bfb5cc6ce4f09abb16d5e7ef5b6f8": {
          "model_module": "@jupyter-widgets/base",
          "model_name": "LayoutModel",
          "state": {
            "_view_name": "LayoutView",
            "grid_template_rows": null,
            "right": null,
            "justify_content": null,
            "_view_module": "@jupyter-widgets/base",
            "overflow": null,
            "_model_module_version": "1.2.0",
            "_view_count": null,
            "flex_flow": null,
            "width": null,
            "min_width": null,
            "border": null,
            "align_items": null,
            "bottom": null,
            "_model_module": "@jupyter-widgets/base",
            "top": null,
            "grid_column": null,
            "overflow_y": null,
            "overflow_x": null,
            "grid_auto_flow": null,
            "grid_area": null,
            "grid_template_columns": null,
            "flex": null,
            "_model_name": "LayoutModel",
            "justify_items": null,
            "grid_row": null,
            "max_height": null,
            "align_content": null,
            "visibility": null,
            "align_self": null,
            "height": null,
            "min_height": null,
            "padding": null,
            "grid_auto_rows": null,
            "grid_gap": null,
            "max_width": null,
            "order": null,
            "_view_module_version": "1.2.0",
            "grid_template_areas": null,
            "object_position": null,
            "object_fit": null,
            "grid_auto_columns": null,
            "margin": null,
            "display": null,
            "left": null
          }
        },
        "4a3ab1371ff44e63842aab6f8baca64a": {
          "model_module": "@jupyter-widgets/controls",
          "model_name": "ProgressStyleModel",
          "state": {
            "_view_name": "StyleView",
            "_model_name": "ProgressStyleModel",
            "description_width": "",
            "_view_module": "@jupyter-widgets/base",
            "_model_module_version": "1.5.0",
            "_view_count": null,
            "_view_module_version": "1.2.0",
            "bar_color": null,
            "_model_module": "@jupyter-widgets/controls"
          }
        },
        "2ac72284283946d8979f713ff43f82cb": {
          "model_module": "@jupyter-widgets/base",
          "model_name": "LayoutModel",
          "state": {
            "_view_name": "LayoutView",
            "grid_template_rows": null,
            "right": null,
            "justify_content": null,
            "_view_module": "@jupyter-widgets/base",
            "overflow": null,
            "_model_module_version": "1.2.0",
            "_view_count": null,
            "flex_flow": null,
            "width": null,
            "min_width": null,
            "border": null,
            "align_items": null,
            "bottom": null,
            "_model_module": "@jupyter-widgets/base",
            "top": null,
            "grid_column": null,
            "overflow_y": null,
            "overflow_x": null,
            "grid_auto_flow": null,
            "grid_area": null,
            "grid_template_columns": null,
            "flex": null,
            "_model_name": "LayoutModel",
            "justify_items": null,
            "grid_row": null,
            "max_height": null,
            "align_content": null,
            "visibility": null,
            "align_self": null,
            "height": null,
            "min_height": null,
            "padding": null,
            "grid_auto_rows": null,
            "grid_gap": null,
            "max_width": null,
            "order": null,
            "_view_module_version": "1.2.0",
            "grid_template_areas": null,
            "object_position": null,
            "object_fit": null,
            "grid_auto_columns": null,
            "margin": null,
            "display": null,
            "left": null
          }
        },
        "b12cb250d3114cb0acc5b47f5dc8e0e2": {
          "model_module": "@jupyter-widgets/controls",
          "model_name": "VBoxModel",
          "state": {
            "_view_name": "VBoxView",
            "_dom_classes": [],
            "_model_name": "VBoxModel",
            "_view_module": "@jupyter-widgets/controls",
            "_model_module_version": "1.5.0",
            "_view_count": null,
            "_view_module_version": "1.5.0",
            "box_style": "",
            "layout": "IPY_MODEL_1a98ce1b5a1b497582af5c2a8b033ab8",
            "_model_module": "@jupyter-widgets/controls",
            "children": [
              "IPY_MODEL_c1691f07540b4172a884f457bf26d908",
              "IPY_MODEL_634975d05d274229a753a98a4406d930"
            ]
          }
        },
        "1a98ce1b5a1b497582af5c2a8b033ab8": {
          "model_module": "@jupyter-widgets/base",
          "model_name": "LayoutModel",
          "state": {
            "_view_name": "LayoutView",
            "grid_template_rows": null,
            "right": null,
            "justify_content": null,
            "_view_module": "@jupyter-widgets/base",
            "overflow": null,
            "_model_module_version": "1.2.0",
            "_view_count": null,
            "flex_flow": null,
            "width": null,
            "min_width": null,
            "border": null,
            "align_items": null,
            "bottom": null,
            "_model_module": "@jupyter-widgets/base",
            "top": null,
            "grid_column": null,
            "overflow_y": null,
            "overflow_x": null,
            "grid_auto_flow": null,
            "grid_area": null,
            "grid_template_columns": null,
            "flex": null,
            "_model_name": "LayoutModel",
            "justify_items": null,
            "grid_row": null,
            "max_height": null,
            "align_content": null,
            "visibility": null,
            "align_self": null,
            "height": null,
            "min_height": null,
            "padding": null,
            "grid_auto_rows": null,
            "grid_gap": null,
            "max_width": null,
            "order": null,
            "_view_module_version": "1.2.0",
            "grid_template_areas": null,
            "object_position": null,
            "object_fit": null,
            "grid_auto_columns": null,
            "margin": null,
            "display": null,
            "left": null
          }
        },
        "c1691f07540b4172a884f457bf26d908": {
          "model_module": "@jupyter-widgets/controls",
          "model_name": "LabelModel",
          "state": {
            "_view_name": "LabelView",
            "style": "IPY_MODEL_44b9c19c07ee4227aeb77da598f60093",
            "_dom_classes": [],
            "description": "",
            "_model_name": "LabelModel",
            "placeholder": "​",
            "_view_module": "@jupyter-widgets/controls",
            "_model_module_version": "1.5.0",
            "value": " 1.56MB of 1.56MB uploaded (0.00MB deduped)\r",
            "_view_count": null,
            "_view_module_version": "1.5.0",
            "description_tooltip": null,
            "_model_module": "@jupyter-widgets/controls",
            "layout": "IPY_MODEL_48e1e82bd2f24ee0bce13f88e1b268be"
          }
        },
        "634975d05d274229a753a98a4406d930": {
          "model_module": "@jupyter-widgets/controls",
          "model_name": "FloatProgressModel",
          "state": {
            "_view_name": "ProgressView",
            "style": "IPY_MODEL_f3ba1110d1044ea49cdeffa12671ff5b",
            "_dom_classes": [],
            "description": "",
            "_model_name": "FloatProgressModel",
            "bar_style": "",
            "max": 1,
            "_view_module": "@jupyter-widgets/controls",
            "_model_module_version": "1.5.0",
            "value": 1,
            "_view_count": null,
            "_view_module_version": "1.5.0",
            "orientation": "horizontal",
            "min": 0,
            "description_tooltip": null,
            "_model_module": "@jupyter-widgets/controls",
            "layout": "IPY_MODEL_c3c7a23853394f4abc5946b1c2d5ae54"
          }
        },
        "44b9c19c07ee4227aeb77da598f60093": {
          "model_module": "@jupyter-widgets/controls",
          "model_name": "DescriptionStyleModel",
          "state": {
            "_view_name": "StyleView",
            "_model_name": "DescriptionStyleModel",
            "description_width": "",
            "_view_module": "@jupyter-widgets/base",
            "_model_module_version": "1.5.0",
            "_view_count": null,
            "_view_module_version": "1.2.0",
            "_model_module": "@jupyter-widgets/controls"
          }
        },
        "48e1e82bd2f24ee0bce13f88e1b268be": {
          "model_module": "@jupyter-widgets/base",
          "model_name": "LayoutModel",
          "state": {
            "_view_name": "LayoutView",
            "grid_template_rows": null,
            "right": null,
            "justify_content": null,
            "_view_module": "@jupyter-widgets/base",
            "overflow": null,
            "_model_module_version": "1.2.0",
            "_view_count": null,
            "flex_flow": null,
            "width": null,
            "min_width": null,
            "border": null,
            "align_items": null,
            "bottom": null,
            "_model_module": "@jupyter-widgets/base",
            "top": null,
            "grid_column": null,
            "overflow_y": null,
            "overflow_x": null,
            "grid_auto_flow": null,
            "grid_area": null,
            "grid_template_columns": null,
            "flex": null,
            "_model_name": "LayoutModel",
            "justify_items": null,
            "grid_row": null,
            "max_height": null,
            "align_content": null,
            "visibility": null,
            "align_self": null,
            "height": null,
            "min_height": null,
            "padding": null,
            "grid_auto_rows": null,
            "grid_gap": null,
            "max_width": null,
            "order": null,
            "_view_module_version": "1.2.0",
            "grid_template_areas": null,
            "object_position": null,
            "object_fit": null,
            "grid_auto_columns": null,
            "margin": null,
            "display": null,
            "left": null
          }
        },
        "f3ba1110d1044ea49cdeffa12671ff5b": {
          "model_module": "@jupyter-widgets/controls",
          "model_name": "ProgressStyleModel",
          "state": {
            "_view_name": "StyleView",
            "_model_name": "ProgressStyleModel",
            "description_width": "",
            "_view_module": "@jupyter-widgets/base",
            "_model_module_version": "1.5.0",
            "_view_count": null,
            "_view_module_version": "1.2.0",
            "bar_color": null,
            "_model_module": "@jupyter-widgets/controls"
          }
        },
        "c3c7a23853394f4abc5946b1c2d5ae54": {
          "model_module": "@jupyter-widgets/base",
          "model_name": "LayoutModel",
          "state": {
            "_view_name": "LayoutView",
            "grid_template_rows": null,
            "right": null,
            "justify_content": null,
            "_view_module": "@jupyter-widgets/base",
            "overflow": null,
            "_model_module_version": "1.2.0",
            "_view_count": null,
            "flex_flow": null,
            "width": null,
            "min_width": null,
            "border": null,
            "align_items": null,
            "bottom": null,
            "_model_module": "@jupyter-widgets/base",
            "top": null,
            "grid_column": null,
            "overflow_y": null,
            "overflow_x": null,
            "grid_auto_flow": null,
            "grid_area": null,
            "grid_template_columns": null,
            "flex": null,
            "_model_name": "LayoutModel",
            "justify_items": null,
            "grid_row": null,
            "max_height": null,
            "align_content": null,
            "visibility": null,
            "align_self": null,
            "height": null,
            "min_height": null,
            "padding": null,
            "grid_auto_rows": null,
            "grid_gap": null,
            "max_width": null,
            "order": null,
            "_view_module_version": "1.2.0",
            "grid_template_areas": null,
            "object_position": null,
            "object_fit": null,
            "grid_auto_columns": null,
            "margin": null,
            "display": null,
            "left": null
          }
        },
        "bdfb58f7d4dc4833ae4297a9b7c00257": {
          "model_module": "@jupyter-widgets/controls",
          "model_name": "VBoxModel",
          "state": {
            "_view_name": "VBoxView",
            "_dom_classes": [],
            "_model_name": "VBoxModel",
            "_view_module": "@jupyter-widgets/controls",
            "_model_module_version": "1.5.0",
            "_view_count": null,
            "_view_module_version": "1.5.0",
            "box_style": "",
            "layout": "IPY_MODEL_a87688735c2748098a2d822ce9d168e0",
            "_model_module": "@jupyter-widgets/controls",
            "children": [
              "IPY_MODEL_998c3baa9f434e3b874b607f524ce8c1",
              "IPY_MODEL_7ecc26e34aa14fdeaaf1df15ed59aa63"
            ]
          }
        },
        "a87688735c2748098a2d822ce9d168e0": {
          "model_module": "@jupyter-widgets/base",
          "model_name": "LayoutModel",
          "state": {
            "_view_name": "LayoutView",
            "grid_template_rows": null,
            "right": null,
            "justify_content": null,
            "_view_module": "@jupyter-widgets/base",
            "overflow": null,
            "_model_module_version": "1.2.0",
            "_view_count": null,
            "flex_flow": null,
            "width": null,
            "min_width": null,
            "border": null,
            "align_items": null,
            "bottom": null,
            "_model_module": "@jupyter-widgets/base",
            "top": null,
            "grid_column": null,
            "overflow_y": null,
            "overflow_x": null,
            "grid_auto_flow": null,
            "grid_area": null,
            "grid_template_columns": null,
            "flex": null,
            "_model_name": "LayoutModel",
            "justify_items": null,
            "grid_row": null,
            "max_height": null,
            "align_content": null,
            "visibility": null,
            "align_self": null,
            "height": null,
            "min_height": null,
            "padding": null,
            "grid_auto_rows": null,
            "grid_gap": null,
            "max_width": null,
            "order": null,
            "_view_module_version": "1.2.0",
            "grid_template_areas": null,
            "object_position": null,
            "object_fit": null,
            "grid_auto_columns": null,
            "margin": null,
            "display": null,
            "left": null
          }
        },
        "998c3baa9f434e3b874b607f524ce8c1": {
          "model_module": "@jupyter-widgets/controls",
          "model_name": "LabelModel",
          "state": {
            "_view_name": "LabelView",
            "style": "IPY_MODEL_e9434c88c9af4ad78e5fe45189e0fd7d",
            "_dom_classes": [],
            "description": "",
            "_model_name": "LabelModel",
            "placeholder": "​",
            "_view_module": "@jupyter-widgets/controls",
            "_model_module_version": "1.5.0",
            "value": " 3.62MB of 3.62MB uploaded (0.00MB deduped)\r",
            "_view_count": null,
            "_view_module_version": "1.5.0",
            "description_tooltip": null,
            "_model_module": "@jupyter-widgets/controls",
            "layout": "IPY_MODEL_c9ce405a983d438aa1565483459a9056"
          }
        },
        "7ecc26e34aa14fdeaaf1df15ed59aa63": {
          "model_module": "@jupyter-widgets/controls",
          "model_name": "FloatProgressModel",
          "state": {
            "_view_name": "ProgressView",
            "style": "IPY_MODEL_e3f1d0b5eb0049f5a1881f92f6634a17",
            "_dom_classes": [],
            "description": "",
            "_model_name": "FloatProgressModel",
            "bar_style": "",
            "max": 1,
            "_view_module": "@jupyter-widgets/controls",
            "_model_module_version": "1.5.0",
            "value": 1,
            "_view_count": null,
            "_view_module_version": "1.5.0",
            "orientation": "horizontal",
            "min": 0,
            "description_tooltip": null,
            "_model_module": "@jupyter-widgets/controls",
            "layout": "IPY_MODEL_d4cb4d77ce7546438702aeeb1c31dd81"
          }
        },
        "e9434c88c9af4ad78e5fe45189e0fd7d": {
          "model_module": "@jupyter-widgets/controls",
          "model_name": "DescriptionStyleModel",
          "state": {
            "_view_name": "StyleView",
            "_model_name": "DescriptionStyleModel",
            "description_width": "",
            "_view_module": "@jupyter-widgets/base",
            "_model_module_version": "1.5.0",
            "_view_count": null,
            "_view_module_version": "1.2.0",
            "_model_module": "@jupyter-widgets/controls"
          }
        },
        "c9ce405a983d438aa1565483459a9056": {
          "model_module": "@jupyter-widgets/base",
          "model_name": "LayoutModel",
          "state": {
            "_view_name": "LayoutView",
            "grid_template_rows": null,
            "right": null,
            "justify_content": null,
            "_view_module": "@jupyter-widgets/base",
            "overflow": null,
            "_model_module_version": "1.2.0",
            "_view_count": null,
            "flex_flow": null,
            "width": null,
            "min_width": null,
            "border": null,
            "align_items": null,
            "bottom": null,
            "_model_module": "@jupyter-widgets/base",
            "top": null,
            "grid_column": null,
            "overflow_y": null,
            "overflow_x": null,
            "grid_auto_flow": null,
            "grid_area": null,
            "grid_template_columns": null,
            "flex": null,
            "_model_name": "LayoutModel",
            "justify_items": null,
            "grid_row": null,
            "max_height": null,
            "align_content": null,
            "visibility": null,
            "align_self": null,
            "height": null,
            "min_height": null,
            "padding": null,
            "grid_auto_rows": null,
            "grid_gap": null,
            "max_width": null,
            "order": null,
            "_view_module_version": "1.2.0",
            "grid_template_areas": null,
            "object_position": null,
            "object_fit": null,
            "grid_auto_columns": null,
            "margin": null,
            "display": null,
            "left": null
          }
        },
        "e3f1d0b5eb0049f5a1881f92f6634a17": {
          "model_module": "@jupyter-widgets/controls",
          "model_name": "ProgressStyleModel",
          "state": {
            "_view_name": "StyleView",
            "_model_name": "ProgressStyleModel",
            "description_width": "",
            "_view_module": "@jupyter-widgets/base",
            "_model_module_version": "1.5.0",
            "_view_count": null,
            "_view_module_version": "1.2.0",
            "bar_color": null,
            "_model_module": "@jupyter-widgets/controls"
          }
        },
        "d4cb4d77ce7546438702aeeb1c31dd81": {
          "model_module": "@jupyter-widgets/base",
          "model_name": "LayoutModel",
          "state": {
            "_view_name": "LayoutView",
            "grid_template_rows": null,
            "right": null,
            "justify_content": null,
            "_view_module": "@jupyter-widgets/base",
            "overflow": null,
            "_model_module_version": "1.2.0",
            "_view_count": null,
            "flex_flow": null,
            "width": null,
            "min_width": null,
            "border": null,
            "align_items": null,
            "bottom": null,
            "_model_module": "@jupyter-widgets/base",
            "top": null,
            "grid_column": null,
            "overflow_y": null,
            "overflow_x": null,
            "grid_auto_flow": null,
            "grid_area": null,
            "grid_template_columns": null,
            "flex": null,
            "_model_name": "LayoutModel",
            "justify_items": null,
            "grid_row": null,
            "max_height": null,
            "align_content": null,
            "visibility": null,
            "align_self": null,
            "height": null,
            "min_height": null,
            "padding": null,
            "grid_auto_rows": null,
            "grid_gap": null,
            "max_width": null,
            "order": null,
            "_view_module_version": "1.2.0",
            "grid_template_areas": null,
            "object_position": null,
            "object_fit": null,
            "grid_auto_columns": null,
            "margin": null,
            "display": null,
            "left": null
          }
        },
        "09e43f4e9c7d4ad5b5c6857d5125ca29": {
          "model_module": "@jupyter-widgets/controls",
          "model_name": "VBoxModel",
          "state": {
            "_view_name": "VBoxView",
            "_dom_classes": [],
            "_model_name": "VBoxModel",
            "_view_module": "@jupyter-widgets/controls",
            "_model_module_version": "1.5.0",
            "_view_count": null,
            "_view_module_version": "1.5.0",
            "box_style": "",
            "layout": "IPY_MODEL_42707892cdf2498fade39b7a4e391d21",
            "_model_module": "@jupyter-widgets/controls",
            "children": [
              "IPY_MODEL_12343062d5754f2f836cc21662ec793a",
              "IPY_MODEL_6ae410db2ac44c128a428ad9832a436d"
            ]
          }
        },
        "42707892cdf2498fade39b7a4e391d21": {
          "model_module": "@jupyter-widgets/base",
          "model_name": "LayoutModel",
          "state": {
            "_view_name": "LayoutView",
            "grid_template_rows": null,
            "right": null,
            "justify_content": null,
            "_view_module": "@jupyter-widgets/base",
            "overflow": null,
            "_model_module_version": "1.2.0",
            "_view_count": null,
            "flex_flow": null,
            "width": null,
            "min_width": null,
            "border": null,
            "align_items": null,
            "bottom": null,
            "_model_module": "@jupyter-widgets/base",
            "top": null,
            "grid_column": null,
            "overflow_y": null,
            "overflow_x": null,
            "grid_auto_flow": null,
            "grid_area": null,
            "grid_template_columns": null,
            "flex": null,
            "_model_name": "LayoutModel",
            "justify_items": null,
            "grid_row": null,
            "max_height": null,
            "align_content": null,
            "visibility": null,
            "align_self": null,
            "height": null,
            "min_height": null,
            "padding": null,
            "grid_auto_rows": null,
            "grid_gap": null,
            "max_width": null,
            "order": null,
            "_view_module_version": "1.2.0",
            "grid_template_areas": null,
            "object_position": null,
            "object_fit": null,
            "grid_auto_columns": null,
            "margin": null,
            "display": null,
            "left": null
          }
        },
        "12343062d5754f2f836cc21662ec793a": {
          "model_module": "@jupyter-widgets/controls",
          "model_name": "LabelModel",
          "state": {
            "_view_name": "LabelView",
            "style": "IPY_MODEL_5711690cffca431cb2d9ad4a853dee93",
            "_dom_classes": [],
            "description": "",
            "_model_name": "LabelModel",
            "placeholder": "​",
            "_view_module": "@jupyter-widgets/controls",
            "_model_module_version": "1.5.0",
            "value": " 3.62MB of 3.62MB uploaded (0.00MB deduped)\r",
            "_view_count": null,
            "_view_module_version": "1.5.0",
            "description_tooltip": null,
            "_model_module": "@jupyter-widgets/controls",
            "layout": "IPY_MODEL_ff4dd0d62a654b3594112b403c35ee04"
          }
        },
        "6ae410db2ac44c128a428ad9832a436d": {
          "model_module": "@jupyter-widgets/controls",
          "model_name": "FloatProgressModel",
          "state": {
            "_view_name": "ProgressView",
            "style": "IPY_MODEL_244a891bfc5747beb42ed2b280b4adc4",
            "_dom_classes": [],
            "description": "",
            "_model_name": "FloatProgressModel",
            "bar_style": "",
            "max": 1,
            "_view_module": "@jupyter-widgets/controls",
            "_model_module_version": "1.5.0",
            "value": 1,
            "_view_count": null,
            "_view_module_version": "1.5.0",
            "orientation": "horizontal",
            "min": 0,
            "description_tooltip": null,
            "_model_module": "@jupyter-widgets/controls",
            "layout": "IPY_MODEL_4ac476dcff704ed6b75b16b108a98ee5"
          }
        },
        "5711690cffca431cb2d9ad4a853dee93": {
          "model_module": "@jupyter-widgets/controls",
          "model_name": "DescriptionStyleModel",
          "state": {
            "_view_name": "StyleView",
            "_model_name": "DescriptionStyleModel",
            "description_width": "",
            "_view_module": "@jupyter-widgets/base",
            "_model_module_version": "1.5.0",
            "_view_count": null,
            "_view_module_version": "1.2.0",
            "_model_module": "@jupyter-widgets/controls"
          }
        },
        "ff4dd0d62a654b3594112b403c35ee04": {
          "model_module": "@jupyter-widgets/base",
          "model_name": "LayoutModel",
          "state": {
            "_view_name": "LayoutView",
            "grid_template_rows": null,
            "right": null,
            "justify_content": null,
            "_view_module": "@jupyter-widgets/base",
            "overflow": null,
            "_model_module_version": "1.2.0",
            "_view_count": null,
            "flex_flow": null,
            "width": null,
            "min_width": null,
            "border": null,
            "align_items": null,
            "bottom": null,
            "_model_module": "@jupyter-widgets/base",
            "top": null,
            "grid_column": null,
            "overflow_y": null,
            "overflow_x": null,
            "grid_auto_flow": null,
            "grid_area": null,
            "grid_template_columns": null,
            "flex": null,
            "_model_name": "LayoutModel",
            "justify_items": null,
            "grid_row": null,
            "max_height": null,
            "align_content": null,
            "visibility": null,
            "align_self": null,
            "height": null,
            "min_height": null,
            "padding": null,
            "grid_auto_rows": null,
            "grid_gap": null,
            "max_width": null,
            "order": null,
            "_view_module_version": "1.2.0",
            "grid_template_areas": null,
            "object_position": null,
            "object_fit": null,
            "grid_auto_columns": null,
            "margin": null,
            "display": null,
            "left": null
          }
        },
        "244a891bfc5747beb42ed2b280b4adc4": {
          "model_module": "@jupyter-widgets/controls",
          "model_name": "ProgressStyleModel",
          "state": {
            "_view_name": "StyleView",
            "_model_name": "ProgressStyleModel",
            "description_width": "",
            "_view_module": "@jupyter-widgets/base",
            "_model_module_version": "1.5.0",
            "_view_count": null,
            "_view_module_version": "1.2.0",
            "bar_color": null,
            "_model_module": "@jupyter-widgets/controls"
          }
        },
        "4ac476dcff704ed6b75b16b108a98ee5": {
          "model_module": "@jupyter-widgets/base",
          "model_name": "LayoutModel",
          "state": {
            "_view_name": "LayoutView",
            "grid_template_rows": null,
            "right": null,
            "justify_content": null,
            "_view_module": "@jupyter-widgets/base",
            "overflow": null,
            "_model_module_version": "1.2.0",
            "_view_count": null,
            "flex_flow": null,
            "width": null,
            "min_width": null,
            "border": null,
            "align_items": null,
            "bottom": null,
            "_model_module": "@jupyter-widgets/base",
            "top": null,
            "grid_column": null,
            "overflow_y": null,
            "overflow_x": null,
            "grid_auto_flow": null,
            "grid_area": null,
            "grid_template_columns": null,
            "flex": null,
            "_model_name": "LayoutModel",
            "justify_items": null,
            "grid_row": null,
            "max_height": null,
            "align_content": null,
            "visibility": null,
            "align_self": null,
            "height": null,
            "min_height": null,
            "padding": null,
            "grid_auto_rows": null,
            "grid_gap": null,
            "max_width": null,
            "order": null,
            "_view_module_version": "1.2.0",
            "grid_template_areas": null,
            "object_position": null,
            "object_fit": null,
            "grid_auto_columns": null,
            "margin": null,
            "display": null,
            "left": null
          }
        }
      }
    }
  },
  "cells": [
    {
      "cell_type": "markdown",
      "metadata": {
        "id": "view-in-github",
        "colab_type": "text"
      },
      "source": [
        "<a href=\"https://colab.research.google.com/github/silverstar0727/pragmatism-AI/blob/main/ResNet(cifar100).ipynb\" target=\"_parent\"><img src=\"https://colab.research.google.com/assets/colab-badge.svg\" alt=\"Open In Colab\"/></a>"
      ]
    },
    {
      "cell_type": "code",
      "metadata": {
        "colab": {
          "base_uri": "https://localhost:8080/"
        },
        "id": "LEx0rWNKBg5g",
        "outputId": "e57d19a6-2ff6-4a06-cb4f-a1cba64bb8e3"
      },
      "source": [
        "!pip install -q wandb"
      ],
      "execution_count": 1,
      "outputs": [
        {
          "output_type": "stream",
          "text": [
            "\u001b[K     |████████████████████████████████| 1.8 MB 13.1 MB/s \n",
            "\u001b[K     |████████████████████████████████| 170 kB 54.6 MB/s \n",
            "\u001b[K     |████████████████████████████████| 133 kB 60.1 MB/s \n",
            "\u001b[K     |████████████████████████████████| 97 kB 9.8 MB/s \n",
            "\u001b[K     |████████████████████████████████| 138 kB 65.6 MB/s \n",
            "\u001b[K     |████████████████████████████████| 63 kB 2.2 MB/s \n",
            "\u001b[K     |████████████████████████████████| 62 kB 1.2 MB/s \n",
            "\u001b[?25h  Building wheel for subprocess32 (setup.py) ... \u001b[?25l\u001b[?25hdone\n",
            "  Building wheel for pathtools (setup.py) ... \u001b[?25l\u001b[?25hdone\n",
            "\u001b[31mERROR: pip's dependency resolver does not currently take into account all the packages that are installed. This behaviour is the source of the following dependency conflicts.\n",
            "google-colab 1.0.0 requires requests~=2.23.0, but you have requests 2.26.0 which is incompatible.\n",
            "datascience 0.10.6 requires folium==0.2.1, but you have folium 0.8.3 which is incompatible.\u001b[0m\n"
          ],
          "name": "stdout"
        }
      ]
    },
    {
      "cell_type": "code",
      "metadata": {
        "colab": {
          "base_uri": "https://localhost:8080/",
          "height": 68
        },
        "id": "PWVA8VOfR5xo",
        "outputId": "1ab9ff54-abfd-4435-9492-c8f4bb3b4c98"
      },
      "source": [
        "import tensorflow as tf\n",
        "from sklearn.model_selection import train_test_split\n",
        "from tensorflow import keras\n",
        "\n",
        "from tensorflow.keras.layers import Input, Conv2D, ReLU, BatchNormalization,\\\n",
        "                                    Add, AveragePooling2D, Flatten, Dense\n",
        "from tensorflow.keras.models import Model\n",
        "\n",
        "from wandb.keras import WandbCallback\n",
        "import wandb\n",
        "\n",
        "wandb.login()"
      ],
      "execution_count": 2,
      "outputs": [
        {
          "output_type": "display_data",
          "data": {
            "application/javascript": [
              "\n",
              "        window._wandbApiKey = new Promise((resolve, reject) => {\n",
              "            function loadScript(url) {\n",
              "            return new Promise(function(resolve, reject) {\n",
              "                let newScript = document.createElement(\"script\");\n",
              "                newScript.onerror = reject;\n",
              "                newScript.onload = resolve;\n",
              "                document.body.appendChild(newScript);\n",
              "                newScript.src = url;\n",
              "            });\n",
              "            }\n",
              "            loadScript(\"https://cdn.jsdelivr.net/npm/postmate/build/postmate.min.js\").then(() => {\n",
              "            const iframe = document.createElement('iframe')\n",
              "            iframe.style.cssText = \"width:0;height:0;border:none\"\n",
              "            document.body.appendChild(iframe)\n",
              "            const handshake = new Postmate({\n",
              "                container: iframe,\n",
              "                url: 'https://wandb.ai/authorize'\n",
              "            });\n",
              "            const timeout = setTimeout(() => reject(\"Couldn't auto authenticate\"), 5000)\n",
              "            handshake.then(function(child) {\n",
              "                child.on('authorize', data => {\n",
              "                    clearTimeout(timeout)\n",
              "                    resolve(data)\n",
              "                });\n",
              "            });\n",
              "            })\n",
              "        });\n",
              "    "
            ],
            "text/plain": [
              "<IPython.core.display.Javascript object>"
            ]
          },
          "metadata": {
            "tags": []
          }
        },
        {
          "output_type": "stream",
          "text": [
            "\u001b[34m\u001b[1mwandb\u001b[0m: Appending key for api.wandb.ai to your netrc file: /root/.netrc\n"
          ],
          "name": "stderr"
        },
        {
          "output_type": "execute_result",
          "data": {
            "text/plain": [
              "True"
            ]
          },
          "metadata": {
            "tags": []
          },
          "execution_count": 2
        }
      ]
    },
    {
      "cell_type": "code",
      "metadata": {
        "colab": {
          "base_uri": "https://localhost:8080/"
        },
        "id": "x97EBGMrDMe3",
        "outputId": "edd5ffcb-de83-4f42-e821-1a903d6dcab5"
      },
      "source": [
        "cifar100 = tf.keras.datasets.cifar100\n",
        "\n",
        "(x_train, y_train), (x_test, y_test) = cifar100.load_data()\n",
        "\n",
        "x_train, x_test = x_train / 255.0, x_test / 255.0\n",
        "x_train, x_val, y_train, y_val = train_test_split(x_train, y_train, test_size=0.2, random_state=3)"
      ],
      "execution_count": 3,
      "outputs": [
        {
          "output_type": "stream",
          "text": [
            "Downloading data from https://www.cs.toronto.edu/~kriz/cifar-100-python.tar.gz\n",
            "169009152/169001437 [==============================] - 6s 0us/step\n"
          ],
          "name": "stdout"
        }
      ]
    },
    {
      "cell_type": "code",
      "metadata": {
        "id": "d3T8DkopR4Ri"
      },
      "source": [
        "def relu_bn(x):\n",
        "    x = ReLU()(x)\n",
        "    x = BatchNormalization()(x)\n",
        "    return x\n",
        "\n",
        "def residual_block(x, downsample, filters, kernel_size=3):\n",
        "    y = Conv2D(kernel_size=kernel_size,\n",
        "               strides= (1 if not downsample else 2),\n",
        "               filters=filters,\n",
        "               padding=\"same\")(x)\n",
        "    y = relu_bn(y)\n",
        "    y = Conv2D(kernel_size=kernel_size,\n",
        "               strides=1,\n",
        "               filters=filters,\n",
        "               padding=\"same\")(y)\n",
        "\n",
        "    if downsample:\n",
        "        x = Conv2D(kernel_size=1,\n",
        "                   strides=2,\n",
        "                   filters=filters,\n",
        "                   padding=\"same\")(x)\n",
        "    out = Add()([x, y])\n",
        "    out = relu_bn(out)\n",
        "    return out\n",
        "\n",
        "def create_res_net():\n",
        "    \n",
        "    inputs = Input(shape=(32, 32, 3))\n",
        "    num_filters = 64\n",
        "    \n",
        "    x = BatchNormalization()(inputs)\n",
        "    x = Conv2D(kernel_size=3,\n",
        "               strides=1,\n",
        "               filters=num_filters,\n",
        "               padding=\"same\")(x)\n",
        "    x = relu_bn(x)\n",
        "    \n",
        "    num_blocks_list = [2, 5, 5, 2]\n",
        "    for i in range(len(num_blocks_list)):\n",
        "        num_blocks = num_blocks_list[i]\n",
        "        for j in range(num_blocks):\n",
        "            x = residual_block(x, downsample=(j==0 and i!=0), filters=num_filters)\n",
        "        num_filters *= 2\n",
        "    \n",
        "    x = AveragePooling2D(4)(x)\n",
        "    x = Flatten()(x)\n",
        "    outputs = Dense(100, activation='softmax')(x)\n",
        "    \n",
        "    model = Model(inputs, outputs)\n",
        "\n",
        "    return model"
      ],
      "execution_count": 4,
      "outputs": []
    },
    {
      "cell_type": "code",
      "metadata": {
        "id": "wnGIWE3EWt-m"
      },
      "source": [
        "def experiment():\n",
        "    config_defaults = {\n",
        "        'epochs': 2,\n",
        "        'batch_size': 1024,\n",
        "        'lr': 0.1\n",
        "    }\n",
        "\n",
        "    wandb.init(project='ResNet', config=config_defaults, magic=True)\n",
        "    args = wandb.config\n",
        "    \n",
        "    # Prepare dataloader\n",
        "    trainloader = tf.data.Dataset.from_tensor_slices((x_train, y_train))\n",
        "    trainloader = trainloader.shuffle(1024).batch(args.batch_size).prefetch(tf.data.experimental.AUTOTUNE)\n",
        "    valloader = tf.data.Dataset.from_tensor_slices((x_val, y_val))\n",
        "    valloader = valloader.batch(args.batch_size).prefetch(tf.data.experimental.AUTOTUNE)\n",
        "    testloader = tf.data.Dataset.from_tensor_slices((x_test, y_test))\n",
        "    testloader = testloader.batch(args.batch_size).prefetch(tf.data.experimental.AUTOTUNE)\n",
        "\n",
        "    # init\n",
        "    keras.backend.clear_session()\n",
        "    \n",
        "    net = create_res_net()\n",
        "    optimizer = tf.keras.optimizers.Adam(learning_rate=args.lr)\n",
        "    net.compile(optimizer=optimizer,\n",
        "                loss='sparse_categorical_crossentropy',\n",
        "                metrics=['accuracy'])\n",
        "    \n",
        "    filepath = f'{args.lr}-best.hdf5'\n",
        "    checkpoint = tf.keras.callbacks.ModelCheckpoint(filepath=filepath, \n",
        "                                                    monitor='val_accuracy',\n",
        "                                                    verbose=1,\n",
        "                                                    save_best_only=True,\n",
        "                                                    mode='max')\n",
        "\n",
        "    result = net.fit(\n",
        "        trainloader, \n",
        "        epochs=args.epochs, \n",
        "        validation_data=valloader, \n",
        "        batch_size=args.batch_size,\n",
        "        callbacks=[WandbCallback(save_model=False), checkpoint])\n",
        "\n",
        "    test_result = net.evaluate(testloader, callbacks=[WandbCallback(save_model=False)])"
      ],
      "execution_count": 5,
      "outputs": []
    },
    {
      "cell_type": "code",
      "metadata": {
        "colab": {
          "base_uri": "https://localhost:8080/",
          "height": 1000,
          "referenced_widgets": [
            "de2013c68d2d4119959bb8ec97385e88",
            "3ee036772cf240d68e9061c4eee09054",
            "594ece14a7f94e1ca9abfab4cd0ed0f4",
            "c675a1faac1e4eb89200033eaf38f386",
            "7647432065634ed1aaea482f548ffa53",
            "4d6bfb5cc6ce4f09abb16d5e7ef5b6f8",
            "4a3ab1371ff44e63842aab6f8baca64a",
            "2ac72284283946d8979f713ff43f82cb",
            "b12cb250d3114cb0acc5b47f5dc8e0e2",
            "1a98ce1b5a1b497582af5c2a8b033ab8",
            "c1691f07540b4172a884f457bf26d908",
            "634975d05d274229a753a98a4406d930",
            "44b9c19c07ee4227aeb77da598f60093",
            "48e1e82bd2f24ee0bce13f88e1b268be",
            "f3ba1110d1044ea49cdeffa12671ff5b",
            "c3c7a23853394f4abc5946b1c2d5ae54",
            "bdfb58f7d4dc4833ae4297a9b7c00257",
            "a87688735c2748098a2d822ce9d168e0",
            "998c3baa9f434e3b874b607f524ce8c1",
            "7ecc26e34aa14fdeaaf1df15ed59aa63",
            "e9434c88c9af4ad78e5fe45189e0fd7d",
            "c9ce405a983d438aa1565483459a9056",
            "e3f1d0b5eb0049f5a1881f92f6634a17",
            "d4cb4d77ce7546438702aeeb1c31dd81",
            "09e43f4e9c7d4ad5b5c6857d5125ca29",
            "42707892cdf2498fade39b7a4e391d21",
            "12343062d5754f2f836cc21662ec793a",
            "6ae410db2ac44c128a428ad9832a436d",
            "5711690cffca431cb2d9ad4a853dee93",
            "ff4dd0d62a654b3594112b403c35ee04",
            "244a891bfc5747beb42ed2b280b4adc4",
            "4ac476dcff704ed6b75b16b108a98ee5"
          ]
        },
        "id": "xmXgmM7rBX5t",
        "outputId": "c62f133d-6369-4773-940e-c5f9c7937847"
      },
      "source": [
        "sweep_config = {\n",
        "    'method': 'grid',\n",
        "    'parameters': {\n",
        "        'lr': {\n",
        "            'values': [0.01, 0.001, 0.0001]\n",
        "        },\n",
        "        'epochs': {\n",
        "            'values': [25]\n",
        "        },\n",
        "        'batch_size': {\n",
        "            'values': [1024]\n",
        "        }\n",
        "    }\n",
        "}\n",
        "\n",
        "import wandb\n",
        "sweep_id = wandb.sweep(sweep_config)\n",
        "\n",
        "wandb.agent(sweep_id, function=experiment)"
      ],
      "execution_count": 6,
      "outputs": [
        {
          "output_type": "stream",
          "text": [
            "Create sweep with ID: ndselms6\n",
            "Sweep URL: https://wandb.ai/jeongmin/uncategorized/sweeps/ndselms6\n"
          ],
          "name": "stdout"
        },
        {
          "output_type": "stream",
          "text": [
            "\u001b[34m\u001b[1mwandb\u001b[0m: Agent Starting Run: 2xnn7cq4 with config:\n",
            "\u001b[34m\u001b[1mwandb\u001b[0m: \tbatch_size: 1024\n",
            "\u001b[34m\u001b[1mwandb\u001b[0m: \tepochs: 25\n",
            "\u001b[34m\u001b[1mwandb\u001b[0m: \tlr: 0.01\n",
            "\u001b[34m\u001b[1mwandb\u001b[0m: Currently logged in as: \u001b[33mjeongmin\u001b[0m (use `wandb login --relogin` to force relogin)\n",
            "\u001b[34m\u001b[1mwandb\u001b[0m: \u001b[33mWARNING\u001b[0m Ignored wandb.init() arg project when running a sweep\n"
          ],
          "name": "stderr"
        },
        {
          "output_type": "display_data",
          "data": {
            "text/html": [
              "\n",
              "                Tracking run with wandb version 0.11.0<br/>\n",
              "                Syncing run <strong style=\"color:#cdcd00\">visionary-sweep-1</strong> to <a href=\"https://wandb.ai\" target=\"_blank\">Weights & Biases</a> <a href=\"https://docs.wandb.com/integrations/jupyter.html\" target=\"_blank\">(Documentation)</a>.<br/>\n",
              "                Project page: <a href=\"https://wandb.ai/jeongmin/uncategorized\" target=\"_blank\">https://wandb.ai/jeongmin/uncategorized</a><br/>\n",
              "                Sweep page: <a href=\"https://wandb.ai/jeongmin/uncategorized/sweeps/ndselms6\" target=\"_blank\">https://wandb.ai/jeongmin/uncategorized/sweeps/ndselms6</a><br/>\n",
              "Run page: <a href=\"https://wandb.ai/jeongmin/uncategorized/runs/2xnn7cq4\" target=\"_blank\">https://wandb.ai/jeongmin/uncategorized/runs/2xnn7cq4</a><br/>\n",
              "                Run data is saved locally in <code>/content/wandb/run-20210725_061218-2xnn7cq4</code><br/><br/>\n",
              "            "
            ],
            "text/plain": [
              "<IPython.core.display.HTML object>"
            ]
          },
          "metadata": {
            "tags": []
          }
        },
        {
          "output_type": "stream",
          "text": [
            "\u001b[34m\u001b[1mwandb\u001b[0m: \u001b[33mWARNING\u001b[0m Ignored wandb.init() arg project when running a sweep\n"
          ],
          "name": "stderr"
        },
        {
          "output_type": "display_data",
          "data": {
            "text/html": [
              "Finishing last run (ID:2xnn7cq4) before initializing another..."
            ],
            "text/plain": [
              "<IPython.core.display.HTML object>"
            ]
          },
          "metadata": {
            "tags": []
          }
        },
        {
          "output_type": "display_data",
          "data": {
            "text/html": [
              "<br/>Waiting for W&B process to finish, PID 140<br/>Program ended successfully."
            ],
            "text/plain": [
              "<IPython.core.display.HTML object>"
            ]
          },
          "metadata": {
            "tags": []
          }
        },
        {
          "output_type": "display_data",
          "data": {
            "application/vnd.jupyter.widget-view+json": {
              "model_id": "de2013c68d2d4119959bb8ec97385e88",
              "version_minor": 0,
              "version_major": 2
            },
            "text/plain": [
              "VBox(children=(Label(value=' 0.00MB of 0.00MB uploaded (0.00MB deduped)\\r'), FloatProgress(value=1.0, max=1.0)…"
            ]
          },
          "metadata": {
            "tags": []
          }
        },
        {
          "output_type": "display_data",
          "data": {
            "text/html": [
              "Find user logs for this run at: <code>/content/wandb/run-20210725_061218-2xnn7cq4/logs/debug.log</code>"
            ],
            "text/plain": [
              "<IPython.core.display.HTML object>"
            ]
          },
          "metadata": {
            "tags": []
          }
        },
        {
          "output_type": "display_data",
          "data": {
            "text/html": [
              "Find internal logs for this run at: <code>/content/wandb/run-20210725_061218-2xnn7cq4/logs/debug-internal.log</code>"
            ],
            "text/plain": [
              "<IPython.core.display.HTML object>"
            ]
          },
          "metadata": {
            "tags": []
          }
        },
        {
          "output_type": "display_data",
          "data": {
            "text/html": [
              "Synced 5 W&B file(s), 0 media file(s), 0 artifact file(s) and 0 other file(s)"
            ],
            "text/plain": [
              "<IPython.core.display.HTML object>"
            ]
          },
          "metadata": {
            "tags": []
          }
        },
        {
          "output_type": "display_data",
          "data": {
            "text/html": [
              "\n",
              "                    <br/>Synced <strong style=\"color:#cdcd00\">visionary-sweep-1</strong>: <a href=\"https://wandb.ai/jeongmin/uncategorized/runs/2xnn7cq4\" target=\"_blank\">https://wandb.ai/jeongmin/uncategorized/runs/2xnn7cq4</a><br/>\n",
              "                "
            ],
            "text/plain": [
              "<IPython.core.display.HTML object>"
            ]
          },
          "metadata": {
            "tags": []
          }
        },
        {
          "output_type": "display_data",
          "data": {
            "text/html": [
              "...Successfully finished last run (ID:2xnn7cq4). Initializing new run:<br/><br/>"
            ],
            "text/plain": [
              "<IPython.core.display.HTML object>"
            ]
          },
          "metadata": {
            "tags": []
          }
        },
        {
          "output_type": "display_data",
          "data": {
            "text/html": [
              "\n",
              "                Tracking run with wandb version 0.11.0<br/>\n",
              "                Syncing run <strong style=\"color:#cdcd00\">visionary-sweep-1</strong> to <a href=\"https://wandb.ai\" target=\"_blank\">Weights & Biases</a> <a href=\"https://docs.wandb.com/integrations/jupyter.html\" target=\"_blank\">(Documentation)</a>.<br/>\n",
              "                Project page: <a href=\"https://wandb.ai/jeongmin/uncategorized\" target=\"_blank\">https://wandb.ai/jeongmin/uncategorized</a><br/>\n",
              "                Sweep page: <a href=\"https://wandb.ai/jeongmin/uncategorized/sweeps/ndselms6\" target=\"_blank\">https://wandb.ai/jeongmin/uncategorized/sweeps/ndselms6</a><br/>\n",
              "Run page: <a href=\"https://wandb.ai/jeongmin/uncategorized/runs/2xnn7cq4\" target=\"_blank\">https://wandb.ai/jeongmin/uncategorized/runs/2xnn7cq4</a><br/>\n",
              "                Run data is saved locally in <code>/content/wandb/run-20210725_061220-2xnn7cq4</code><br/><br/>\n",
              "            "
            ],
            "text/plain": [
              "<IPython.core.display.HTML object>"
            ]
          },
          "metadata": {
            "tags": []
          }
        },
        {
          "output_type": "stream",
          "text": [
            "/usr/local/lib/python3.7/dist-packages/tensorflow/python/keras/utils/generic_utils.py:497: CustomMaskWarning: Custom mask layers require a config and must override get_config. When loading, the custom mask layer must be passed to the custom_objects argument.\n",
            "  category=CustomMaskWarning)\n"
          ],
          "name": "stderr"
        },
        {
          "output_type": "stream",
          "text": [
            "Epoch 1/25\n",
            " 6/40 [===>..........................] - ETA: 25s - loss: 5.6008 - accuracy: 0.0120WARNING:tensorflow:Callback method `on_train_batch_end` is slow compared to the batch time (batch time: 0.2047s vs `on_train_batch_end` time: 0.4117s). Check your callbacks.\n",
            "40/40 [==============================] - 52s 778ms/step - loss: 4.8455 - accuracy: 0.0187 - val_loss: 16608350208.0000 - val_accuracy: 0.0109\n",
            "\n",
            "Epoch 00001: val_accuracy improved from -inf to 0.01090, saving model to 0.01-best.hdf5\n",
            "Epoch 2/25\n",
            "40/40 [==============================] - 26s 652ms/step - loss: 4.3941 - accuracy: 0.0338 - val_loss: 1681099.0000 - val_accuracy: 0.0087\n",
            "\n",
            "Epoch 00002: val_accuracy did not improve from 0.01090\n",
            "Epoch 3/25\n",
            "40/40 [==============================] - 26s 651ms/step - loss: 4.2167 - accuracy: 0.0477 - val_loss: 12450.8779 - val_accuracy: 0.0102\n",
            "\n",
            "Epoch 00003: val_accuracy did not improve from 0.01090\n",
            "Epoch 4/25\n",
            "40/40 [==============================] - 26s 654ms/step - loss: 4.2637 - accuracy: 0.0501 - val_loss: 1322.0063 - val_accuracy: 0.0105\n",
            "\n",
            "Epoch 00004: val_accuracy did not improve from 0.01090\n",
            "Epoch 5/25\n",
            "40/40 [==============================] - 26s 651ms/step - loss: 4.0455 - accuracy: 0.0667 - val_loss: 35.1871 - val_accuracy: 0.0123\n",
            "\n",
            "Epoch 00005: val_accuracy improved from 0.01090 to 0.01230, saving model to 0.01-best.hdf5\n",
            "Epoch 6/25\n",
            "40/40 [==============================] - 26s 653ms/step - loss: 4.0208 - accuracy: 0.0721 - val_loss: 5.7326 - val_accuracy: 0.0177\n",
            "\n",
            "Epoch 00006: val_accuracy improved from 0.01230 to 0.01770, saving model to 0.01-best.hdf5\n",
            "Epoch 7/25\n",
            "40/40 [==============================] - 26s 652ms/step - loss: 3.9246 - accuracy: 0.0835 - val_loss: 5.9860 - val_accuracy: 0.0319\n",
            "\n",
            "Epoch 00007: val_accuracy improved from 0.01770 to 0.03190, saving model to 0.01-best.hdf5\n",
            "Epoch 8/25\n",
            "40/40 [==============================] - 26s 652ms/step - loss: 3.8636 - accuracy: 0.0916 - val_loss: 4.7124 - val_accuracy: 0.0511\n",
            "\n",
            "Epoch 00008: val_accuracy improved from 0.03190 to 0.05110, saving model to 0.01-best.hdf5\n",
            "Epoch 9/25\n",
            "40/40 [==============================] - 26s 653ms/step - loss: 3.7918 - accuracy: 0.1004 - val_loss: 8.2924 - val_accuracy: 0.0486\n",
            "\n",
            "Epoch 00009: val_accuracy did not improve from 0.05110\n",
            "Epoch 10/25\n",
            "40/40 [==============================] - 26s 651ms/step - loss: 3.8722 - accuracy: 0.0950 - val_loss: 171.4433 - val_accuracy: 0.0119\n",
            "\n",
            "Epoch 00010: val_accuracy did not improve from 0.05110\n",
            "Epoch 11/25\n",
            "40/40 [==============================] - 26s 651ms/step - loss: 3.7450 - accuracy: 0.1119 - val_loss: 6.6641 - val_accuracy: 0.0510\n",
            "\n",
            "Epoch 00011: val_accuracy did not improve from 0.05110\n",
            "Epoch 12/25\n",
            "40/40 [==============================] - 26s 653ms/step - loss: 3.6896 - accuracy: 0.1217 - val_loss: 4.6056 - val_accuracy: 0.0807\n",
            "\n",
            "Epoch 00012: val_accuracy improved from 0.05110 to 0.08070, saving model to 0.01-best.hdf5\n",
            "Epoch 13/25\n",
            "40/40 [==============================] - 26s 651ms/step - loss: 3.6002 - accuracy: 0.1377 - val_loss: 4.2566 - val_accuracy: 0.0695\n",
            "\n",
            "Epoch 00013: val_accuracy did not improve from 0.08070\n",
            "Epoch 14/25\n",
            "40/40 [==============================] - 26s 655ms/step - loss: 3.5247 - accuracy: 0.1513 - val_loss: 4.1196 - val_accuracy: 0.0884\n",
            "\n",
            "Epoch 00014: val_accuracy improved from 0.08070 to 0.08840, saving model to 0.01-best.hdf5\n",
            "Epoch 15/25\n",
            "40/40 [==============================] - 26s 651ms/step - loss: 3.4642 - accuracy: 0.1629 - val_loss: 4.4389 - val_accuracy: 0.0785\n",
            "\n",
            "Epoch 00015: val_accuracy did not improve from 0.08840\n",
            "Epoch 16/25\n",
            "40/40 [==============================] - 26s 650ms/step - loss: 3.4060 - accuracy: 0.1737 - val_loss: 4.4009 - val_accuracy: 0.0715\n",
            "\n",
            "Epoch 00016: val_accuracy did not improve from 0.08840\n",
            "Epoch 17/25\n",
            "40/40 [==============================] - 26s 653ms/step - loss: 3.3680 - accuracy: 0.1801 - val_loss: 3.9208 - val_accuracy: 0.1282\n",
            "\n",
            "Epoch 00017: val_accuracy improved from 0.08840 to 0.12820, saving model to 0.01-best.hdf5\n",
            "Epoch 18/25\n",
            "40/40 [==============================] - 26s 653ms/step - loss: 3.2703 - accuracy: 0.1969 - val_loss: 3.9520 - val_accuracy: 0.1260\n",
            "\n",
            "Epoch 00018: val_accuracy did not improve from 0.12820\n",
            "Epoch 19/25\n",
            "40/40 [==============================] - 26s 651ms/step - loss: 3.1993 - accuracy: 0.2126 - val_loss: 3.8129 - val_accuracy: 0.1457\n",
            "\n",
            "Epoch 00019: val_accuracy improved from 0.12820 to 0.14570, saving model to 0.01-best.hdf5\n",
            "Epoch 20/25\n",
            "40/40 [==============================] - 26s 652ms/step - loss: 3.1452 - accuracy: 0.2219 - val_loss: 4.0184 - val_accuracy: 0.1421\n",
            "\n",
            "Epoch 00020: val_accuracy did not improve from 0.14570\n",
            "Epoch 21/25\n",
            "40/40 [==============================] - 26s 650ms/step - loss: 3.0894 - accuracy: 0.2313 - val_loss: 3.7274 - val_accuracy: 0.1682\n",
            "\n",
            "Epoch 00021: val_accuracy improved from 0.14570 to 0.16820, saving model to 0.01-best.hdf5\n",
            "Epoch 22/25\n",
            "40/40 [==============================] - 26s 652ms/step - loss: 3.0648 - accuracy: 0.2385 - val_loss: 3.8394 - val_accuracy: 0.1538\n",
            "\n",
            "Epoch 00022: val_accuracy did not improve from 0.16820\n",
            "Epoch 23/25\n",
            "40/40 [==============================] - 26s 653ms/step - loss: 2.9802 - accuracy: 0.2522 - val_loss: 3.5237 - val_accuracy: 0.1818\n",
            "\n",
            "Epoch 00023: val_accuracy improved from 0.16820 to 0.18180, saving model to 0.01-best.hdf5\n",
            "Epoch 24/25\n",
            "40/40 [==============================] - 26s 653ms/step - loss: 2.9257 - accuracy: 0.2652 - val_loss: 3.6908 - val_accuracy: 0.1680\n",
            "\n",
            "Epoch 00024: val_accuracy did not improve from 0.18180\n",
            "Epoch 25/25\n",
            "40/40 [==============================] - 26s 654ms/step - loss: 2.8693 - accuracy: 0.2759 - val_loss: 3.5202 - val_accuracy: 0.1912\n",
            "\n",
            "Epoch 00025: val_accuracy improved from 0.18180 to 0.19120, saving model to 0.01-best.hdf5\n",
            "10/10 [==============================] - 2s 190ms/step - loss: 3.5787 - accuracy: 0.1812\n"
          ],
          "name": "stdout"
        },
        {
          "output_type": "display_data",
          "data": {
            "text/html": [
              "<br/>Waiting for W&B process to finish, PID 175<br/>Program ended successfully."
            ],
            "text/plain": [
              "<IPython.core.display.HTML object>"
            ]
          },
          "metadata": {
            "tags": []
          }
        },
        {
          "output_type": "display_data",
          "data": {
            "application/vnd.jupyter.widget-view+json": {
              "model_id": "b12cb250d3114cb0acc5b47f5dc8e0e2",
              "version_minor": 0,
              "version_major": 2
            },
            "text/plain": [
              "VBox(children=(Label(value=' 0.44MB of 0.44MB uploaded (0.00MB deduped)\\r'), FloatProgress(value=1.0, max=1.0)…"
            ]
          },
          "metadata": {
            "tags": []
          }
        },
        {
          "output_type": "display_data",
          "data": {
            "text/html": [
              "Find user logs for this run at: <code>/content/wandb/run-20210725_061220-2xnn7cq4/logs/debug.log</code>"
            ],
            "text/plain": [
              "<IPython.core.display.HTML object>"
            ]
          },
          "metadata": {
            "tags": []
          }
        },
        {
          "output_type": "display_data",
          "data": {
            "text/html": [
              "Find internal logs for this run at: <code>/content/wandb/run-20210725_061220-2xnn7cq4/logs/debug-internal.log</code>"
            ],
            "text/plain": [
              "<IPython.core.display.HTML object>"
            ]
          },
          "metadata": {
            "tags": []
          }
        },
        {
          "output_type": "display_data",
          "data": {
            "text/html": [
              "<h3>Run summary:</h3><br/><style>\n",
              "    table.wandb td:nth-child(1) { padding: 0 10px; text-align: right }\n",
              "    </style><table class=\"wandb\">\n",
              "<tr><td>epoch</td><td>24</td></tr><tr><td>loss</td><td>2.86931</td></tr><tr><td>accuracy</td><td>0.27593</td></tr><tr><td>val_loss</td><td>3.52017</td></tr><tr><td>val_accuracy</td><td>0.1912</td></tr><tr><td>_runtime</td><td>902</td></tr><tr><td>_timestamp</td><td>1627194445</td></tr><tr><td>_step</td><td>24</td></tr><tr><td>best_val_loss</td><td>3.52017</td></tr><tr><td>best_epoch</td><td>24</td></tr></table>"
            ],
            "text/plain": [
              "<IPython.core.display.HTML object>"
            ]
          },
          "metadata": {
            "tags": []
          }
        },
        {
          "output_type": "display_data",
          "data": {
            "text/html": [
              "<h3>Run history:</h3><br/><style>\n",
              "    table.wandb td:nth-child(1) { padding: 0 10px; text-align: right }\n",
              "    </style><table class=\"wandb\">\n",
              "<tr><td>epoch</td><td>▁▁▂▂▂▂▃▃▃▄▄▄▅▅▅▅▆▆▆▇▇▇▇██</td></tr><tr><td>loss</td><td>█▆▆▆▅▅▅▅▄▅▄▄▄▃▃▃▃▂▂▂▂▂▁▁▁</td></tr><tr><td>accuracy</td><td>▁▁▂▂▂▂▃▃▃▃▄▄▄▅▅▅▅▆▆▇▇▇▇██</td></tr><tr><td>val_loss</td><td>█▁▁▁▁▁▁▁▁▁▁▁▁▁▁▁▁▁▁▁▁▁▁▁▁</td></tr><tr><td>val_accuracy</td><td>▁▁▁▁▁▁▂▃▃▁▃▄▃▄▄▃▆▅▆▆▇▇█▇█</td></tr><tr><td>_runtime</td><td>▁▁▂▂▂▂▃▃▃▃▄▄▄▅▅▅▆▆▆▇▇▇▇██</td></tr><tr><td>_timestamp</td><td>▁▁▂▂▂▂▃▃▃▃▄▄▄▅▅▅▆▆▆▇▇▇▇██</td></tr><tr><td>_step</td><td>▁▁▂▂▂▂▃▃▃▄▄▄▅▅▅▅▆▆▆▇▇▇▇██</td></tr></table><br/>"
            ],
            "text/plain": [
              "<IPython.core.display.HTML object>"
            ]
          },
          "metadata": {
            "tags": []
          }
        },
        {
          "output_type": "display_data",
          "data": {
            "text/html": [
              "Synced 5 W&B file(s), 1 media file(s), 0 artifact file(s) and 10 other file(s)"
            ],
            "text/plain": [
              "<IPython.core.display.HTML object>"
            ]
          },
          "metadata": {
            "tags": []
          }
        },
        {
          "output_type": "display_data",
          "data": {
            "text/html": [
              "\n",
              "                    <br/>Synced <strong style=\"color:#cdcd00\">visionary-sweep-1</strong>: <a href=\"https://wandb.ai/jeongmin/uncategorized/runs/2xnn7cq4\" target=\"_blank\">https://wandb.ai/jeongmin/uncategorized/runs/2xnn7cq4</a><br/>\n",
              "                "
            ],
            "text/plain": [
              "<IPython.core.display.HTML object>"
            ]
          },
          "metadata": {
            "tags": []
          }
        },
        {
          "output_type": "stream",
          "text": [
            "\u001b[34m\u001b[1mwandb\u001b[0m: Agent Starting Run: jw5to9s1 with config:\n",
            "\u001b[34m\u001b[1mwandb\u001b[0m: \tbatch_size: 1024\n",
            "\u001b[34m\u001b[1mwandb\u001b[0m: \tepochs: 25\n",
            "\u001b[34m\u001b[1mwandb\u001b[0m: \tlr: 0.001\n",
            "\u001b[34m\u001b[1mwandb\u001b[0m: \u001b[33mWARNING\u001b[0m Ignored wandb.init() arg project when running a sweep\n"
          ],
          "name": "stderr"
        },
        {
          "output_type": "display_data",
          "data": {
            "text/html": [
              "\n",
              "                Tracking run with wandb version 0.11.0<br/>\n",
              "                Syncing run <strong style=\"color:#cdcd00\">fiery-sweep-2</strong> to <a href=\"https://wandb.ai\" target=\"_blank\">Weights & Biases</a> <a href=\"https://docs.wandb.com/integrations/jupyter.html\" target=\"_blank\">(Documentation)</a>.<br/>\n",
              "                Project page: <a href=\"https://wandb.ai/jeongmin/uncategorized\" target=\"_blank\">https://wandb.ai/jeongmin/uncategorized</a><br/>\n",
              "                Sweep page: <a href=\"https://wandb.ai/jeongmin/uncategorized/sweeps/ndselms6\" target=\"_blank\">https://wandb.ai/jeongmin/uncategorized/sweeps/ndselms6</a><br/>\n",
              "Run page: <a href=\"https://wandb.ai/jeongmin/uncategorized/runs/jw5to9s1\" target=\"_blank\">https://wandb.ai/jeongmin/uncategorized/runs/jw5to9s1</a><br/>\n",
              "                Run data is saved locally in <code>/content/wandb/run-20210725_062734-jw5to9s1</code><br/><br/>\n",
              "            "
            ],
            "text/plain": [
              "<IPython.core.display.HTML object>"
            ]
          },
          "metadata": {
            "tags": []
          }
        },
        {
          "output_type": "stream",
          "text": [
            "Epoch 1/25\n",
            " 6/40 [===>..........................] - ETA: 26s - loss: 4.6695 - accuracy: 0.0249WARNING:tensorflow:Callback method `on_train_batch_end` is slow compared to the batch time (batch time: 0.2027s vs `on_train_batch_end` time: 0.5088s). Check your callbacks.\n",
            "40/40 [==============================] - 31s 701ms/step - loss: 4.0192 - accuracy: 0.0954 - val_loss: 34.9093 - val_accuracy: 0.0141\n",
            "\n",
            "Epoch 00001: val_accuracy improved from -inf to 0.01410, saving model to 0.001-best.hdf5\n",
            "Epoch 2/25\n",
            "40/40 [==============================] - 27s 670ms/step - loss: 3.4058 - accuracy: 0.1826 - val_loss: 4.9852 - val_accuracy: 0.0191\n",
            "\n",
            "Epoch 00002: val_accuracy improved from 0.01410 to 0.01910, saving model to 0.001-best.hdf5\n",
            "Epoch 3/25\n",
            "40/40 [==============================] - 26s 653ms/step - loss: 3.0580 - accuracy: 0.2429 - val_loss: 6.2793 - val_accuracy: 0.0269\n",
            "\n",
            "Epoch 00003: val_accuracy improved from 0.01910 to 0.02690, saving model to 0.001-best.hdf5\n",
            "Epoch 4/25\n",
            "40/40 [==============================] - 26s 652ms/step - loss: 2.7631 - accuracy: 0.2968 - val_loss: 6.1049 - val_accuracy: 0.0236\n",
            "\n",
            "Epoch 00004: val_accuracy did not improve from 0.02690\n",
            "Epoch 5/25\n",
            "40/40 [==============================] - 26s 652ms/step - loss: 2.4479 - accuracy: 0.3608 - val_loss: 6.3743 - val_accuracy: 0.0241\n",
            "\n",
            "Epoch 00005: val_accuracy did not improve from 0.02690\n",
            "Epoch 6/25\n",
            "40/40 [==============================] - 26s 651ms/step - loss: 2.2041 - accuracy: 0.4127 - val_loss: 5.7154 - val_accuracy: 0.0523\n",
            "\n",
            "Epoch 00006: val_accuracy improved from 0.02690 to 0.05230, saving model to 0.001-best.hdf5\n",
            "Epoch 7/25\n",
            "40/40 [==============================] - 26s 654ms/step - loss: 1.8647 - accuracy: 0.4873 - val_loss: 4.7202 - val_accuracy: 0.0931\n",
            "\n",
            "Epoch 00007: val_accuracy improved from 0.05230 to 0.09310, saving model to 0.001-best.hdf5\n",
            "Epoch 8/25\n",
            "40/40 [==============================] - 26s 653ms/step - loss: 1.6515 - accuracy: 0.5436 - val_loss: 3.8153 - val_accuracy: 0.1632\n",
            "\n",
            "Epoch 00008: val_accuracy improved from 0.09310 to 0.16320, saving model to 0.001-best.hdf5\n",
            "Epoch 9/25\n",
            "40/40 [==============================] - 26s 653ms/step - loss: 1.4405 - accuracy: 0.5943 - val_loss: 3.6637 - val_accuracy: 0.2645\n",
            "\n",
            "Epoch 00009: val_accuracy improved from 0.16320 to 0.26450, saving model to 0.001-best.hdf5\n",
            "Epoch 10/25\n",
            "40/40 [==============================] - 26s 654ms/step - loss: 1.4786 - accuracy: 0.5824 - val_loss: 3.4168 - val_accuracy: 0.2512\n",
            "\n",
            "Epoch 00010: val_accuracy did not improve from 0.26450\n",
            "Epoch 11/25\n",
            "40/40 [==============================] - 26s 653ms/step - loss: 1.1116 - accuracy: 0.6783 - val_loss: 2.9263 - val_accuracy: 0.3272\n",
            "\n",
            "Epoch 00011: val_accuracy improved from 0.26450 to 0.32720, saving model to 0.001-best.hdf5\n",
            "Epoch 12/25\n",
            "40/40 [==============================] - 26s 654ms/step - loss: 0.8769 - accuracy: 0.7404 - val_loss: 3.3221 - val_accuracy: 0.3070\n",
            "\n",
            "Epoch 00012: val_accuracy did not improve from 0.32720\n",
            "Epoch 13/25\n",
            "40/40 [==============================] - 26s 653ms/step - loss: 0.7759 - accuracy: 0.7662 - val_loss: 3.4315 - val_accuracy: 0.3243\n",
            "\n",
            "Epoch 00013: val_accuracy did not improve from 0.32720\n",
            "Epoch 14/25\n",
            "40/40 [==============================] - 26s 652ms/step - loss: 0.6056 - accuracy: 0.8159 - val_loss: 3.5217 - val_accuracy: 0.3433\n",
            "\n",
            "Epoch 00014: val_accuracy improved from 0.32720 to 0.34330, saving model to 0.001-best.hdf5\n",
            "Epoch 15/25\n",
            "40/40 [==============================] - 26s 651ms/step - loss: 0.4630 - accuracy: 0.8603 - val_loss: 3.2163 - val_accuracy: 0.3870\n",
            "\n",
            "Epoch 00015: val_accuracy improved from 0.34330 to 0.38700, saving model to 0.001-best.hdf5\n",
            "Epoch 16/25\n",
            "40/40 [==============================] - 26s 653ms/step - loss: 0.4016 - accuracy: 0.8788 - val_loss: 3.0179 - val_accuracy: 0.4041\n",
            "\n",
            "Epoch 00016: val_accuracy improved from 0.38700 to 0.40410, saving model to 0.001-best.hdf5\n",
            "Epoch 17/25\n",
            "40/40 [==============================] - 26s 653ms/step - loss: 0.2430 - accuracy: 0.9288 - val_loss: 3.2941 - val_accuracy: 0.3915\n",
            "\n",
            "Epoch 00017: val_accuracy did not improve from 0.40410\n",
            "Epoch 18/25\n",
            "40/40 [==============================] - 26s 653ms/step - loss: 0.1361 - accuracy: 0.9627 - val_loss: 3.0633 - val_accuracy: 0.4423\n",
            "\n",
            "Epoch 00018: val_accuracy improved from 0.40410 to 0.44230, saving model to 0.001-best.hdf5\n",
            "Epoch 19/25\n",
            "40/40 [==============================] - 26s 652ms/step - loss: 0.0888 - accuracy: 0.9777 - val_loss: 3.1448 - val_accuracy: 0.4402\n",
            "\n",
            "Epoch 00019: val_accuracy did not improve from 0.44230\n",
            "Epoch 20/25\n",
            "40/40 [==============================] - 26s 655ms/step - loss: 0.0618 - accuracy: 0.9854 - val_loss: 3.0211 - val_accuracy: 0.4619\n",
            "\n",
            "Epoch 00020: val_accuracy improved from 0.44230 to 0.46190, saving model to 0.001-best.hdf5\n",
            "Epoch 21/25\n",
            "40/40 [==============================] - 26s 653ms/step - loss: 0.0383 - accuracy: 0.9916 - val_loss: 3.0447 - val_accuracy: 0.4576\n",
            "\n",
            "Epoch 00021: val_accuracy did not improve from 0.46190\n",
            "Epoch 22/25\n",
            "40/40 [==============================] - 26s 654ms/step - loss: 0.0375 - accuracy: 0.9921 - val_loss: 3.0075 - val_accuracy: 0.4649\n",
            "\n",
            "Epoch 00022: val_accuracy improved from 0.46190 to 0.46490, saving model to 0.001-best.hdf5\n",
            "Epoch 23/25\n",
            "40/40 [==============================] - 26s 654ms/step - loss: 0.0161 - accuracy: 0.9974 - val_loss: 2.9342 - val_accuracy: 0.4716\n",
            "\n",
            "Epoch 00023: val_accuracy improved from 0.46490 to 0.47160, saving model to 0.001-best.hdf5\n",
            "Epoch 24/25\n",
            "40/40 [==============================] - 26s 652ms/step - loss: 0.0070 - accuracy: 0.9990 - val_loss: 2.8580 - val_accuracy: 0.4891\n",
            "\n",
            "Epoch 00024: val_accuracy improved from 0.47160 to 0.48910, saving model to 0.001-best.hdf5\n",
            "Epoch 25/25\n",
            "40/40 [==============================] - 26s 655ms/step - loss: 0.0035 - accuracy: 0.9994 - val_loss: 2.8271 - val_accuracy: 0.4901\n",
            "\n",
            "Epoch 00025: val_accuracy improved from 0.48910 to 0.49010, saving model to 0.001-best.hdf5\n",
            "10/10 [==============================] - 2s 191ms/step - loss: 2.8869 - accuracy: 0.4861\n"
          ],
          "name": "stdout"
        },
        {
          "output_type": "display_data",
          "data": {
            "text/html": [
              "<br/>Waiting for W&B process to finish, PID 385<br/>Program ended successfully."
            ],
            "text/plain": [
              "<IPython.core.display.HTML object>"
            ]
          },
          "metadata": {
            "tags": []
          }
        },
        {
          "output_type": "display_data",
          "data": {
            "application/vnd.jupyter.widget-view+json": {
              "model_id": "bdfb58f7d4dc4833ae4297a9b7c00257",
              "version_minor": 0,
              "version_major": 2
            },
            "text/plain": [
              "VBox(children=(Label(value=' 2.50MB of 2.50MB uploaded (0.00MB deduped)\\r'), FloatProgress(value=1.0, max=1.0)…"
            ]
          },
          "metadata": {
            "tags": []
          }
        },
        {
          "output_type": "display_data",
          "data": {
            "text/html": [
              "Find user logs for this run at: <code>/content/wandb/run-20210725_062734-jw5to9s1/logs/debug.log</code>"
            ],
            "text/plain": [
              "<IPython.core.display.HTML object>"
            ]
          },
          "metadata": {
            "tags": []
          }
        },
        {
          "output_type": "display_data",
          "data": {
            "text/html": [
              "Find internal logs for this run at: <code>/content/wandb/run-20210725_062734-jw5to9s1/logs/debug-internal.log</code>"
            ],
            "text/plain": [
              "<IPython.core.display.HTML object>"
            ]
          },
          "metadata": {
            "tags": []
          }
        },
        {
          "output_type": "display_data",
          "data": {
            "text/html": [
              "<h3>Run summary:</h3><br/><style>\n",
              "    table.wandb td:nth-child(1) { padding: 0 10px; text-align: right }\n",
              "    </style><table class=\"wandb\">\n",
              "<tr><td>epoch</td><td>24</td></tr><tr><td>loss</td><td>0.00351</td></tr><tr><td>accuracy</td><td>0.99937</td></tr><tr><td>val_loss</td><td>2.82715</td></tr><tr><td>val_accuracy</td><td>0.4901</td></tr><tr><td>_runtime</td><td>825</td></tr><tr><td>_timestamp</td><td>1627195279</td></tr><tr><td>_step</td><td>24</td></tr><tr><td>best_val_loss</td><td>2.82715</td></tr><tr><td>best_epoch</td><td>24</td></tr></table>"
            ],
            "text/plain": [
              "<IPython.core.display.HTML object>"
            ]
          },
          "metadata": {
            "tags": []
          }
        },
        {
          "output_type": "display_data",
          "data": {
            "text/html": [
              "<h3>Run history:</h3><br/><style>\n",
              "    table.wandb td:nth-child(1) { padding: 0 10px; text-align: right }\n",
              "    </style><table class=\"wandb\">\n",
              "<tr><td>epoch</td><td>▁▁▂▂▂▂▃▃▃▄▄▄▅▅▅▅▆▆▆▇▇▇▇██</td></tr><tr><td>loss</td><td>█▇▆▆▅▅▄▄▄▄▃▃▂▂▂▂▁▁▁▁▁▁▁▁▁</td></tr><tr><td>accuracy</td><td>▁▂▂▃▃▃▄▄▅▅▆▆▆▇▇▇▇████████</td></tr><tr><td>val_loss</td><td>█▁▂▂▂▂▁▁▁▁▁▁▁▁▁▁▁▁▁▁▁▁▁▁▁</td></tr><tr><td>val_accuracy</td><td>▁▁▁▁▁▂▂▃▅▄▆▅▆▆▆▇▇▇▇██████</td></tr><tr><td>_runtime</td><td>▁▁▁▂▂▂▃▃▃▄▄▄▄▅▅▅▆▆▆▇▇▇▇██</td></tr><tr><td>_timestamp</td><td>▁▁▁▂▂▂▃▃▃▄▄▄▄▅▅▅▆▆▆▇▇▇▇██</td></tr><tr><td>_step</td><td>▁▁▂▂▂▂▃▃▃▄▄▄▅▅▅▅▆▆▆▇▇▇▇██</td></tr></table><br/>"
            ],
            "text/plain": [
              "<IPython.core.display.HTML object>"
            ]
          },
          "metadata": {
            "tags": []
          }
        },
        {
          "output_type": "display_data",
          "data": {
            "text/html": [
              "Synced 5 W&B file(s), 1 media file(s), 0 artifact file(s) and 10 other file(s)"
            ],
            "text/plain": [
              "<IPython.core.display.HTML object>"
            ]
          },
          "metadata": {
            "tags": []
          }
        },
        {
          "output_type": "display_data",
          "data": {
            "text/html": [
              "\n",
              "                    <br/>Synced <strong style=\"color:#cdcd00\">fiery-sweep-2</strong>: <a href=\"https://wandb.ai/jeongmin/uncategorized/runs/jw5to9s1\" target=\"_blank\">https://wandb.ai/jeongmin/uncategorized/runs/jw5to9s1</a><br/>\n",
              "                "
            ],
            "text/plain": [
              "<IPython.core.display.HTML object>"
            ]
          },
          "metadata": {
            "tags": []
          }
        },
        {
          "output_type": "stream",
          "text": [
            "\u001b[34m\u001b[1mwandb\u001b[0m: Agent Starting Run: 8ukuh35r with config:\n",
            "\u001b[34m\u001b[1mwandb\u001b[0m: \tbatch_size: 1024\n",
            "\u001b[34m\u001b[1mwandb\u001b[0m: \tepochs: 25\n",
            "\u001b[34m\u001b[1mwandb\u001b[0m: \tlr: 0.0001\n",
            "\u001b[34m\u001b[1mwandb\u001b[0m: \u001b[33mWARNING\u001b[0m Ignored wandb.init() arg project when running a sweep\n"
          ],
          "name": "stderr"
        },
        {
          "output_type": "display_data",
          "data": {
            "text/html": [
              "\n",
              "                Tracking run with wandb version 0.11.0<br/>\n",
              "                Syncing run <strong style=\"color:#cdcd00\">solar-sweep-3</strong> to <a href=\"https://wandb.ai\" target=\"_blank\">Weights & Biases</a> <a href=\"https://docs.wandb.com/integrations/jupyter.html\" target=\"_blank\">(Documentation)</a>.<br/>\n",
              "                Project page: <a href=\"https://wandb.ai/jeongmin/uncategorized\" target=\"_blank\">https://wandb.ai/jeongmin/uncategorized</a><br/>\n",
              "                Sweep page: <a href=\"https://wandb.ai/jeongmin/uncategorized/sweeps/ndselms6\" target=\"_blank\">https://wandb.ai/jeongmin/uncategorized/sweeps/ndselms6</a><br/>\n",
              "Run page: <a href=\"https://wandb.ai/jeongmin/uncategorized/runs/8ukuh35r\" target=\"_blank\">https://wandb.ai/jeongmin/uncategorized/runs/8ukuh35r</a><br/>\n",
              "                Run data is saved locally in <code>/content/wandb/run-20210725_064128-8ukuh35r</code><br/><br/>\n",
              "            "
            ],
            "text/plain": [
              "<IPython.core.display.HTML object>"
            ]
          },
          "metadata": {
            "tags": []
          }
        },
        {
          "output_type": "stream",
          "text": [
            "Epoch 1/25\n",
            " 6/40 [===>..........................] - ETA: 26s - loss: 4.5839 - accuracy: 0.0197WARNING:tensorflow:Callback method `on_train_batch_end` is slow compared to the batch time (batch time: 0.2067s vs `on_train_batch_end` time: 0.5053s). Check your callbacks.\n",
            "40/40 [==============================] - 30s 686ms/step - loss: 4.2917 - accuracy: 0.0564 - val_loss: 4.6416 - val_accuracy: 0.0113\n",
            "\n",
            "Epoch 00001: val_accuracy improved from -inf to 0.01130, saving model to 0.0001-best.hdf5\n",
            "Epoch 2/25\n",
            "40/40 [==============================] - 26s 652ms/step - loss: 3.7888 - accuracy: 0.1355 - val_loss: 4.7502 - val_accuracy: 0.0113\n",
            "\n",
            "Epoch 00002: val_accuracy did not improve from 0.01130\n",
            "Epoch 3/25\n",
            "40/40 [==============================] - 26s 653ms/step - loss: 3.4011 - accuracy: 0.2041 - val_loss: 4.9693 - val_accuracy: 0.0110\n",
            "\n",
            "Epoch 00003: val_accuracy did not improve from 0.01130\n",
            "Epoch 4/25\n",
            "40/40 [==============================] - 26s 653ms/step - loss: 3.0169 - accuracy: 0.2815 - val_loss: 5.3525 - val_accuracy: 0.0141\n",
            "\n",
            "Epoch 00004: val_accuracy improved from 0.01130 to 0.01410, saving model to 0.0001-best.hdf5\n",
            "Epoch 5/25\n",
            "40/40 [==============================] - 26s 653ms/step - loss: 2.6648 - accuracy: 0.3610 - val_loss: 5.0918 - val_accuracy: 0.0124\n",
            "\n",
            "Epoch 00005: val_accuracy did not improve from 0.01410\n",
            "Epoch 6/25\n",
            "40/40 [==============================] - 26s 655ms/step - loss: 2.3149 - accuracy: 0.4401 - val_loss: 5.3200 - val_accuracy: 0.0179\n",
            "\n",
            "Epoch 00006: val_accuracy improved from 0.01410 to 0.01790, saving model to 0.0001-best.hdf5\n",
            "Epoch 7/25\n",
            "40/40 [==============================] - 26s 654ms/step - loss: 2.0850 - accuracy: 0.4898 - val_loss: 5.9597 - val_accuracy: 0.0291\n",
            "\n",
            "Epoch 00007: val_accuracy improved from 0.01790 to 0.02910, saving model to 0.0001-best.hdf5\n",
            "Epoch 8/25\n",
            "40/40 [==============================] - 26s 651ms/step - loss: 1.9153 - accuracy: 0.5209 - val_loss: 6.7583 - val_accuracy: 0.0315\n",
            "\n",
            "Epoch 00008: val_accuracy improved from 0.02910 to 0.03150, saving model to 0.0001-best.hdf5\n",
            "Epoch 9/25\n",
            "40/40 [==============================] - 26s 654ms/step - loss: 1.7313 - accuracy: 0.5609 - val_loss: 4.6868 - val_accuracy: 0.0710\n",
            "\n",
            "Epoch 00009: val_accuracy improved from 0.03150 to 0.07100, saving model to 0.0001-best.hdf5\n",
            "Epoch 10/25\n",
            "40/40 [==============================] - 26s 652ms/step - loss: 1.4624 - accuracy: 0.6306 - val_loss: 4.7991 - val_accuracy: 0.0924\n",
            "\n",
            "Epoch 00010: val_accuracy improved from 0.07100 to 0.09240, saving model to 0.0001-best.hdf5\n",
            "Epoch 11/25\n",
            "40/40 [==============================] - 26s 653ms/step - loss: 1.3077 - accuracy: 0.6650 - val_loss: 4.2611 - val_accuracy: 0.1341\n",
            "\n",
            "Epoch 00011: val_accuracy improved from 0.09240 to 0.13410, saving model to 0.0001-best.hdf5\n",
            "Epoch 12/25\n",
            "40/40 [==============================] - 26s 652ms/step - loss: 1.1600 - accuracy: 0.7016 - val_loss: 4.1008 - val_accuracy: 0.1654\n",
            "\n",
            "Epoch 00012: val_accuracy improved from 0.13410 to 0.16540, saving model to 0.0001-best.hdf5\n",
            "Epoch 13/25\n",
            "40/40 [==============================] - 26s 653ms/step - loss: 0.9829 - accuracy: 0.7474 - val_loss: 4.0787 - val_accuracy: 0.1851\n",
            "\n",
            "Epoch 00013: val_accuracy improved from 0.16540 to 0.18510, saving model to 0.0001-best.hdf5\n",
            "Epoch 14/25\n",
            "40/40 [==============================] - 26s 654ms/step - loss: 0.7433 - accuracy: 0.8201 - val_loss: 4.1006 - val_accuracy: 0.2031\n",
            "\n",
            "Epoch 00014: val_accuracy improved from 0.18510 to 0.20310, saving model to 0.0001-best.hdf5\n",
            "Epoch 15/25\n",
            "40/40 [==============================] - 26s 654ms/step - loss: 0.5871 - accuracy: 0.8617 - val_loss: 4.1999 - val_accuracy: 0.2021\n",
            "\n",
            "Epoch 00015: val_accuracy did not improve from 0.20310\n",
            "Epoch 16/25\n",
            "40/40 [==============================] - 26s 653ms/step - loss: 0.4307 - accuracy: 0.9047 - val_loss: 4.2470 - val_accuracy: 0.2137\n",
            "\n",
            "Epoch 00016: val_accuracy improved from 0.20310 to 0.21370, saving model to 0.0001-best.hdf5\n",
            "Epoch 17/25\n",
            "40/40 [==============================] - 26s 653ms/step - loss: 0.2960 - accuracy: 0.9421 - val_loss: 4.2997 - val_accuracy: 0.2094\n",
            "\n",
            "Epoch 00017: val_accuracy did not improve from 0.21370\n",
            "Epoch 18/25\n",
            "40/40 [==============================] - 26s 652ms/step - loss: 0.2295 - accuracy: 0.9571 - val_loss: 4.3021 - val_accuracy: 0.2104\n",
            "\n",
            "Epoch 00018: val_accuracy did not improve from 0.21370\n",
            "Epoch 19/25\n",
            "40/40 [==============================] - 26s 653ms/step - loss: 0.1534 - accuracy: 0.9775 - val_loss: 4.3013 - val_accuracy: 0.2185\n",
            "\n",
            "Epoch 00019: val_accuracy improved from 0.21370 to 0.21850, saving model to 0.0001-best.hdf5\n",
            "Epoch 20/25\n",
            "40/40 [==============================] - 26s 655ms/step - loss: 0.1330 - accuracy: 0.9809 - val_loss: 4.3978 - val_accuracy: 0.2221\n",
            "\n",
            "Epoch 00020: val_accuracy improved from 0.21850 to 0.22210, saving model to 0.0001-best.hdf5\n",
            "Epoch 21/25\n",
            "40/40 [==============================] - 26s 653ms/step - loss: 0.0920 - accuracy: 0.9889 - val_loss: 4.3812 - val_accuracy: 0.2246\n",
            "\n",
            "Epoch 00021: val_accuracy improved from 0.22210 to 0.22460, saving model to 0.0001-best.hdf5\n",
            "Epoch 22/25\n",
            "40/40 [==============================] - 26s 656ms/step - loss: 0.0743 - accuracy: 0.9926 - val_loss: 4.4131 - val_accuracy: 0.2290\n",
            "\n",
            "Epoch 00022: val_accuracy improved from 0.22460 to 0.22900, saving model to 0.0001-best.hdf5\n",
            "Epoch 23/25\n",
            "40/40 [==============================] - 26s 654ms/step - loss: 0.0549 - accuracy: 0.9948 - val_loss: 4.4630 - val_accuracy: 0.2233\n",
            "\n",
            "Epoch 00023: val_accuracy did not improve from 0.22900\n",
            "Epoch 24/25\n",
            "40/40 [==============================] - 26s 654ms/step - loss: 0.1166 - accuracy: 0.9805 - val_loss: 4.4664 - val_accuracy: 0.2207\n",
            "\n",
            "Epoch 00024: val_accuracy did not improve from 0.22900\n",
            "Epoch 25/25\n",
            "40/40 [==============================] - 26s 653ms/step - loss: 0.0757 - accuracy: 0.9890 - val_loss: 4.5560 - val_accuracy: 0.2163\n",
            "\n",
            "Epoch 00025: val_accuracy did not improve from 0.22900\n",
            "10/10 [==============================] - 2s 190ms/step - loss: 4.5749 - accuracy: 0.2105\n"
          ],
          "name": "stdout"
        },
        {
          "output_type": "display_data",
          "data": {
            "text/html": [
              "<br/>Waiting for W&B process to finish, PID 643<br/>Program ended successfully."
            ],
            "text/plain": [
              "<IPython.core.display.HTML object>"
            ]
          },
          "metadata": {
            "tags": []
          }
        },
        {
          "output_type": "display_data",
          "data": {
            "application/vnd.jupyter.widget-view+json": {
              "model_id": "09e43f4e9c7d4ad5b5c6857d5125ca29",
              "version_minor": 0,
              "version_major": 2
            },
            "text/plain": [
              "VBox(children=(Label(value=' 2.50MB of 2.50MB uploaded (0.00MB deduped)\\r'), FloatProgress(value=1.0, max=1.0)…"
            ]
          },
          "metadata": {
            "tags": []
          }
        },
        {
          "output_type": "display_data",
          "data": {
            "text/html": [
              "Find user logs for this run at: <code>/content/wandb/run-20210725_064128-8ukuh35r/logs/debug.log</code>"
            ],
            "text/plain": [
              "<IPython.core.display.HTML object>"
            ]
          },
          "metadata": {
            "tags": []
          }
        },
        {
          "output_type": "display_data",
          "data": {
            "text/html": [
              "Find internal logs for this run at: <code>/content/wandb/run-20210725_064128-8ukuh35r/logs/debug-internal.log</code>"
            ],
            "text/plain": [
              "<IPython.core.display.HTML object>"
            ]
          },
          "metadata": {
            "tags": []
          }
        },
        {
          "output_type": "display_data",
          "data": {
            "text/html": [
              "<h3>Run summary:</h3><br/><style>\n",
              "    table.wandb td:nth-child(1) { padding: 0 10px; text-align: right }\n",
              "    </style><table class=\"wandb\">\n",
              "<tr><td>epoch</td><td>24</td></tr><tr><td>loss</td><td>0.07572</td></tr><tr><td>accuracy</td><td>0.989</td></tr><tr><td>val_loss</td><td>4.55595</td></tr><tr><td>val_accuracy</td><td>0.2163</td></tr><tr><td>_runtime</td><td>793</td></tr><tr><td>_timestamp</td><td>1627196081</td></tr><tr><td>_step</td><td>24</td></tr><tr><td>best_val_loss</td><td>4.07871</td></tr><tr><td>best_epoch</td><td>12</td></tr></table>"
            ],
            "text/plain": [
              "<IPython.core.display.HTML object>"
            ]
          },
          "metadata": {
            "tags": []
          }
        },
        {
          "output_type": "display_data",
          "data": {
            "text/html": [
              "<h3>Run history:</h3><br/><style>\n",
              "    table.wandb td:nth-child(1) { padding: 0 10px; text-align: right }\n",
              "    </style><table class=\"wandb\">\n",
              "<tr><td>epoch</td><td>▁▁▂▂▂▂▃▃▃▄▄▄▅▅▅▅▆▆▆▇▇▇▇██</td></tr><tr><td>loss</td><td>█▇▇▆▅▅▄▄▄▃▃▃▃▂▂▂▁▁▁▁▁▁▁▁▁</td></tr><tr><td>accuracy</td><td>▁▂▂▃▃▄▄▄▅▅▆▆▆▇▇▇█████████</td></tr><tr><td>val_loss</td><td>▂▃▃▄▄▄▆█▃▃▁▁▁▁▁▁▂▂▂▂▂▂▂▂▂</td></tr><tr><td>val_accuracy</td><td>▁▁▁▁▁▁▂▂▃▄▅▆▇▇▇█▇▇███████</td></tr><tr><td>_runtime</td><td>▁▁▂▂▂▂▃▃▃▄▄▄▅▅▅▆▆▆▇▇▇▇███</td></tr><tr><td>_timestamp</td><td>▁▁▂▂▂▂▃▃▃▄▄▄▅▅▅▆▆▆▇▇▇▇███</td></tr><tr><td>_step</td><td>▁▁▂▂▂▂▃▃▃▄▄▄▅▅▅▅▆▆▆▇▇▇▇██</td></tr></table><br/>"
            ],
            "text/plain": [
              "<IPython.core.display.HTML object>"
            ]
          },
          "metadata": {
            "tags": []
          }
        },
        {
          "output_type": "display_data",
          "data": {
            "text/html": [
              "Synced 5 W&B file(s), 1 media file(s), 0 artifact file(s) and 10 other file(s)"
            ],
            "text/plain": [
              "<IPython.core.display.HTML object>"
            ]
          },
          "metadata": {
            "tags": []
          }
        },
        {
          "output_type": "display_data",
          "data": {
            "text/html": [
              "\n",
              "                    <br/>Synced <strong style=\"color:#cdcd00\">solar-sweep-3</strong>: <a href=\"https://wandb.ai/jeongmin/uncategorized/runs/8ukuh35r\" target=\"_blank\">https://wandb.ai/jeongmin/uncategorized/runs/8ukuh35r</a><br/>\n",
              "                "
            ],
            "text/plain": [
              "<IPython.core.display.HTML object>"
            ]
          },
          "metadata": {
            "tags": []
          }
        },
        {
          "output_type": "stream",
          "text": [
            "\u001b[34m\u001b[1mwandb\u001b[0m: Sweep Agent: Waiting for job.\n",
            "\u001b[34m\u001b[1mwandb\u001b[0m: Sweep Agent: Exiting.\n"
          ],
          "name": "stderr"
        }
      ]
    },
    {
      "cell_type": "markdown",
      "metadata": {
        "id": "e2XbUwJkGRJA"
      },
      "source": [
        "[Experiment](https://wandb.ai/jeongmin/uncategorized/sweeps/ef7doh12?workspace=user-jeongmin)"
      ]
    },
    {
      "cell_type": "code",
      "metadata": {
        "id": "a9aeTv9oAWLr"
      },
      "source": [
        "model = keras.models.load_model('0.001-best.hdf5')"
      ],
      "execution_count": 8,
      "outputs": []
    },
    {
      "cell_type": "code",
      "metadata": {
        "id": "8E5wsVZ1MptT",
        "colab": {
          "base_uri": "https://localhost:8080/"
        },
        "outputId": "a147f430-f38c-431b-ba21-e83891ae789c"
      },
      "source": [
        "import PIL.Image as pilimg\n",
        "from keras.preprocessing import image\n",
        "import numpy as np\n",
        "\n",
        "img = pilimg.open('airplane.jpeg')\n",
        "img = img.resize((32, 32))\n",
        "\n",
        "data = image.img_to_array(img)\n",
        "data = np.expand_dims(data, axis=0)\n",
        "\n",
        "def preprocess(data):\n",
        "\tdata = data.astype('float32')\n",
        "\tdata = data / 255.0\n",
        "\treturn data\n",
        "\n",
        "inputs = preprocess(data)\n",
        "\n",
        "print(inputs.shape)"
      ],
      "execution_count": 77,
      "outputs": [
        {
          "output_type": "stream",
          "text": [
            "(1, 32, 32, 3)\n"
          ],
          "name": "stdout"
        }
      ]
    },
    {
      "cell_type": "code",
      "metadata": {
        "id": "RRMJJk99OyX8"
      },
      "source": [
        "import tensorflow_datasets as tfds\n",
        "\n",
        "cifar_builder = tfds.builder(\"cifar100\")\n",
        "cifar_builder.download_and_prepare()\n",
        "labels = cifar_builder.info.features[\"label\"].names"
      ],
      "execution_count": 78,
      "outputs": []
    },
    {
      "cell_type": "code",
      "metadata": {
        "colab": {
          "base_uri": "https://localhost:8080/",
          "height": 35
        },
        "id": "ktuKUDHRiH6M",
        "outputId": "5126da30-6137-4d4c-c8e3-ff040a133f70"
      },
      "source": [
        "result = model.predict(inputs)\n",
        "labels[np.argmax(result)]"
      ],
      "execution_count": 79,
      "outputs": [
        {
          "output_type": "execute_result",
          "data": {
            "application/vnd.google.colaboratory.intrinsic+json": {
              "type": "string"
            },
            "text/plain": [
              "'dolphin'"
            ]
          },
          "metadata": {
            "tags": []
          },
          "execution_count": 79
        }
      ]
    },
    {
      "cell_type": "code",
      "metadata": {
        "colab": {
          "base_uri": "https://localhost:8080/"
        },
        "id": "erNDjKpxiUvU",
        "outputId": "55a30cbf-59ed-4c95-efdb-ed4e2f4fbeaf"
      },
      "source": [
        "np.max(result)"
      ],
      "execution_count": 80,
      "outputs": [
        {
          "output_type": "execute_result",
          "data": {
            "text/plain": [
              "0.8067352"
            ]
          },
          "metadata": {
            "tags": []
          },
          "execution_count": 80
        }
      ]
    },
    {
      "cell_type": "code",
      "metadata": {
        "id": "mqR0Un5ejTzA"
      },
      "source": [
        ""
      ],
      "execution_count": null,
      "outputs": []
    }
  ]
}