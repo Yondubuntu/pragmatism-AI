{
  "nbformat": 4,
  "nbformat_minor": 0,
  "metadata": {
    "colab": {
      "name": "VGG_cifar_test.ipynb",
      "provenance": [],
      "collapsed_sections": [],
      "authorship_tag": "ABX9TyO9FHqUV6VqIDCWMZEBbPyp",
      "include_colab_link": true
    },
    "kernelspec": {
      "name": "python3",
      "display_name": "Python 3"
    },
    "language_info": {
      "name": "python"
    },
    "accelerator": "GPU"
  },
  "cells": [
    {
      "cell_type": "markdown",
      "metadata": {
        "id": "view-in-github",
        "colab_type": "text"
      },
      "source": [
        "<a href=\"https://colab.research.google.com/github/silverstar0727/pragmatism-AI/blob/main/VGG_cifar_test.ipynb\" target=\"_parent\"><img src=\"https://colab.research.google.com/assets/colab-badge.svg\" alt=\"Open In Colab\"/></a>"
      ]
    },
    {
      "cell_type": "code",
      "metadata": {
        "id": "uMjxHdWjUE-0"
      },
      "source": [
        "import tensorflow as tf\n",
        "from sklearn.model_selection import train_test_split"
      ],
      "execution_count": null,
      "outputs": []
    },
    {
      "cell_type": "code",
      "metadata": {
        "colab": {
          "base_uri": "https://localhost:8080/"
        },
        "id": "pf9b1TbpULdD",
        "outputId": "6c8a6954-a0a8-4a23-f4d6-1acf37abeb6b"
      },
      "source": [
        "cifar10 = tf.keras.datasets.cifar10\n",
        "\n",
        "(x_train, y_train), (x_test, y_test) = cifar10.load_data()\n",
        "x_train, x_test = x_train / 255.0, x_test / 255.0\n",
        "\n",
        "x_train, x_val, y_train, y_val = train_test_split(x_train, y_train, test_size=0.2, random_state=3)\n",
        "\n",
        "print(\"x shape\")\n",
        "print(f\"train: {x_train.shape}, val: {x_val.shape}, test: {x_test.shape}\")\n",
        "print(\"y shape\")\n",
        "print(f\"train: {y_train.shape}, val: {y_val.shape}, test: {y_test.shape}\")\n",
        "\n",
        "\n",
        "trainloader = tf.data.Dataset.from_tensor_slices((x_train, y_train))\n",
        "trainloader = trainloader.shuffle(1024).batch(128).prefetch(tf.data.experimental.AUTOTUNE)\n",
        "valloader = tf.data.Dataset.from_tensor_slices((x_val, y_val))\n",
        "valloader = valloader.batch(128).prefetch(tf.data.experimental.AUTOTUNE)\n",
        "testloader = tf.data.Dataset.from_tensor_slices((x_test, y_test))\n",
        "testloader = testloader.batch(128).prefetch(tf.data.experimental.AUTOTUNE)"
      ],
      "execution_count": null,
      "outputs": [
        {
          "output_type": "stream",
          "text": [
            "x shape\n",
            "train: (40000, 32, 32, 3), val: (10000, 32, 32, 3), test: (10000, 32, 32, 3)\n",
            "y shape\n",
            "train: (40000, 1), val: (10000, 1), test: (10000, 1)\n"
          ],
          "name": "stdout"
        }
      ]
    },
    {
      "cell_type": "code",
      "metadata": {
        "id": "_Y8nH6pJULay"
      },
      "source": [
        "cfg = {\n",
        "    'VGG11': ['M', 128, 'M', 256, 256, 'M', 512, 512, 'M', 512, 512, 'M'],\n",
        "    'VGG13': [64, 'M', 128, 128, 'M', 256, 256, 'M', 512, 512, 'M', 512, 512, 'M'],\n",
        "    'VGG16': [64, 'M', 128, 128, 'M', 256, 256, 256, 'M', 512, 512, 512, 'M', 512, 512, 512, 'M'],\n",
        "    'VGG19': [64, 'M', 128, 128, 'M', 256, 256, 256, 256, 'M', 512, 512, 512, 512, 'M', 512, 512, 512, 512, 'M'],\n",
        "}"
      ],
      "execution_count": null,
      "outputs": []
    },
    {
      "cell_type": "code",
      "metadata": {
        "id": "7S7DbfqoULYw"
      },
      "source": [
        "class VGG(tf.keras.Model):\n",
        "    def __init__(self, model_code):\n",
        "        super(VGG, self).__init__()\n",
        "        self.ls = self._make_layers(model_code)\n",
        "        self.flatten = tf.keras.layers.Flatten()\n",
        "        self.linear = tf.keras.layers.Dense(128, activation='relu')\n",
        "        self.outputs = tf.keras.layers.Dense(10, activation='softmax')\n",
        "        \n",
        "    def call(self, x):\n",
        "        for layer in self.ls:\n",
        "            x = layer(x)\n",
        "        x = self.flatten(x)\n",
        "        x = self.linear(x)\n",
        "        x = self.outputs(x)\n",
        "        return x\n",
        "    \n",
        "    def _make_layers(self, model_code):\n",
        "        layers = [tf.keras.layers.Conv2D(input_shape=(32, 32,3),\n",
        "                                            filters=64,\n",
        "                                            kernel_size=3,\n",
        "                                            padding=\"same\", \n",
        "                                            activation=\"relu\")]\n",
        "        for x in cfg[model_code]:\n",
        "            if x != 'M':\n",
        "                layers.append(tf.keras.layers.Conv2D(filters=x, \n",
        "                                       kernel_size=3,\n",
        "                                       activation='relu', \n",
        "                                       padding='same'))\n",
        "            else:\n",
        "                layers.append(tf.keras.layers.MaxPooling2D(pool_size=2, strides=2))\n",
        "\n",
        "        return layers"
      ],
      "execution_count": null,
      "outputs": []
    },
    {
      "cell_type": "code",
      "metadata": {
        "colab": {
          "base_uri": "https://localhost:8080/"
        },
        "id": "dtZpEzENULWr",
        "outputId": "6653db4d-7acd-4824-814a-b8bc73faea71"
      },
      "source": [
        "net = VGG('VGG11')\n",
        "#net = Model()\n",
        "net.compile(optimizer='adam',\n",
        "            loss='sparse_categorical_crossentropy',\n",
        "            metrics=['accuracy'])\n",
        "\n",
        "result = net.fit(\n",
        "    trainloader, \n",
        "    epochs = 5,\n",
        "    validation_data=valloader)\n",
        "\n",
        "keras.backend.clear_session() "
      ],
      "execution_count": null,
      "outputs": [
        {
          "output_type": "stream",
          "text": [
            "Epoch 1/5\n",
            "313/313 [==============================] - 8s 24ms/step - loss: 1.9387 - accuracy: 0.2566 - val_loss: 1.5245 - val_accuracy: 0.4222\n",
            "Epoch 2/5\n",
            "313/313 [==============================] - 7s 24ms/step - loss: 1.3799 - accuracy: 0.4906 - val_loss: 1.2060 - val_accuracy: 0.5568\n",
            "Epoch 3/5\n",
            "313/313 [==============================] - 7s 24ms/step - loss: 1.1203 - accuracy: 0.5928 - val_loss: 1.0777 - val_accuracy: 0.6187\n",
            "Epoch 4/5\n",
            "313/313 [==============================] - 7s 24ms/step - loss: 0.9442 - accuracy: 0.6607 - val_loss: 1.0002 - val_accuracy: 0.6560\n",
            "Epoch 5/5\n",
            "313/313 [==============================] - 7s 24ms/step - loss: 0.8233 - accuracy: 0.7081 - val_loss: 0.8791 - val_accuracy: 0.7004\n"
          ],
          "name": "stdout"
        }
      ]
    },
    {
      "cell_type": "code",
      "metadata": {
        "id": "LlRRHE06f_57"
      },
      "source": [
        ""
      ],
      "execution_count": null,
      "outputs": []
    },
    {
      "cell_type": "code",
      "metadata": {
        "id": "hgsBATTHf_3a"
      },
      "source": [
        ""
      ],
      "execution_count": null,
      "outputs": []
    },
    {
      "cell_type": "code",
      "metadata": {
        "id": "aZcdIg6Bf_1K"
      },
      "source": [
        ""
      ],
      "execution_count": null,
      "outputs": []
    },
    {
      "cell_type": "code",
      "metadata": {
        "id": "5Ht1Bht3ULSV"
      },
      "source": [
        "from keras.models import Sequential\n",
        "from keras.layers import Dense, Conv2D, MaxPooling2D , Flatten, Dropout\n",
        "import numpy as np\n",
        "\n",
        "def Model():\n",
        "    model = Sequential()\n",
        "    model.add(Conv2D(input_shape=(32, 32,3), filters=64,kernel_size=3, padding=\"same\", activation=\"relu\"))\n",
        "    model.add(Conv2D(filters=64,kernel_size=3, padding=\"same\", activation=\"relu\"))\n",
        "    model.add(MaxPooling2D(pool_size=2, strides=2))\n",
        "    model.add(Conv2D(filters=128, kernel_size=3, padding=\"same\", activation=\"relu\"))\n",
        "    model.add(MaxPooling2D(pool_size=2,strides=2))\n",
        "    model.add(Conv2D(filters=256, kernel_size=3, padding=\"same\", activation=\"relu\"))\n",
        "    model.add(Conv2D(filters=256, kernel_size=3, padding=\"same\", activation=\"relu\"))\n",
        "    model.add(MaxPooling2D(pool_size=2,strides=2))\n",
        "    model.add(Conv2D(filters=512, kernel_size=3, padding=\"same\", activation=\"relu\"))\n",
        "    model.add(Conv2D(filters=512, kernel_size=3, padding=\"same\", activation=\"relu\"))\n",
        "    model.add(MaxPooling2D(pool_size=2, strides=2))\n",
        "    model.add(Conv2D(filters=512, kernel_size=3, padding=\"same\", activation=\"relu\"))\n",
        "    model.add(Conv2D(filters=512, kernel_size=3, padding=\"same\", activation=\"relu\"))\n",
        "    model.add(MaxPooling2D(pool_size=2, strides=2))\n",
        "    model.add(Flatten())\n",
        "    model.add(Dense(units=512,activation=\"relu\"))\n",
        "    model.add(Dense(units=10, activation=\"softmax\"))\n",
        "\n",
        "    return model"
      ],
      "execution_count": null,
      "outputs": []
    },
    {
      "cell_type": "code",
      "metadata": {
        "id": "GrxQNbS516Be"
      },
      "source": [
        ""
      ],
      "execution_count": null,
      "outputs": []
    }
  ]
}