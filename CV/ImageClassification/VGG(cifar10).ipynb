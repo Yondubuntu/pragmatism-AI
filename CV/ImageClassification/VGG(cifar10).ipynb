{
  "nbformat": 4,
  "nbformat_minor": 0,
  "metadata": {
    "colab": {
      "name": "VGG(cifar10).ipynb",
      "provenance": [],
      "collapsed_sections": [],
      "authorship_tag": "ABX9TyP90asdL+F5Lc53uc+Q5yTD",
      "include_colab_link": true
    },
    "kernelspec": {
      "name": "python3",
      "display_name": "Python 3"
    },
    "language_info": {
      "name": "python"
    },
    "accelerator": "GPU",
    "widgets": {
      "application/vnd.jupyter.widget-state+json": {
        "e9043a9d63af4e67a51e55a81b12a340": {
          "model_module": "@jupyter-widgets/controls",
          "model_name": "VBoxModel",
          "state": {
            "_view_name": "VBoxView",
            "_dom_classes": [],
            "_model_name": "VBoxModel",
            "_view_module": "@jupyter-widgets/controls",
            "_model_module_version": "1.5.0",
            "_view_count": null,
            "_view_module_version": "1.5.0",
            "box_style": "",
            "layout": "IPY_MODEL_e4c6528180ca44f1957d116cac46a453",
            "_model_module": "@jupyter-widgets/controls",
            "children": [
              "IPY_MODEL_41bb15549d204736ab2642d4cd9a5743",
              "IPY_MODEL_5fbfe24895844dbcaf6f14cf47daa967"
            ]
          }
        },
        "e4c6528180ca44f1957d116cac46a453": {
          "model_module": "@jupyter-widgets/base",
          "model_name": "LayoutModel",
          "state": {
            "_view_name": "LayoutView",
            "grid_template_rows": null,
            "right": null,
            "justify_content": null,
            "_view_module": "@jupyter-widgets/base",
            "overflow": null,
            "_model_module_version": "1.2.0",
            "_view_count": null,
            "flex_flow": null,
            "width": null,
            "min_width": null,
            "border": null,
            "align_items": null,
            "bottom": null,
            "_model_module": "@jupyter-widgets/base",
            "top": null,
            "grid_column": null,
            "overflow_y": null,
            "overflow_x": null,
            "grid_auto_flow": null,
            "grid_area": null,
            "grid_template_columns": null,
            "flex": null,
            "_model_name": "LayoutModel",
            "justify_items": null,
            "grid_row": null,
            "max_height": null,
            "align_content": null,
            "visibility": null,
            "align_self": null,
            "height": null,
            "min_height": null,
            "padding": null,
            "grid_auto_rows": null,
            "grid_gap": null,
            "max_width": null,
            "order": null,
            "_view_module_version": "1.2.0",
            "grid_template_areas": null,
            "object_position": null,
            "object_fit": null,
            "grid_auto_columns": null,
            "margin": null,
            "display": null,
            "left": null
          }
        },
        "41bb15549d204736ab2642d4cd9a5743": {
          "model_module": "@jupyter-widgets/controls",
          "model_name": "LabelModel",
          "state": {
            "_view_name": "LabelView",
            "style": "IPY_MODEL_8b5650c7234e4b31899081fbeb10c76e",
            "_dom_classes": [],
            "description": "",
            "_model_name": "LabelModel",
            "placeholder": "​",
            "_view_module": "@jupyter-widgets/controls",
            "_model_module_version": "1.5.0",
            "value": " 1.01MB of 1.01MB uploaded (0.00MB deduped)\r",
            "_view_count": null,
            "_view_module_version": "1.5.0",
            "description_tooltip": null,
            "_model_module": "@jupyter-widgets/controls",
            "layout": "IPY_MODEL_ad9c7f013184450191a3504b130d0263"
          }
        },
        "5fbfe24895844dbcaf6f14cf47daa967": {
          "model_module": "@jupyter-widgets/controls",
          "model_name": "FloatProgressModel",
          "state": {
            "_view_name": "ProgressView",
            "style": "IPY_MODEL_e56ee74d4afe4d79a7acc4e6d7b177de",
            "_dom_classes": [],
            "description": "",
            "_model_name": "FloatProgressModel",
            "bar_style": "",
            "max": 1,
            "_view_module": "@jupyter-widgets/controls",
            "_model_module_version": "1.5.0",
            "value": 1,
            "_view_count": null,
            "_view_module_version": "1.5.0",
            "orientation": "horizontal",
            "min": 0,
            "description_tooltip": null,
            "_model_module": "@jupyter-widgets/controls",
            "layout": "IPY_MODEL_6b1b41a98fc5486fbe323dfbace2f4bd"
          }
        },
        "8b5650c7234e4b31899081fbeb10c76e": {
          "model_module": "@jupyter-widgets/controls",
          "model_name": "DescriptionStyleModel",
          "state": {
            "_view_name": "StyleView",
            "_model_name": "DescriptionStyleModel",
            "description_width": "",
            "_view_module": "@jupyter-widgets/base",
            "_model_module_version": "1.5.0",
            "_view_count": null,
            "_view_module_version": "1.2.0",
            "_model_module": "@jupyter-widgets/controls"
          }
        },
        "ad9c7f013184450191a3504b130d0263": {
          "model_module": "@jupyter-widgets/base",
          "model_name": "LayoutModel",
          "state": {
            "_view_name": "LayoutView",
            "grid_template_rows": null,
            "right": null,
            "justify_content": null,
            "_view_module": "@jupyter-widgets/base",
            "overflow": null,
            "_model_module_version": "1.2.0",
            "_view_count": null,
            "flex_flow": null,
            "width": null,
            "min_width": null,
            "border": null,
            "align_items": null,
            "bottom": null,
            "_model_module": "@jupyter-widgets/base",
            "top": null,
            "grid_column": null,
            "overflow_y": null,
            "overflow_x": null,
            "grid_auto_flow": null,
            "grid_area": null,
            "grid_template_columns": null,
            "flex": null,
            "_model_name": "LayoutModel",
            "justify_items": null,
            "grid_row": null,
            "max_height": null,
            "align_content": null,
            "visibility": null,
            "align_self": null,
            "height": null,
            "min_height": null,
            "padding": null,
            "grid_auto_rows": null,
            "grid_gap": null,
            "max_width": null,
            "order": null,
            "_view_module_version": "1.2.0",
            "grid_template_areas": null,
            "object_position": null,
            "object_fit": null,
            "grid_auto_columns": null,
            "margin": null,
            "display": null,
            "left": null
          }
        },
        "e56ee74d4afe4d79a7acc4e6d7b177de": {
          "model_module": "@jupyter-widgets/controls",
          "model_name": "ProgressStyleModel",
          "state": {
            "_view_name": "StyleView",
            "_model_name": "ProgressStyleModel",
            "description_width": "",
            "_view_module": "@jupyter-widgets/base",
            "_model_module_version": "1.5.0",
            "_view_count": null,
            "_view_module_version": "1.2.0",
            "bar_color": null,
            "_model_module": "@jupyter-widgets/controls"
          }
        },
        "6b1b41a98fc5486fbe323dfbace2f4bd": {
          "model_module": "@jupyter-widgets/base",
          "model_name": "LayoutModel",
          "state": {
            "_view_name": "LayoutView",
            "grid_template_rows": null,
            "right": null,
            "justify_content": null,
            "_view_module": "@jupyter-widgets/base",
            "overflow": null,
            "_model_module_version": "1.2.0",
            "_view_count": null,
            "flex_flow": null,
            "width": null,
            "min_width": null,
            "border": null,
            "align_items": null,
            "bottom": null,
            "_model_module": "@jupyter-widgets/base",
            "top": null,
            "grid_column": null,
            "overflow_y": null,
            "overflow_x": null,
            "grid_auto_flow": null,
            "grid_area": null,
            "grid_template_columns": null,
            "flex": null,
            "_model_name": "LayoutModel",
            "justify_items": null,
            "grid_row": null,
            "max_height": null,
            "align_content": null,
            "visibility": null,
            "align_self": null,
            "height": null,
            "min_height": null,
            "padding": null,
            "grid_auto_rows": null,
            "grid_gap": null,
            "max_width": null,
            "order": null,
            "_view_module_version": "1.2.0",
            "grid_template_areas": null,
            "object_position": null,
            "object_fit": null,
            "grid_auto_columns": null,
            "margin": null,
            "display": null,
            "left": null
          }
        },
        "7025e32de1a94189acf3a831ba2d2ffc": {
          "model_module": "@jupyter-widgets/controls",
          "model_name": "VBoxModel",
          "state": {
            "_view_name": "VBoxView",
            "_dom_classes": [],
            "_model_name": "VBoxModel",
            "_view_module": "@jupyter-widgets/controls",
            "_model_module_version": "1.5.0",
            "_view_count": null,
            "_view_module_version": "1.5.0",
            "box_style": "",
            "layout": "IPY_MODEL_9d51b8e5eade40d8b6efdffb5dcaa72e",
            "_model_module": "@jupyter-widgets/controls",
            "children": [
              "IPY_MODEL_b95be3a90bfc41d79f4b97318e4040a5",
              "IPY_MODEL_c04f24c4e3b74253a244c3e66307f647"
            ]
          }
        },
        "9d51b8e5eade40d8b6efdffb5dcaa72e": {
          "model_module": "@jupyter-widgets/base",
          "model_name": "LayoutModel",
          "state": {
            "_view_name": "LayoutView",
            "grid_template_rows": null,
            "right": null,
            "justify_content": null,
            "_view_module": "@jupyter-widgets/base",
            "overflow": null,
            "_model_module_version": "1.2.0",
            "_view_count": null,
            "flex_flow": null,
            "width": null,
            "min_width": null,
            "border": null,
            "align_items": null,
            "bottom": null,
            "_model_module": "@jupyter-widgets/base",
            "top": null,
            "grid_column": null,
            "overflow_y": null,
            "overflow_x": null,
            "grid_auto_flow": null,
            "grid_area": null,
            "grid_template_columns": null,
            "flex": null,
            "_model_name": "LayoutModel",
            "justify_items": null,
            "grid_row": null,
            "max_height": null,
            "align_content": null,
            "visibility": null,
            "align_self": null,
            "height": null,
            "min_height": null,
            "padding": null,
            "grid_auto_rows": null,
            "grid_gap": null,
            "max_width": null,
            "order": null,
            "_view_module_version": "1.2.0",
            "grid_template_areas": null,
            "object_position": null,
            "object_fit": null,
            "grid_auto_columns": null,
            "margin": null,
            "display": null,
            "left": null
          }
        },
        "b95be3a90bfc41d79f4b97318e4040a5": {
          "model_module": "@jupyter-widgets/controls",
          "model_name": "LabelModel",
          "state": {
            "_view_name": "LabelView",
            "style": "IPY_MODEL_af68dacea81643b1a67fa15dc97e5f5f",
            "_dom_classes": [],
            "description": "",
            "_model_name": "LabelModel",
            "placeholder": "​",
            "_view_module": "@jupyter-widgets/controls",
            "_model_module_version": "1.5.0",
            "value": " 1.07MB of 1.07MB uploaded (0.00MB deduped)\r",
            "_view_count": null,
            "_view_module_version": "1.5.0",
            "description_tooltip": null,
            "_model_module": "@jupyter-widgets/controls",
            "layout": "IPY_MODEL_ef155d4461fd4ef8812291935ea1407f"
          }
        },
        "c04f24c4e3b74253a244c3e66307f647": {
          "model_module": "@jupyter-widgets/controls",
          "model_name": "FloatProgressModel",
          "state": {
            "_view_name": "ProgressView",
            "style": "IPY_MODEL_5fcacbdcffc8417f958ed0cdc514d428",
            "_dom_classes": [],
            "description": "",
            "_model_name": "FloatProgressModel",
            "bar_style": "",
            "max": 1,
            "_view_module": "@jupyter-widgets/controls",
            "_model_module_version": "1.5.0",
            "value": 1,
            "_view_count": null,
            "_view_module_version": "1.5.0",
            "orientation": "horizontal",
            "min": 0,
            "description_tooltip": null,
            "_model_module": "@jupyter-widgets/controls",
            "layout": "IPY_MODEL_a843f139178e46e6adc5afcf989a8948"
          }
        },
        "af68dacea81643b1a67fa15dc97e5f5f": {
          "model_module": "@jupyter-widgets/controls",
          "model_name": "DescriptionStyleModel",
          "state": {
            "_view_name": "StyleView",
            "_model_name": "DescriptionStyleModel",
            "description_width": "",
            "_view_module": "@jupyter-widgets/base",
            "_model_module_version": "1.5.0",
            "_view_count": null,
            "_view_module_version": "1.2.0",
            "_model_module": "@jupyter-widgets/controls"
          }
        },
        "ef155d4461fd4ef8812291935ea1407f": {
          "model_module": "@jupyter-widgets/base",
          "model_name": "LayoutModel",
          "state": {
            "_view_name": "LayoutView",
            "grid_template_rows": null,
            "right": null,
            "justify_content": null,
            "_view_module": "@jupyter-widgets/base",
            "overflow": null,
            "_model_module_version": "1.2.0",
            "_view_count": null,
            "flex_flow": null,
            "width": null,
            "min_width": null,
            "border": null,
            "align_items": null,
            "bottom": null,
            "_model_module": "@jupyter-widgets/base",
            "top": null,
            "grid_column": null,
            "overflow_y": null,
            "overflow_x": null,
            "grid_auto_flow": null,
            "grid_area": null,
            "grid_template_columns": null,
            "flex": null,
            "_model_name": "LayoutModel",
            "justify_items": null,
            "grid_row": null,
            "max_height": null,
            "align_content": null,
            "visibility": null,
            "align_self": null,
            "height": null,
            "min_height": null,
            "padding": null,
            "grid_auto_rows": null,
            "grid_gap": null,
            "max_width": null,
            "order": null,
            "_view_module_version": "1.2.0",
            "grid_template_areas": null,
            "object_position": null,
            "object_fit": null,
            "grid_auto_columns": null,
            "margin": null,
            "display": null,
            "left": null
          }
        },
        "5fcacbdcffc8417f958ed0cdc514d428": {
          "model_module": "@jupyter-widgets/controls",
          "model_name": "ProgressStyleModel",
          "state": {
            "_view_name": "StyleView",
            "_model_name": "ProgressStyleModel",
            "description_width": "",
            "_view_module": "@jupyter-widgets/base",
            "_model_module_version": "1.5.0",
            "_view_count": null,
            "_view_module_version": "1.2.0",
            "bar_color": null,
            "_model_module": "@jupyter-widgets/controls"
          }
        },
        "a843f139178e46e6adc5afcf989a8948": {
          "model_module": "@jupyter-widgets/base",
          "model_name": "LayoutModel",
          "state": {
            "_view_name": "LayoutView",
            "grid_template_rows": null,
            "right": null,
            "justify_content": null,
            "_view_module": "@jupyter-widgets/base",
            "overflow": null,
            "_model_module_version": "1.2.0",
            "_view_count": null,
            "flex_flow": null,
            "width": null,
            "min_width": null,
            "border": null,
            "align_items": null,
            "bottom": null,
            "_model_module": "@jupyter-widgets/base",
            "top": null,
            "grid_column": null,
            "overflow_y": null,
            "overflow_x": null,
            "grid_auto_flow": null,
            "grid_area": null,
            "grid_template_columns": null,
            "flex": null,
            "_model_name": "LayoutModel",
            "justify_items": null,
            "grid_row": null,
            "max_height": null,
            "align_content": null,
            "visibility": null,
            "align_self": null,
            "height": null,
            "min_height": null,
            "padding": null,
            "grid_auto_rows": null,
            "grid_gap": null,
            "max_width": null,
            "order": null,
            "_view_module_version": "1.2.0",
            "grid_template_areas": null,
            "object_position": null,
            "object_fit": null,
            "grid_auto_columns": null,
            "margin": null,
            "display": null,
            "left": null
          }
        },
        "2f7395bd415a411d850eda79d9caf15c": {
          "model_module": "@jupyter-widgets/controls",
          "model_name": "VBoxModel",
          "state": {
            "_view_name": "VBoxView",
            "_dom_classes": [],
            "_model_name": "VBoxModel",
            "_view_module": "@jupyter-widgets/controls",
            "_model_module_version": "1.5.0",
            "_view_count": null,
            "_view_module_version": "1.5.0",
            "box_style": "",
            "layout": "IPY_MODEL_c723eb1500df41ef84ab55c18b36b0aa",
            "_model_module": "@jupyter-widgets/controls",
            "children": [
              "IPY_MODEL_58769b251a1b4a4984b2941b9a1df634",
              "IPY_MODEL_1af2fbc80d0642049b3a2deffd925425"
            ]
          }
        },
        "c723eb1500df41ef84ab55c18b36b0aa": {
          "model_module": "@jupyter-widgets/base",
          "model_name": "LayoutModel",
          "state": {
            "_view_name": "LayoutView",
            "grid_template_rows": null,
            "right": null,
            "justify_content": null,
            "_view_module": "@jupyter-widgets/base",
            "overflow": null,
            "_model_module_version": "1.2.0",
            "_view_count": null,
            "flex_flow": null,
            "width": null,
            "min_width": null,
            "border": null,
            "align_items": null,
            "bottom": null,
            "_model_module": "@jupyter-widgets/base",
            "top": null,
            "grid_column": null,
            "overflow_y": null,
            "overflow_x": null,
            "grid_auto_flow": null,
            "grid_area": null,
            "grid_template_columns": null,
            "flex": null,
            "_model_name": "LayoutModel",
            "justify_items": null,
            "grid_row": null,
            "max_height": null,
            "align_content": null,
            "visibility": null,
            "align_self": null,
            "height": null,
            "min_height": null,
            "padding": null,
            "grid_auto_rows": null,
            "grid_gap": null,
            "max_width": null,
            "order": null,
            "_view_module_version": "1.2.0",
            "grid_template_areas": null,
            "object_position": null,
            "object_fit": null,
            "grid_auto_columns": null,
            "margin": null,
            "display": null,
            "left": null
          }
        },
        "58769b251a1b4a4984b2941b9a1df634": {
          "model_module": "@jupyter-widgets/controls",
          "model_name": "LabelModel",
          "state": {
            "_view_name": "LabelView",
            "style": "IPY_MODEL_66270e9efee24d03954082d2e3275e34",
            "_dom_classes": [],
            "description": "",
            "_model_name": "LabelModel",
            "placeholder": "​",
            "_view_module": "@jupyter-widgets/controls",
            "_model_module_version": "1.5.0",
            "value": " 1.19MB of 1.19MB uploaded (0.00MB deduped)\r",
            "_view_count": null,
            "_view_module_version": "1.5.0",
            "description_tooltip": null,
            "_model_module": "@jupyter-widgets/controls",
            "layout": "IPY_MODEL_12538af4e81c4f3f86d2a604edc9411d"
          }
        },
        "1af2fbc80d0642049b3a2deffd925425": {
          "model_module": "@jupyter-widgets/controls",
          "model_name": "FloatProgressModel",
          "state": {
            "_view_name": "ProgressView",
            "style": "IPY_MODEL_f801af22307d40b19488d7e398f6a6c4",
            "_dom_classes": [],
            "description": "",
            "_model_name": "FloatProgressModel",
            "bar_style": "",
            "max": 1,
            "_view_module": "@jupyter-widgets/controls",
            "_model_module_version": "1.5.0",
            "value": 1,
            "_view_count": null,
            "_view_module_version": "1.5.0",
            "orientation": "horizontal",
            "min": 0,
            "description_tooltip": null,
            "_model_module": "@jupyter-widgets/controls",
            "layout": "IPY_MODEL_9b0678d47d6440cb9f4db80ef3a914a9"
          }
        },
        "66270e9efee24d03954082d2e3275e34": {
          "model_module": "@jupyter-widgets/controls",
          "model_name": "DescriptionStyleModel",
          "state": {
            "_view_name": "StyleView",
            "_model_name": "DescriptionStyleModel",
            "description_width": "",
            "_view_module": "@jupyter-widgets/base",
            "_model_module_version": "1.5.0",
            "_view_count": null,
            "_view_module_version": "1.2.0",
            "_model_module": "@jupyter-widgets/controls"
          }
        },
        "12538af4e81c4f3f86d2a604edc9411d": {
          "model_module": "@jupyter-widgets/base",
          "model_name": "LayoutModel",
          "state": {
            "_view_name": "LayoutView",
            "grid_template_rows": null,
            "right": null,
            "justify_content": null,
            "_view_module": "@jupyter-widgets/base",
            "overflow": null,
            "_model_module_version": "1.2.0",
            "_view_count": null,
            "flex_flow": null,
            "width": null,
            "min_width": null,
            "border": null,
            "align_items": null,
            "bottom": null,
            "_model_module": "@jupyter-widgets/base",
            "top": null,
            "grid_column": null,
            "overflow_y": null,
            "overflow_x": null,
            "grid_auto_flow": null,
            "grid_area": null,
            "grid_template_columns": null,
            "flex": null,
            "_model_name": "LayoutModel",
            "justify_items": null,
            "grid_row": null,
            "max_height": null,
            "align_content": null,
            "visibility": null,
            "align_self": null,
            "height": null,
            "min_height": null,
            "padding": null,
            "grid_auto_rows": null,
            "grid_gap": null,
            "max_width": null,
            "order": null,
            "_view_module_version": "1.2.0",
            "grid_template_areas": null,
            "object_position": null,
            "object_fit": null,
            "grid_auto_columns": null,
            "margin": null,
            "display": null,
            "left": null
          }
        },
        "f801af22307d40b19488d7e398f6a6c4": {
          "model_module": "@jupyter-widgets/controls",
          "model_name": "ProgressStyleModel",
          "state": {
            "_view_name": "StyleView",
            "_model_name": "ProgressStyleModel",
            "description_width": "",
            "_view_module": "@jupyter-widgets/base",
            "_model_module_version": "1.5.0",
            "_view_count": null,
            "_view_module_version": "1.2.0",
            "bar_color": null,
            "_model_module": "@jupyter-widgets/controls"
          }
        },
        "9b0678d47d6440cb9f4db80ef3a914a9": {
          "model_module": "@jupyter-widgets/base",
          "model_name": "LayoutModel",
          "state": {
            "_view_name": "LayoutView",
            "grid_template_rows": null,
            "right": null,
            "justify_content": null,
            "_view_module": "@jupyter-widgets/base",
            "overflow": null,
            "_model_module_version": "1.2.0",
            "_view_count": null,
            "flex_flow": null,
            "width": null,
            "min_width": null,
            "border": null,
            "align_items": null,
            "bottom": null,
            "_model_module": "@jupyter-widgets/base",
            "top": null,
            "grid_column": null,
            "overflow_y": null,
            "overflow_x": null,
            "grid_auto_flow": null,
            "grid_area": null,
            "grid_template_columns": null,
            "flex": null,
            "_model_name": "LayoutModel",
            "justify_items": null,
            "grid_row": null,
            "max_height": null,
            "align_content": null,
            "visibility": null,
            "align_self": null,
            "height": null,
            "min_height": null,
            "padding": null,
            "grid_auto_rows": null,
            "grid_gap": null,
            "max_width": null,
            "order": null,
            "_view_module_version": "1.2.0",
            "grid_template_areas": null,
            "object_position": null,
            "object_fit": null,
            "grid_auto_columns": null,
            "margin": null,
            "display": null,
            "left": null
          }
        },
        "8267b8b1ba35485cadd0939f95e5a000": {
          "model_module": "@jupyter-widgets/controls",
          "model_name": "VBoxModel",
          "state": {
            "_view_name": "VBoxView",
            "_dom_classes": [],
            "_model_name": "VBoxModel",
            "_view_module": "@jupyter-widgets/controls",
            "_model_module_version": "1.5.0",
            "_view_count": null,
            "_view_module_version": "1.5.0",
            "box_style": "",
            "layout": "IPY_MODEL_9a8de647a7524ef9827d6ae1fb288b31",
            "_model_module": "@jupyter-widgets/controls",
            "children": [
              "IPY_MODEL_9cd16559be61469c9675c240ab663d18",
              "IPY_MODEL_f0a3da15a72746e4a81e4661f3176f4d"
            ]
          }
        },
        "9a8de647a7524ef9827d6ae1fb288b31": {
          "model_module": "@jupyter-widgets/base",
          "model_name": "LayoutModel",
          "state": {
            "_view_name": "LayoutView",
            "grid_template_rows": null,
            "right": null,
            "justify_content": null,
            "_view_module": "@jupyter-widgets/base",
            "overflow": null,
            "_model_module_version": "1.2.0",
            "_view_count": null,
            "flex_flow": null,
            "width": null,
            "min_width": null,
            "border": null,
            "align_items": null,
            "bottom": null,
            "_model_module": "@jupyter-widgets/base",
            "top": null,
            "grid_column": null,
            "overflow_y": null,
            "overflow_x": null,
            "grid_auto_flow": null,
            "grid_area": null,
            "grid_template_columns": null,
            "flex": null,
            "_model_name": "LayoutModel",
            "justify_items": null,
            "grid_row": null,
            "max_height": null,
            "align_content": null,
            "visibility": null,
            "align_self": null,
            "height": null,
            "min_height": null,
            "padding": null,
            "grid_auto_rows": null,
            "grid_gap": null,
            "max_width": null,
            "order": null,
            "_view_module_version": "1.2.0",
            "grid_template_areas": null,
            "object_position": null,
            "object_fit": null,
            "grid_auto_columns": null,
            "margin": null,
            "display": null,
            "left": null
          }
        },
        "9cd16559be61469c9675c240ab663d18": {
          "model_module": "@jupyter-widgets/controls",
          "model_name": "LabelModel",
          "state": {
            "_view_name": "LabelView",
            "style": "IPY_MODEL_71ced6109cf04930b6a7a7b2d26a1dd3",
            "_dom_classes": [],
            "description": "",
            "_model_name": "LabelModel",
            "placeholder": "​",
            "_view_module": "@jupyter-widgets/controls",
            "_model_module_version": "1.5.0",
            "value": " 1.32MB of 1.32MB uploaded (0.00MB deduped)\r",
            "_view_count": null,
            "_view_module_version": "1.5.0",
            "description_tooltip": null,
            "_model_module": "@jupyter-widgets/controls",
            "layout": "IPY_MODEL_ecb45e8d50cf4007a5b0efa50479c83d"
          }
        },
        "f0a3da15a72746e4a81e4661f3176f4d": {
          "model_module": "@jupyter-widgets/controls",
          "model_name": "FloatProgressModel",
          "state": {
            "_view_name": "ProgressView",
            "style": "IPY_MODEL_5b4e1a17db1640a091d4a47d7975fc5b",
            "_dom_classes": [],
            "description": "",
            "_model_name": "FloatProgressModel",
            "bar_style": "",
            "max": 1,
            "_view_module": "@jupyter-widgets/controls",
            "_model_module_version": "1.5.0",
            "value": 1,
            "_view_count": null,
            "_view_module_version": "1.5.0",
            "orientation": "horizontal",
            "min": 0,
            "description_tooltip": null,
            "_model_module": "@jupyter-widgets/controls",
            "layout": "IPY_MODEL_e41eb5e55e6b47118d0a04a5e40d1b23"
          }
        },
        "71ced6109cf04930b6a7a7b2d26a1dd3": {
          "model_module": "@jupyter-widgets/controls",
          "model_name": "DescriptionStyleModel",
          "state": {
            "_view_name": "StyleView",
            "_model_name": "DescriptionStyleModel",
            "description_width": "",
            "_view_module": "@jupyter-widgets/base",
            "_model_module_version": "1.5.0",
            "_view_count": null,
            "_view_module_version": "1.2.0",
            "_model_module": "@jupyter-widgets/controls"
          }
        },
        "ecb45e8d50cf4007a5b0efa50479c83d": {
          "model_module": "@jupyter-widgets/base",
          "model_name": "LayoutModel",
          "state": {
            "_view_name": "LayoutView",
            "grid_template_rows": null,
            "right": null,
            "justify_content": null,
            "_view_module": "@jupyter-widgets/base",
            "overflow": null,
            "_model_module_version": "1.2.0",
            "_view_count": null,
            "flex_flow": null,
            "width": null,
            "min_width": null,
            "border": null,
            "align_items": null,
            "bottom": null,
            "_model_module": "@jupyter-widgets/base",
            "top": null,
            "grid_column": null,
            "overflow_y": null,
            "overflow_x": null,
            "grid_auto_flow": null,
            "grid_area": null,
            "grid_template_columns": null,
            "flex": null,
            "_model_name": "LayoutModel",
            "justify_items": null,
            "grid_row": null,
            "max_height": null,
            "align_content": null,
            "visibility": null,
            "align_self": null,
            "height": null,
            "min_height": null,
            "padding": null,
            "grid_auto_rows": null,
            "grid_gap": null,
            "max_width": null,
            "order": null,
            "_view_module_version": "1.2.0",
            "grid_template_areas": null,
            "object_position": null,
            "object_fit": null,
            "grid_auto_columns": null,
            "margin": null,
            "display": null,
            "left": null
          }
        },
        "5b4e1a17db1640a091d4a47d7975fc5b": {
          "model_module": "@jupyter-widgets/controls",
          "model_name": "ProgressStyleModel",
          "state": {
            "_view_name": "StyleView",
            "_model_name": "ProgressStyleModel",
            "description_width": "",
            "_view_module": "@jupyter-widgets/base",
            "_model_module_version": "1.5.0",
            "_view_count": null,
            "_view_module_version": "1.2.0",
            "bar_color": null,
            "_model_module": "@jupyter-widgets/controls"
          }
        },
        "e41eb5e55e6b47118d0a04a5e40d1b23": {
          "model_module": "@jupyter-widgets/base",
          "model_name": "LayoutModel",
          "state": {
            "_view_name": "LayoutView",
            "grid_template_rows": null,
            "right": null,
            "justify_content": null,
            "_view_module": "@jupyter-widgets/base",
            "overflow": null,
            "_model_module_version": "1.2.0",
            "_view_count": null,
            "flex_flow": null,
            "width": null,
            "min_width": null,
            "border": null,
            "align_items": null,
            "bottom": null,
            "_model_module": "@jupyter-widgets/base",
            "top": null,
            "grid_column": null,
            "overflow_y": null,
            "overflow_x": null,
            "grid_auto_flow": null,
            "grid_area": null,
            "grid_template_columns": null,
            "flex": null,
            "_model_name": "LayoutModel",
            "justify_items": null,
            "grid_row": null,
            "max_height": null,
            "align_content": null,
            "visibility": null,
            "align_self": null,
            "height": null,
            "min_height": null,
            "padding": null,
            "grid_auto_rows": null,
            "grid_gap": null,
            "max_width": null,
            "order": null,
            "_view_module_version": "1.2.0",
            "grid_template_areas": null,
            "object_position": null,
            "object_fit": null,
            "grid_auto_columns": null,
            "margin": null,
            "display": null,
            "left": null
          }
        },
        "b22c1c3ceedc4bda8eabcba032568092": {
          "model_module": "@jupyter-widgets/controls",
          "model_name": "VBoxModel",
          "state": {
            "_view_name": "VBoxView",
            "_dom_classes": [],
            "_model_name": "VBoxModel",
            "_view_module": "@jupyter-widgets/controls",
            "_model_module_version": "1.5.0",
            "_view_count": null,
            "_view_module_version": "1.5.0",
            "box_style": "",
            "layout": "IPY_MODEL_9a24eeecab71456898cd26023d7e319b",
            "_model_module": "@jupyter-widgets/controls",
            "children": [
              "IPY_MODEL_5ad49ec76179489d8510db4244788ee8",
              "IPY_MODEL_6d47ebbe571a492b8673fcdc2caddafd"
            ]
          }
        },
        "9a24eeecab71456898cd26023d7e319b": {
          "model_module": "@jupyter-widgets/base",
          "model_name": "LayoutModel",
          "state": {
            "_view_name": "LayoutView",
            "grid_template_rows": null,
            "right": null,
            "justify_content": null,
            "_view_module": "@jupyter-widgets/base",
            "overflow": null,
            "_model_module_version": "1.2.0",
            "_view_count": null,
            "flex_flow": null,
            "width": null,
            "min_width": null,
            "border": null,
            "align_items": null,
            "bottom": null,
            "_model_module": "@jupyter-widgets/base",
            "top": null,
            "grid_column": null,
            "overflow_y": null,
            "overflow_x": null,
            "grid_auto_flow": null,
            "grid_area": null,
            "grid_template_columns": null,
            "flex": null,
            "_model_name": "LayoutModel",
            "justify_items": null,
            "grid_row": null,
            "max_height": null,
            "align_content": null,
            "visibility": null,
            "align_self": null,
            "height": null,
            "min_height": null,
            "padding": null,
            "grid_auto_rows": null,
            "grid_gap": null,
            "max_width": null,
            "order": null,
            "_view_module_version": "1.2.0",
            "grid_template_areas": null,
            "object_position": null,
            "object_fit": null,
            "grid_auto_columns": null,
            "margin": null,
            "display": null,
            "left": null
          }
        },
        "5ad49ec76179489d8510db4244788ee8": {
          "model_module": "@jupyter-widgets/controls",
          "model_name": "LabelModel",
          "state": {
            "_view_name": "LabelView",
            "style": "IPY_MODEL_aa4d389b9e4548bf9136b4641b3b2960",
            "_dom_classes": [],
            "description": "",
            "_model_name": "LabelModel",
            "placeholder": "​",
            "_view_module": "@jupyter-widgets/controls",
            "_model_module_version": "1.5.0",
            "value": " 1.01MB of 1.01MB uploaded (0.00MB deduped)\r",
            "_view_count": null,
            "_view_module_version": "1.5.0",
            "description_tooltip": null,
            "_model_module": "@jupyter-widgets/controls",
            "layout": "IPY_MODEL_0eafbba57f02456fa38fb17c390471cc"
          }
        },
        "6d47ebbe571a492b8673fcdc2caddafd": {
          "model_module": "@jupyter-widgets/controls",
          "model_name": "FloatProgressModel",
          "state": {
            "_view_name": "ProgressView",
            "style": "IPY_MODEL_c69228fb5e734c499c9302b0d6815e24",
            "_dom_classes": [],
            "description": "",
            "_model_name": "FloatProgressModel",
            "bar_style": "",
            "max": 1,
            "_view_module": "@jupyter-widgets/controls",
            "_model_module_version": "1.5.0",
            "value": 1,
            "_view_count": null,
            "_view_module_version": "1.5.0",
            "orientation": "horizontal",
            "min": 0,
            "description_tooltip": null,
            "_model_module": "@jupyter-widgets/controls",
            "layout": "IPY_MODEL_f93990bdc49f4321a917f09b53dc7be4"
          }
        },
        "aa4d389b9e4548bf9136b4641b3b2960": {
          "model_module": "@jupyter-widgets/controls",
          "model_name": "DescriptionStyleModel",
          "state": {
            "_view_name": "StyleView",
            "_model_name": "DescriptionStyleModel",
            "description_width": "",
            "_view_module": "@jupyter-widgets/base",
            "_model_module_version": "1.5.0",
            "_view_count": null,
            "_view_module_version": "1.2.0",
            "_model_module": "@jupyter-widgets/controls"
          }
        },
        "0eafbba57f02456fa38fb17c390471cc": {
          "model_module": "@jupyter-widgets/base",
          "model_name": "LayoutModel",
          "state": {
            "_view_name": "LayoutView",
            "grid_template_rows": null,
            "right": null,
            "justify_content": null,
            "_view_module": "@jupyter-widgets/base",
            "overflow": null,
            "_model_module_version": "1.2.0",
            "_view_count": null,
            "flex_flow": null,
            "width": null,
            "min_width": null,
            "border": null,
            "align_items": null,
            "bottom": null,
            "_model_module": "@jupyter-widgets/base",
            "top": null,
            "grid_column": null,
            "overflow_y": null,
            "overflow_x": null,
            "grid_auto_flow": null,
            "grid_area": null,
            "grid_template_columns": null,
            "flex": null,
            "_model_name": "LayoutModel",
            "justify_items": null,
            "grid_row": null,
            "max_height": null,
            "align_content": null,
            "visibility": null,
            "align_self": null,
            "height": null,
            "min_height": null,
            "padding": null,
            "grid_auto_rows": null,
            "grid_gap": null,
            "max_width": null,
            "order": null,
            "_view_module_version": "1.2.0",
            "grid_template_areas": null,
            "object_position": null,
            "object_fit": null,
            "grid_auto_columns": null,
            "margin": null,
            "display": null,
            "left": null
          }
        },
        "c69228fb5e734c499c9302b0d6815e24": {
          "model_module": "@jupyter-widgets/controls",
          "model_name": "ProgressStyleModel",
          "state": {
            "_view_name": "StyleView",
            "_model_name": "ProgressStyleModel",
            "description_width": "",
            "_view_module": "@jupyter-widgets/base",
            "_model_module_version": "1.5.0",
            "_view_count": null,
            "_view_module_version": "1.2.0",
            "bar_color": null,
            "_model_module": "@jupyter-widgets/controls"
          }
        },
        "f93990bdc49f4321a917f09b53dc7be4": {
          "model_module": "@jupyter-widgets/base",
          "model_name": "LayoutModel",
          "state": {
            "_view_name": "LayoutView",
            "grid_template_rows": null,
            "right": null,
            "justify_content": null,
            "_view_module": "@jupyter-widgets/base",
            "overflow": null,
            "_model_module_version": "1.2.0",
            "_view_count": null,
            "flex_flow": null,
            "width": null,
            "min_width": null,
            "border": null,
            "align_items": null,
            "bottom": null,
            "_model_module": "@jupyter-widgets/base",
            "top": null,
            "grid_column": null,
            "overflow_y": null,
            "overflow_x": null,
            "grid_auto_flow": null,
            "grid_area": null,
            "grid_template_columns": null,
            "flex": null,
            "_model_name": "LayoutModel",
            "justify_items": null,
            "grid_row": null,
            "max_height": null,
            "align_content": null,
            "visibility": null,
            "align_self": null,
            "height": null,
            "min_height": null,
            "padding": null,
            "grid_auto_rows": null,
            "grid_gap": null,
            "max_width": null,
            "order": null,
            "_view_module_version": "1.2.0",
            "grid_template_areas": null,
            "object_position": null,
            "object_fit": null,
            "grid_auto_columns": null,
            "margin": null,
            "display": null,
            "left": null
          }
        },
        "45a5e3016275401e93240239a6fffd65": {
          "model_module": "@jupyter-widgets/controls",
          "model_name": "VBoxModel",
          "state": {
            "_view_name": "VBoxView",
            "_dom_classes": [],
            "_model_name": "VBoxModel",
            "_view_module": "@jupyter-widgets/controls",
            "_model_module_version": "1.5.0",
            "_view_count": null,
            "_view_module_version": "1.5.0",
            "box_style": "",
            "layout": "IPY_MODEL_bee2d8fa4ae24084bf6ba302e8bbfee3",
            "_model_module": "@jupyter-widgets/controls",
            "children": [
              "IPY_MODEL_2f80ddc90baa4d2caff00b811e7527d6",
              "IPY_MODEL_6cac33d4666241eda678155d226228d7"
            ]
          }
        },
        "bee2d8fa4ae24084bf6ba302e8bbfee3": {
          "model_module": "@jupyter-widgets/base",
          "model_name": "LayoutModel",
          "state": {
            "_view_name": "LayoutView",
            "grid_template_rows": null,
            "right": null,
            "justify_content": null,
            "_view_module": "@jupyter-widgets/base",
            "overflow": null,
            "_model_module_version": "1.2.0",
            "_view_count": null,
            "flex_flow": null,
            "width": null,
            "min_width": null,
            "border": null,
            "align_items": null,
            "bottom": null,
            "_model_module": "@jupyter-widgets/base",
            "top": null,
            "grid_column": null,
            "overflow_y": null,
            "overflow_x": null,
            "grid_auto_flow": null,
            "grid_area": null,
            "grid_template_columns": null,
            "flex": null,
            "_model_name": "LayoutModel",
            "justify_items": null,
            "grid_row": null,
            "max_height": null,
            "align_content": null,
            "visibility": null,
            "align_self": null,
            "height": null,
            "min_height": null,
            "padding": null,
            "grid_auto_rows": null,
            "grid_gap": null,
            "max_width": null,
            "order": null,
            "_view_module_version": "1.2.0",
            "grid_template_areas": null,
            "object_position": null,
            "object_fit": null,
            "grid_auto_columns": null,
            "margin": null,
            "display": null,
            "left": null
          }
        },
        "2f80ddc90baa4d2caff00b811e7527d6": {
          "model_module": "@jupyter-widgets/controls",
          "model_name": "LabelModel",
          "state": {
            "_view_name": "LabelView",
            "style": "IPY_MODEL_c4e5b3b4979940098ea53026b6ee2e37",
            "_dom_classes": [],
            "description": "",
            "_model_name": "LabelModel",
            "placeholder": "​",
            "_view_module": "@jupyter-widgets/controls",
            "_model_module_version": "1.5.0",
            "value": " 1.06MB of 1.06MB uploaded (0.00MB deduped)\r",
            "_view_count": null,
            "_view_module_version": "1.5.0",
            "description_tooltip": null,
            "_model_module": "@jupyter-widgets/controls",
            "layout": "IPY_MODEL_6c1d06dae87544f589ca081cac29a151"
          }
        },
        "6cac33d4666241eda678155d226228d7": {
          "model_module": "@jupyter-widgets/controls",
          "model_name": "FloatProgressModel",
          "state": {
            "_view_name": "ProgressView",
            "style": "IPY_MODEL_31db990a4d724c5aa6e5ed52dcf7fb1f",
            "_dom_classes": [],
            "description": "",
            "_model_name": "FloatProgressModel",
            "bar_style": "",
            "max": 1,
            "_view_module": "@jupyter-widgets/controls",
            "_model_module_version": "1.5.0",
            "value": 1,
            "_view_count": null,
            "_view_module_version": "1.5.0",
            "orientation": "horizontal",
            "min": 0,
            "description_tooltip": null,
            "_model_module": "@jupyter-widgets/controls",
            "layout": "IPY_MODEL_cfb06fed44bb438bbcd1aae3b850f013"
          }
        },
        "c4e5b3b4979940098ea53026b6ee2e37": {
          "model_module": "@jupyter-widgets/controls",
          "model_name": "DescriptionStyleModel",
          "state": {
            "_view_name": "StyleView",
            "_model_name": "DescriptionStyleModel",
            "description_width": "",
            "_view_module": "@jupyter-widgets/base",
            "_model_module_version": "1.5.0",
            "_view_count": null,
            "_view_module_version": "1.2.0",
            "_model_module": "@jupyter-widgets/controls"
          }
        },
        "6c1d06dae87544f589ca081cac29a151": {
          "model_module": "@jupyter-widgets/base",
          "model_name": "LayoutModel",
          "state": {
            "_view_name": "LayoutView",
            "grid_template_rows": null,
            "right": null,
            "justify_content": null,
            "_view_module": "@jupyter-widgets/base",
            "overflow": null,
            "_model_module_version": "1.2.0",
            "_view_count": null,
            "flex_flow": null,
            "width": null,
            "min_width": null,
            "border": null,
            "align_items": null,
            "bottom": null,
            "_model_module": "@jupyter-widgets/base",
            "top": null,
            "grid_column": null,
            "overflow_y": null,
            "overflow_x": null,
            "grid_auto_flow": null,
            "grid_area": null,
            "grid_template_columns": null,
            "flex": null,
            "_model_name": "LayoutModel",
            "justify_items": null,
            "grid_row": null,
            "max_height": null,
            "align_content": null,
            "visibility": null,
            "align_self": null,
            "height": null,
            "min_height": null,
            "padding": null,
            "grid_auto_rows": null,
            "grid_gap": null,
            "max_width": null,
            "order": null,
            "_view_module_version": "1.2.0",
            "grid_template_areas": null,
            "object_position": null,
            "object_fit": null,
            "grid_auto_columns": null,
            "margin": null,
            "display": null,
            "left": null
          }
        },
        "31db990a4d724c5aa6e5ed52dcf7fb1f": {
          "model_module": "@jupyter-widgets/controls",
          "model_name": "ProgressStyleModel",
          "state": {
            "_view_name": "StyleView",
            "_model_name": "ProgressStyleModel",
            "description_width": "",
            "_view_module": "@jupyter-widgets/base",
            "_model_module_version": "1.5.0",
            "_view_count": null,
            "_view_module_version": "1.2.0",
            "bar_color": null,
            "_model_module": "@jupyter-widgets/controls"
          }
        },
        "cfb06fed44bb438bbcd1aae3b850f013": {
          "model_module": "@jupyter-widgets/base",
          "model_name": "LayoutModel",
          "state": {
            "_view_name": "LayoutView",
            "grid_template_rows": null,
            "right": null,
            "justify_content": null,
            "_view_module": "@jupyter-widgets/base",
            "overflow": null,
            "_model_module_version": "1.2.0",
            "_view_count": null,
            "flex_flow": null,
            "width": null,
            "min_width": null,
            "border": null,
            "align_items": null,
            "bottom": null,
            "_model_module": "@jupyter-widgets/base",
            "top": null,
            "grid_column": null,
            "overflow_y": null,
            "overflow_x": null,
            "grid_auto_flow": null,
            "grid_area": null,
            "grid_template_columns": null,
            "flex": null,
            "_model_name": "LayoutModel",
            "justify_items": null,
            "grid_row": null,
            "max_height": null,
            "align_content": null,
            "visibility": null,
            "align_self": null,
            "height": null,
            "min_height": null,
            "padding": null,
            "grid_auto_rows": null,
            "grid_gap": null,
            "max_width": null,
            "order": null,
            "_view_module_version": "1.2.0",
            "grid_template_areas": null,
            "object_position": null,
            "object_fit": null,
            "grid_auto_columns": null,
            "margin": null,
            "display": null,
            "left": null
          }
        },
        "3b819691765e4fbd9e417a46eac2df14": {
          "model_module": "@jupyter-widgets/controls",
          "model_name": "VBoxModel",
          "state": {
            "_view_name": "VBoxView",
            "_dom_classes": [],
            "_model_name": "VBoxModel",
            "_view_module": "@jupyter-widgets/controls",
            "_model_module_version": "1.5.0",
            "_view_count": null,
            "_view_module_version": "1.5.0",
            "box_style": "",
            "layout": "IPY_MODEL_d021dc2ea5ad4d1f9819a91f4c720eec",
            "_model_module": "@jupyter-widgets/controls",
            "children": [
              "IPY_MODEL_19aa7d4039be43709699057d779d3d8c",
              "IPY_MODEL_02038b69dffc48c3b776d669ab4130c1"
            ]
          }
        },
        "d021dc2ea5ad4d1f9819a91f4c720eec": {
          "model_module": "@jupyter-widgets/base",
          "model_name": "LayoutModel",
          "state": {
            "_view_name": "LayoutView",
            "grid_template_rows": null,
            "right": null,
            "justify_content": null,
            "_view_module": "@jupyter-widgets/base",
            "overflow": null,
            "_model_module_version": "1.2.0",
            "_view_count": null,
            "flex_flow": null,
            "width": null,
            "min_width": null,
            "border": null,
            "align_items": null,
            "bottom": null,
            "_model_module": "@jupyter-widgets/base",
            "top": null,
            "grid_column": null,
            "overflow_y": null,
            "overflow_x": null,
            "grid_auto_flow": null,
            "grid_area": null,
            "grid_template_columns": null,
            "flex": null,
            "_model_name": "LayoutModel",
            "justify_items": null,
            "grid_row": null,
            "max_height": null,
            "align_content": null,
            "visibility": null,
            "align_self": null,
            "height": null,
            "min_height": null,
            "padding": null,
            "grid_auto_rows": null,
            "grid_gap": null,
            "max_width": null,
            "order": null,
            "_view_module_version": "1.2.0",
            "grid_template_areas": null,
            "object_position": null,
            "object_fit": null,
            "grid_auto_columns": null,
            "margin": null,
            "display": null,
            "left": null
          }
        },
        "19aa7d4039be43709699057d779d3d8c": {
          "model_module": "@jupyter-widgets/controls",
          "model_name": "LabelModel",
          "state": {
            "_view_name": "LabelView",
            "style": "IPY_MODEL_9fae74b23e5845588c7417c344e1f041",
            "_dom_classes": [],
            "description": "",
            "_model_name": "LabelModel",
            "placeholder": "​",
            "_view_module": "@jupyter-widgets/controls",
            "_model_module_version": "1.5.0",
            "value": " 1.20MB of 1.20MB uploaded (0.00MB deduped)\r",
            "_view_count": null,
            "_view_module_version": "1.5.0",
            "description_tooltip": null,
            "_model_module": "@jupyter-widgets/controls",
            "layout": "IPY_MODEL_69d79f8b32ac43fb97948333fba51992"
          }
        },
        "02038b69dffc48c3b776d669ab4130c1": {
          "model_module": "@jupyter-widgets/controls",
          "model_name": "FloatProgressModel",
          "state": {
            "_view_name": "ProgressView",
            "style": "IPY_MODEL_b312b94799034c098e23d19aa052b129",
            "_dom_classes": [],
            "description": "",
            "_model_name": "FloatProgressModel",
            "bar_style": "",
            "max": 1,
            "_view_module": "@jupyter-widgets/controls",
            "_model_module_version": "1.5.0",
            "value": 1,
            "_view_count": null,
            "_view_module_version": "1.5.0",
            "orientation": "horizontal",
            "min": 0,
            "description_tooltip": null,
            "_model_module": "@jupyter-widgets/controls",
            "layout": "IPY_MODEL_4c0b3a44b6da48bbb5556be72a6ddbcf"
          }
        },
        "9fae74b23e5845588c7417c344e1f041": {
          "model_module": "@jupyter-widgets/controls",
          "model_name": "DescriptionStyleModel",
          "state": {
            "_view_name": "StyleView",
            "_model_name": "DescriptionStyleModel",
            "description_width": "",
            "_view_module": "@jupyter-widgets/base",
            "_model_module_version": "1.5.0",
            "_view_count": null,
            "_view_module_version": "1.2.0",
            "_model_module": "@jupyter-widgets/controls"
          }
        },
        "69d79f8b32ac43fb97948333fba51992": {
          "model_module": "@jupyter-widgets/base",
          "model_name": "LayoutModel",
          "state": {
            "_view_name": "LayoutView",
            "grid_template_rows": null,
            "right": null,
            "justify_content": null,
            "_view_module": "@jupyter-widgets/base",
            "overflow": null,
            "_model_module_version": "1.2.0",
            "_view_count": null,
            "flex_flow": null,
            "width": null,
            "min_width": null,
            "border": null,
            "align_items": null,
            "bottom": null,
            "_model_module": "@jupyter-widgets/base",
            "top": null,
            "grid_column": null,
            "overflow_y": null,
            "overflow_x": null,
            "grid_auto_flow": null,
            "grid_area": null,
            "grid_template_columns": null,
            "flex": null,
            "_model_name": "LayoutModel",
            "justify_items": null,
            "grid_row": null,
            "max_height": null,
            "align_content": null,
            "visibility": null,
            "align_self": null,
            "height": null,
            "min_height": null,
            "padding": null,
            "grid_auto_rows": null,
            "grid_gap": null,
            "max_width": null,
            "order": null,
            "_view_module_version": "1.2.0",
            "grid_template_areas": null,
            "object_position": null,
            "object_fit": null,
            "grid_auto_columns": null,
            "margin": null,
            "display": null,
            "left": null
          }
        },
        "b312b94799034c098e23d19aa052b129": {
          "model_module": "@jupyter-widgets/controls",
          "model_name": "ProgressStyleModel",
          "state": {
            "_view_name": "StyleView",
            "_model_name": "ProgressStyleModel",
            "description_width": "",
            "_view_module": "@jupyter-widgets/base",
            "_model_module_version": "1.5.0",
            "_view_count": null,
            "_view_module_version": "1.2.0",
            "bar_color": null,
            "_model_module": "@jupyter-widgets/controls"
          }
        },
        "4c0b3a44b6da48bbb5556be72a6ddbcf": {
          "model_module": "@jupyter-widgets/base",
          "model_name": "LayoutModel",
          "state": {
            "_view_name": "LayoutView",
            "grid_template_rows": null,
            "right": null,
            "justify_content": null,
            "_view_module": "@jupyter-widgets/base",
            "overflow": null,
            "_model_module_version": "1.2.0",
            "_view_count": null,
            "flex_flow": null,
            "width": null,
            "min_width": null,
            "border": null,
            "align_items": null,
            "bottom": null,
            "_model_module": "@jupyter-widgets/base",
            "top": null,
            "grid_column": null,
            "overflow_y": null,
            "overflow_x": null,
            "grid_auto_flow": null,
            "grid_area": null,
            "grid_template_columns": null,
            "flex": null,
            "_model_name": "LayoutModel",
            "justify_items": null,
            "grid_row": null,
            "max_height": null,
            "align_content": null,
            "visibility": null,
            "align_self": null,
            "height": null,
            "min_height": null,
            "padding": null,
            "grid_auto_rows": null,
            "grid_gap": null,
            "max_width": null,
            "order": null,
            "_view_module_version": "1.2.0",
            "grid_template_areas": null,
            "object_position": null,
            "object_fit": null,
            "grid_auto_columns": null,
            "margin": null,
            "display": null,
            "left": null
          }
        },
        "7ca607b07e47492e90a7c574d13d8663": {
          "model_module": "@jupyter-widgets/controls",
          "model_name": "VBoxModel",
          "state": {
            "_view_name": "VBoxView",
            "_dom_classes": [],
            "_model_name": "VBoxModel",
            "_view_module": "@jupyter-widgets/controls",
            "_model_module_version": "1.5.0",
            "_view_count": null,
            "_view_module_version": "1.5.0",
            "box_style": "",
            "layout": "IPY_MODEL_43afabf0dbb74b2c99edc254bb25fe32",
            "_model_module": "@jupyter-widgets/controls",
            "children": [
              "IPY_MODEL_fc929b5874b24a0aaa63bb8677501886",
              "IPY_MODEL_89dc2edacc22431ca9dbfe38f4ca0c2f"
            ]
          }
        },
        "43afabf0dbb74b2c99edc254bb25fe32": {
          "model_module": "@jupyter-widgets/base",
          "model_name": "LayoutModel",
          "state": {
            "_view_name": "LayoutView",
            "grid_template_rows": null,
            "right": null,
            "justify_content": null,
            "_view_module": "@jupyter-widgets/base",
            "overflow": null,
            "_model_module_version": "1.2.0",
            "_view_count": null,
            "flex_flow": null,
            "width": null,
            "min_width": null,
            "border": null,
            "align_items": null,
            "bottom": null,
            "_model_module": "@jupyter-widgets/base",
            "top": null,
            "grid_column": null,
            "overflow_y": null,
            "overflow_x": null,
            "grid_auto_flow": null,
            "grid_area": null,
            "grid_template_columns": null,
            "flex": null,
            "_model_name": "LayoutModel",
            "justify_items": null,
            "grid_row": null,
            "max_height": null,
            "align_content": null,
            "visibility": null,
            "align_self": null,
            "height": null,
            "min_height": null,
            "padding": null,
            "grid_auto_rows": null,
            "grid_gap": null,
            "max_width": null,
            "order": null,
            "_view_module_version": "1.2.0",
            "grid_template_areas": null,
            "object_position": null,
            "object_fit": null,
            "grid_auto_columns": null,
            "margin": null,
            "display": null,
            "left": null
          }
        },
        "fc929b5874b24a0aaa63bb8677501886": {
          "model_module": "@jupyter-widgets/controls",
          "model_name": "LabelModel",
          "state": {
            "_view_name": "LabelView",
            "style": "IPY_MODEL_2beefb78ab514337af76fa216f846021",
            "_dom_classes": [],
            "description": "",
            "_model_name": "LabelModel",
            "placeholder": "​",
            "_view_module": "@jupyter-widgets/controls",
            "_model_module_version": "1.5.0",
            "value": " 1.33MB of 1.33MB uploaded (0.00MB deduped)\r",
            "_view_count": null,
            "_view_module_version": "1.5.0",
            "description_tooltip": null,
            "_model_module": "@jupyter-widgets/controls",
            "layout": "IPY_MODEL_34de3a563a0d4eaf8407aac44fcf696d"
          }
        },
        "89dc2edacc22431ca9dbfe38f4ca0c2f": {
          "model_module": "@jupyter-widgets/controls",
          "model_name": "FloatProgressModel",
          "state": {
            "_view_name": "ProgressView",
            "style": "IPY_MODEL_b79195e3fbf643ebbc6052bd2981a08b",
            "_dom_classes": [],
            "description": "",
            "_model_name": "FloatProgressModel",
            "bar_style": "",
            "max": 1,
            "_view_module": "@jupyter-widgets/controls",
            "_model_module_version": "1.5.0",
            "value": 1,
            "_view_count": null,
            "_view_module_version": "1.5.0",
            "orientation": "horizontal",
            "min": 0,
            "description_tooltip": null,
            "_model_module": "@jupyter-widgets/controls",
            "layout": "IPY_MODEL_2df1d85abc604ce98d7589c55c7f3647"
          }
        },
        "2beefb78ab514337af76fa216f846021": {
          "model_module": "@jupyter-widgets/controls",
          "model_name": "DescriptionStyleModel",
          "state": {
            "_view_name": "StyleView",
            "_model_name": "DescriptionStyleModel",
            "description_width": "",
            "_view_module": "@jupyter-widgets/base",
            "_model_module_version": "1.5.0",
            "_view_count": null,
            "_view_module_version": "1.2.0",
            "_model_module": "@jupyter-widgets/controls"
          }
        },
        "34de3a563a0d4eaf8407aac44fcf696d": {
          "model_module": "@jupyter-widgets/base",
          "model_name": "LayoutModel",
          "state": {
            "_view_name": "LayoutView",
            "grid_template_rows": null,
            "right": null,
            "justify_content": null,
            "_view_module": "@jupyter-widgets/base",
            "overflow": null,
            "_model_module_version": "1.2.0",
            "_view_count": null,
            "flex_flow": null,
            "width": null,
            "min_width": null,
            "border": null,
            "align_items": null,
            "bottom": null,
            "_model_module": "@jupyter-widgets/base",
            "top": null,
            "grid_column": null,
            "overflow_y": null,
            "overflow_x": null,
            "grid_auto_flow": null,
            "grid_area": null,
            "grid_template_columns": null,
            "flex": null,
            "_model_name": "LayoutModel",
            "justify_items": null,
            "grid_row": null,
            "max_height": null,
            "align_content": null,
            "visibility": null,
            "align_self": null,
            "height": null,
            "min_height": null,
            "padding": null,
            "grid_auto_rows": null,
            "grid_gap": null,
            "max_width": null,
            "order": null,
            "_view_module_version": "1.2.0",
            "grid_template_areas": null,
            "object_position": null,
            "object_fit": null,
            "grid_auto_columns": null,
            "margin": null,
            "display": null,
            "left": null
          }
        },
        "b79195e3fbf643ebbc6052bd2981a08b": {
          "model_module": "@jupyter-widgets/controls",
          "model_name": "ProgressStyleModel",
          "state": {
            "_view_name": "StyleView",
            "_model_name": "ProgressStyleModel",
            "description_width": "",
            "_view_module": "@jupyter-widgets/base",
            "_model_module_version": "1.5.0",
            "_view_count": null,
            "_view_module_version": "1.2.0",
            "bar_color": null,
            "_model_module": "@jupyter-widgets/controls"
          }
        },
        "2df1d85abc604ce98d7589c55c7f3647": {
          "model_module": "@jupyter-widgets/base",
          "model_name": "LayoutModel",
          "state": {
            "_view_name": "LayoutView",
            "grid_template_rows": null,
            "right": null,
            "justify_content": null,
            "_view_module": "@jupyter-widgets/base",
            "overflow": null,
            "_model_module_version": "1.2.0",
            "_view_count": null,
            "flex_flow": null,
            "width": null,
            "min_width": null,
            "border": null,
            "align_items": null,
            "bottom": null,
            "_model_module": "@jupyter-widgets/base",
            "top": null,
            "grid_column": null,
            "overflow_y": null,
            "overflow_x": null,
            "grid_auto_flow": null,
            "grid_area": null,
            "grid_template_columns": null,
            "flex": null,
            "_model_name": "LayoutModel",
            "justify_items": null,
            "grid_row": null,
            "max_height": null,
            "align_content": null,
            "visibility": null,
            "align_self": null,
            "height": null,
            "min_height": null,
            "padding": null,
            "grid_auto_rows": null,
            "grid_gap": null,
            "max_width": null,
            "order": null,
            "_view_module_version": "1.2.0",
            "grid_template_areas": null,
            "object_position": null,
            "object_fit": null,
            "grid_auto_columns": null,
            "margin": null,
            "display": null,
            "left": null
          }
        },
        "ea8f28b305a041ffa0478b2948ee5067": {
          "model_module": "@jupyter-widgets/controls",
          "model_name": "VBoxModel",
          "state": {
            "_view_name": "VBoxView",
            "_dom_classes": [],
            "_model_name": "VBoxModel",
            "_view_module": "@jupyter-widgets/controls",
            "_model_module_version": "1.5.0",
            "_view_count": null,
            "_view_module_version": "1.5.0",
            "box_style": "",
            "layout": "IPY_MODEL_ec6c8c17504f41d5b1e3c8695f14a57f",
            "_model_module": "@jupyter-widgets/controls",
            "children": [
              "IPY_MODEL_741026baabb9423eab5d6e34beeb3892",
              "IPY_MODEL_4fee459c46e94fe69231f7270b27bc55"
            ]
          }
        },
        "ec6c8c17504f41d5b1e3c8695f14a57f": {
          "model_module": "@jupyter-widgets/base",
          "model_name": "LayoutModel",
          "state": {
            "_view_name": "LayoutView",
            "grid_template_rows": null,
            "right": null,
            "justify_content": null,
            "_view_module": "@jupyter-widgets/base",
            "overflow": null,
            "_model_module_version": "1.2.0",
            "_view_count": null,
            "flex_flow": null,
            "width": null,
            "min_width": null,
            "border": null,
            "align_items": null,
            "bottom": null,
            "_model_module": "@jupyter-widgets/base",
            "top": null,
            "grid_column": null,
            "overflow_y": null,
            "overflow_x": null,
            "grid_auto_flow": null,
            "grid_area": null,
            "grid_template_columns": null,
            "flex": null,
            "_model_name": "LayoutModel",
            "justify_items": null,
            "grid_row": null,
            "max_height": null,
            "align_content": null,
            "visibility": null,
            "align_self": null,
            "height": null,
            "min_height": null,
            "padding": null,
            "grid_auto_rows": null,
            "grid_gap": null,
            "max_width": null,
            "order": null,
            "_view_module_version": "1.2.0",
            "grid_template_areas": null,
            "object_position": null,
            "object_fit": null,
            "grid_auto_columns": null,
            "margin": null,
            "display": null,
            "left": null
          }
        },
        "741026baabb9423eab5d6e34beeb3892": {
          "model_module": "@jupyter-widgets/controls",
          "model_name": "LabelModel",
          "state": {
            "_view_name": "LabelView",
            "style": "IPY_MODEL_8ac3911c820f4d5b8c4894a4ce53d6bc",
            "_dom_classes": [],
            "description": "",
            "_model_name": "LabelModel",
            "placeholder": "​",
            "_view_module": "@jupyter-widgets/controls",
            "_model_module_version": "1.5.0",
            "value": " 1.02MB of 1.02MB uploaded (0.00MB deduped)\r",
            "_view_count": null,
            "_view_module_version": "1.5.0",
            "description_tooltip": null,
            "_model_module": "@jupyter-widgets/controls",
            "layout": "IPY_MODEL_388fe569aa76475681cea83ac2dc70a0"
          }
        },
        "4fee459c46e94fe69231f7270b27bc55": {
          "model_module": "@jupyter-widgets/controls",
          "model_name": "FloatProgressModel",
          "state": {
            "_view_name": "ProgressView",
            "style": "IPY_MODEL_ffabdbf9370d4b23a7a24d4afcd4b188",
            "_dom_classes": [],
            "description": "",
            "_model_name": "FloatProgressModel",
            "bar_style": "",
            "max": 1,
            "_view_module": "@jupyter-widgets/controls",
            "_model_module_version": "1.5.0",
            "value": 1,
            "_view_count": null,
            "_view_module_version": "1.5.0",
            "orientation": "horizontal",
            "min": 0,
            "description_tooltip": null,
            "_model_module": "@jupyter-widgets/controls",
            "layout": "IPY_MODEL_ef1b4aa536d74689a7f76a700dc56c0b"
          }
        },
        "8ac3911c820f4d5b8c4894a4ce53d6bc": {
          "model_module": "@jupyter-widgets/controls",
          "model_name": "DescriptionStyleModel",
          "state": {
            "_view_name": "StyleView",
            "_model_name": "DescriptionStyleModel",
            "description_width": "",
            "_view_module": "@jupyter-widgets/base",
            "_model_module_version": "1.5.0",
            "_view_count": null,
            "_view_module_version": "1.2.0",
            "_model_module": "@jupyter-widgets/controls"
          }
        },
        "388fe569aa76475681cea83ac2dc70a0": {
          "model_module": "@jupyter-widgets/base",
          "model_name": "LayoutModel",
          "state": {
            "_view_name": "LayoutView",
            "grid_template_rows": null,
            "right": null,
            "justify_content": null,
            "_view_module": "@jupyter-widgets/base",
            "overflow": null,
            "_model_module_version": "1.2.0",
            "_view_count": null,
            "flex_flow": null,
            "width": null,
            "min_width": null,
            "border": null,
            "align_items": null,
            "bottom": null,
            "_model_module": "@jupyter-widgets/base",
            "top": null,
            "grid_column": null,
            "overflow_y": null,
            "overflow_x": null,
            "grid_auto_flow": null,
            "grid_area": null,
            "grid_template_columns": null,
            "flex": null,
            "_model_name": "LayoutModel",
            "justify_items": null,
            "grid_row": null,
            "max_height": null,
            "align_content": null,
            "visibility": null,
            "align_self": null,
            "height": null,
            "min_height": null,
            "padding": null,
            "grid_auto_rows": null,
            "grid_gap": null,
            "max_width": null,
            "order": null,
            "_view_module_version": "1.2.0",
            "grid_template_areas": null,
            "object_position": null,
            "object_fit": null,
            "grid_auto_columns": null,
            "margin": null,
            "display": null,
            "left": null
          }
        },
        "ffabdbf9370d4b23a7a24d4afcd4b188": {
          "model_module": "@jupyter-widgets/controls",
          "model_name": "ProgressStyleModel",
          "state": {
            "_view_name": "StyleView",
            "_model_name": "ProgressStyleModel",
            "description_width": "",
            "_view_module": "@jupyter-widgets/base",
            "_model_module_version": "1.5.0",
            "_view_count": null,
            "_view_module_version": "1.2.0",
            "bar_color": null,
            "_model_module": "@jupyter-widgets/controls"
          }
        },
        "ef1b4aa536d74689a7f76a700dc56c0b": {
          "model_module": "@jupyter-widgets/base",
          "model_name": "LayoutModel",
          "state": {
            "_view_name": "LayoutView",
            "grid_template_rows": null,
            "right": null,
            "justify_content": null,
            "_view_module": "@jupyter-widgets/base",
            "overflow": null,
            "_model_module_version": "1.2.0",
            "_view_count": null,
            "flex_flow": null,
            "width": null,
            "min_width": null,
            "border": null,
            "align_items": null,
            "bottom": null,
            "_model_module": "@jupyter-widgets/base",
            "top": null,
            "grid_column": null,
            "overflow_y": null,
            "overflow_x": null,
            "grid_auto_flow": null,
            "grid_area": null,
            "grid_template_columns": null,
            "flex": null,
            "_model_name": "LayoutModel",
            "justify_items": null,
            "grid_row": null,
            "max_height": null,
            "align_content": null,
            "visibility": null,
            "align_self": null,
            "height": null,
            "min_height": null,
            "padding": null,
            "grid_auto_rows": null,
            "grid_gap": null,
            "max_width": null,
            "order": null,
            "_view_module_version": "1.2.0",
            "grid_template_areas": null,
            "object_position": null,
            "object_fit": null,
            "grid_auto_columns": null,
            "margin": null,
            "display": null,
            "left": null
          }
        },
        "bc9572422a354cafa21985093e19cd37": {
          "model_module": "@jupyter-widgets/controls",
          "model_name": "VBoxModel",
          "state": {
            "_view_name": "VBoxView",
            "_dom_classes": [],
            "_model_name": "VBoxModel",
            "_view_module": "@jupyter-widgets/controls",
            "_model_module_version": "1.5.0",
            "_view_count": null,
            "_view_module_version": "1.5.0",
            "box_style": "",
            "layout": "IPY_MODEL_936680c8dc644a20be79336a9d323744",
            "_model_module": "@jupyter-widgets/controls",
            "children": [
              "IPY_MODEL_9921fa2fa2d84c6196f556a90d9b0d40",
              "IPY_MODEL_1a9db514e96e4bec8f7314f902948f5d"
            ]
          }
        },
        "936680c8dc644a20be79336a9d323744": {
          "model_module": "@jupyter-widgets/base",
          "model_name": "LayoutModel",
          "state": {
            "_view_name": "LayoutView",
            "grid_template_rows": null,
            "right": null,
            "justify_content": null,
            "_view_module": "@jupyter-widgets/base",
            "overflow": null,
            "_model_module_version": "1.2.0",
            "_view_count": null,
            "flex_flow": null,
            "width": null,
            "min_width": null,
            "border": null,
            "align_items": null,
            "bottom": null,
            "_model_module": "@jupyter-widgets/base",
            "top": null,
            "grid_column": null,
            "overflow_y": null,
            "overflow_x": null,
            "grid_auto_flow": null,
            "grid_area": null,
            "grid_template_columns": null,
            "flex": null,
            "_model_name": "LayoutModel",
            "justify_items": null,
            "grid_row": null,
            "max_height": null,
            "align_content": null,
            "visibility": null,
            "align_self": null,
            "height": null,
            "min_height": null,
            "padding": null,
            "grid_auto_rows": null,
            "grid_gap": null,
            "max_width": null,
            "order": null,
            "_view_module_version": "1.2.0",
            "grid_template_areas": null,
            "object_position": null,
            "object_fit": null,
            "grid_auto_columns": null,
            "margin": null,
            "display": null,
            "left": null
          }
        },
        "9921fa2fa2d84c6196f556a90d9b0d40": {
          "model_module": "@jupyter-widgets/controls",
          "model_name": "LabelModel",
          "state": {
            "_view_name": "LabelView",
            "style": "IPY_MODEL_b2974d3bad7a425da5d4ee44e70e09d8",
            "_dom_classes": [],
            "description": "",
            "_model_name": "LabelModel",
            "placeholder": "​",
            "_view_module": "@jupyter-widgets/controls",
            "_model_module_version": "1.5.0",
            "value": " 1.07MB of 1.07MB uploaded (0.00MB deduped)\r",
            "_view_count": null,
            "_view_module_version": "1.5.0",
            "description_tooltip": null,
            "_model_module": "@jupyter-widgets/controls",
            "layout": "IPY_MODEL_82943623d0394877b37f66994af19b33"
          }
        },
        "1a9db514e96e4bec8f7314f902948f5d": {
          "model_module": "@jupyter-widgets/controls",
          "model_name": "FloatProgressModel",
          "state": {
            "_view_name": "ProgressView",
            "style": "IPY_MODEL_c9d82a07380b4b33bf5869d914be8b67",
            "_dom_classes": [],
            "description": "",
            "_model_name": "FloatProgressModel",
            "bar_style": "",
            "max": 1,
            "_view_module": "@jupyter-widgets/controls",
            "_model_module_version": "1.5.0",
            "value": 1,
            "_view_count": null,
            "_view_module_version": "1.5.0",
            "orientation": "horizontal",
            "min": 0,
            "description_tooltip": null,
            "_model_module": "@jupyter-widgets/controls",
            "layout": "IPY_MODEL_a5201733f03343efbc739c044461fe4b"
          }
        },
        "b2974d3bad7a425da5d4ee44e70e09d8": {
          "model_module": "@jupyter-widgets/controls",
          "model_name": "DescriptionStyleModel",
          "state": {
            "_view_name": "StyleView",
            "_model_name": "DescriptionStyleModel",
            "description_width": "",
            "_view_module": "@jupyter-widgets/base",
            "_model_module_version": "1.5.0",
            "_view_count": null,
            "_view_module_version": "1.2.0",
            "_model_module": "@jupyter-widgets/controls"
          }
        },
        "82943623d0394877b37f66994af19b33": {
          "model_module": "@jupyter-widgets/base",
          "model_name": "LayoutModel",
          "state": {
            "_view_name": "LayoutView",
            "grid_template_rows": null,
            "right": null,
            "justify_content": null,
            "_view_module": "@jupyter-widgets/base",
            "overflow": null,
            "_model_module_version": "1.2.0",
            "_view_count": null,
            "flex_flow": null,
            "width": null,
            "min_width": null,
            "border": null,
            "align_items": null,
            "bottom": null,
            "_model_module": "@jupyter-widgets/base",
            "top": null,
            "grid_column": null,
            "overflow_y": null,
            "overflow_x": null,
            "grid_auto_flow": null,
            "grid_area": null,
            "grid_template_columns": null,
            "flex": null,
            "_model_name": "LayoutModel",
            "justify_items": null,
            "grid_row": null,
            "max_height": null,
            "align_content": null,
            "visibility": null,
            "align_self": null,
            "height": null,
            "min_height": null,
            "padding": null,
            "grid_auto_rows": null,
            "grid_gap": null,
            "max_width": null,
            "order": null,
            "_view_module_version": "1.2.0",
            "grid_template_areas": null,
            "object_position": null,
            "object_fit": null,
            "grid_auto_columns": null,
            "margin": null,
            "display": null,
            "left": null
          }
        },
        "c9d82a07380b4b33bf5869d914be8b67": {
          "model_module": "@jupyter-widgets/controls",
          "model_name": "ProgressStyleModel",
          "state": {
            "_view_name": "StyleView",
            "_model_name": "ProgressStyleModel",
            "description_width": "",
            "_view_module": "@jupyter-widgets/base",
            "_model_module_version": "1.5.0",
            "_view_count": null,
            "_view_module_version": "1.2.0",
            "bar_color": null,
            "_model_module": "@jupyter-widgets/controls"
          }
        },
        "a5201733f03343efbc739c044461fe4b": {
          "model_module": "@jupyter-widgets/base",
          "model_name": "LayoutModel",
          "state": {
            "_view_name": "LayoutView",
            "grid_template_rows": null,
            "right": null,
            "justify_content": null,
            "_view_module": "@jupyter-widgets/base",
            "overflow": null,
            "_model_module_version": "1.2.0",
            "_view_count": null,
            "flex_flow": null,
            "width": null,
            "min_width": null,
            "border": null,
            "align_items": null,
            "bottom": null,
            "_model_module": "@jupyter-widgets/base",
            "top": null,
            "grid_column": null,
            "overflow_y": null,
            "overflow_x": null,
            "grid_auto_flow": null,
            "grid_area": null,
            "grid_template_columns": null,
            "flex": null,
            "_model_name": "LayoutModel",
            "justify_items": null,
            "grid_row": null,
            "max_height": null,
            "align_content": null,
            "visibility": null,
            "align_self": null,
            "height": null,
            "min_height": null,
            "padding": null,
            "grid_auto_rows": null,
            "grid_gap": null,
            "max_width": null,
            "order": null,
            "_view_module_version": "1.2.0",
            "grid_template_areas": null,
            "object_position": null,
            "object_fit": null,
            "grid_auto_columns": null,
            "margin": null,
            "display": null,
            "left": null
          }
        },
        "6fda556f85e2409e9c4dcc1b97a2094b": {
          "model_module": "@jupyter-widgets/controls",
          "model_name": "VBoxModel",
          "state": {
            "_view_name": "VBoxView",
            "_dom_classes": [],
            "_model_name": "VBoxModel",
            "_view_module": "@jupyter-widgets/controls",
            "_model_module_version": "1.5.0",
            "_view_count": null,
            "_view_module_version": "1.5.0",
            "box_style": "",
            "layout": "IPY_MODEL_9326a6da76484a739a679d5aeec2a7f9",
            "_model_module": "@jupyter-widgets/controls",
            "children": [
              "IPY_MODEL_b32718a71dd44895851f55fa298b7d7e",
              "IPY_MODEL_b9deb85e815843b8b8069470b2b3e7b5"
            ]
          }
        },
        "9326a6da76484a739a679d5aeec2a7f9": {
          "model_module": "@jupyter-widgets/base",
          "model_name": "LayoutModel",
          "state": {
            "_view_name": "LayoutView",
            "grid_template_rows": null,
            "right": null,
            "justify_content": null,
            "_view_module": "@jupyter-widgets/base",
            "overflow": null,
            "_model_module_version": "1.2.0",
            "_view_count": null,
            "flex_flow": null,
            "width": null,
            "min_width": null,
            "border": null,
            "align_items": null,
            "bottom": null,
            "_model_module": "@jupyter-widgets/base",
            "top": null,
            "grid_column": null,
            "overflow_y": null,
            "overflow_x": null,
            "grid_auto_flow": null,
            "grid_area": null,
            "grid_template_columns": null,
            "flex": null,
            "_model_name": "LayoutModel",
            "justify_items": null,
            "grid_row": null,
            "max_height": null,
            "align_content": null,
            "visibility": null,
            "align_self": null,
            "height": null,
            "min_height": null,
            "padding": null,
            "grid_auto_rows": null,
            "grid_gap": null,
            "max_width": null,
            "order": null,
            "_view_module_version": "1.2.0",
            "grid_template_areas": null,
            "object_position": null,
            "object_fit": null,
            "grid_auto_columns": null,
            "margin": null,
            "display": null,
            "left": null
          }
        },
        "b32718a71dd44895851f55fa298b7d7e": {
          "model_module": "@jupyter-widgets/controls",
          "model_name": "LabelModel",
          "state": {
            "_view_name": "LabelView",
            "style": "IPY_MODEL_0b6b2bf8523a43aa82aa3fc924782ac0",
            "_dom_classes": [],
            "description": "",
            "_model_name": "LabelModel",
            "placeholder": "​",
            "_view_module": "@jupyter-widgets/controls",
            "_model_module_version": "1.5.0",
            "value": " 1.20MB of 1.20MB uploaded (0.00MB deduped)\r",
            "_view_count": null,
            "_view_module_version": "1.5.0",
            "description_tooltip": null,
            "_model_module": "@jupyter-widgets/controls",
            "layout": "IPY_MODEL_3d0c9bc73c404063a64b381a1e585345"
          }
        },
        "b9deb85e815843b8b8069470b2b3e7b5": {
          "model_module": "@jupyter-widgets/controls",
          "model_name": "FloatProgressModel",
          "state": {
            "_view_name": "ProgressView",
            "style": "IPY_MODEL_47781d9d77bf49e5bc9addbd17fc8420",
            "_dom_classes": [],
            "description": "",
            "_model_name": "FloatProgressModel",
            "bar_style": "",
            "max": 1,
            "_view_module": "@jupyter-widgets/controls",
            "_model_module_version": "1.5.0",
            "value": 1,
            "_view_count": null,
            "_view_module_version": "1.5.0",
            "orientation": "horizontal",
            "min": 0,
            "description_tooltip": null,
            "_model_module": "@jupyter-widgets/controls",
            "layout": "IPY_MODEL_ffd196f7fe4b47ed814909bc135523bf"
          }
        },
        "0b6b2bf8523a43aa82aa3fc924782ac0": {
          "model_module": "@jupyter-widgets/controls",
          "model_name": "DescriptionStyleModel",
          "state": {
            "_view_name": "StyleView",
            "_model_name": "DescriptionStyleModel",
            "description_width": "",
            "_view_module": "@jupyter-widgets/base",
            "_model_module_version": "1.5.0",
            "_view_count": null,
            "_view_module_version": "1.2.0",
            "_model_module": "@jupyter-widgets/controls"
          }
        },
        "3d0c9bc73c404063a64b381a1e585345": {
          "model_module": "@jupyter-widgets/base",
          "model_name": "LayoutModel",
          "state": {
            "_view_name": "LayoutView",
            "grid_template_rows": null,
            "right": null,
            "justify_content": null,
            "_view_module": "@jupyter-widgets/base",
            "overflow": null,
            "_model_module_version": "1.2.0",
            "_view_count": null,
            "flex_flow": null,
            "width": null,
            "min_width": null,
            "border": null,
            "align_items": null,
            "bottom": null,
            "_model_module": "@jupyter-widgets/base",
            "top": null,
            "grid_column": null,
            "overflow_y": null,
            "overflow_x": null,
            "grid_auto_flow": null,
            "grid_area": null,
            "grid_template_columns": null,
            "flex": null,
            "_model_name": "LayoutModel",
            "justify_items": null,
            "grid_row": null,
            "max_height": null,
            "align_content": null,
            "visibility": null,
            "align_self": null,
            "height": null,
            "min_height": null,
            "padding": null,
            "grid_auto_rows": null,
            "grid_gap": null,
            "max_width": null,
            "order": null,
            "_view_module_version": "1.2.0",
            "grid_template_areas": null,
            "object_position": null,
            "object_fit": null,
            "grid_auto_columns": null,
            "margin": null,
            "display": null,
            "left": null
          }
        },
        "47781d9d77bf49e5bc9addbd17fc8420": {
          "model_module": "@jupyter-widgets/controls",
          "model_name": "ProgressStyleModel",
          "state": {
            "_view_name": "StyleView",
            "_model_name": "ProgressStyleModel",
            "description_width": "",
            "_view_module": "@jupyter-widgets/base",
            "_model_module_version": "1.5.0",
            "_view_count": null,
            "_view_module_version": "1.2.0",
            "bar_color": null,
            "_model_module": "@jupyter-widgets/controls"
          }
        },
        "ffd196f7fe4b47ed814909bc135523bf": {
          "model_module": "@jupyter-widgets/base",
          "model_name": "LayoutModel",
          "state": {
            "_view_name": "LayoutView",
            "grid_template_rows": null,
            "right": null,
            "justify_content": null,
            "_view_module": "@jupyter-widgets/base",
            "overflow": null,
            "_model_module_version": "1.2.0",
            "_view_count": null,
            "flex_flow": null,
            "width": null,
            "min_width": null,
            "border": null,
            "align_items": null,
            "bottom": null,
            "_model_module": "@jupyter-widgets/base",
            "top": null,
            "grid_column": null,
            "overflow_y": null,
            "overflow_x": null,
            "grid_auto_flow": null,
            "grid_area": null,
            "grid_template_columns": null,
            "flex": null,
            "_model_name": "LayoutModel",
            "justify_items": null,
            "grid_row": null,
            "max_height": null,
            "align_content": null,
            "visibility": null,
            "align_self": null,
            "height": null,
            "min_height": null,
            "padding": null,
            "grid_auto_rows": null,
            "grid_gap": null,
            "max_width": null,
            "order": null,
            "_view_module_version": "1.2.0",
            "grid_template_areas": null,
            "object_position": null,
            "object_fit": null,
            "grid_auto_columns": null,
            "margin": null,
            "display": null,
            "left": null
          }
        },
        "a904282f3f474bfaa9144cd368c032d7": {
          "model_module": "@jupyter-widgets/controls",
          "model_name": "VBoxModel",
          "state": {
            "_view_name": "VBoxView",
            "_dom_classes": [],
            "_model_name": "VBoxModel",
            "_view_module": "@jupyter-widgets/controls",
            "_model_module_version": "1.5.0",
            "_view_count": null,
            "_view_module_version": "1.5.0",
            "box_style": "",
            "layout": "IPY_MODEL_26c7a0f463b64618a6a62ecabe5e5826",
            "_model_module": "@jupyter-widgets/controls",
            "children": [
              "IPY_MODEL_b633942dd0e340c79bf61608f36e7451",
              "IPY_MODEL_1d665af45dbe483a8d23a33ba4d34f61"
            ]
          }
        },
        "26c7a0f463b64618a6a62ecabe5e5826": {
          "model_module": "@jupyter-widgets/base",
          "model_name": "LayoutModel",
          "state": {
            "_view_name": "LayoutView",
            "grid_template_rows": null,
            "right": null,
            "justify_content": null,
            "_view_module": "@jupyter-widgets/base",
            "overflow": null,
            "_model_module_version": "1.2.0",
            "_view_count": null,
            "flex_flow": null,
            "width": null,
            "min_width": null,
            "border": null,
            "align_items": null,
            "bottom": null,
            "_model_module": "@jupyter-widgets/base",
            "top": null,
            "grid_column": null,
            "overflow_y": null,
            "overflow_x": null,
            "grid_auto_flow": null,
            "grid_area": null,
            "grid_template_columns": null,
            "flex": null,
            "_model_name": "LayoutModel",
            "justify_items": null,
            "grid_row": null,
            "max_height": null,
            "align_content": null,
            "visibility": null,
            "align_self": null,
            "height": null,
            "min_height": null,
            "padding": null,
            "grid_auto_rows": null,
            "grid_gap": null,
            "max_width": null,
            "order": null,
            "_view_module_version": "1.2.0",
            "grid_template_areas": null,
            "object_position": null,
            "object_fit": null,
            "grid_auto_columns": null,
            "margin": null,
            "display": null,
            "left": null
          }
        },
        "b633942dd0e340c79bf61608f36e7451": {
          "model_module": "@jupyter-widgets/controls",
          "model_name": "LabelModel",
          "state": {
            "_view_name": "LabelView",
            "style": "IPY_MODEL_ff419740b9f442c784dd191b87b6e390",
            "_dom_classes": [],
            "description": "",
            "_model_name": "LabelModel",
            "placeholder": "​",
            "_view_module": "@jupyter-widgets/controls",
            "_model_module_version": "1.5.0",
            "value": "",
            "_view_count": null,
            "_view_module_version": "1.5.0",
            "description_tooltip": null,
            "_model_module": "@jupyter-widgets/controls",
            "layout": "IPY_MODEL_c92b4c84b8c84bb09495a1e1c81dd88c"
          }
        },
        "1d665af45dbe483a8d23a33ba4d34f61": {
          "model_module": "@jupyter-widgets/controls",
          "model_name": "FloatProgressModel",
          "state": {
            "_view_name": "ProgressView",
            "style": "IPY_MODEL_84778296ab44443498b7bea895e551eb",
            "_dom_classes": [],
            "description": "",
            "_model_name": "FloatProgressModel",
            "bar_style": "",
            "max": 1,
            "_view_module": "@jupyter-widgets/controls",
            "_model_module_version": "1.5.0",
            "value": 0,
            "_view_count": null,
            "_view_module_version": "1.5.0",
            "orientation": "horizontal",
            "min": 0,
            "description_tooltip": null,
            "_model_module": "@jupyter-widgets/controls",
            "layout": "IPY_MODEL_0e35940caeb44b349b36f41c48632af6"
          }
        },
        "ff419740b9f442c784dd191b87b6e390": {
          "model_module": "@jupyter-widgets/controls",
          "model_name": "DescriptionStyleModel",
          "state": {
            "_view_name": "StyleView",
            "_model_name": "DescriptionStyleModel",
            "description_width": "",
            "_view_module": "@jupyter-widgets/base",
            "_model_module_version": "1.5.0",
            "_view_count": null,
            "_view_module_version": "1.2.0",
            "_model_module": "@jupyter-widgets/controls"
          }
        },
        "c92b4c84b8c84bb09495a1e1c81dd88c": {
          "model_module": "@jupyter-widgets/base",
          "model_name": "LayoutModel",
          "state": {
            "_view_name": "LayoutView",
            "grid_template_rows": null,
            "right": null,
            "justify_content": null,
            "_view_module": "@jupyter-widgets/base",
            "overflow": null,
            "_model_module_version": "1.2.0",
            "_view_count": null,
            "flex_flow": null,
            "width": null,
            "min_width": null,
            "border": null,
            "align_items": null,
            "bottom": null,
            "_model_module": "@jupyter-widgets/base",
            "top": null,
            "grid_column": null,
            "overflow_y": null,
            "overflow_x": null,
            "grid_auto_flow": null,
            "grid_area": null,
            "grid_template_columns": null,
            "flex": null,
            "_model_name": "LayoutModel",
            "justify_items": null,
            "grid_row": null,
            "max_height": null,
            "align_content": null,
            "visibility": null,
            "align_self": null,
            "height": null,
            "min_height": null,
            "padding": null,
            "grid_auto_rows": null,
            "grid_gap": null,
            "max_width": null,
            "order": null,
            "_view_module_version": "1.2.0",
            "grid_template_areas": null,
            "object_position": null,
            "object_fit": null,
            "grid_auto_columns": null,
            "margin": null,
            "display": null,
            "left": null
          }
        },
        "84778296ab44443498b7bea895e551eb": {
          "model_module": "@jupyter-widgets/controls",
          "model_name": "ProgressStyleModel",
          "state": {
            "_view_name": "StyleView",
            "_model_name": "ProgressStyleModel",
            "description_width": "",
            "_view_module": "@jupyter-widgets/base",
            "_model_module_version": "1.5.0",
            "_view_count": null,
            "_view_module_version": "1.2.0",
            "bar_color": null,
            "_model_module": "@jupyter-widgets/controls"
          }
        },
        "0e35940caeb44b349b36f41c48632af6": {
          "model_module": "@jupyter-widgets/base",
          "model_name": "LayoutModel",
          "state": {
            "_view_name": "LayoutView",
            "grid_template_rows": null,
            "right": null,
            "justify_content": null,
            "_view_module": "@jupyter-widgets/base",
            "overflow": null,
            "_model_module_version": "1.2.0",
            "_view_count": null,
            "flex_flow": null,
            "width": null,
            "min_width": null,
            "border": null,
            "align_items": null,
            "bottom": null,
            "_model_module": "@jupyter-widgets/base",
            "top": null,
            "grid_column": null,
            "overflow_y": null,
            "overflow_x": null,
            "grid_auto_flow": null,
            "grid_area": null,
            "grid_template_columns": null,
            "flex": null,
            "_model_name": "LayoutModel",
            "justify_items": null,
            "grid_row": null,
            "max_height": null,
            "align_content": null,
            "visibility": null,
            "align_self": null,
            "height": null,
            "min_height": null,
            "padding": null,
            "grid_auto_rows": null,
            "grid_gap": null,
            "max_width": null,
            "order": null,
            "_view_module_version": "1.2.0",
            "grid_template_areas": null,
            "object_position": null,
            "object_fit": null,
            "grid_auto_columns": null,
            "margin": null,
            "display": null,
            "left": null
          }
        },
        "ddc95073554740f28cc6788bc5abedba": {
          "model_module": "@jupyter-widgets/controls",
          "model_name": "VBoxModel",
          "state": {
            "_view_name": "VBoxView",
            "_dom_classes": [],
            "_model_name": "VBoxModel",
            "_view_module": "@jupyter-widgets/controls",
            "_model_module_version": "1.5.0",
            "_view_count": null,
            "_view_module_version": "1.5.0",
            "box_style": "",
            "layout": "IPY_MODEL_407479a1c74b48f3ae6c1725184eb69d",
            "_model_module": "@jupyter-widgets/controls",
            "children": [
              "IPY_MODEL_5711837956144c57bc57baead0b1ed41",
              "IPY_MODEL_db217c240e5c4d0faf81a288cc8b5e6d"
            ]
          }
        },
        "407479a1c74b48f3ae6c1725184eb69d": {
          "model_module": "@jupyter-widgets/base",
          "model_name": "LayoutModel",
          "state": {
            "_view_name": "LayoutView",
            "grid_template_rows": null,
            "right": null,
            "justify_content": null,
            "_view_module": "@jupyter-widgets/base",
            "overflow": null,
            "_model_module_version": "1.2.0",
            "_view_count": null,
            "flex_flow": null,
            "width": null,
            "min_width": null,
            "border": null,
            "align_items": null,
            "bottom": null,
            "_model_module": "@jupyter-widgets/base",
            "top": null,
            "grid_column": null,
            "overflow_y": null,
            "overflow_x": null,
            "grid_auto_flow": null,
            "grid_area": null,
            "grid_template_columns": null,
            "flex": null,
            "_model_name": "LayoutModel",
            "justify_items": null,
            "grid_row": null,
            "max_height": null,
            "align_content": null,
            "visibility": null,
            "align_self": null,
            "height": null,
            "min_height": null,
            "padding": null,
            "grid_auto_rows": null,
            "grid_gap": null,
            "max_width": null,
            "order": null,
            "_view_module_version": "1.2.0",
            "grid_template_areas": null,
            "object_position": null,
            "object_fit": null,
            "grid_auto_columns": null,
            "margin": null,
            "display": null,
            "left": null
          }
        },
        "5711837956144c57bc57baead0b1ed41": {
          "model_module": "@jupyter-widgets/controls",
          "model_name": "LabelModel",
          "state": {
            "_view_name": "LabelView",
            "style": "IPY_MODEL_17ec1834a46e4a29bbe6a85b9c421936",
            "_dom_classes": [],
            "description": "",
            "_model_name": "LabelModel",
            "placeholder": "​",
            "_view_module": "@jupyter-widgets/controls",
            "_model_module_version": "1.5.0",
            "value": " 1.02MB of 1.02MB uploaded (0.00MB deduped)\r",
            "_view_count": null,
            "_view_module_version": "1.5.0",
            "description_tooltip": null,
            "_model_module": "@jupyter-widgets/controls",
            "layout": "IPY_MODEL_b146fd0601b0492dad8ff120ea0b938b"
          }
        },
        "db217c240e5c4d0faf81a288cc8b5e6d": {
          "model_module": "@jupyter-widgets/controls",
          "model_name": "FloatProgressModel",
          "state": {
            "_view_name": "ProgressView",
            "style": "IPY_MODEL_d48df03d97b74583802fcdf00bce6162",
            "_dom_classes": [],
            "description": "",
            "_model_name": "FloatProgressModel",
            "bar_style": "",
            "max": 1,
            "_view_module": "@jupyter-widgets/controls",
            "_model_module_version": "1.5.0",
            "value": 1,
            "_view_count": null,
            "_view_module_version": "1.5.0",
            "orientation": "horizontal",
            "min": 0,
            "description_tooltip": null,
            "_model_module": "@jupyter-widgets/controls",
            "layout": "IPY_MODEL_374b8c8d98fa48afb66aa3407fb375d1"
          }
        },
        "17ec1834a46e4a29bbe6a85b9c421936": {
          "model_module": "@jupyter-widgets/controls",
          "model_name": "DescriptionStyleModel",
          "state": {
            "_view_name": "StyleView",
            "_model_name": "DescriptionStyleModel",
            "description_width": "",
            "_view_module": "@jupyter-widgets/base",
            "_model_module_version": "1.5.0",
            "_view_count": null,
            "_view_module_version": "1.2.0",
            "_model_module": "@jupyter-widgets/controls"
          }
        },
        "b146fd0601b0492dad8ff120ea0b938b": {
          "model_module": "@jupyter-widgets/base",
          "model_name": "LayoutModel",
          "state": {
            "_view_name": "LayoutView",
            "grid_template_rows": null,
            "right": null,
            "justify_content": null,
            "_view_module": "@jupyter-widgets/base",
            "overflow": null,
            "_model_module_version": "1.2.0",
            "_view_count": null,
            "flex_flow": null,
            "width": null,
            "min_width": null,
            "border": null,
            "align_items": null,
            "bottom": null,
            "_model_module": "@jupyter-widgets/base",
            "top": null,
            "grid_column": null,
            "overflow_y": null,
            "overflow_x": null,
            "grid_auto_flow": null,
            "grid_area": null,
            "grid_template_columns": null,
            "flex": null,
            "_model_name": "LayoutModel",
            "justify_items": null,
            "grid_row": null,
            "max_height": null,
            "align_content": null,
            "visibility": null,
            "align_self": null,
            "height": null,
            "min_height": null,
            "padding": null,
            "grid_auto_rows": null,
            "grid_gap": null,
            "max_width": null,
            "order": null,
            "_view_module_version": "1.2.0",
            "grid_template_areas": null,
            "object_position": null,
            "object_fit": null,
            "grid_auto_columns": null,
            "margin": null,
            "display": null,
            "left": null
          }
        },
        "d48df03d97b74583802fcdf00bce6162": {
          "model_module": "@jupyter-widgets/controls",
          "model_name": "ProgressStyleModel",
          "state": {
            "_view_name": "StyleView",
            "_model_name": "ProgressStyleModel",
            "description_width": "",
            "_view_module": "@jupyter-widgets/base",
            "_model_module_version": "1.5.0",
            "_view_count": null,
            "_view_module_version": "1.2.0",
            "bar_color": null,
            "_model_module": "@jupyter-widgets/controls"
          }
        },
        "374b8c8d98fa48afb66aa3407fb375d1": {
          "model_module": "@jupyter-widgets/base",
          "model_name": "LayoutModel",
          "state": {
            "_view_name": "LayoutView",
            "grid_template_rows": null,
            "right": null,
            "justify_content": null,
            "_view_module": "@jupyter-widgets/base",
            "overflow": null,
            "_model_module_version": "1.2.0",
            "_view_count": null,
            "flex_flow": null,
            "width": null,
            "min_width": null,
            "border": null,
            "align_items": null,
            "bottom": null,
            "_model_module": "@jupyter-widgets/base",
            "top": null,
            "grid_column": null,
            "overflow_y": null,
            "overflow_x": null,
            "grid_auto_flow": null,
            "grid_area": null,
            "grid_template_columns": null,
            "flex": null,
            "_model_name": "LayoutModel",
            "justify_items": null,
            "grid_row": null,
            "max_height": null,
            "align_content": null,
            "visibility": null,
            "align_self": null,
            "height": null,
            "min_height": null,
            "padding": null,
            "grid_auto_rows": null,
            "grid_gap": null,
            "max_width": null,
            "order": null,
            "_view_module_version": "1.2.0",
            "grid_template_areas": null,
            "object_position": null,
            "object_fit": null,
            "grid_auto_columns": null,
            "margin": null,
            "display": null,
            "left": null
          }
        },
        "613e20476dd04b5fbb32206daaaad17c": {
          "model_module": "@jupyter-widgets/controls",
          "model_name": "VBoxModel",
          "state": {
            "_view_name": "VBoxView",
            "_dom_classes": [],
            "_model_name": "VBoxModel",
            "_view_module": "@jupyter-widgets/controls",
            "_model_module_version": "1.5.0",
            "_view_count": null,
            "_view_module_version": "1.5.0",
            "box_style": "",
            "layout": "IPY_MODEL_7244b90abb324c599a14089d8340795e",
            "_model_module": "@jupyter-widgets/controls",
            "children": [
              "IPY_MODEL_4b3ab9d0c5ee4508b56b2f15302031b4",
              "IPY_MODEL_57b1327af8a94817a27d18ff7e3cf6ac"
            ]
          }
        },
        "7244b90abb324c599a14089d8340795e": {
          "model_module": "@jupyter-widgets/base",
          "model_name": "LayoutModel",
          "state": {
            "_view_name": "LayoutView",
            "grid_template_rows": null,
            "right": null,
            "justify_content": null,
            "_view_module": "@jupyter-widgets/base",
            "overflow": null,
            "_model_module_version": "1.2.0",
            "_view_count": null,
            "flex_flow": null,
            "width": null,
            "min_width": null,
            "border": null,
            "align_items": null,
            "bottom": null,
            "_model_module": "@jupyter-widgets/base",
            "top": null,
            "grid_column": null,
            "overflow_y": null,
            "overflow_x": null,
            "grid_auto_flow": null,
            "grid_area": null,
            "grid_template_columns": null,
            "flex": null,
            "_model_name": "LayoutModel",
            "justify_items": null,
            "grid_row": null,
            "max_height": null,
            "align_content": null,
            "visibility": null,
            "align_self": null,
            "height": null,
            "min_height": null,
            "padding": null,
            "grid_auto_rows": null,
            "grid_gap": null,
            "max_width": null,
            "order": null,
            "_view_module_version": "1.2.0",
            "grid_template_areas": null,
            "object_position": null,
            "object_fit": null,
            "grid_auto_columns": null,
            "margin": null,
            "display": null,
            "left": null
          }
        },
        "4b3ab9d0c5ee4508b56b2f15302031b4": {
          "model_module": "@jupyter-widgets/controls",
          "model_name": "LabelModel",
          "state": {
            "_view_name": "LabelView",
            "style": "IPY_MODEL_146115c2298446fbac13063b317d5ff3",
            "_dom_classes": [],
            "description": "",
            "_model_name": "LabelModel",
            "placeholder": "​",
            "_view_module": "@jupyter-widgets/controls",
            "_model_module_version": "1.5.0",
            "value": " 1.07MB of 1.07MB uploaded (0.00MB deduped)\r",
            "_view_count": null,
            "_view_module_version": "1.5.0",
            "description_tooltip": null,
            "_model_module": "@jupyter-widgets/controls",
            "layout": "IPY_MODEL_8f952e27e37144b2800d880709990e4a"
          }
        },
        "57b1327af8a94817a27d18ff7e3cf6ac": {
          "model_module": "@jupyter-widgets/controls",
          "model_name": "FloatProgressModel",
          "state": {
            "_view_name": "ProgressView",
            "style": "IPY_MODEL_6559f813a863494fbd209830bb680ec7",
            "_dom_classes": [],
            "description": "",
            "_model_name": "FloatProgressModel",
            "bar_style": "",
            "max": 1,
            "_view_module": "@jupyter-widgets/controls",
            "_model_module_version": "1.5.0",
            "value": 1,
            "_view_count": null,
            "_view_module_version": "1.5.0",
            "orientation": "horizontal",
            "min": 0,
            "description_tooltip": null,
            "_model_module": "@jupyter-widgets/controls",
            "layout": "IPY_MODEL_f4352a4e0e0b49b69f33388268f5f5c3"
          }
        },
        "146115c2298446fbac13063b317d5ff3": {
          "model_module": "@jupyter-widgets/controls",
          "model_name": "DescriptionStyleModel",
          "state": {
            "_view_name": "StyleView",
            "_model_name": "DescriptionStyleModel",
            "description_width": "",
            "_view_module": "@jupyter-widgets/base",
            "_model_module_version": "1.5.0",
            "_view_count": null,
            "_view_module_version": "1.2.0",
            "_model_module": "@jupyter-widgets/controls"
          }
        },
        "8f952e27e37144b2800d880709990e4a": {
          "model_module": "@jupyter-widgets/base",
          "model_name": "LayoutModel",
          "state": {
            "_view_name": "LayoutView",
            "grid_template_rows": null,
            "right": null,
            "justify_content": null,
            "_view_module": "@jupyter-widgets/base",
            "overflow": null,
            "_model_module_version": "1.2.0",
            "_view_count": null,
            "flex_flow": null,
            "width": null,
            "min_width": null,
            "border": null,
            "align_items": null,
            "bottom": null,
            "_model_module": "@jupyter-widgets/base",
            "top": null,
            "grid_column": null,
            "overflow_y": null,
            "overflow_x": null,
            "grid_auto_flow": null,
            "grid_area": null,
            "grid_template_columns": null,
            "flex": null,
            "_model_name": "LayoutModel",
            "justify_items": null,
            "grid_row": null,
            "max_height": null,
            "align_content": null,
            "visibility": null,
            "align_self": null,
            "height": null,
            "min_height": null,
            "padding": null,
            "grid_auto_rows": null,
            "grid_gap": null,
            "max_width": null,
            "order": null,
            "_view_module_version": "1.2.0",
            "grid_template_areas": null,
            "object_position": null,
            "object_fit": null,
            "grid_auto_columns": null,
            "margin": null,
            "display": null,
            "left": null
          }
        },
        "6559f813a863494fbd209830bb680ec7": {
          "model_module": "@jupyter-widgets/controls",
          "model_name": "ProgressStyleModel",
          "state": {
            "_view_name": "StyleView",
            "_model_name": "ProgressStyleModel",
            "description_width": "",
            "_view_module": "@jupyter-widgets/base",
            "_model_module_version": "1.5.0",
            "_view_count": null,
            "_view_module_version": "1.2.0",
            "bar_color": null,
            "_model_module": "@jupyter-widgets/controls"
          }
        },
        "f4352a4e0e0b49b69f33388268f5f5c3": {
          "model_module": "@jupyter-widgets/base",
          "model_name": "LayoutModel",
          "state": {
            "_view_name": "LayoutView",
            "grid_template_rows": null,
            "right": null,
            "justify_content": null,
            "_view_module": "@jupyter-widgets/base",
            "overflow": null,
            "_model_module_version": "1.2.0",
            "_view_count": null,
            "flex_flow": null,
            "width": null,
            "min_width": null,
            "border": null,
            "align_items": null,
            "bottom": null,
            "_model_module": "@jupyter-widgets/base",
            "top": null,
            "grid_column": null,
            "overflow_y": null,
            "overflow_x": null,
            "grid_auto_flow": null,
            "grid_area": null,
            "grid_template_columns": null,
            "flex": null,
            "_model_name": "LayoutModel",
            "justify_items": null,
            "grid_row": null,
            "max_height": null,
            "align_content": null,
            "visibility": null,
            "align_self": null,
            "height": null,
            "min_height": null,
            "padding": null,
            "grid_auto_rows": null,
            "grid_gap": null,
            "max_width": null,
            "order": null,
            "_view_module_version": "1.2.0",
            "grid_template_areas": null,
            "object_position": null,
            "object_fit": null,
            "grid_auto_columns": null,
            "margin": null,
            "display": null,
            "left": null
          }
        },
        "3d273f4350254893b5a4d00850bb86dc": {
          "model_module": "@jupyter-widgets/controls",
          "model_name": "VBoxModel",
          "state": {
            "_view_name": "VBoxView",
            "_dom_classes": [],
            "_model_name": "VBoxModel",
            "_view_module": "@jupyter-widgets/controls",
            "_model_module_version": "1.5.0",
            "_view_count": null,
            "_view_module_version": "1.5.0",
            "box_style": "",
            "layout": "IPY_MODEL_a5dbe971bdcd473f800dd2e28ea684d5",
            "_model_module": "@jupyter-widgets/controls",
            "children": [
              "IPY_MODEL_441238463eac4624b659e9f8b7446339",
              "IPY_MODEL_f26f2665305c4482b169ae3bfa54acb9"
            ]
          }
        },
        "a5dbe971bdcd473f800dd2e28ea684d5": {
          "model_module": "@jupyter-widgets/base",
          "model_name": "LayoutModel",
          "state": {
            "_view_name": "LayoutView",
            "grid_template_rows": null,
            "right": null,
            "justify_content": null,
            "_view_module": "@jupyter-widgets/base",
            "overflow": null,
            "_model_module_version": "1.2.0",
            "_view_count": null,
            "flex_flow": null,
            "width": null,
            "min_width": null,
            "border": null,
            "align_items": null,
            "bottom": null,
            "_model_module": "@jupyter-widgets/base",
            "top": null,
            "grid_column": null,
            "overflow_y": null,
            "overflow_x": null,
            "grid_auto_flow": null,
            "grid_area": null,
            "grid_template_columns": null,
            "flex": null,
            "_model_name": "LayoutModel",
            "justify_items": null,
            "grid_row": null,
            "max_height": null,
            "align_content": null,
            "visibility": null,
            "align_self": null,
            "height": null,
            "min_height": null,
            "padding": null,
            "grid_auto_rows": null,
            "grid_gap": null,
            "max_width": null,
            "order": null,
            "_view_module_version": "1.2.0",
            "grid_template_areas": null,
            "object_position": null,
            "object_fit": null,
            "grid_auto_columns": null,
            "margin": null,
            "display": null,
            "left": null
          }
        },
        "441238463eac4624b659e9f8b7446339": {
          "model_module": "@jupyter-widgets/controls",
          "model_name": "LabelModel",
          "state": {
            "_view_name": "LabelView",
            "style": "IPY_MODEL_319efc3572a14cf6a9b8f75ab23ef13e",
            "_dom_classes": [],
            "description": "",
            "_model_name": "LabelModel",
            "placeholder": "​",
            "_view_module": "@jupyter-widgets/controls",
            "_model_module_version": "1.5.0",
            "value": " 1.20MB of 1.20MB uploaded (0.00MB deduped)\r",
            "_view_count": null,
            "_view_module_version": "1.5.0",
            "description_tooltip": null,
            "_model_module": "@jupyter-widgets/controls",
            "layout": "IPY_MODEL_237d5d6af6a84b2da42a83abc98da584"
          }
        },
        "f26f2665305c4482b169ae3bfa54acb9": {
          "model_module": "@jupyter-widgets/controls",
          "model_name": "FloatProgressModel",
          "state": {
            "_view_name": "ProgressView",
            "style": "IPY_MODEL_5c64d3f1032d406bb1ac561bf30efe85",
            "_dom_classes": [],
            "description": "",
            "_model_name": "FloatProgressModel",
            "bar_style": "",
            "max": 1,
            "_view_module": "@jupyter-widgets/controls",
            "_model_module_version": "1.5.0",
            "value": 1,
            "_view_count": null,
            "_view_module_version": "1.5.0",
            "orientation": "horizontal",
            "min": 0,
            "description_tooltip": null,
            "_model_module": "@jupyter-widgets/controls",
            "layout": "IPY_MODEL_10bc5ca2855f479d8426bc9e97af1b3e"
          }
        },
        "319efc3572a14cf6a9b8f75ab23ef13e": {
          "model_module": "@jupyter-widgets/controls",
          "model_name": "DescriptionStyleModel",
          "state": {
            "_view_name": "StyleView",
            "_model_name": "DescriptionStyleModel",
            "description_width": "",
            "_view_module": "@jupyter-widgets/base",
            "_model_module_version": "1.5.0",
            "_view_count": null,
            "_view_module_version": "1.2.0",
            "_model_module": "@jupyter-widgets/controls"
          }
        },
        "237d5d6af6a84b2da42a83abc98da584": {
          "model_module": "@jupyter-widgets/base",
          "model_name": "LayoutModel",
          "state": {
            "_view_name": "LayoutView",
            "grid_template_rows": null,
            "right": null,
            "justify_content": null,
            "_view_module": "@jupyter-widgets/base",
            "overflow": null,
            "_model_module_version": "1.2.0",
            "_view_count": null,
            "flex_flow": null,
            "width": null,
            "min_width": null,
            "border": null,
            "align_items": null,
            "bottom": null,
            "_model_module": "@jupyter-widgets/base",
            "top": null,
            "grid_column": null,
            "overflow_y": null,
            "overflow_x": null,
            "grid_auto_flow": null,
            "grid_area": null,
            "grid_template_columns": null,
            "flex": null,
            "_model_name": "LayoutModel",
            "justify_items": null,
            "grid_row": null,
            "max_height": null,
            "align_content": null,
            "visibility": null,
            "align_self": null,
            "height": null,
            "min_height": null,
            "padding": null,
            "grid_auto_rows": null,
            "grid_gap": null,
            "max_width": null,
            "order": null,
            "_view_module_version": "1.2.0",
            "grid_template_areas": null,
            "object_position": null,
            "object_fit": null,
            "grid_auto_columns": null,
            "margin": null,
            "display": null,
            "left": null
          }
        },
        "5c64d3f1032d406bb1ac561bf30efe85": {
          "model_module": "@jupyter-widgets/controls",
          "model_name": "ProgressStyleModel",
          "state": {
            "_view_name": "StyleView",
            "_model_name": "ProgressStyleModel",
            "description_width": "",
            "_view_module": "@jupyter-widgets/base",
            "_model_module_version": "1.5.0",
            "_view_count": null,
            "_view_module_version": "1.2.0",
            "bar_color": null,
            "_model_module": "@jupyter-widgets/controls"
          }
        },
        "10bc5ca2855f479d8426bc9e97af1b3e": {
          "model_module": "@jupyter-widgets/base",
          "model_name": "LayoutModel",
          "state": {
            "_view_name": "LayoutView",
            "grid_template_rows": null,
            "right": null,
            "justify_content": null,
            "_view_module": "@jupyter-widgets/base",
            "overflow": null,
            "_model_module_version": "1.2.0",
            "_view_count": null,
            "flex_flow": null,
            "width": null,
            "min_width": null,
            "border": null,
            "align_items": null,
            "bottom": null,
            "_model_module": "@jupyter-widgets/base",
            "top": null,
            "grid_column": null,
            "overflow_y": null,
            "overflow_x": null,
            "grid_auto_flow": null,
            "grid_area": null,
            "grid_template_columns": null,
            "flex": null,
            "_model_name": "LayoutModel",
            "justify_items": null,
            "grid_row": null,
            "max_height": null,
            "align_content": null,
            "visibility": null,
            "align_self": null,
            "height": null,
            "min_height": null,
            "padding": null,
            "grid_auto_rows": null,
            "grid_gap": null,
            "max_width": null,
            "order": null,
            "_view_module_version": "1.2.0",
            "grid_template_areas": null,
            "object_position": null,
            "object_fit": null,
            "grid_auto_columns": null,
            "margin": null,
            "display": null,
            "left": null
          }
        },
        "3bb08425179d4bfe8b0844b260bd5dbd": {
          "model_module": "@jupyter-widgets/controls",
          "model_name": "VBoxModel",
          "state": {
            "_view_name": "VBoxView",
            "_dom_classes": [],
            "_model_name": "VBoxModel",
            "_view_module": "@jupyter-widgets/controls",
            "_model_module_version": "1.5.0",
            "_view_count": null,
            "_view_module_version": "1.5.0",
            "box_style": "",
            "layout": "IPY_MODEL_f37282bf6c2d4e34afc63c5dfa012754",
            "_model_module": "@jupyter-widgets/controls",
            "children": [
              "IPY_MODEL_12c129ecf24e43268fd857146019c62e",
              "IPY_MODEL_29be9ef3f7d54ad1874ede4657412ac9"
            ]
          }
        },
        "f37282bf6c2d4e34afc63c5dfa012754": {
          "model_module": "@jupyter-widgets/base",
          "model_name": "LayoutModel",
          "state": {
            "_view_name": "LayoutView",
            "grid_template_rows": null,
            "right": null,
            "justify_content": null,
            "_view_module": "@jupyter-widgets/base",
            "overflow": null,
            "_model_module_version": "1.2.0",
            "_view_count": null,
            "flex_flow": null,
            "width": null,
            "min_width": null,
            "border": null,
            "align_items": null,
            "bottom": null,
            "_model_module": "@jupyter-widgets/base",
            "top": null,
            "grid_column": null,
            "overflow_y": null,
            "overflow_x": null,
            "grid_auto_flow": null,
            "grid_area": null,
            "grid_template_columns": null,
            "flex": null,
            "_model_name": "LayoutModel",
            "justify_items": null,
            "grid_row": null,
            "max_height": null,
            "align_content": null,
            "visibility": null,
            "align_self": null,
            "height": null,
            "min_height": null,
            "padding": null,
            "grid_auto_rows": null,
            "grid_gap": null,
            "max_width": null,
            "order": null,
            "_view_module_version": "1.2.0",
            "grid_template_areas": null,
            "object_position": null,
            "object_fit": null,
            "grid_auto_columns": null,
            "margin": null,
            "display": null,
            "left": null
          }
        },
        "12c129ecf24e43268fd857146019c62e": {
          "model_module": "@jupyter-widgets/controls",
          "model_name": "LabelModel",
          "state": {
            "_view_name": "LabelView",
            "style": "IPY_MODEL_4f3a2abf6cb34b208ee3a19feb585928",
            "_dom_classes": [],
            "description": "",
            "_model_name": "LabelModel",
            "placeholder": "​",
            "_view_module": "@jupyter-widgets/controls",
            "_model_module_version": "1.5.0",
            "value": " 1.34MB of 1.34MB uploaded (0.00MB deduped)\r",
            "_view_count": null,
            "_view_module_version": "1.5.0",
            "description_tooltip": null,
            "_model_module": "@jupyter-widgets/controls",
            "layout": "IPY_MODEL_a1b97541f66a4d9db2c10ae9991f2f06"
          }
        },
        "29be9ef3f7d54ad1874ede4657412ac9": {
          "model_module": "@jupyter-widgets/controls",
          "model_name": "FloatProgressModel",
          "state": {
            "_view_name": "ProgressView",
            "style": "IPY_MODEL_9eb299d6d01d4ced81c286d0a50eba72",
            "_dom_classes": [],
            "description": "",
            "_model_name": "FloatProgressModel",
            "bar_style": "",
            "max": 1,
            "_view_module": "@jupyter-widgets/controls",
            "_model_module_version": "1.5.0",
            "value": 1,
            "_view_count": null,
            "_view_module_version": "1.5.0",
            "orientation": "horizontal",
            "min": 0,
            "description_tooltip": null,
            "_model_module": "@jupyter-widgets/controls",
            "layout": "IPY_MODEL_dfcf8026aa434bdd936883dd1083ec6b"
          }
        },
        "4f3a2abf6cb34b208ee3a19feb585928": {
          "model_module": "@jupyter-widgets/controls",
          "model_name": "DescriptionStyleModel",
          "state": {
            "_view_name": "StyleView",
            "_model_name": "DescriptionStyleModel",
            "description_width": "",
            "_view_module": "@jupyter-widgets/base",
            "_model_module_version": "1.5.0",
            "_view_count": null,
            "_view_module_version": "1.2.0",
            "_model_module": "@jupyter-widgets/controls"
          }
        },
        "a1b97541f66a4d9db2c10ae9991f2f06": {
          "model_module": "@jupyter-widgets/base",
          "model_name": "LayoutModel",
          "state": {
            "_view_name": "LayoutView",
            "grid_template_rows": null,
            "right": null,
            "justify_content": null,
            "_view_module": "@jupyter-widgets/base",
            "overflow": null,
            "_model_module_version": "1.2.0",
            "_view_count": null,
            "flex_flow": null,
            "width": null,
            "min_width": null,
            "border": null,
            "align_items": null,
            "bottom": null,
            "_model_module": "@jupyter-widgets/base",
            "top": null,
            "grid_column": null,
            "overflow_y": null,
            "overflow_x": null,
            "grid_auto_flow": null,
            "grid_area": null,
            "grid_template_columns": null,
            "flex": null,
            "_model_name": "LayoutModel",
            "justify_items": null,
            "grid_row": null,
            "max_height": null,
            "align_content": null,
            "visibility": null,
            "align_self": null,
            "height": null,
            "min_height": null,
            "padding": null,
            "grid_auto_rows": null,
            "grid_gap": null,
            "max_width": null,
            "order": null,
            "_view_module_version": "1.2.0",
            "grid_template_areas": null,
            "object_position": null,
            "object_fit": null,
            "grid_auto_columns": null,
            "margin": null,
            "display": null,
            "left": null
          }
        },
        "9eb299d6d01d4ced81c286d0a50eba72": {
          "model_module": "@jupyter-widgets/controls",
          "model_name": "ProgressStyleModel",
          "state": {
            "_view_name": "StyleView",
            "_model_name": "ProgressStyleModel",
            "description_width": "",
            "_view_module": "@jupyter-widgets/base",
            "_model_module_version": "1.5.0",
            "_view_count": null,
            "_view_module_version": "1.2.0",
            "bar_color": null,
            "_model_module": "@jupyter-widgets/controls"
          }
        },
        "dfcf8026aa434bdd936883dd1083ec6b": {
          "model_module": "@jupyter-widgets/base",
          "model_name": "LayoutModel",
          "state": {
            "_view_name": "LayoutView",
            "grid_template_rows": null,
            "right": null,
            "justify_content": null,
            "_view_module": "@jupyter-widgets/base",
            "overflow": null,
            "_model_module_version": "1.2.0",
            "_view_count": null,
            "flex_flow": null,
            "width": null,
            "min_width": null,
            "border": null,
            "align_items": null,
            "bottom": null,
            "_model_module": "@jupyter-widgets/base",
            "top": null,
            "grid_column": null,
            "overflow_y": null,
            "overflow_x": null,
            "grid_auto_flow": null,
            "grid_area": null,
            "grid_template_columns": null,
            "flex": null,
            "_model_name": "LayoutModel",
            "justify_items": null,
            "grid_row": null,
            "max_height": null,
            "align_content": null,
            "visibility": null,
            "align_self": null,
            "height": null,
            "min_height": null,
            "padding": null,
            "grid_auto_rows": null,
            "grid_gap": null,
            "max_width": null,
            "order": null,
            "_view_module_version": "1.2.0",
            "grid_template_areas": null,
            "object_position": null,
            "object_fit": null,
            "grid_auto_columns": null,
            "margin": null,
            "display": null,
            "left": null
          }
        }
      }
    }
  },
  "cells": [
    {
      "cell_type": "markdown",
      "metadata": {
        "id": "view-in-github",
        "colab_type": "text"
      },
      "source": [
        "<a href=\"https://colab.research.google.com/github/silverstar0727/pragmatism-AI/blob/main/VGG(cifar10).ipynb\" target=\"_parent\"><img src=\"https://colab.research.google.com/assets/colab-badge.svg\" alt=\"Open In Colab\"/></a>"
      ]
    },
    {
      "cell_type": "code",
      "metadata": {
        "id": "LEx0rWNKBg5g"
      },
      "source": [
        "!pip install -q wandb"
      ],
      "execution_count": 1,
      "outputs": []
    },
    {
      "cell_type": "code",
      "metadata": {
        "id": "PWVA8VOfR5xo",
        "colab": {
          "base_uri": "https://localhost:8080/"
        },
        "outputId": "4ed8ee2e-5ea9-4d53-b706-e6eea130d23b"
      },
      "source": [
        "import tensorflow as tf\n",
        "from sklearn.model_selection import train_test_split\n",
        "from tensorflow import keras\n",
        "\n",
        "from wandb.keras import WandbCallback\n",
        "import wandb\n",
        "\n",
        "wandb.login()"
      ],
      "execution_count": 2,
      "outputs": [
        {
          "output_type": "stream",
          "text": [
            "\u001b[34m\u001b[1mwandb\u001b[0m: Currently logged in as: \u001b[33mjeongmin\u001b[0m (use `wandb login --relogin` to force relogin)\n"
          ],
          "name": "stderr"
        },
        {
          "output_type": "execute_result",
          "data": {
            "text/plain": [
              "True"
            ]
          },
          "metadata": {
            "tags": []
          },
          "execution_count": 2
        }
      ]
    },
    {
      "cell_type": "code",
      "metadata": {
        "id": "x97EBGMrDMe3"
      },
      "source": [
        "cifar10 = tf.keras.datasets.cifar10\n",
        "\n",
        "(x_train, y_train), (x_test, y_test) = cifar10.load_data()\n",
        "\n",
        "x_train, x_test = x_train / 255.0, x_test / 255.0\n",
        "x_train, x_val, y_train, y_val = train_test_split(x_train, y_train, test_size=0.2, random_state=3)"
      ],
      "execution_count": 8,
      "outputs": []
    },
    {
      "cell_type": "code",
      "metadata": {
        "id": "U-x4VAWQR1Aq"
      },
      "source": [
        "cfg = {\n",
        "    'VGG11': [64, 'M', 128, 'M', 256, 256, 'M', 512, 512, 'M', 512, 512, 'M'],\n",
        "    'VGG13': [64, 64, 'M', 128, 128, 'M', 256, 256, 'M', 512, 512, 'M', 512, 512, 'M'],\n",
        "    'VGG16': [64, 64, 'M', 128, 128, 'M', 256, 256, 256, 'M', 512, 512, 512, 'M', 512, 512, 512, 'M'],\n",
        "    'VGG19': [64, 64, 'M', 128, 128, 'M', 256, 256, 256, 256, 'M', 512, 512, 512, 512, 'M', 512, 512, 512, 512, 'M']\n",
        "}\n"
      ],
      "execution_count": 17,
      "outputs": []
    },
    {
      "cell_type": "code",
      "metadata": {
        "id": "d3T8DkopR4Ri"
      },
      "source": [
        "class VGG(tf.keras.Model):\n",
        "    def __init__(self, model_code, hid_dim):\n",
        "        super(VGG, self).__init__()\n",
        "        self.hid_dim = hid_dim\n",
        "        self.model_code = model_code\n",
        "\n",
        "        self.ls = self._make_layers(self.model_code)\n",
        "        self.flatten = tf.keras.layers.Flatten()\n",
        "        self.linear = tf.keras.layers.Dense(self.hid_dim, activation='relu')\n",
        "        self.outputs = tf.keras.layers.Dense(10, activation='softmax')\n",
        "        \n",
        "    def call(self, x):\n",
        "        for layer in self.ls:\n",
        "            x = layer(x)\n",
        "        x = self.flatten(x)\n",
        "        x = self.linear(x)\n",
        "        x = self.outputs(x)\n",
        "        return x\n",
        "    \n",
        "    def _make_layers(self, model_code):\n",
        "        layers = [tf.keras.layers.Conv2D(input_shape=(32, 32,3),\n",
        "                                            filters=64,\n",
        "                                            kernel_size=3,\n",
        "                                            padding=\"same\", \n",
        "                                            activation=\"relu\")]\n",
        "        for x in cfg[model_code]:\n",
        "            if x != 'M':\n",
        "                layers.append(tf.keras.layers.Conv2D(filters=x, \n",
        "                                       kernel_size=3,\n",
        "                                       activation='relu', \n",
        "                                       padding='same'))\n",
        "            else:\n",
        "                layers.append(tf.keras.layers.MaxPooling2D(pool_size=2, strides=2))\n",
        "\n",
        "        return layers"
      ],
      "execution_count": 18,
      "outputs": []
    },
    {
      "cell_type": "code",
      "metadata": {
        "id": "wnGIWE3EWt-m"
      },
      "source": [
        "def experiment():\n",
        "    config_defaults = {\n",
        "        'model_code': 'VGG11',\n",
        "        'epochs': 2,\n",
        "        'batch_size': 1024,\n",
        "        'hid_dim': 512,\n",
        "        'lr': 0.1\n",
        "    }\n",
        "\n",
        "    wandb.init(project='VGGs', config=config_defaults, magic=True)\n",
        "    args = wandb.config\n",
        "    \n",
        "    # Prepare dataloader\n",
        "    trainloader = tf.data.Dataset.from_tensor_slices((x_train, y_train))\n",
        "    trainloader = trainloader.shuffle(1024).batch(args.batch_size).prefetch(tf.data.experimental.AUTOTUNE)\n",
        "    valloader = tf.data.Dataset.from_tensor_slices((x_val, y_val))\n",
        "    valloader = valloader.batch(args.batch_size).prefetch(tf.data.experimental.AUTOTUNE)\n",
        "    testloader = tf.data.Dataset.from_tensor_slices((x_test, y_test))\n",
        "    testloader = testloader.batch(args.batch_size).prefetch(tf.data.experimental.AUTOTUNE)\n",
        "\n",
        "    # init\n",
        "    keras.backend.clear_session()\n",
        "    \n",
        "    net = VGG(args.model_code, args.hid_dim)\n",
        "    optimizer = tf.keras.optimizers.Adam(learning_rate=args.lr)\n",
        "    net.compile(optimizer=optimizer,\n",
        "                loss='sparse_categorical_crossentropy',\n",
        "                metrics=['accuracy'])\n",
        "\n",
        "    result = net.fit(\n",
        "        trainloader, \n",
        "        epochs=args.epochs, \n",
        "        validation_data=valloader, \n",
        "        batch_size=args.batch_size,\n",
        "        callbacks=[WandbCallback(save_model=False)])\n",
        "\n",
        "    test_result = net.evaluate(testloader, callbacks=[WandbCallback(save_model=False)])"
      ],
      "execution_count": 30,
      "outputs": []
    },
    {
      "cell_type": "code",
      "metadata": {
        "colab": {
          "base_uri": "https://localhost:8080/",
          "height": 1000,
          "referenced_widgets": [
            "e9043a9d63af4e67a51e55a81b12a340",
            "e4c6528180ca44f1957d116cac46a453",
            "41bb15549d204736ab2642d4cd9a5743",
            "5fbfe24895844dbcaf6f14cf47daa967",
            "8b5650c7234e4b31899081fbeb10c76e",
            "ad9c7f013184450191a3504b130d0263",
            "e56ee74d4afe4d79a7acc4e6d7b177de",
            "6b1b41a98fc5486fbe323dfbace2f4bd",
            "7025e32de1a94189acf3a831ba2d2ffc",
            "9d51b8e5eade40d8b6efdffb5dcaa72e",
            "b95be3a90bfc41d79f4b97318e4040a5",
            "c04f24c4e3b74253a244c3e66307f647",
            "af68dacea81643b1a67fa15dc97e5f5f",
            "ef155d4461fd4ef8812291935ea1407f",
            "5fcacbdcffc8417f958ed0cdc514d428",
            "a843f139178e46e6adc5afcf989a8948",
            "2f7395bd415a411d850eda79d9caf15c",
            "c723eb1500df41ef84ab55c18b36b0aa",
            "58769b251a1b4a4984b2941b9a1df634",
            "1af2fbc80d0642049b3a2deffd925425",
            "66270e9efee24d03954082d2e3275e34",
            "12538af4e81c4f3f86d2a604edc9411d",
            "f801af22307d40b19488d7e398f6a6c4",
            "9b0678d47d6440cb9f4db80ef3a914a9",
            "8267b8b1ba35485cadd0939f95e5a000",
            "9a8de647a7524ef9827d6ae1fb288b31",
            "9cd16559be61469c9675c240ab663d18",
            "f0a3da15a72746e4a81e4661f3176f4d",
            "71ced6109cf04930b6a7a7b2d26a1dd3",
            "ecb45e8d50cf4007a5b0efa50479c83d",
            "5b4e1a17db1640a091d4a47d7975fc5b",
            "e41eb5e55e6b47118d0a04a5e40d1b23",
            "b22c1c3ceedc4bda8eabcba032568092",
            "9a24eeecab71456898cd26023d7e319b",
            "5ad49ec76179489d8510db4244788ee8",
            "6d47ebbe571a492b8673fcdc2caddafd",
            "aa4d389b9e4548bf9136b4641b3b2960",
            "0eafbba57f02456fa38fb17c390471cc",
            "c69228fb5e734c499c9302b0d6815e24",
            "f93990bdc49f4321a917f09b53dc7be4",
            "45a5e3016275401e93240239a6fffd65",
            "bee2d8fa4ae24084bf6ba302e8bbfee3",
            "2f80ddc90baa4d2caff00b811e7527d6",
            "6cac33d4666241eda678155d226228d7",
            "c4e5b3b4979940098ea53026b6ee2e37",
            "6c1d06dae87544f589ca081cac29a151",
            "31db990a4d724c5aa6e5ed52dcf7fb1f",
            "cfb06fed44bb438bbcd1aae3b850f013",
            "3b819691765e4fbd9e417a46eac2df14",
            "d021dc2ea5ad4d1f9819a91f4c720eec",
            "19aa7d4039be43709699057d779d3d8c",
            "02038b69dffc48c3b776d669ab4130c1",
            "9fae74b23e5845588c7417c344e1f041",
            "69d79f8b32ac43fb97948333fba51992",
            "b312b94799034c098e23d19aa052b129",
            "4c0b3a44b6da48bbb5556be72a6ddbcf",
            "7ca607b07e47492e90a7c574d13d8663",
            "43afabf0dbb74b2c99edc254bb25fe32",
            "fc929b5874b24a0aaa63bb8677501886",
            "89dc2edacc22431ca9dbfe38f4ca0c2f",
            "2beefb78ab514337af76fa216f846021",
            "34de3a563a0d4eaf8407aac44fcf696d",
            "b79195e3fbf643ebbc6052bd2981a08b",
            "2df1d85abc604ce98d7589c55c7f3647",
            "ea8f28b305a041ffa0478b2948ee5067",
            "ec6c8c17504f41d5b1e3c8695f14a57f",
            "741026baabb9423eab5d6e34beeb3892",
            "4fee459c46e94fe69231f7270b27bc55",
            "8ac3911c820f4d5b8c4894a4ce53d6bc",
            "388fe569aa76475681cea83ac2dc70a0",
            "ffabdbf9370d4b23a7a24d4afcd4b188",
            "ef1b4aa536d74689a7f76a700dc56c0b",
            "bc9572422a354cafa21985093e19cd37",
            "936680c8dc644a20be79336a9d323744",
            "9921fa2fa2d84c6196f556a90d9b0d40",
            "1a9db514e96e4bec8f7314f902948f5d",
            "b2974d3bad7a425da5d4ee44e70e09d8",
            "82943623d0394877b37f66994af19b33",
            "c9d82a07380b4b33bf5869d914be8b67",
            "a5201733f03343efbc739c044461fe4b",
            "6fda556f85e2409e9c4dcc1b97a2094b",
            "9326a6da76484a739a679d5aeec2a7f9",
            "b32718a71dd44895851f55fa298b7d7e",
            "b9deb85e815843b8b8069470b2b3e7b5",
            "0b6b2bf8523a43aa82aa3fc924782ac0",
            "3d0c9bc73c404063a64b381a1e585345",
            "47781d9d77bf49e5bc9addbd17fc8420",
            "ffd196f7fe4b47ed814909bc135523bf",
            "a904282f3f474bfaa9144cd368c032d7",
            "26c7a0f463b64618a6a62ecabe5e5826",
            "b633942dd0e340c79bf61608f36e7451",
            "1d665af45dbe483a8d23a33ba4d34f61",
            "ff419740b9f442c784dd191b87b6e390",
            "c92b4c84b8c84bb09495a1e1c81dd88c",
            "84778296ab44443498b7bea895e551eb",
            "0e35940caeb44b349b36f41c48632af6",
            "ddc95073554740f28cc6788bc5abedba",
            "407479a1c74b48f3ae6c1725184eb69d",
            "5711837956144c57bc57baead0b1ed41",
            "db217c240e5c4d0faf81a288cc8b5e6d",
            "17ec1834a46e4a29bbe6a85b9c421936",
            "b146fd0601b0492dad8ff120ea0b938b",
            "d48df03d97b74583802fcdf00bce6162",
            "374b8c8d98fa48afb66aa3407fb375d1",
            "613e20476dd04b5fbb32206daaaad17c",
            "7244b90abb324c599a14089d8340795e",
            "4b3ab9d0c5ee4508b56b2f15302031b4",
            "57b1327af8a94817a27d18ff7e3cf6ac",
            "146115c2298446fbac13063b317d5ff3",
            "8f952e27e37144b2800d880709990e4a",
            "6559f813a863494fbd209830bb680ec7",
            "f4352a4e0e0b49b69f33388268f5f5c3",
            "3d273f4350254893b5a4d00850bb86dc",
            "a5dbe971bdcd473f800dd2e28ea684d5",
            "441238463eac4624b659e9f8b7446339",
            "f26f2665305c4482b169ae3bfa54acb9",
            "319efc3572a14cf6a9b8f75ab23ef13e",
            "237d5d6af6a84b2da42a83abc98da584",
            "5c64d3f1032d406bb1ac561bf30efe85",
            "10bc5ca2855f479d8426bc9e97af1b3e",
            "3bb08425179d4bfe8b0844b260bd5dbd",
            "f37282bf6c2d4e34afc63c5dfa012754",
            "12c129ecf24e43268fd857146019c62e",
            "29be9ef3f7d54ad1874ede4657412ac9",
            "4f3a2abf6cb34b208ee3a19feb585928",
            "a1b97541f66a4d9db2c10ae9991f2f06",
            "9eb299d6d01d4ced81c286d0a50eba72",
            "dfcf8026aa434bdd936883dd1083ec6b"
          ]
        },
        "id": "xmXgmM7rBX5t",
        "outputId": "0ba1ddc9-9d1c-4b78-e9d0-5b7c3d117eaa"
      },
      "source": [
        "sweep_config = {\n",
        "    'method': 'grid',\n",
        "    'parameters': {\n",
        "        'model_code': {\n",
        "            'values': ['VGG11', 'VGG13', 'VGG16', 'VGG19']\n",
        "        },\n",
        "        'lr': {\n",
        "            'values': [0.01, 0.001, 0.0001]\n",
        "        },\n",
        "        'epochs': {\n",
        "            'values': [10]\n",
        "        },\n",
        "        'batch_size': {\n",
        "            'values': [1024]\n",
        "        },\n",
        "        'hid_dim': {\n",
        "            'values': [64, 1024]\n",
        "        }\n",
        "    }\n",
        "}\n",
        "\n",
        "import wandb\n",
        "sweep_id = wandb.sweep(sweep_config)\n",
        "\n",
        "wandb.agent(sweep_id, function=experiment)"
      ],
      "execution_count": 31,
      "outputs": [
        {
          "output_type": "stream",
          "text": [
            "Create sweep with ID: maudemkc\n",
            "Sweep URL: https://wandb.ai/jeongmin/uncategorized/sweeps/maudemkc\n"
          ],
          "name": "stdout"
        },
        {
          "output_type": "stream",
          "text": [
            "\u001b[34m\u001b[1mwandb\u001b[0m: Agent Starting Run: tjl8n4k1 with config:\n",
            "\u001b[34m\u001b[1mwandb\u001b[0m: \tbatch_size: 1024\n",
            "\u001b[34m\u001b[1mwandb\u001b[0m: \tepochs: 10\n",
            "\u001b[34m\u001b[1mwandb\u001b[0m: \thid_dim: 64\n",
            "\u001b[34m\u001b[1mwandb\u001b[0m: \tlr: 0.001\n",
            "\u001b[34m\u001b[1mwandb\u001b[0m: \tmodel_code: VGG11\n",
            "\u001b[34m\u001b[1mwandb\u001b[0m: \u001b[33mWARNING\u001b[0m Ignored wandb.init() arg project when running a sweep\n"
          ],
          "name": "stderr"
        },
        {
          "output_type": "display_data",
          "data": {
            "text/html": [
              "\n",
              "                Tracking run with wandb version 0.11.0<br/>\n",
              "                Syncing run <strong style=\"color:#cdcd00\">comic-sweep-1</strong> to <a href=\"https://wandb.ai\" target=\"_blank\">Weights & Biases</a> <a href=\"https://docs.wandb.com/integrations/jupyter.html\" target=\"_blank\">(Documentation)</a>.<br/>\n",
              "                Project page: <a href=\"https://wandb.ai/jeongmin/uncategorized\" target=\"_blank\">https://wandb.ai/jeongmin/uncategorized</a><br/>\n",
              "                Sweep page: <a href=\"https://wandb.ai/jeongmin/uncategorized/sweeps/maudemkc\" target=\"_blank\">https://wandb.ai/jeongmin/uncategorized/sweeps/maudemkc</a><br/>\n",
              "Run page: <a href=\"https://wandb.ai/jeongmin/uncategorized/runs/tjl8n4k1\" target=\"_blank\">https://wandb.ai/jeongmin/uncategorized/runs/tjl8n4k1</a><br/>\n",
              "                Run data is saved locally in <code>/content/wandb/run-20210720_095001-tjl8n4k1</code><br/><br/>\n",
              "            "
            ],
            "text/plain": [
              "<IPython.core.display.HTML object>"
            ]
          },
          "metadata": {
            "tags": []
          }
        },
        {
          "output_type": "stream",
          "text": [
            "Epoch 1/10\n",
            " 6/40 [===>..........................] - ETA: 7s - loss: 2.3031 - accuracy: 0.1038WARNING:tensorflow:Callback method `on_train_batch_end` is slow compared to the batch time (batch time: 0.0512s vs `on_train_batch_end` time: 0.1328s). Check your callbacks.\n",
            "40/40 [==============================] - 7s 159ms/step - loss: 2.2994 - accuracy: 0.1079 - val_loss: 2.3032 - val_accuracy: 0.1043\n",
            "Epoch 2/10\n",
            "40/40 [==============================] - 6s 144ms/step - loss: 2.3015 - accuracy: 0.1049 - val_loss: 2.2997 - val_accuracy: 0.1018\n",
            "Epoch 3/10\n",
            "40/40 [==============================] - 6s 144ms/step - loss: 2.2104 - accuracy: 0.1363 - val_loss: 2.1831 - val_accuracy: 0.1712\n",
            "Epoch 4/10\n",
            "40/40 [==============================] - 6s 142ms/step - loss: 1.8745 - accuracy: 0.2512 - val_loss: 1.7623 - val_accuracy: 0.2979\n",
            "Epoch 5/10\n",
            "40/40 [==============================] - 6s 144ms/step - loss: 1.6897 - accuracy: 0.3325 - val_loss: 1.6496 - val_accuracy: 0.3610\n",
            "Epoch 6/10\n",
            "40/40 [==============================] - 6s 140ms/step - loss: 1.5220 - accuracy: 0.4212 - val_loss: 1.6155 - val_accuracy: 0.4282\n",
            "Epoch 7/10\n",
            "40/40 [==============================] - 6s 141ms/step - loss: 1.3886 - accuracy: 0.4900 - val_loss: 1.6146 - val_accuracy: 0.4365\n",
            "Epoch 8/10\n",
            "40/40 [==============================] - 6s 143ms/step - loss: 1.3319 - accuracy: 0.5123 - val_loss: 1.2929 - val_accuracy: 0.5306\n",
            "Epoch 9/10\n",
            "40/40 [==============================] - 6s 143ms/step - loss: 1.1461 - accuracy: 0.5773 - val_loss: 1.1514 - val_accuracy: 0.5917\n",
            "Epoch 10/10\n",
            "40/40 [==============================] - 6s 141ms/step - loss: 1.0456 - accuracy: 0.6194 - val_loss: 1.2057 - val_accuracy: 0.5685\n",
            "10/10 [==============================] - 1s 42ms/step - loss: 1.2156 - accuracy: 0.5639\n"
          ],
          "name": "stdout"
        },
        {
          "output_type": "display_data",
          "data": {
            "text/html": [
              "<br/>Waiting for W&B process to finish, PID 5749<br/>Program ended successfully."
            ],
            "text/plain": [
              "<IPython.core.display.HTML object>"
            ]
          },
          "metadata": {
            "tags": []
          }
        },
        {
          "output_type": "display_data",
          "data": {
            "application/vnd.jupyter.widget-view+json": {
              "model_id": "e9043a9d63af4e67a51e55a81b12a340",
              "version_major": 2,
              "version_minor": 0
            },
            "text/plain": [
              "VBox(children=(Label(value=' 0.53MB of 0.53MB uploaded (0.00MB deduped)\\r'), FloatProgress(value=1.0, max=1.0)…"
            ]
          },
          "metadata": {
            "tags": []
          }
        },
        {
          "output_type": "display_data",
          "data": {
            "text/html": [
              "Find user logs for this run at: <code>/content/wandb/run-20210720_095001-tjl8n4k1/logs/debug.log</code>"
            ],
            "text/plain": [
              "<IPython.core.display.HTML object>"
            ]
          },
          "metadata": {
            "tags": []
          }
        },
        {
          "output_type": "display_data",
          "data": {
            "text/html": [
              "Find internal logs for this run at: <code>/content/wandb/run-20210720_095001-tjl8n4k1/logs/debug-internal.log</code>"
            ],
            "text/plain": [
              "<IPython.core.display.HTML object>"
            ]
          },
          "metadata": {
            "tags": []
          }
        },
        {
          "output_type": "display_data",
          "data": {
            "text/html": [
              "<h3>Run summary:</h3><br/><style>\n",
              "    table.wandb td:nth-child(1) { padding: 0 10px; text-align: right }\n",
              "    </style><table class=\"wandb\">\n",
              "<tr><td>epoch</td><td>9</td></tr><tr><td>loss</td><td>1.04557</td></tr><tr><td>accuracy</td><td>0.61935</td></tr><tr><td>val_loss</td><td>1.20569</td></tr><tr><td>val_accuracy</td><td>0.5685</td></tr><tr><td>_runtime</td><td>73</td></tr><tr><td>_timestamp</td><td>1626774674</td></tr><tr><td>_step</td><td>9</td></tr><tr><td>best_val_loss</td><td>1.15142</td></tr><tr><td>best_epoch</td><td>8</td></tr></table>"
            ],
            "text/plain": [
              "<IPython.core.display.HTML object>"
            ]
          },
          "metadata": {
            "tags": []
          }
        },
        {
          "output_type": "display_data",
          "data": {
            "text/html": [
              "<h3>Run history:</h3><br/><style>\n",
              "    table.wandb td:nth-child(1) { padding: 0 10px; text-align: right }\n",
              "    </style><table class=\"wandb\">\n",
              "<tr><td>epoch</td><td>▁▂▃▃▄▅▆▆▇█</td></tr><tr><td>loss</td><td>██▇▆▅▄▃▃▂▁</td></tr><tr><td>accuracy</td><td>▁▁▁▃▄▅▆▇▇█</td></tr><tr><td>val_loss</td><td>██▇▅▄▄▄▂▁▁</td></tr><tr><td>val_accuracy</td><td>▁▁▂▄▅▆▆▇██</td></tr><tr><td>_runtime</td><td>▁▂▃▃▄▅▆▇▇█</td></tr><tr><td>_timestamp</td><td>▁▂▃▃▄▅▆▇▇█</td></tr><tr><td>_step</td><td>▁▂▃▃▄▅▆▆▇█</td></tr></table><br/>"
            ],
            "text/plain": [
              "<IPython.core.display.HTML object>"
            ]
          },
          "metadata": {
            "tags": []
          }
        },
        {
          "output_type": "display_data",
          "data": {
            "text/html": [
              "Synced 5 W&B file(s), 1 media file(s), 0 artifact file(s) and 10 other file(s)"
            ],
            "text/plain": [
              "<IPython.core.display.HTML object>"
            ]
          },
          "metadata": {
            "tags": []
          }
        },
        {
          "output_type": "display_data",
          "data": {
            "text/html": [
              "\n",
              "                    <br/>Synced <strong style=\"color:#cdcd00\">comic-sweep-1</strong>: <a href=\"https://wandb.ai/jeongmin/uncategorized/runs/tjl8n4k1\" target=\"_blank\">https://wandb.ai/jeongmin/uncategorized/runs/tjl8n4k1</a><br/>\n",
              "                "
            ],
            "text/plain": [
              "<IPython.core.display.HTML object>"
            ]
          },
          "metadata": {
            "tags": []
          }
        },
        {
          "output_type": "stream",
          "text": [
            "\u001b[34m\u001b[1mwandb\u001b[0m: Agent Starting Run: h7w4f9n7 with config:\n",
            "\u001b[34m\u001b[1mwandb\u001b[0m: \tbatch_size: 1024\n",
            "\u001b[34m\u001b[1mwandb\u001b[0m: \tepochs: 10\n",
            "\u001b[34m\u001b[1mwandb\u001b[0m: \thid_dim: 64\n",
            "\u001b[34m\u001b[1mwandb\u001b[0m: \tlr: 0.001\n",
            "\u001b[34m\u001b[1mwandb\u001b[0m: \tmodel_code: VGG13\n",
            "\u001b[34m\u001b[1mwandb\u001b[0m: \u001b[33mWARNING\u001b[0m Ignored wandb.init() arg project when running a sweep\n"
          ],
          "name": "stderr"
        },
        {
          "output_type": "display_data",
          "data": {
            "text/html": [
              "\n",
              "                Tracking run with wandb version 0.11.0<br/>\n",
              "                Syncing run <strong style=\"color:#cdcd00\">vivid-sweep-2</strong> to <a href=\"https://wandb.ai\" target=\"_blank\">Weights & Biases</a> <a href=\"https://docs.wandb.com/integrations/jupyter.html\" target=\"_blank\">(Documentation)</a>.<br/>\n",
              "                Project page: <a href=\"https://wandb.ai/jeongmin/uncategorized\" target=\"_blank\">https://wandb.ai/jeongmin/uncategorized</a><br/>\n",
              "                Sweep page: <a href=\"https://wandb.ai/jeongmin/uncategorized/sweeps/maudemkc\" target=\"_blank\">https://wandb.ai/jeongmin/uncategorized/sweeps/maudemkc</a><br/>\n",
              "Run page: <a href=\"https://wandb.ai/jeongmin/uncategorized/runs/h7w4f9n7\" target=\"_blank\">https://wandb.ai/jeongmin/uncategorized/runs/h7w4f9n7</a><br/>\n",
              "                Run data is saved locally in <code>/content/wandb/run-20210720_095119-h7w4f9n7</code><br/><br/>\n",
              "            "
            ],
            "text/plain": [
              "<IPython.core.display.HTML object>"
            ]
          },
          "metadata": {
            "tags": []
          }
        },
        {
          "output_type": "stream",
          "text": [
            "Epoch 1/10\n",
            " 6/40 [===>..........................] - ETA: 9s - loss: 2.4688 - accuracy: 0.1019 WARNING:tensorflow:Callback method `on_train_batch_end` is slow compared to the batch time (batch time: 0.0577s vs `on_train_batch_end` time: 0.1676s). Check your callbacks.\n",
            "40/40 [==============================] - 9s 204ms/step - loss: 2.3271 - accuracy: 0.1003 - val_loss: 2.3028 - val_accuracy: 0.0918\n",
            "Epoch 2/10\n",
            "40/40 [==============================] - 7s 185ms/step - loss: 2.3026 - accuracy: 0.1020 - val_loss: 2.3029 - val_accuracy: 0.0918\n",
            "Epoch 3/10\n",
            "40/40 [==============================] - 7s 185ms/step - loss: 2.3026 - accuracy: 0.1020 - val_loss: 2.3030 - val_accuracy: 0.0918\n",
            "Epoch 4/10\n",
            "40/40 [==============================] - 7s 184ms/step - loss: 2.3026 - accuracy: 0.1020 - val_loss: 2.3031 - val_accuracy: 0.0918\n",
            "Epoch 5/10\n",
            "40/40 [==============================] - 7s 183ms/step - loss: 2.3026 - accuracy: 0.1006 - val_loss: 2.3031 - val_accuracy: 0.0918\n",
            "Epoch 6/10\n",
            "40/40 [==============================] - 7s 186ms/step - loss: 2.3026 - accuracy: 0.1020 - val_loss: 2.3032 - val_accuracy: 0.0918\n",
            "Epoch 7/10\n",
            "40/40 [==============================] - 7s 185ms/step - loss: 2.3026 - accuracy: 0.0998 - val_loss: 2.3030 - val_accuracy: 0.0918\n",
            "Epoch 8/10\n",
            "40/40 [==============================] - 7s 186ms/step - loss: 2.3026 - accuracy: 0.0997 - val_loss: 2.3030 - val_accuracy: 0.0918\n",
            "Epoch 9/10\n",
            "40/40 [==============================] - 7s 186ms/step - loss: 2.3026 - accuracy: 0.1020 - val_loss: 2.3029 - val_accuracy: 0.0918\n",
            "Epoch 10/10\n",
            "40/40 [==============================] - 7s 186ms/step - loss: 2.3026 - accuracy: 0.0996 - val_loss: 2.3030 - val_accuracy: 0.0918\n",
            "10/10 [==============================] - 1s 56ms/step - loss: 2.3026 - accuracy: 0.1000\n"
          ],
          "name": "stdout"
        },
        {
          "output_type": "display_data",
          "data": {
            "text/html": [
              "<br/>Waiting for W&B process to finish, PID 5858<br/>Program ended successfully."
            ],
            "text/plain": [
              "<IPython.core.display.HTML object>"
            ]
          },
          "metadata": {
            "tags": []
          }
        },
        {
          "output_type": "display_data",
          "data": {
            "application/vnd.jupyter.widget-view+json": {
              "model_id": "7025e32de1a94189acf3a831ba2d2ffc",
              "version_major": 2,
              "version_minor": 0
            },
            "text/plain": [
              "VBox(children=(Label(value=' 0.55MB of 0.55MB uploaded (0.00MB deduped)\\r'), FloatProgress(value=1.0, max=1.0)…"
            ]
          },
          "metadata": {
            "tags": []
          }
        },
        {
          "output_type": "display_data",
          "data": {
            "text/html": [
              "Find user logs for this run at: <code>/content/wandb/run-20210720_095119-h7w4f9n7/logs/debug.log</code>"
            ],
            "text/plain": [
              "<IPython.core.display.HTML object>"
            ]
          },
          "metadata": {
            "tags": []
          }
        },
        {
          "output_type": "display_data",
          "data": {
            "text/html": [
              "Find internal logs for this run at: <code>/content/wandb/run-20210720_095119-h7w4f9n7/logs/debug-internal.log</code>"
            ],
            "text/plain": [
              "<IPython.core.display.HTML object>"
            ]
          },
          "metadata": {
            "tags": []
          }
        },
        {
          "output_type": "display_data",
          "data": {
            "text/html": [
              "<h3>Run summary:</h3><br/><style>\n",
              "    table.wandb td:nth-child(1) { padding: 0 10px; text-align: right }\n",
              "    </style><table class=\"wandb\">\n",
              "<tr><td>epoch</td><td>9</td></tr><tr><td>loss</td><td>2.30259</td></tr><tr><td>accuracy</td><td>0.09962</td></tr><tr><td>val_loss</td><td>2.30298</td></tr><tr><td>val_accuracy</td><td>0.0918</td></tr><tr><td>_runtime</td><td>95</td></tr><tr><td>_timestamp</td><td>1626774774</td></tr><tr><td>_step</td><td>9</td></tr><tr><td>best_val_loss</td><td>2.30283</td></tr><tr><td>best_epoch</td><td>0</td></tr></table>"
            ],
            "text/plain": [
              "<IPython.core.display.HTML object>"
            ]
          },
          "metadata": {
            "tags": []
          }
        },
        {
          "output_type": "display_data",
          "data": {
            "text/html": [
              "<h3>Run history:</h3><br/><style>\n",
              "    table.wandb td:nth-child(1) { padding: 0 10px; text-align: right }\n",
              "    </style><table class=\"wandb\">\n",
              "<tr><td>epoch</td><td>▁▂▃▃▄▅▆▆▇█</td></tr><tr><td>loss</td><td>█▁▁▁▁▁▁▁▁▁</td></tr><tr><td>accuracy</td><td>▃███▄█▂▁█▁</td></tr><tr><td>val_loss</td><td>▁▂▄▆▇█▅▄▂▄</td></tr><tr><td>val_accuracy</td><td>▁▁▁▁▁▁▁▁▁▁</td></tr><tr><td>_runtime</td><td>▁▂▃▃▄▅▆▆▇█</td></tr><tr><td>_timestamp</td><td>▁▂▃▃▄▅▆▆▇█</td></tr><tr><td>_step</td><td>▁▂▃▃▄▅▆▆▇█</td></tr></table><br/>"
            ],
            "text/plain": [
              "<IPython.core.display.HTML object>"
            ]
          },
          "metadata": {
            "tags": []
          }
        },
        {
          "output_type": "display_data",
          "data": {
            "text/html": [
              "Synced 5 W&B file(s), 1 media file(s), 0 artifact file(s) and 10 other file(s)"
            ],
            "text/plain": [
              "<IPython.core.display.HTML object>"
            ]
          },
          "metadata": {
            "tags": []
          }
        },
        {
          "output_type": "display_data",
          "data": {
            "text/html": [
              "\n",
              "                    <br/>Synced <strong style=\"color:#cdcd00\">vivid-sweep-2</strong>: <a href=\"https://wandb.ai/jeongmin/uncategorized/runs/h7w4f9n7\" target=\"_blank\">https://wandb.ai/jeongmin/uncategorized/runs/h7w4f9n7</a><br/>\n",
              "                "
            ],
            "text/plain": [
              "<IPython.core.display.HTML object>"
            ]
          },
          "metadata": {
            "tags": []
          }
        },
        {
          "output_type": "stream",
          "text": [
            "\u001b[34m\u001b[1mwandb\u001b[0m: Agent Starting Run: jq5cp6ll with config:\n",
            "\u001b[34m\u001b[1mwandb\u001b[0m: \tbatch_size: 1024\n",
            "\u001b[34m\u001b[1mwandb\u001b[0m: \tepochs: 10\n",
            "\u001b[34m\u001b[1mwandb\u001b[0m: \thid_dim: 64\n",
            "\u001b[34m\u001b[1mwandb\u001b[0m: \tlr: 0.001\n",
            "\u001b[34m\u001b[1mwandb\u001b[0m: \tmodel_code: VGG16\n",
            "\u001b[34m\u001b[1mwandb\u001b[0m: \u001b[33mWARNING\u001b[0m Ignored wandb.init() arg project when running a sweep\n"
          ],
          "name": "stderr"
        },
        {
          "output_type": "display_data",
          "data": {
            "text/html": [
              "\n",
              "                Tracking run with wandb version 0.11.0<br/>\n",
              "                Syncing run <strong style=\"color:#cdcd00\">wobbly-sweep-3</strong> to <a href=\"https://wandb.ai\" target=\"_blank\">Weights & Biases</a> <a href=\"https://docs.wandb.com/integrations/jupyter.html\" target=\"_blank\">(Documentation)</a>.<br/>\n",
              "                Project page: <a href=\"https://wandb.ai/jeongmin/uncategorized\" target=\"_blank\">https://wandb.ai/jeongmin/uncategorized</a><br/>\n",
              "                Sweep page: <a href=\"https://wandb.ai/jeongmin/uncategorized/sweeps/maudemkc\" target=\"_blank\">https://wandb.ai/jeongmin/uncategorized/sweeps/maudemkc</a><br/>\n",
              "Run page: <a href=\"https://wandb.ai/jeongmin/uncategorized/runs/jq5cp6ll\" target=\"_blank\">https://wandb.ai/jeongmin/uncategorized/runs/jq5cp6ll</a><br/>\n",
              "                Run data is saved locally in <code>/content/wandb/run-20210720_095303-jq5cp6ll</code><br/><br/>\n",
              "            "
            ],
            "text/plain": [
              "<IPython.core.display.HTML object>"
            ]
          },
          "metadata": {
            "tags": []
          }
        },
        {
          "output_type": "stream",
          "text": [
            "Epoch 1/10\n",
            " 6/40 [===>..........................] - ETA: 10s - loss: 2.3141 - accuracy: 0.0965WARNING:tensorflow:Callback method `on_train_batch_end` is slow compared to the batch time (batch time: 0.0697s vs `on_train_batch_end` time: 0.1933s). Check your callbacks.\n",
            "40/40 [==============================] - 11s 242ms/step - loss: 2.3045 - accuracy: 0.0999 - val_loss: 2.3028 - val_accuracy: 0.0951\n",
            "Epoch 2/10\n",
            "40/40 [==============================] - 9s 223ms/step - loss: 2.3026 - accuracy: 0.1019 - val_loss: 2.3028 - val_accuracy: 0.0918\n",
            "Epoch 3/10\n",
            "40/40 [==============================] - 9s 221ms/step - loss: 2.3266 - accuracy: 0.1035 - val_loss: 2.3029 - val_accuracy: 0.0918\n",
            "Epoch 4/10\n",
            "40/40 [==============================] - 9s 222ms/step - loss: 2.3027 - accuracy: 0.1010 - val_loss: 2.3030 - val_accuracy: 0.0918\n",
            "Epoch 5/10\n",
            "40/40 [==============================] - 9s 220ms/step - loss: 2.3026 - accuracy: 0.1020 - val_loss: 2.3030 - val_accuracy: 0.0918\n",
            "Epoch 6/10\n",
            "40/40 [==============================] - 9s 220ms/step - loss: 2.3026 - accuracy: 0.1020 - val_loss: 2.3030 - val_accuracy: 0.0918\n",
            "Epoch 7/10\n",
            "40/40 [==============================] - 9s 223ms/step - loss: 2.3026 - accuracy: 0.1020 - val_loss: 2.3030 - val_accuracy: 0.0918\n",
            "Epoch 8/10\n",
            "40/40 [==============================] - 9s 237ms/step - loss: 2.3026 - accuracy: 0.0989 - val_loss: 2.3030 - val_accuracy: 0.0970\n",
            "Epoch 9/10\n",
            "40/40 [==============================] - 9s 223ms/step - loss: 2.3026 - accuracy: 0.0996 - val_loss: 2.3031 - val_accuracy: 0.0918\n",
            "Epoch 10/10\n",
            "40/40 [==============================] - 9s 220ms/step - loss: 2.3026 - accuracy: 0.1020 - val_loss: 2.3031 - val_accuracy: 0.0918\n",
            "10/10 [==============================] - 1s 67ms/step - loss: 2.3027 - accuracy: 0.1000\n"
          ],
          "name": "stdout"
        },
        {
          "output_type": "display_data",
          "data": {
            "text/html": [
              "<br/>Waiting for W&B process to finish, PID 5970<br/>Program ended successfully."
            ],
            "text/plain": [
              "<IPython.core.display.HTML object>"
            ]
          },
          "metadata": {
            "tags": []
          }
        },
        {
          "output_type": "display_data",
          "data": {
            "application/vnd.jupyter.widget-view+json": {
              "model_id": "2f7395bd415a411d850eda79d9caf15c",
              "version_major": 2,
              "version_minor": 0
            },
            "text/plain": [
              "VBox(children=(Label(value=' 0.64MB of 0.64MB uploaded (0.00MB deduped)\\r'), FloatProgress(value=1.0, max=1.0)…"
            ]
          },
          "metadata": {
            "tags": []
          }
        },
        {
          "output_type": "display_data",
          "data": {
            "text/html": [
              "Find user logs for this run at: <code>/content/wandb/run-20210720_095303-jq5cp6ll/logs/debug.log</code>"
            ],
            "text/plain": [
              "<IPython.core.display.HTML object>"
            ]
          },
          "metadata": {
            "tags": []
          }
        },
        {
          "output_type": "display_data",
          "data": {
            "text/html": [
              "Find internal logs for this run at: <code>/content/wandb/run-20210720_095303-jq5cp6ll/logs/debug-internal.log</code>"
            ],
            "text/plain": [
              "<IPython.core.display.HTML object>"
            ]
          },
          "metadata": {
            "tags": []
          }
        },
        {
          "output_type": "display_data",
          "data": {
            "text/html": [
              "<h3>Run summary:</h3><br/><style>\n",
              "    table.wandb td:nth-child(1) { padding: 0 10px; text-align: right }\n",
              "    </style><table class=\"wandb\">\n",
              "<tr><td>epoch</td><td>9</td></tr><tr><td>loss</td><td>2.30258</td></tr><tr><td>accuracy</td><td>0.10205</td></tr><tr><td>val_loss</td><td>2.30309</td></tr><tr><td>val_accuracy</td><td>0.0918</td></tr><tr><td>_runtime</td><td>101</td></tr><tr><td>_timestamp</td><td>1626774884</td></tr><tr><td>_step</td><td>9</td></tr><tr><td>best_val_loss</td><td>2.30278</td></tr><tr><td>best_epoch</td><td>0</td></tr></table>"
            ],
            "text/plain": [
              "<IPython.core.display.HTML object>"
            ]
          },
          "metadata": {
            "tags": []
          }
        },
        {
          "output_type": "display_data",
          "data": {
            "text/html": [
              "<h3>Run history:</h3><br/><style>\n",
              "    table.wandb td:nth-child(1) { padding: 0 10px; text-align: right }\n",
              "    </style><table class=\"wandb\">\n",
              "<tr><td>epoch</td><td>▁▂▃▃▄▅▆▆▇█</td></tr><tr><td>loss</td><td>▂▁█▁▁▁▁▁▁▁</td></tr><tr><td>accuracy</td><td>▂▆█▄▆▆▆▁▂▆</td></tr><tr><td>val_loss</td><td>▁▂▃▅▆▆▇▆▇█</td></tr><tr><td>val_accuracy</td><td>▅▁▁▁▁▁▁█▁▁</td></tr><tr><td>_runtime</td><td>▁▂▂▃▄▅▆▆▇█</td></tr><tr><td>_timestamp</td><td>▁▂▂▃▄▅▆▆▇█</td></tr><tr><td>_step</td><td>▁▂▃▃▄▅▆▆▇█</td></tr></table><br/>"
            ],
            "text/plain": [
              "<IPython.core.display.HTML object>"
            ]
          },
          "metadata": {
            "tags": []
          }
        },
        {
          "output_type": "display_data",
          "data": {
            "text/html": [
              "Synced 5 W&B file(s), 1 media file(s), 0 artifact file(s) and 10 other file(s)"
            ],
            "text/plain": [
              "<IPython.core.display.HTML object>"
            ]
          },
          "metadata": {
            "tags": []
          }
        },
        {
          "output_type": "display_data",
          "data": {
            "text/html": [
              "\n",
              "                    <br/>Synced <strong style=\"color:#cdcd00\">wobbly-sweep-3</strong>: <a href=\"https://wandb.ai/jeongmin/uncategorized/runs/jq5cp6ll\" target=\"_blank\">https://wandb.ai/jeongmin/uncategorized/runs/jq5cp6ll</a><br/>\n",
              "                "
            ],
            "text/plain": [
              "<IPython.core.display.HTML object>"
            ]
          },
          "metadata": {
            "tags": []
          }
        },
        {
          "output_type": "stream",
          "text": [
            "\u001b[34m\u001b[1mwandb\u001b[0m: Agent Starting Run: ws9r8anu with config:\n",
            "\u001b[34m\u001b[1mwandb\u001b[0m: \tbatch_size: 1024\n",
            "\u001b[34m\u001b[1mwandb\u001b[0m: \tepochs: 10\n",
            "\u001b[34m\u001b[1mwandb\u001b[0m: \thid_dim: 64\n",
            "\u001b[34m\u001b[1mwandb\u001b[0m: \tlr: 0.001\n",
            "\u001b[34m\u001b[1mwandb\u001b[0m: \tmodel_code: VGG19\n",
            "\u001b[34m\u001b[1mwandb\u001b[0m: \u001b[33mWARNING\u001b[0m Ignored wandb.init() arg project when running a sweep\n"
          ],
          "name": "stderr"
        },
        {
          "output_type": "display_data",
          "data": {
            "text/html": [
              "\n",
              "                Tracking run with wandb version 0.11.0<br/>\n",
              "                Syncing run <strong style=\"color:#cdcd00\">visionary-sweep-4</strong> to <a href=\"https://wandb.ai\" target=\"_blank\">Weights & Biases</a> <a href=\"https://docs.wandb.com/integrations/jupyter.html\" target=\"_blank\">(Documentation)</a>.<br/>\n",
              "                Project page: <a href=\"https://wandb.ai/jeongmin/uncategorized\" target=\"_blank\">https://wandb.ai/jeongmin/uncategorized</a><br/>\n",
              "                Sweep page: <a href=\"https://wandb.ai/jeongmin/uncategorized/sweeps/maudemkc\" target=\"_blank\">https://wandb.ai/jeongmin/uncategorized/sweeps/maudemkc</a><br/>\n",
              "Run page: <a href=\"https://wandb.ai/jeongmin/uncategorized/runs/ws9r8anu\" target=\"_blank\">https://wandb.ai/jeongmin/uncategorized/runs/ws9r8anu</a><br/>\n",
              "                Run data is saved locally in <code>/content/wandb/run-20210720_095451-ws9r8anu</code><br/><br/>\n",
              "            "
            ],
            "text/plain": [
              "<IPython.core.display.HTML object>"
            ]
          },
          "metadata": {
            "tags": []
          }
        },
        {
          "output_type": "stream",
          "text": [
            "Epoch 1/10\n",
            " 6/40 [===>..........................] - ETA: 11s - loss: 2.3028 - accuracy: 0.0980WARNING:tensorflow:Callback method `on_train_batch_end` is slow compared to the batch time (batch time: 0.0843s vs `on_train_batch_end` time: 0.2163s). Check your callbacks.\n",
            "40/40 [==============================] - 12s 278ms/step - loss: 2.4344 - accuracy: 0.0996 - val_loss: 2.3031 - val_accuracy: 0.0918\n",
            "Epoch 2/10\n",
            "40/40 [==============================] - 10s 258ms/step - loss: 2.3029 - accuracy: 0.1010 - val_loss: 2.3027 - val_accuracy: 0.0951\n",
            "Epoch 3/10\n",
            "40/40 [==============================] - 10s 259ms/step - loss: 2.3026 - accuracy: 0.1010 - val_loss: 2.3028 - val_accuracy: 0.0918\n",
            "Epoch 4/10\n",
            "40/40 [==============================] - 10s 259ms/step - loss: 2.3026 - accuracy: 0.1020 - val_loss: 2.3029 - val_accuracy: 0.0918\n",
            "Epoch 5/10\n",
            "40/40 [==============================] - 10s 257ms/step - loss: 2.3026 - accuracy: 0.1020 - val_loss: 2.3030 - val_accuracy: 0.0918\n",
            "Epoch 6/10\n",
            "40/40 [==============================] - 10s 259ms/step - loss: 2.3026 - accuracy: 0.1020 - val_loss: 2.3029 - val_accuracy: 0.0918\n",
            "Epoch 7/10\n",
            "40/40 [==============================] - 10s 258ms/step - loss: 2.3026 - accuracy: 0.1020 - val_loss: 2.3030 - val_accuracy: 0.0918\n",
            "Epoch 8/10\n",
            "40/40 [==============================] - 10s 259ms/step - loss: 2.3026 - accuracy: 0.1020 - val_loss: 2.3030 - val_accuracy: 0.0918\n",
            "Epoch 9/10\n",
            "40/40 [==============================] - 10s 257ms/step - loss: 2.3026 - accuracy: 0.0991 - val_loss: 2.3030 - val_accuracy: 0.0918\n",
            "Epoch 10/10\n",
            "40/40 [==============================] - 10s 259ms/step - loss: 2.3026 - accuracy: 0.0990 - val_loss: 2.3030 - val_accuracy: 0.0918\n",
            "10/10 [==============================] - 1s 76ms/step - loss: 2.3026 - accuracy: 0.1000\n"
          ],
          "name": "stdout"
        },
        {
          "output_type": "display_data",
          "data": {
            "text/html": [
              "<br/>Waiting for W&B process to finish, PID 6066<br/>Program ended successfully."
            ],
            "text/plain": [
              "<IPython.core.display.HTML object>"
            ]
          },
          "metadata": {
            "tags": []
          }
        },
        {
          "output_type": "display_data",
          "data": {
            "application/vnd.jupyter.widget-view+json": {
              "model_id": "8267b8b1ba35485cadd0939f95e5a000",
              "version_major": 2,
              "version_minor": 0
            },
            "text/plain": [
              "VBox(children=(Label(value=' 0.73MB of 0.73MB uploaded (0.00MB deduped)\\r'), FloatProgress(value=1.0, max=1.0)…"
            ]
          },
          "metadata": {
            "tags": []
          }
        },
        {
          "output_type": "display_data",
          "data": {
            "text/html": [
              "Find user logs for this run at: <code>/content/wandb/run-20210720_095451-ws9r8anu/logs/debug.log</code>"
            ],
            "text/plain": [
              "<IPython.core.display.HTML object>"
            ]
          },
          "metadata": {
            "tags": []
          }
        },
        {
          "output_type": "display_data",
          "data": {
            "text/html": [
              "Find internal logs for this run at: <code>/content/wandb/run-20210720_095451-ws9r8anu/logs/debug-internal.log</code>"
            ],
            "text/plain": [
              "<IPython.core.display.HTML object>"
            ]
          },
          "metadata": {
            "tags": []
          }
        },
        {
          "output_type": "display_data",
          "data": {
            "text/html": [
              "<h3>Run summary:</h3><br/><style>\n",
              "    table.wandb td:nth-child(1) { padding: 0 10px; text-align: right }\n",
              "    </style><table class=\"wandb\">\n",
              "<tr><td>epoch</td><td>9</td></tr><tr><td>loss</td><td>2.30258</td></tr><tr><td>accuracy</td><td>0.099</td></tr><tr><td>val_loss</td><td>2.30302</td></tr><tr><td>val_accuracy</td><td>0.0918</td></tr><tr><td>_runtime</td><td>160</td></tr><tr><td>_timestamp</td><td>1626775051</td></tr><tr><td>_step</td><td>9</td></tr><tr><td>best_val_loss</td><td>2.30271</td></tr><tr><td>best_epoch</td><td>1</td></tr></table>"
            ],
            "text/plain": [
              "<IPython.core.display.HTML object>"
            ]
          },
          "metadata": {
            "tags": []
          }
        },
        {
          "output_type": "display_data",
          "data": {
            "text/html": [
              "<h3>Run history:</h3><br/><style>\n",
              "    table.wandb td:nth-child(1) { padding: 0 10px; text-align: right }\n",
              "    </style><table class=\"wandb\">\n",
              "<tr><td>epoch</td><td>▁▂▃▃▄▅▆▆▇█</td></tr><tr><td>loss</td><td>█▁▁▁▁▁▁▁▁▁</td></tr><tr><td>accuracy</td><td>▂▆▅█████▁▁</td></tr><tr><td>val_loss</td><td>█▁▄▅▆▆▇▇█▇</td></tr><tr><td>val_accuracy</td><td>▁█▁▁▁▁▁▁▁▁</td></tr><tr><td>_runtime</td><td>▁▂▃▃▄▅▆▇▇█</td></tr><tr><td>_timestamp</td><td>▁▂▃▃▄▅▆▇▇█</td></tr><tr><td>_step</td><td>▁▂▃▃▄▅▆▆▇█</td></tr></table><br/>"
            ],
            "text/plain": [
              "<IPython.core.display.HTML object>"
            ]
          },
          "metadata": {
            "tags": []
          }
        },
        {
          "output_type": "display_data",
          "data": {
            "text/html": [
              "Synced 5 W&B file(s), 1 media file(s), 0 artifact file(s) and 10 other file(s)"
            ],
            "text/plain": [
              "<IPython.core.display.HTML object>"
            ]
          },
          "metadata": {
            "tags": []
          }
        },
        {
          "output_type": "display_data",
          "data": {
            "text/html": [
              "\n",
              "                    <br/>Synced <strong style=\"color:#cdcd00\">visionary-sweep-4</strong>: <a href=\"https://wandb.ai/jeongmin/uncategorized/runs/ws9r8anu\" target=\"_blank\">https://wandb.ai/jeongmin/uncategorized/runs/ws9r8anu</a><br/>\n",
              "                "
            ],
            "text/plain": [
              "<IPython.core.display.HTML object>"
            ]
          },
          "metadata": {
            "tags": []
          }
        },
        {
          "output_type": "stream",
          "text": [
            "\u001b[34m\u001b[1mwandb\u001b[0m: Agent Starting Run: 9j9ffotv with config:\n",
            "\u001b[34m\u001b[1mwandb\u001b[0m: \tbatch_size: 1024\n",
            "\u001b[34m\u001b[1mwandb\u001b[0m: \tepochs: 10\n",
            "\u001b[34m\u001b[1mwandb\u001b[0m: \thid_dim: 64\n",
            "\u001b[34m\u001b[1mwandb\u001b[0m: \tlr: 0.0001\n",
            "\u001b[34m\u001b[1mwandb\u001b[0m: \tmodel_code: VGG11\n",
            "\u001b[34m\u001b[1mwandb\u001b[0m: \u001b[33mWARNING\u001b[0m Ignored wandb.init() arg project when running a sweep\n"
          ],
          "name": "stderr"
        },
        {
          "output_type": "display_data",
          "data": {
            "text/html": [
              "\n",
              "                Tracking run with wandb version 0.11.0<br/>\n",
              "                Syncing run <strong style=\"color:#cdcd00\">effortless-sweep-5</strong> to <a href=\"https://wandb.ai\" target=\"_blank\">Weights & Biases</a> <a href=\"https://docs.wandb.com/integrations/jupyter.html\" target=\"_blank\">(Documentation)</a>.<br/>\n",
              "                Project page: <a href=\"https://wandb.ai/jeongmin/uncategorized\" target=\"_blank\">https://wandb.ai/jeongmin/uncategorized</a><br/>\n",
              "                Sweep page: <a href=\"https://wandb.ai/jeongmin/uncategorized/sweeps/maudemkc\" target=\"_blank\">https://wandb.ai/jeongmin/uncategorized/sweeps/maudemkc</a><br/>\n",
              "Run page: <a href=\"https://wandb.ai/jeongmin/uncategorized/runs/9j9ffotv\" target=\"_blank\">https://wandb.ai/jeongmin/uncategorized/runs/9j9ffotv</a><br/>\n",
              "                Run data is saved locally in <code>/content/wandb/run-20210720_095748-9j9ffotv</code><br/><br/>\n",
              "            "
            ],
            "text/plain": [
              "<IPython.core.display.HTML object>"
            ]
          },
          "metadata": {
            "tags": []
          }
        },
        {
          "output_type": "stream",
          "text": [
            "Epoch 1/10\n",
            " 6/40 [===>..........................] - ETA: 8s - loss: 2.3007 - accuracy: 0.1014WARNING:tensorflow:Callback method `on_train_batch_end` is slow compared to the batch time (batch time: 0.0524s vs `on_train_batch_end` time: 0.1344s). Check your callbacks.\n",
            "40/40 [==============================] - 7s 164ms/step - loss: 2.1758 - accuracy: 0.1750 - val_loss: 2.1256 - val_accuracy: 0.2219\n",
            "Epoch 2/10\n",
            "40/40 [==============================] - 6s 143ms/step - loss: 1.9461 - accuracy: 0.2752 - val_loss: 1.9801 - val_accuracy: 0.2754\n",
            "Epoch 3/10\n",
            "40/40 [==============================] - 6s 144ms/step - loss: 1.7721 - accuracy: 0.3485 - val_loss: 1.6889 - val_accuracy: 0.3728\n",
            "Epoch 4/10\n",
            "40/40 [==============================] - 6s 145ms/step - loss: 1.6422 - accuracy: 0.3938 - val_loss: 1.8193 - val_accuracy: 0.3366\n",
            "Epoch 5/10\n",
            "40/40 [==============================] - 6s 145ms/step - loss: 1.6141 - accuracy: 0.4025 - val_loss: 1.5408 - val_accuracy: 0.4260\n",
            "Epoch 6/10\n",
            "40/40 [==============================] - 6s 142ms/step - loss: 1.5015 - accuracy: 0.4478 - val_loss: 1.5617 - val_accuracy: 0.4259\n",
            "Epoch 7/10\n",
            "40/40 [==============================] - 6s 143ms/step - loss: 1.4646 - accuracy: 0.4628 - val_loss: 1.5474 - val_accuracy: 0.4347\n",
            "Epoch 8/10\n",
            "40/40 [==============================] - 6s 143ms/step - loss: 1.4206 - accuracy: 0.4800 - val_loss: 1.4333 - val_accuracy: 0.4744\n",
            "Epoch 9/10\n",
            "40/40 [==============================] - 6s 143ms/step - loss: 1.3535 - accuracy: 0.5052 - val_loss: 1.4332 - val_accuracy: 0.4774\n",
            "Epoch 10/10\n",
            "40/40 [==============================] - 6s 143ms/step - loss: 1.3306 - accuracy: 0.5147 - val_loss: 1.3112 - val_accuracy: 0.5191\n",
            "10/10 [==============================] - 1s 45ms/step - loss: 1.3151 - accuracy: 0.5119\n"
          ],
          "name": "stdout"
        },
        {
          "output_type": "display_data",
          "data": {
            "text/html": [
              "<br/>Waiting for W&B process to finish, PID 6179<br/>Program ended successfully."
            ],
            "text/plain": [
              "<IPython.core.display.HTML object>"
            ]
          },
          "metadata": {
            "tags": []
          }
        },
        {
          "output_type": "display_data",
          "data": {
            "application/vnd.jupyter.widget-view+json": {
              "model_id": "b22c1c3ceedc4bda8eabcba032568092",
              "version_major": 2,
              "version_minor": 0
            },
            "text/plain": [
              "VBox(children=(Label(value=' 0.55MB of 0.55MB uploaded (0.00MB deduped)\\r'), FloatProgress(value=1.0, max=1.0)…"
            ]
          },
          "metadata": {
            "tags": []
          }
        },
        {
          "output_type": "display_data",
          "data": {
            "text/html": [
              "Find user logs for this run at: <code>/content/wandb/run-20210720_095748-9j9ffotv/logs/debug.log</code>"
            ],
            "text/plain": [
              "<IPython.core.display.HTML object>"
            ]
          },
          "metadata": {
            "tags": []
          }
        },
        {
          "output_type": "display_data",
          "data": {
            "text/html": [
              "Find internal logs for this run at: <code>/content/wandb/run-20210720_095748-9j9ffotv/logs/debug-internal.log</code>"
            ],
            "text/plain": [
              "<IPython.core.display.HTML object>"
            ]
          },
          "metadata": {
            "tags": []
          }
        },
        {
          "output_type": "display_data",
          "data": {
            "text/html": [
              "<h3>Run summary:</h3><br/><style>\n",
              "    table.wandb td:nth-child(1) { padding: 0 10px; text-align: right }\n",
              "    </style><table class=\"wandb\">\n",
              "<tr><td>epoch</td><td>9</td></tr><tr><td>loss</td><td>1.33064</td></tr><tr><td>accuracy</td><td>0.51468</td></tr><tr><td>val_loss</td><td>1.31118</td></tr><tr><td>val_accuracy</td><td>0.5191</td></tr><tr><td>_runtime</td><td>83</td></tr><tr><td>_timestamp</td><td>1626775151</td></tr><tr><td>_step</td><td>9</td></tr><tr><td>best_val_loss</td><td>1.31118</td></tr><tr><td>best_epoch</td><td>9</td></tr></table>"
            ],
            "text/plain": [
              "<IPython.core.display.HTML object>"
            ]
          },
          "metadata": {
            "tags": []
          }
        },
        {
          "output_type": "display_data",
          "data": {
            "text/html": [
              "<h3>Run history:</h3><br/><style>\n",
              "    table.wandb td:nth-child(1) { padding: 0 10px; text-align: right }\n",
              "    </style><table class=\"wandb\">\n",
              "<tr><td>epoch</td><td>▁▂▃▃▄▅▆▆▇█</td></tr><tr><td>loss</td><td>█▆▅▄▃▂▂▂▁▁</td></tr><tr><td>accuracy</td><td>▁▃▅▆▆▇▇▇██</td></tr><tr><td>val_loss</td><td>█▇▄▅▃▃▃▂▂▁</td></tr><tr><td>val_accuracy</td><td>▁▂▅▄▆▆▆▇▇█</td></tr><tr><td>_runtime</td><td>▁▂▂▃▄▄▅▆▇█</td></tr><tr><td>_timestamp</td><td>▁▂▂▃▄▄▅▆▇█</td></tr><tr><td>_step</td><td>▁▂▃▃▄▅▆▆▇█</td></tr></table><br/>"
            ],
            "text/plain": [
              "<IPython.core.display.HTML object>"
            ]
          },
          "metadata": {
            "tags": []
          }
        },
        {
          "output_type": "display_data",
          "data": {
            "text/html": [
              "Synced 5 W&B file(s), 1 media file(s), 0 artifact file(s) and 10 other file(s)"
            ],
            "text/plain": [
              "<IPython.core.display.HTML object>"
            ]
          },
          "metadata": {
            "tags": []
          }
        },
        {
          "output_type": "display_data",
          "data": {
            "text/html": [
              "\n",
              "                    <br/>Synced <strong style=\"color:#cdcd00\">effortless-sweep-5</strong>: <a href=\"https://wandb.ai/jeongmin/uncategorized/runs/9j9ffotv\" target=\"_blank\">https://wandb.ai/jeongmin/uncategorized/runs/9j9ffotv</a><br/>\n",
              "                "
            ],
            "text/plain": [
              "<IPython.core.display.HTML object>"
            ]
          },
          "metadata": {
            "tags": []
          }
        },
        {
          "output_type": "stream",
          "text": [
            "\u001b[34m\u001b[1mwandb\u001b[0m: Agent Starting Run: jgbs34qn with config:\n",
            "\u001b[34m\u001b[1mwandb\u001b[0m: \tbatch_size: 1024\n",
            "\u001b[34m\u001b[1mwandb\u001b[0m: \tepochs: 10\n",
            "\u001b[34m\u001b[1mwandb\u001b[0m: \thid_dim: 64\n",
            "\u001b[34m\u001b[1mwandb\u001b[0m: \tlr: 0.0001\n",
            "\u001b[34m\u001b[1mwandb\u001b[0m: \tmodel_code: VGG13\n",
            "\u001b[34m\u001b[1mwandb\u001b[0m: \u001b[33mWARNING\u001b[0m Ignored wandb.init() arg project when running a sweep\n"
          ],
          "name": "stderr"
        },
        {
          "output_type": "display_data",
          "data": {
            "text/html": [
              "\n",
              "                Tracking run with wandb version 0.11.0<br/>\n",
              "                Syncing run <strong style=\"color:#cdcd00\">lilac-sweep-6</strong> to <a href=\"https://wandb.ai\" target=\"_blank\">Weights & Biases</a> <a href=\"https://docs.wandb.com/integrations/jupyter.html\" target=\"_blank\">(Documentation)</a>.<br/>\n",
              "                Project page: <a href=\"https://wandb.ai/jeongmin/uncategorized\" target=\"_blank\">https://wandb.ai/jeongmin/uncategorized</a><br/>\n",
              "                Sweep page: <a href=\"https://wandb.ai/jeongmin/uncategorized/sweeps/maudemkc\" target=\"_blank\">https://wandb.ai/jeongmin/uncategorized/sweeps/maudemkc</a><br/>\n",
              "Run page: <a href=\"https://wandb.ai/jeongmin/uncategorized/runs/jgbs34qn\" target=\"_blank\">https://wandb.ai/jeongmin/uncategorized/runs/jgbs34qn</a><br/>\n",
              "                Run data is saved locally in <code>/content/wandb/run-20210720_095921-jgbs34qn</code><br/><br/>\n",
              "            "
            ],
            "text/plain": [
              "<IPython.core.display.HTML object>"
            ]
          },
          "metadata": {
            "tags": []
          }
        },
        {
          "output_type": "stream",
          "text": [
            "Epoch 1/10\n",
            " 6/40 [===>..........................] - ETA: 9s - loss: 2.3015 - accuracy: 0.1034 WARNING:tensorflow:Callback method `on_train_batch_end` is slow compared to the batch time (batch time: 0.0602s vs `on_train_batch_end` time: 0.1657s). Check your callbacks.\n",
            "40/40 [==============================] - 9s 205ms/step - loss: 2.1726 - accuracy: 0.1738 - val_loss: 2.0154 - val_accuracy: 0.2453\n",
            "Epoch 2/10\n",
            "40/40 [==============================] - 7s 185ms/step - loss: 1.9360 - accuracy: 0.2831 - val_loss: 1.9002 - val_accuracy: 0.2928\n",
            "Epoch 3/10\n",
            "40/40 [==============================] - 7s 185ms/step - loss: 1.7510 - accuracy: 0.3495 - val_loss: 1.7360 - val_accuracy: 0.3658\n",
            "Epoch 4/10\n",
            "40/40 [==============================] - 7s 183ms/step - loss: 1.7015 - accuracy: 0.3749 - val_loss: 1.6084 - val_accuracy: 0.3983\n",
            "Epoch 5/10\n",
            "40/40 [==============================] - 7s 185ms/step - loss: 1.5772 - accuracy: 0.4153 - val_loss: 1.5244 - val_accuracy: 0.4314\n",
            "Epoch 6/10\n",
            "40/40 [==============================] - 8s 189ms/step - loss: 1.5064 - accuracy: 0.4442 - val_loss: 1.4896 - val_accuracy: 0.4481\n",
            "Epoch 7/10\n",
            "40/40 [==============================] - 8s 189ms/step - loss: 1.4645 - accuracy: 0.4639 - val_loss: 1.4396 - val_accuracy: 0.4646\n",
            "Epoch 8/10\n",
            "40/40 [==============================] - 7s 185ms/step - loss: 1.4034 - accuracy: 0.4873 - val_loss: 1.4090 - val_accuracy: 0.4740\n",
            "Epoch 9/10\n",
            "40/40 [==============================] - 7s 185ms/step - loss: 1.3534 - accuracy: 0.5038 - val_loss: 1.4328 - val_accuracy: 0.4738\n",
            "Epoch 10/10\n",
            "40/40 [==============================] - 7s 184ms/step - loss: 1.3136 - accuracy: 0.5191 - val_loss: 1.3184 - val_accuracy: 0.5096\n",
            "10/10 [==============================] - 1s 54ms/step - loss: 1.3161 - accuracy: 0.5119\n"
          ],
          "name": "stdout"
        },
        {
          "output_type": "display_data",
          "data": {
            "text/html": [
              "<br/>Waiting for W&B process to finish, PID 6275<br/>Program ended successfully."
            ],
            "text/plain": [
              "<IPython.core.display.HTML object>"
            ]
          },
          "metadata": {
            "tags": []
          }
        },
        {
          "output_type": "display_data",
          "data": {
            "application/vnd.jupyter.widget-view+json": {
              "model_id": "45a5e3016275401e93240239a6fffd65",
              "version_major": 2,
              "version_minor": 0
            },
            "text/plain": [
              "VBox(children=(Label(value=' 0.55MB of 0.55MB uploaded (0.00MB deduped)\\r'), FloatProgress(value=1.0, max=1.0)…"
            ]
          },
          "metadata": {
            "tags": []
          }
        },
        {
          "output_type": "display_data",
          "data": {
            "text/html": [
              "Find user logs for this run at: <code>/content/wandb/run-20210720_095921-jgbs34qn/logs/debug.log</code>"
            ],
            "text/plain": [
              "<IPython.core.display.HTML object>"
            ]
          },
          "metadata": {
            "tags": []
          }
        },
        {
          "output_type": "display_data",
          "data": {
            "text/html": [
              "Find internal logs for this run at: <code>/content/wandb/run-20210720_095921-jgbs34qn/logs/debug-internal.log</code>"
            ],
            "text/plain": [
              "<IPython.core.display.HTML object>"
            ]
          },
          "metadata": {
            "tags": []
          }
        },
        {
          "output_type": "display_data",
          "data": {
            "text/html": [
              "<h3>Run summary:</h3><br/><style>\n",
              "    table.wandb td:nth-child(1) { padding: 0 10px; text-align: right }\n",
              "    </style><table class=\"wandb\">\n",
              "<tr><td>epoch</td><td>9</td></tr><tr><td>loss</td><td>1.3136</td></tr><tr><td>accuracy</td><td>0.51905</td></tr><tr><td>val_loss</td><td>1.31844</td></tr><tr><td>val_accuracy</td><td>0.5096</td></tr><tr><td>_runtime</td><td>95</td></tr><tr><td>_timestamp</td><td>1626775256</td></tr><tr><td>_step</td><td>9</td></tr><tr><td>best_val_loss</td><td>1.31844</td></tr><tr><td>best_epoch</td><td>9</td></tr></table>"
            ],
            "text/plain": [
              "<IPython.core.display.HTML object>"
            ]
          },
          "metadata": {
            "tags": []
          }
        },
        {
          "output_type": "display_data",
          "data": {
            "text/html": [
              "<h3>Run history:</h3><br/><style>\n",
              "    table.wandb td:nth-child(1) { padding: 0 10px; text-align: right }\n",
              "    </style><table class=\"wandb\">\n",
              "<tr><td>epoch</td><td>▁▂▃▃▄▅▆▆▇█</td></tr><tr><td>loss</td><td>█▆▅▄▃▃▂▂▁▁</td></tr><tr><td>accuracy</td><td>▁▃▅▅▆▆▇▇██</td></tr><tr><td>val_loss</td><td>█▇▅▄▃▃▂▂▂▁</td></tr><tr><td>val_accuracy</td><td>▁▂▄▅▆▆▇▇▇█</td></tr><tr><td>_runtime</td><td>▁▂▃▃▄▅▆▇▇█</td></tr><tr><td>_timestamp</td><td>▁▂▃▃▄▅▆▇▇█</td></tr><tr><td>_step</td><td>▁▂▃▃▄▅▆▆▇█</td></tr></table><br/>"
            ],
            "text/plain": [
              "<IPython.core.display.HTML object>"
            ]
          },
          "metadata": {
            "tags": []
          }
        },
        {
          "output_type": "display_data",
          "data": {
            "text/html": [
              "Synced 5 W&B file(s), 1 media file(s), 0 artifact file(s) and 10 other file(s)"
            ],
            "text/plain": [
              "<IPython.core.display.HTML object>"
            ]
          },
          "metadata": {
            "tags": []
          }
        },
        {
          "output_type": "display_data",
          "data": {
            "text/html": [
              "\n",
              "                    <br/>Synced <strong style=\"color:#cdcd00\">lilac-sweep-6</strong>: <a href=\"https://wandb.ai/jeongmin/uncategorized/runs/jgbs34qn\" target=\"_blank\">https://wandb.ai/jeongmin/uncategorized/runs/jgbs34qn</a><br/>\n",
              "                "
            ],
            "text/plain": [
              "<IPython.core.display.HTML object>"
            ]
          },
          "metadata": {
            "tags": []
          }
        },
        {
          "output_type": "stream",
          "text": [
            "\u001b[34m\u001b[1mwandb\u001b[0m: Agent Starting Run: t7ru2pxr with config:\n",
            "\u001b[34m\u001b[1mwandb\u001b[0m: \tbatch_size: 1024\n",
            "\u001b[34m\u001b[1mwandb\u001b[0m: \tepochs: 10\n",
            "\u001b[34m\u001b[1mwandb\u001b[0m: \thid_dim: 64\n",
            "\u001b[34m\u001b[1mwandb\u001b[0m: \tlr: 0.0001\n",
            "\u001b[34m\u001b[1mwandb\u001b[0m: \tmodel_code: VGG16\n",
            "\u001b[34m\u001b[1mwandb\u001b[0m: \u001b[33mWARNING\u001b[0m Ignored wandb.init() arg project when running a sweep\n"
          ],
          "name": "stderr"
        },
        {
          "output_type": "display_data",
          "data": {
            "text/html": [
              "\n",
              "                Tracking run with wandb version 0.11.0<br/>\n",
              "                Syncing run <strong style=\"color:#cdcd00\">decent-sweep-7</strong> to <a href=\"https://wandb.ai\" target=\"_blank\">Weights & Biases</a> <a href=\"https://docs.wandb.com/integrations/jupyter.html\" target=\"_blank\">(Documentation)</a>.<br/>\n",
              "                Project page: <a href=\"https://wandb.ai/jeongmin/uncategorized\" target=\"_blank\">https://wandb.ai/jeongmin/uncategorized</a><br/>\n",
              "                Sweep page: <a href=\"https://wandb.ai/jeongmin/uncategorized/sweeps/maudemkc\" target=\"_blank\">https://wandb.ai/jeongmin/uncategorized/sweeps/maudemkc</a><br/>\n",
              "Run page: <a href=\"https://wandb.ai/jeongmin/uncategorized/runs/t7ru2pxr\" target=\"_blank\">https://wandb.ai/jeongmin/uncategorized/runs/t7ru2pxr</a><br/>\n",
              "                Run data is saved locally in <code>/content/wandb/run-20210720_100102-t7ru2pxr</code><br/><br/>\n",
              "            "
            ],
            "text/plain": [
              "<IPython.core.display.HTML object>"
            ]
          },
          "metadata": {
            "tags": []
          }
        },
        {
          "output_type": "stream",
          "text": [
            "Epoch 1/10\n",
            " 6/40 [===>..........................] - ETA: 10s - loss: 2.3025 - accuracy: 0.1077WARNING:tensorflow:Callback method `on_train_batch_end` is slow compared to the batch time (batch time: 0.0730s vs `on_train_batch_end` time: 0.1915s). Check your callbacks.\n",
            "40/40 [==============================] - 11s 240ms/step - loss: 2.2101 - accuracy: 0.1563 - val_loss: 2.0112 - val_accuracy: 0.2440\n",
            "Epoch 2/10\n",
            "40/40 [==============================] - 9s 223ms/step - loss: 1.9465 - accuracy: 0.2552 - val_loss: 1.8116 - val_accuracy: 0.3138\n",
            "Epoch 3/10\n",
            "40/40 [==============================] - 9s 222ms/step - loss: 1.7769 - accuracy: 0.3252 - val_loss: 1.7411 - val_accuracy: 0.3287\n",
            "Epoch 4/10\n",
            "40/40 [==============================] - 9s 222ms/step - loss: 1.6910 - accuracy: 0.3554 - val_loss: 1.6576 - val_accuracy: 0.3651\n",
            "Epoch 5/10\n",
            "40/40 [==============================] - 9s 220ms/step - loss: 1.6718 - accuracy: 0.3744 - val_loss: 1.6323 - val_accuracy: 0.3892\n",
            "Epoch 6/10\n",
            "40/40 [==============================] - 9s 221ms/step - loss: 1.5564 - accuracy: 0.4171 - val_loss: 1.6435 - val_accuracy: 0.3828\n",
            "Epoch 7/10\n",
            "40/40 [==============================] - 9s 220ms/step - loss: 1.4962 - accuracy: 0.4450 - val_loss: 1.6718 - val_accuracy: 0.3870\n",
            "Epoch 8/10\n",
            "40/40 [==============================] - 9s 223ms/step - loss: 1.4580 - accuracy: 0.4578 - val_loss: 1.4870 - val_accuracy: 0.4515\n",
            "Epoch 9/10\n",
            "40/40 [==============================] - 10s 239ms/step - loss: 1.3845 - accuracy: 0.4875 - val_loss: 1.4102 - val_accuracy: 0.4818\n",
            "Epoch 10/10\n",
            "40/40 [==============================] - 9s 222ms/step - loss: 1.3262 - accuracy: 0.5112 - val_loss: 1.3769 - val_accuracy: 0.5014\n",
            "10/10 [==============================] - 1s 70ms/step - loss: 1.3775 - accuracy: 0.4993\n"
          ],
          "name": "stdout"
        },
        {
          "output_type": "display_data",
          "data": {
            "text/html": [
              "<br/>Waiting for W&B process to finish, PID 6377<br/>Program ended successfully."
            ],
            "text/plain": [
              "<IPython.core.display.HTML object>"
            ]
          },
          "metadata": {
            "tags": []
          }
        },
        {
          "output_type": "display_data",
          "data": {
            "application/vnd.jupyter.widget-view+json": {
              "model_id": "3b819691765e4fbd9e417a46eac2df14",
              "version_major": 2,
              "version_minor": 0
            },
            "text/plain": [
              "VBox(children=(Label(value=' 0.64MB of 0.64MB uploaded (0.00MB deduped)\\r'), FloatProgress(value=1.0, max=1.0)…"
            ]
          },
          "metadata": {
            "tags": []
          }
        },
        {
          "output_type": "display_data",
          "data": {
            "text/html": [
              "Find user logs for this run at: <code>/content/wandb/run-20210720_100102-t7ru2pxr/logs/debug.log</code>"
            ],
            "text/plain": [
              "<IPython.core.display.HTML object>"
            ]
          },
          "metadata": {
            "tags": []
          }
        },
        {
          "output_type": "display_data",
          "data": {
            "text/html": [
              "Find internal logs for this run at: <code>/content/wandb/run-20210720_100102-t7ru2pxr/logs/debug-internal.log</code>"
            ],
            "text/plain": [
              "<IPython.core.display.HTML object>"
            ]
          },
          "metadata": {
            "tags": []
          }
        },
        {
          "output_type": "display_data",
          "data": {
            "text/html": [
              "<h3>Run summary:</h3><br/><style>\n",
              "    table.wandb td:nth-child(1) { padding: 0 10px; text-align: right }\n",
              "    </style><table class=\"wandb\">\n",
              "<tr><td>epoch</td><td>9</td></tr><tr><td>loss</td><td>1.32616</td></tr><tr><td>accuracy</td><td>0.51117</td></tr><tr><td>val_loss</td><td>1.37691</td></tr><tr><td>val_accuracy</td><td>0.5014</td></tr><tr><td>_runtime</td><td>104</td></tr><tr><td>_timestamp</td><td>1626775366</td></tr><tr><td>_step</td><td>9</td></tr><tr><td>best_val_loss</td><td>1.37691</td></tr><tr><td>best_epoch</td><td>9</td></tr></table>"
            ],
            "text/plain": [
              "<IPython.core.display.HTML object>"
            ]
          },
          "metadata": {
            "tags": []
          }
        },
        {
          "output_type": "display_data",
          "data": {
            "text/html": [
              "<h3>Run history:</h3><br/><style>\n",
              "    table.wandb td:nth-child(1) { padding: 0 10px; text-align: right }\n",
              "    </style><table class=\"wandb\">\n",
              "<tr><td>epoch</td><td>▁▂▃▃▄▅▆▆▇█</td></tr><tr><td>loss</td><td>█▆▅▄▄▃▂▂▁▁</td></tr><tr><td>accuracy</td><td>▁▃▄▅▅▆▇▇██</td></tr><tr><td>val_loss</td><td>█▆▅▄▄▄▄▂▁▁</td></tr><tr><td>val_accuracy</td><td>▁▃▃▄▅▅▅▇▇█</td></tr><tr><td>_runtime</td><td>▁▂▃▃▄▅▆▆▇█</td></tr><tr><td>_timestamp</td><td>▁▂▃▃▄▅▆▆▇█</td></tr><tr><td>_step</td><td>▁▂▃▃▄▅▆▆▇█</td></tr></table><br/>"
            ],
            "text/plain": [
              "<IPython.core.display.HTML object>"
            ]
          },
          "metadata": {
            "tags": []
          }
        },
        {
          "output_type": "display_data",
          "data": {
            "text/html": [
              "Synced 5 W&B file(s), 1 media file(s), 0 artifact file(s) and 10 other file(s)"
            ],
            "text/plain": [
              "<IPython.core.display.HTML object>"
            ]
          },
          "metadata": {
            "tags": []
          }
        },
        {
          "output_type": "display_data",
          "data": {
            "text/html": [
              "\n",
              "                    <br/>Synced <strong style=\"color:#cdcd00\">decent-sweep-7</strong>: <a href=\"https://wandb.ai/jeongmin/uncategorized/runs/t7ru2pxr\" target=\"_blank\">https://wandb.ai/jeongmin/uncategorized/runs/t7ru2pxr</a><br/>\n",
              "                "
            ],
            "text/plain": [
              "<IPython.core.display.HTML object>"
            ]
          },
          "metadata": {
            "tags": []
          }
        },
        {
          "output_type": "stream",
          "text": [
            "\u001b[34m\u001b[1mwandb\u001b[0m: Agent Starting Run: rjmn69ly with config:\n",
            "\u001b[34m\u001b[1mwandb\u001b[0m: \tbatch_size: 1024\n",
            "\u001b[34m\u001b[1mwandb\u001b[0m: \tepochs: 10\n",
            "\u001b[34m\u001b[1mwandb\u001b[0m: \thid_dim: 64\n",
            "\u001b[34m\u001b[1mwandb\u001b[0m: \tlr: 0.0001\n",
            "\u001b[34m\u001b[1mwandb\u001b[0m: \tmodel_code: VGG19\n",
            "\u001b[34m\u001b[1mwandb\u001b[0m: \u001b[33mWARNING\u001b[0m Ignored wandb.init() arg project when running a sweep\n"
          ],
          "name": "stderr"
        },
        {
          "output_type": "display_data",
          "data": {
            "text/html": [
              "\n",
              "                Tracking run with wandb version 0.11.0<br/>\n",
              "                Syncing run <strong style=\"color:#cdcd00\">eager-sweep-8</strong> to <a href=\"https://wandb.ai\" target=\"_blank\">Weights & Biases</a> <a href=\"https://docs.wandb.com/integrations/jupyter.html\" target=\"_blank\">(Documentation)</a>.<br/>\n",
              "                Project page: <a href=\"https://wandb.ai/jeongmin/uncategorized\" target=\"_blank\">https://wandb.ai/jeongmin/uncategorized</a><br/>\n",
              "                Sweep page: <a href=\"https://wandb.ai/jeongmin/uncategorized/sweeps/maudemkc\" target=\"_blank\">https://wandb.ai/jeongmin/uncategorized/sweeps/maudemkc</a><br/>\n",
              "Run page: <a href=\"https://wandb.ai/jeongmin/uncategorized/runs/rjmn69ly\" target=\"_blank\">https://wandb.ai/jeongmin/uncategorized/runs/rjmn69ly</a><br/>\n",
              "                Run data is saved locally in <code>/content/wandb/run-20210720_100254-rjmn69ly</code><br/><br/>\n",
              "            "
            ],
            "text/plain": [
              "<IPython.core.display.HTML object>"
            ]
          },
          "metadata": {
            "tags": []
          }
        },
        {
          "output_type": "stream",
          "text": [
            "Epoch 1/10\n",
            " 6/40 [===>..........................] - ETA: 12s - loss: 2.3026 - accuracy: 0.1007WARNING:tensorflow:Callback method `on_train_batch_end` is slow compared to the batch time (batch time: 0.0806s vs `on_train_batch_end` time: 0.2210s). Check your callbacks.\n",
            "40/40 [==============================] - 13s 281ms/step - loss: 2.2813 - accuracy: 0.1201 - val_loss: 2.1611 - val_accuracy: 0.1678\n",
            "Epoch 2/10\n",
            "40/40 [==============================] - 10s 258ms/step - loss: 2.0832 - accuracy: 0.2019 - val_loss: 2.0275 - val_accuracy: 0.2053\n",
            "Epoch 3/10\n",
            "40/40 [==============================] - 10s 259ms/step - loss: 1.9514 - accuracy: 0.2447 - val_loss: 1.8577 - val_accuracy: 0.2809\n",
            "Epoch 4/10\n",
            "40/40 [==============================] - 10s 257ms/step - loss: 1.8111 - accuracy: 0.3007 - val_loss: 1.8894 - val_accuracy: 0.2936\n",
            "Epoch 5/10\n",
            "40/40 [==============================] - 10s 259ms/step - loss: 1.7163 - accuracy: 0.3426 - val_loss: 1.7203 - val_accuracy: 0.3327\n",
            "Epoch 6/10\n",
            "40/40 [==============================] - 10s 261ms/step - loss: 1.6167 - accuracy: 0.3853 - val_loss: 1.5792 - val_accuracy: 0.4013\n",
            "Epoch 7/10\n",
            "40/40 [==============================] - 10s 257ms/step - loss: 1.5458 - accuracy: 0.4176 - val_loss: 1.6799 - val_accuracy: 0.3821\n",
            "Epoch 8/10\n",
            "40/40 [==============================] - 10s 258ms/step - loss: 1.4855 - accuracy: 0.4415 - val_loss: 1.5598 - val_accuracy: 0.4261\n",
            "Epoch 9/10\n",
            "40/40 [==============================] - 10s 261ms/step - loss: 1.4192 - accuracy: 0.4705 - val_loss: 1.4963 - val_accuracy: 0.4611\n",
            "Epoch 10/10\n",
            "40/40 [==============================] - 10s 259ms/step - loss: 1.3436 - accuracy: 0.4987 - val_loss: 1.4032 - val_accuracy: 0.4920\n",
            "10/10 [==============================] - 1s 75ms/step - loss: 1.4057 - accuracy: 0.4840\n"
          ],
          "name": "stdout"
        },
        {
          "output_type": "display_data",
          "data": {
            "text/html": [
              "<br/>Waiting for W&B process to finish, PID 6491<br/>Program ended successfully."
            ],
            "text/plain": [
              "<IPython.core.display.HTML object>"
            ]
          },
          "metadata": {
            "tags": []
          }
        },
        {
          "output_type": "display_data",
          "data": {
            "application/vnd.jupyter.widget-view+json": {
              "model_id": "7ca607b07e47492e90a7c574d13d8663",
              "version_major": 2,
              "version_minor": 0
            },
            "text/plain": [
              "VBox(children=(Label(value=' 0.73MB of 0.73MB uploaded (0.00MB deduped)\\r'), FloatProgress(value=1.0, max=1.0)…"
            ]
          },
          "metadata": {
            "tags": []
          }
        },
        {
          "output_type": "display_data",
          "data": {
            "text/html": [
              "Find user logs for this run at: <code>/content/wandb/run-20210720_100254-rjmn69ly/logs/debug.log</code>"
            ],
            "text/plain": [
              "<IPython.core.display.HTML object>"
            ]
          },
          "metadata": {
            "tags": []
          }
        },
        {
          "output_type": "display_data",
          "data": {
            "text/html": [
              "Find internal logs for this run at: <code>/content/wandb/run-20210720_100254-rjmn69ly/logs/debug-internal.log</code>"
            ],
            "text/plain": [
              "<IPython.core.display.HTML object>"
            ]
          },
          "metadata": {
            "tags": []
          }
        },
        {
          "output_type": "display_data",
          "data": {
            "text/html": [
              "<h3>Run summary:</h3><br/><style>\n",
              "    table.wandb td:nth-child(1) { padding: 0 10px; text-align: right }\n",
              "    </style><table class=\"wandb\">\n",
              "<tr><td>epoch</td><td>9</td></tr><tr><td>loss</td><td>1.34358</td></tr><tr><td>accuracy</td><td>0.4987</td></tr><tr><td>val_loss</td><td>1.40322</td></tr><tr><td>val_accuracy</td><td>0.492</td></tr><tr><td>_runtime</td><td>171</td></tr><tr><td>_timestamp</td><td>1626775545</td></tr><tr><td>_step</td><td>9</td></tr><tr><td>best_val_loss</td><td>1.40322</td></tr><tr><td>best_epoch</td><td>9</td></tr></table>"
            ],
            "text/plain": [
              "<IPython.core.display.HTML object>"
            ]
          },
          "metadata": {
            "tags": []
          }
        },
        {
          "output_type": "display_data",
          "data": {
            "text/html": [
              "<h3>Run history:</h3><br/><style>\n",
              "    table.wandb td:nth-child(1) { padding: 0 10px; text-align: right }\n",
              "    </style><table class=\"wandb\">\n",
              "<tr><td>epoch</td><td>▁▂▃▃▄▅▆▆▇█</td></tr><tr><td>loss</td><td>█▇▆▄▄▃▃▂▂▁</td></tr><tr><td>accuracy</td><td>▁▃▃▄▅▆▇▇▇█</td></tr><tr><td>val_loss</td><td>█▇▅▅▄▃▄▂▂▁</td></tr><tr><td>val_accuracy</td><td>▁▂▃▄▅▆▆▇▇█</td></tr><tr><td>_runtime</td><td>▁▂▃▄▄▅▆▇▇█</td></tr><tr><td>_timestamp</td><td>▁▂▃▄▄▅▆▇▇█</td></tr><tr><td>_step</td><td>▁▂▃▃▄▅▆▆▇█</td></tr></table><br/>"
            ],
            "text/plain": [
              "<IPython.core.display.HTML object>"
            ]
          },
          "metadata": {
            "tags": []
          }
        },
        {
          "output_type": "display_data",
          "data": {
            "text/html": [
              "Synced 5 W&B file(s), 1 media file(s), 0 artifact file(s) and 10 other file(s)"
            ],
            "text/plain": [
              "<IPython.core.display.HTML object>"
            ]
          },
          "metadata": {
            "tags": []
          }
        },
        {
          "output_type": "display_data",
          "data": {
            "text/html": [
              "\n",
              "                    <br/>Synced <strong style=\"color:#cdcd00\">eager-sweep-8</strong>: <a href=\"https://wandb.ai/jeongmin/uncategorized/runs/rjmn69ly\" target=\"_blank\">https://wandb.ai/jeongmin/uncategorized/runs/rjmn69ly</a><br/>\n",
              "                "
            ],
            "text/plain": [
              "<IPython.core.display.HTML object>"
            ]
          },
          "metadata": {
            "tags": []
          }
        },
        {
          "output_type": "stream",
          "text": [
            "\u001b[34m\u001b[1mwandb\u001b[0m: Sweep Agent: Waiting for job.\n",
            "\u001b[34m\u001b[1mwandb\u001b[0m: \u001b[32m\u001b[41mERROR\u001b[0m Error while calling W&B API: Post \"http://anaconda.default.svc.cluster.local/search\": context deadline exceeded (<Response [500]>)\n",
            "\u001b[34m\u001b[1mwandb\u001b[0m: Job received.\n",
            "\u001b[34m\u001b[1mwandb\u001b[0m: Agent Starting Run: 4tzcqrgb with config:\n",
            "\u001b[34m\u001b[1mwandb\u001b[0m: \tbatch_size: 1024\n",
            "\u001b[34m\u001b[1mwandb\u001b[0m: \tepochs: 10\n",
            "\u001b[34m\u001b[1mwandb\u001b[0m: \thid_dim: 1024\n",
            "\u001b[34m\u001b[1mwandb\u001b[0m: \tlr: 0.001\n",
            "\u001b[34m\u001b[1mwandb\u001b[0m: \tmodel_code: VGG11\n",
            "\u001b[34m\u001b[1mwandb\u001b[0m: \u001b[33mWARNING\u001b[0m Ignored wandb.init() arg project when running a sweep\n"
          ],
          "name": "stderr"
        },
        {
          "output_type": "display_data",
          "data": {
            "text/html": [
              "\n",
              "                Tracking run with wandb version 0.11.0<br/>\n",
              "                Syncing run <strong style=\"color:#cdcd00\">fresh-sweep-9</strong> to <a href=\"https://wandb.ai\" target=\"_blank\">Weights & Biases</a> <a href=\"https://docs.wandb.com/integrations/jupyter.html\" target=\"_blank\">(Documentation)</a>.<br/>\n",
              "                Project page: <a href=\"https://wandb.ai/jeongmin/uncategorized\" target=\"_blank\">https://wandb.ai/jeongmin/uncategorized</a><br/>\n",
              "                Sweep page: <a href=\"https://wandb.ai/jeongmin/uncategorized/sweeps/maudemkc\" target=\"_blank\">https://wandb.ai/jeongmin/uncategorized/sweeps/maudemkc</a><br/>\n",
              "Run page: <a href=\"https://wandb.ai/jeongmin/uncategorized/runs/4tzcqrgb\" target=\"_blank\">https://wandb.ai/jeongmin/uncategorized/runs/4tzcqrgb</a><br/>\n",
              "                Run data is saved locally in <code>/content/wandb/run-20210720_100640-4tzcqrgb</code><br/><br/>\n",
              "            "
            ],
            "text/plain": [
              "<IPython.core.display.HTML object>"
            ]
          },
          "metadata": {
            "tags": []
          }
        },
        {
          "output_type": "stream",
          "text": [
            "Epoch 1/10\n",
            " 6/40 [===>..........................] - ETA: 8s - loss: 2.2977 - accuracy: 0.1063WARNING:tensorflow:Callback method `on_train_batch_end` is slow compared to the batch time (batch time: 0.0483s vs `on_train_batch_end` time: 0.1370s). Check your callbacks.\n",
            "40/40 [==============================] - 7s 162ms/step - loss: 2.3650 - accuracy: 0.1160 - val_loss: 2.2284 - val_accuracy: 0.1463\n",
            "Epoch 2/10\n",
            "40/40 [==============================] - 6s 144ms/step - loss: 2.0957 - accuracy: 0.2094 - val_loss: 2.0024 - val_accuracy: 0.2664\n",
            "Epoch 3/10\n",
            "40/40 [==============================] - 6s 149ms/step - loss: 1.8181 - accuracy: 0.3178 - val_loss: 1.7176 - val_accuracy: 0.3267\n",
            "Epoch 4/10\n",
            "40/40 [==============================] - 6s 144ms/step - loss: 1.6294 - accuracy: 0.3845 - val_loss: 1.7920 - val_accuracy: 0.3500\n",
            "Epoch 5/10\n",
            "40/40 [==============================] - 6s 143ms/step - loss: 1.4985 - accuracy: 0.4403 - val_loss: 1.4325 - val_accuracy: 0.4659\n",
            "Epoch 6/10\n",
            "40/40 [==============================] - 6s 145ms/step - loss: 1.3489 - accuracy: 0.4964 - val_loss: 1.2991 - val_accuracy: 0.5263\n",
            "Epoch 7/10\n",
            "40/40 [==============================] - 6s 144ms/step - loss: 1.2174 - accuracy: 0.5518 - val_loss: 1.2585 - val_accuracy: 0.5518\n",
            "Epoch 8/10\n",
            "40/40 [==============================] - 6s 145ms/step - loss: 1.1025 - accuracy: 0.6001 - val_loss: 1.2533 - val_accuracy: 0.5480\n",
            "Epoch 9/10\n",
            "40/40 [==============================] - 6s 145ms/step - loss: 1.0310 - accuracy: 0.6288 - val_loss: 1.0220 - val_accuracy: 0.6362\n",
            "Epoch 10/10\n",
            "40/40 [==============================] - 6s 144ms/step - loss: 0.9169 - accuracy: 0.6721 - val_loss: 1.0115 - val_accuracy: 0.6461\n",
            "10/10 [==============================] - 1s 46ms/step - loss: 1.0197 - accuracy: 0.6482\n"
          ],
          "name": "stdout"
        },
        {
          "output_type": "display_data",
          "data": {
            "text/html": [
              "<br/>Waiting for W&B process to finish, PID 6588<br/>Program ended successfully."
            ],
            "text/plain": [
              "<IPython.core.display.HTML object>"
            ]
          },
          "metadata": {
            "tags": []
          }
        },
        {
          "output_type": "display_data",
          "data": {
            "application/vnd.jupyter.widget-view+json": {
              "model_id": "ea8f28b305a041ffa0478b2948ee5067",
              "version_major": 2,
              "version_minor": 0
            },
            "text/plain": [
              "VBox(children=(Label(value=' 0.54MB of 0.54MB uploaded (0.00MB deduped)\\r'), FloatProgress(value=1.0, max=1.0)…"
            ]
          },
          "metadata": {
            "tags": []
          }
        },
        {
          "output_type": "display_data",
          "data": {
            "text/html": [
              "Find user logs for this run at: <code>/content/wandb/run-20210720_100640-4tzcqrgb/logs/debug.log</code>"
            ],
            "text/plain": [
              "<IPython.core.display.HTML object>"
            ]
          },
          "metadata": {
            "tags": []
          }
        },
        {
          "output_type": "display_data",
          "data": {
            "text/html": [
              "Find internal logs for this run at: <code>/content/wandb/run-20210720_100640-4tzcqrgb/logs/debug-internal.log</code>"
            ],
            "text/plain": [
              "<IPython.core.display.HTML object>"
            ]
          },
          "metadata": {
            "tags": []
          }
        },
        {
          "output_type": "display_data",
          "data": {
            "text/html": [
              "<h3>Run summary:</h3><br/><style>\n",
              "    table.wandb td:nth-child(1) { padding: 0 10px; text-align: right }\n",
              "    </style><table class=\"wandb\">\n",
              "<tr><td>epoch</td><td>9</td></tr><tr><td>loss</td><td>0.91694</td></tr><tr><td>accuracy</td><td>0.67207</td></tr><tr><td>val_loss</td><td>1.01147</td></tr><tr><td>val_accuracy</td><td>0.6461</td></tr><tr><td>_runtime</td><td>71</td></tr><tr><td>_timestamp</td><td>1626775671</td></tr><tr><td>_step</td><td>9</td></tr><tr><td>best_val_loss</td><td>1.01147</td></tr><tr><td>best_epoch</td><td>9</td></tr></table>"
            ],
            "text/plain": [
              "<IPython.core.display.HTML object>"
            ]
          },
          "metadata": {
            "tags": []
          }
        },
        {
          "output_type": "display_data",
          "data": {
            "text/html": [
              "<h3>Run history:</h3><br/><style>\n",
              "    table.wandb td:nth-child(1) { padding: 0 10px; text-align: right }\n",
              "    </style><table class=\"wandb\">\n",
              "<tr><td>epoch</td><td>▁▂▃▃▄▅▆▆▇█</td></tr><tr><td>loss</td><td>█▇▅▄▄▃▂▂▂▁</td></tr><tr><td>accuracy</td><td>▁▂▄▄▅▆▆▇▇█</td></tr><tr><td>val_loss</td><td>█▇▅▅▃▃▂▂▁▁</td></tr><tr><td>val_accuracy</td><td>▁▃▄▄▅▆▇▇██</td></tr><tr><td>_runtime</td><td>▁▂▃▄▄▅▆▇▇█</td></tr><tr><td>_timestamp</td><td>▁▂▃▄▄▅▆▇▇█</td></tr><tr><td>_step</td><td>▁▂▃▃▄▅▆▆▇█</td></tr></table><br/>"
            ],
            "text/plain": [
              "<IPython.core.display.HTML object>"
            ]
          },
          "metadata": {
            "tags": []
          }
        },
        {
          "output_type": "display_data",
          "data": {
            "text/html": [
              "Synced 5 W&B file(s), 1 media file(s), 0 artifact file(s) and 10 other file(s)"
            ],
            "text/plain": [
              "<IPython.core.display.HTML object>"
            ]
          },
          "metadata": {
            "tags": []
          }
        },
        {
          "output_type": "display_data",
          "data": {
            "text/html": [
              "\n",
              "                    <br/>Synced <strong style=\"color:#cdcd00\">fresh-sweep-9</strong>: <a href=\"https://wandb.ai/jeongmin/uncategorized/runs/4tzcqrgb\" target=\"_blank\">https://wandb.ai/jeongmin/uncategorized/runs/4tzcqrgb</a><br/>\n",
              "                "
            ],
            "text/plain": [
              "<IPython.core.display.HTML object>"
            ]
          },
          "metadata": {
            "tags": []
          }
        },
        {
          "output_type": "stream",
          "text": [
            "\u001b[34m\u001b[1mwandb\u001b[0m: Agent Starting Run: xsuok5ax with config:\n",
            "\u001b[34m\u001b[1mwandb\u001b[0m: \tbatch_size: 1024\n",
            "\u001b[34m\u001b[1mwandb\u001b[0m: \tepochs: 10\n",
            "\u001b[34m\u001b[1mwandb\u001b[0m: \thid_dim: 1024\n",
            "\u001b[34m\u001b[1mwandb\u001b[0m: \tlr: 0.001\n",
            "\u001b[34m\u001b[1mwandb\u001b[0m: \tmodel_code: VGG13\n",
            "\u001b[34m\u001b[1mwandb\u001b[0m: \u001b[33mWARNING\u001b[0m Ignored wandb.init() arg project when running a sweep\n"
          ],
          "name": "stderr"
        },
        {
          "output_type": "display_data",
          "data": {
            "text/html": [
              "\n",
              "                Tracking run with wandb version 0.11.0<br/>\n",
              "                Syncing run <strong style=\"color:#cdcd00\">magic-sweep-10</strong> to <a href=\"https://wandb.ai\" target=\"_blank\">Weights & Biases</a> <a href=\"https://docs.wandb.com/integrations/jupyter.html\" target=\"_blank\">(Documentation)</a>.<br/>\n",
              "                Project page: <a href=\"https://wandb.ai/jeongmin/uncategorized\" target=\"_blank\">https://wandb.ai/jeongmin/uncategorized</a><br/>\n",
              "                Sweep page: <a href=\"https://wandb.ai/jeongmin/uncategorized/sweeps/maudemkc\" target=\"_blank\">https://wandb.ai/jeongmin/uncategorized/sweeps/maudemkc</a><br/>\n",
              "Run page: <a href=\"https://wandb.ai/jeongmin/uncategorized/runs/xsuok5ax\" target=\"_blank\">https://wandb.ai/jeongmin/uncategorized/runs/xsuok5ax</a><br/>\n",
              "                Run data is saved locally in <code>/content/wandb/run-20210720_100757-xsuok5ax</code><br/><br/>\n",
              "            "
            ],
            "text/plain": [
              "<IPython.core.display.HTML object>"
            ]
          },
          "metadata": {
            "tags": []
          }
        },
        {
          "output_type": "stream",
          "text": [
            "Epoch 1/10\n",
            " 6/40 [===>..........................] - ETA: 9s - loss: 2.3044 - accuracy: 0.0962 WARNING:tensorflow:Callback method `on_train_batch_end` is slow compared to the batch time (batch time: 0.0605s vs `on_train_batch_end` time: 0.1690s). Check your callbacks.\n",
            "40/40 [==============================] - 9s 210ms/step - loss: 2.3020 - accuracy: 0.1036 - val_loss: 2.3032 - val_accuracy: 0.0918\n",
            "Epoch 2/10\n",
            "40/40 [==============================] - 8s 191ms/step - loss: 2.3028 - accuracy: 0.1020 - val_loss: 2.3031 - val_accuracy: 0.0918\n",
            "Epoch 3/10\n",
            "40/40 [==============================] - 7s 186ms/step - loss: 2.3027 - accuracy: 0.1001 - val_loss: 2.3029 - val_accuracy: 0.0918\n",
            "Epoch 4/10\n",
            "40/40 [==============================] - 7s 185ms/step - loss: 2.3026 - accuracy: 0.1020 - val_loss: 2.3030 - val_accuracy: 0.0918\n",
            "Epoch 5/10\n",
            "40/40 [==============================] - 7s 187ms/step - loss: 2.3331 - accuracy: 0.1000 - val_loss: 2.3032 - val_accuracy: 0.0918\n",
            "Epoch 6/10\n",
            "40/40 [==============================] - 7s 185ms/step - loss: 2.3084 - accuracy: 0.1107 - val_loss: 2.2988 - val_accuracy: 0.0918\n",
            "Epoch 7/10\n",
            "40/40 [==============================] - 7s 185ms/step - loss: 2.3039 - accuracy: 0.1011 - val_loss: 2.3029 - val_accuracy: 0.0951\n",
            "Epoch 8/10\n",
            "40/40 [==============================] - 7s 186ms/step - loss: 2.3211 - accuracy: 0.1093 - val_loss: 2.3031 - val_accuracy: 0.0918\n",
            "Epoch 9/10\n",
            "40/40 [==============================] - 7s 186ms/step - loss: 2.3013 - accuracy: 0.1064 - val_loss: 2.2799 - val_accuracy: 0.1476\n",
            "Epoch 10/10\n",
            "40/40 [==============================] - 7s 187ms/step - loss: 2.2932 - accuracy: 0.1097 - val_loss: 2.3011 - val_accuracy: 0.1261\n",
            "10/10 [==============================] - 1s 56ms/step - loss: 2.3007 - accuracy: 0.1294\n"
          ],
          "name": "stdout"
        },
        {
          "output_type": "display_data",
          "data": {
            "text/html": [
              "<br/>Waiting for W&B process to finish, PID 6683<br/>Program ended successfully."
            ],
            "text/plain": [
              "<IPython.core.display.HTML object>"
            ]
          },
          "metadata": {
            "tags": []
          }
        },
        {
          "output_type": "display_data",
          "data": {
            "application/vnd.jupyter.widget-view+json": {
              "model_id": "bc9572422a354cafa21985093e19cd37",
              "version_major": 2,
              "version_minor": 0
            },
            "text/plain": [
              "VBox(children=(Label(value=' 0.55MB of 0.55MB uploaded (0.00MB deduped)\\r'), FloatProgress(value=1.0, max=1.0)…"
            ]
          },
          "metadata": {
            "tags": []
          }
        },
        {
          "output_type": "display_data",
          "data": {
            "text/html": [
              "Find user logs for this run at: <code>/content/wandb/run-20210720_100757-xsuok5ax/logs/debug.log</code>"
            ],
            "text/plain": [
              "<IPython.core.display.HTML object>"
            ]
          },
          "metadata": {
            "tags": []
          }
        },
        {
          "output_type": "display_data",
          "data": {
            "text/html": [
              "Find internal logs for this run at: <code>/content/wandb/run-20210720_100757-xsuok5ax/logs/debug-internal.log</code>"
            ],
            "text/plain": [
              "<IPython.core.display.HTML object>"
            ]
          },
          "metadata": {
            "tags": []
          }
        },
        {
          "output_type": "display_data",
          "data": {
            "text/html": [
              "<h3>Run summary:</h3><br/><style>\n",
              "    table.wandb td:nth-child(1) { padding: 0 10px; text-align: right }\n",
              "    </style><table class=\"wandb\">\n",
              "<tr><td>epoch</td><td>9</td></tr><tr><td>loss</td><td>2.29325</td></tr><tr><td>accuracy</td><td>0.10972</td></tr><tr><td>val_loss</td><td>2.3011</td></tr><tr><td>val_accuracy</td><td>0.1261</td></tr><tr><td>_runtime</td><td>100</td></tr><tr><td>_timestamp</td><td>1626775777</td></tr><tr><td>_step</td><td>9</td></tr><tr><td>best_val_loss</td><td>2.27994</td></tr><tr><td>best_epoch</td><td>8</td></tr></table>"
            ],
            "text/plain": [
              "<IPython.core.display.HTML object>"
            ]
          },
          "metadata": {
            "tags": []
          }
        },
        {
          "output_type": "display_data",
          "data": {
            "text/html": [
              "<h3>Run history:</h3><br/><style>\n",
              "    table.wandb td:nth-child(1) { padding: 0 10px; text-align: right }\n",
              "    </style><table class=\"wandb\">\n",
              "<tr><td>epoch</td><td>▁▂▃▃▄▅▆▆▇█</td></tr><tr><td>loss</td><td>▃▃▃▃█▄▃▆▂▁</td></tr><tr><td>accuracy</td><td>▃▂▁▂▁█▂▇▅▇</td></tr><tr><td>val_loss</td><td>█████▇██▁▇</td></tr><tr><td>val_accuracy</td><td>▁▁▁▁▁▁▁▁█▅</td></tr><tr><td>_runtime</td><td>▁▂▃▃▄▅▅▆▇█</td></tr><tr><td>_timestamp</td><td>▁▂▃▃▄▅▅▆▇█</td></tr><tr><td>_step</td><td>▁▂▃▃▄▅▆▆▇█</td></tr></table><br/>"
            ],
            "text/plain": [
              "<IPython.core.display.HTML object>"
            ]
          },
          "metadata": {
            "tags": []
          }
        },
        {
          "output_type": "display_data",
          "data": {
            "text/html": [
              "Synced 5 W&B file(s), 1 media file(s), 0 artifact file(s) and 10 other file(s)"
            ],
            "text/plain": [
              "<IPython.core.display.HTML object>"
            ]
          },
          "metadata": {
            "tags": []
          }
        },
        {
          "output_type": "display_data",
          "data": {
            "text/html": [
              "\n",
              "                    <br/>Synced <strong style=\"color:#cdcd00\">magic-sweep-10</strong>: <a href=\"https://wandb.ai/jeongmin/uncategorized/runs/xsuok5ax\" target=\"_blank\">https://wandb.ai/jeongmin/uncategorized/runs/xsuok5ax</a><br/>\n",
              "                "
            ],
            "text/plain": [
              "<IPython.core.display.HTML object>"
            ]
          },
          "metadata": {
            "tags": []
          }
        },
        {
          "output_type": "stream",
          "text": [
            "\u001b[34m\u001b[1mwandb\u001b[0m: Agent Starting Run: bpgiir57 with config:\n",
            "\u001b[34m\u001b[1mwandb\u001b[0m: \tbatch_size: 1024\n",
            "\u001b[34m\u001b[1mwandb\u001b[0m: \tepochs: 10\n",
            "\u001b[34m\u001b[1mwandb\u001b[0m: \thid_dim: 1024\n",
            "\u001b[34m\u001b[1mwandb\u001b[0m: \tlr: 0.001\n",
            "\u001b[34m\u001b[1mwandb\u001b[0m: \tmodel_code: VGG16\n",
            "\u001b[34m\u001b[1mwandb\u001b[0m: \u001b[33mWARNING\u001b[0m Ignored wandb.init() arg project when running a sweep\n"
          ],
          "name": "stderr"
        },
        {
          "output_type": "display_data",
          "data": {
            "text/html": [
              "\n",
              "                Tracking run with wandb version 0.11.0<br/>\n",
              "                Syncing run <strong style=\"color:#cdcd00\">crisp-sweep-11</strong> to <a href=\"https://wandb.ai\" target=\"_blank\">Weights & Biases</a> <a href=\"https://docs.wandb.com/integrations/jupyter.html\" target=\"_blank\">(Documentation)</a>.<br/>\n",
              "                Project page: <a href=\"https://wandb.ai/jeongmin/uncategorized\" target=\"_blank\">https://wandb.ai/jeongmin/uncategorized</a><br/>\n",
              "                Sweep page: <a href=\"https://wandb.ai/jeongmin/uncategorized/sweeps/maudemkc\" target=\"_blank\">https://wandb.ai/jeongmin/uncategorized/sweeps/maudemkc</a><br/>\n",
              "Run page: <a href=\"https://wandb.ai/jeongmin/uncategorized/runs/bpgiir57\" target=\"_blank\">https://wandb.ai/jeongmin/uncategorized/runs/bpgiir57</a><br/>\n",
              "                Run data is saved locally in <code>/content/wandb/run-20210720_100943-bpgiir57</code><br/><br/>\n",
              "            "
            ],
            "text/plain": [
              "<IPython.core.display.HTML object>"
            ]
          },
          "metadata": {
            "tags": []
          }
        },
        {
          "output_type": "stream",
          "text": [
            "Epoch 1/10\n",
            " 6/40 [===>..........................] - ETA: 10s - loss: 2.3025 - accuracy: 0.1001WARNING:tensorflow:Callback method `on_train_batch_end` is slow compared to the batch time (batch time: 0.0711s vs `on_train_batch_end` time: 0.1933s). Check your callbacks.\n",
            "40/40 [==============================] - 11s 242ms/step - loss: 2.3146 - accuracy: 0.1002 - val_loss: 2.3029 - val_accuracy: 0.0918\n",
            "Epoch 2/10\n",
            "40/40 [==============================] - 9s 221ms/step - loss: 2.3371 - accuracy: 0.1051 - val_loss: 2.3029 - val_accuracy: 0.0918\n",
            "Epoch 3/10\n",
            "40/40 [==============================] - 9s 222ms/step - loss: 2.3027 - accuracy: 0.1020 - val_loss: 2.3030 - val_accuracy: 0.0918\n",
            "Epoch 4/10\n",
            "40/40 [==============================] - 9s 224ms/step - loss: 2.3026 - accuracy: 0.0985 - val_loss: 2.3030 - val_accuracy: 0.0918\n",
            "Epoch 5/10\n",
            "40/40 [==============================] - 9s 222ms/step - loss: 2.3026 - accuracy: 0.1020 - val_loss: 2.3030 - val_accuracy: 0.0918\n",
            "Epoch 6/10\n",
            "40/40 [==============================] - 9s 237ms/step - loss: 2.3026 - accuracy: 0.1020 - val_loss: 2.3029 - val_accuracy: 0.0918\n",
            "Epoch 7/10\n",
            "40/40 [==============================] - 9s 222ms/step - loss: 2.3026 - accuracy: 0.1020 - val_loss: 2.3030 - val_accuracy: 0.0918\n",
            "Epoch 8/10\n",
            "40/40 [==============================] - 9s 224ms/step - loss: 2.3026 - accuracy: 0.1020 - val_loss: 2.3032 - val_accuracy: 0.0918\n",
            "Epoch 9/10\n",
            "40/40 [==============================] - 9s 222ms/step - loss: 2.3026 - accuracy: 0.1020 - val_loss: 2.3032 - val_accuracy: 0.0918\n",
            "Epoch 10/10\n",
            "40/40 [==============================] - 9s 222ms/step - loss: 2.3026 - accuracy: 0.1020 - val_loss: 2.3031 - val_accuracy: 0.0918\n",
            "10/10 [==============================] - 1s 67ms/step - loss: 2.3027 - accuracy: 0.1000\n"
          ],
          "name": "stdout"
        },
        {
          "output_type": "display_data",
          "data": {
            "text/html": [
              "<br/>Waiting for W&B process to finish, PID 6779<br/>Program ended successfully."
            ],
            "text/plain": [
              "<IPython.core.display.HTML object>"
            ]
          },
          "metadata": {
            "tags": []
          }
        },
        {
          "output_type": "display_data",
          "data": {
            "application/vnd.jupyter.widget-view+json": {
              "model_id": "6fda556f85e2409e9c4dcc1b97a2094b",
              "version_major": 2,
              "version_minor": 0
            },
            "text/plain": [
              "VBox(children=(Label(value=' 0.64MB of 0.64MB uploaded (0.00MB deduped)\\r'), FloatProgress(value=1.0, max=1.0)…"
            ]
          },
          "metadata": {
            "tags": []
          }
        },
        {
          "output_type": "display_data",
          "data": {
            "text/html": [
              "Find user logs for this run at: <code>/content/wandb/run-20210720_100943-bpgiir57/logs/debug.log</code>"
            ],
            "text/plain": [
              "<IPython.core.display.HTML object>"
            ]
          },
          "metadata": {
            "tags": []
          }
        },
        {
          "output_type": "display_data",
          "data": {
            "text/html": [
              "Find internal logs for this run at: <code>/content/wandb/run-20210720_100943-bpgiir57/logs/debug-internal.log</code>"
            ],
            "text/plain": [
              "<IPython.core.display.HTML object>"
            ]
          },
          "metadata": {
            "tags": []
          }
        },
        {
          "output_type": "display_data",
          "data": {
            "text/html": [
              "<h3>Run summary:</h3><br/><style>\n",
              "    table.wandb td:nth-child(1) { padding: 0 10px; text-align: right }\n",
              "    </style><table class=\"wandb\">\n",
              "<tr><td>epoch</td><td>9</td></tr><tr><td>loss</td><td>2.30261</td></tr><tr><td>accuracy</td><td>0.10205</td></tr><tr><td>val_loss</td><td>2.30311</td></tr><tr><td>val_accuracy</td><td>0.0918</td></tr><tr><td>_runtime</td><td>100</td></tr><tr><td>_timestamp</td><td>1626775883</td></tr><tr><td>_step</td><td>9</td></tr><tr><td>best_val_loss</td><td>2.30287</td></tr><tr><td>best_epoch</td><td>1</td></tr></table>"
            ],
            "text/plain": [
              "<IPython.core.display.HTML object>"
            ]
          },
          "metadata": {
            "tags": []
          }
        },
        {
          "output_type": "display_data",
          "data": {
            "text/html": [
              "<h3>Run history:</h3><br/><style>\n",
              "    table.wandb td:nth-child(1) { padding: 0 10px; text-align: right }\n",
              "    </style><table class=\"wandb\">\n",
              "<tr><td>epoch</td><td>▁▂▃▃▄▅▆▆▇█</td></tr><tr><td>loss</td><td>▃█▁▁▁▁▁▁▁▁</td></tr><tr><td>accuracy</td><td>▃█▅▁▅▅▅▅▅▅</td></tr><tr><td>val_loss</td><td>▂▁▃▄▄▂▄▇█▆</td></tr><tr><td>val_accuracy</td><td>▁▁▁▁▁▁▁▁▁▁</td></tr><tr><td>_runtime</td><td>▁▂▃▃▄▅▆▆▇█</td></tr><tr><td>_timestamp</td><td>▁▂▃▃▄▅▆▆▇█</td></tr><tr><td>_step</td><td>▁▂▃▃▄▅▆▆▇█</td></tr></table><br/>"
            ],
            "text/plain": [
              "<IPython.core.display.HTML object>"
            ]
          },
          "metadata": {
            "tags": []
          }
        },
        {
          "output_type": "display_data",
          "data": {
            "text/html": [
              "Synced 5 W&B file(s), 1 media file(s), 0 artifact file(s) and 10 other file(s)"
            ],
            "text/plain": [
              "<IPython.core.display.HTML object>"
            ]
          },
          "metadata": {
            "tags": []
          }
        },
        {
          "output_type": "display_data",
          "data": {
            "text/html": [
              "\n",
              "                    <br/>Synced <strong style=\"color:#cdcd00\">crisp-sweep-11</strong>: <a href=\"https://wandb.ai/jeongmin/uncategorized/runs/bpgiir57\" target=\"_blank\">https://wandb.ai/jeongmin/uncategorized/runs/bpgiir57</a><br/>\n",
              "                "
            ],
            "text/plain": [
              "<IPython.core.display.HTML object>"
            ]
          },
          "metadata": {
            "tags": []
          }
        },
        {
          "output_type": "stream",
          "text": [
            "\u001b[34m\u001b[1mwandb\u001b[0m: Agent Starting Run: ncuhwom1 with config:\n",
            "\u001b[34m\u001b[1mwandb\u001b[0m: \tbatch_size: 1024\n",
            "\u001b[34m\u001b[1mwandb\u001b[0m: \tepochs: 10\n",
            "\u001b[34m\u001b[1mwandb\u001b[0m: \thid_dim: 1024\n",
            "\u001b[34m\u001b[1mwandb\u001b[0m: \tlr: 0.001\n",
            "\u001b[34m\u001b[1mwandb\u001b[0m: \tmodel_code: VGG19\n",
            "\u001b[34m\u001b[1mwandb\u001b[0m: \u001b[33mWARNING\u001b[0m Ignored wandb.init() arg project when running a sweep\n"
          ],
          "name": "stderr"
        },
        {
          "output_type": "display_data",
          "data": {
            "text/html": [
              "\n",
              "                Tracking run with wandb version 0.11.0<br/>\n",
              "                Syncing run <strong style=\"color:#cdcd00\">peach-sweep-12</strong> to <a href=\"https://wandb.ai\" target=\"_blank\">Weights & Biases</a> <a href=\"https://docs.wandb.com/integrations/jupyter.html\" target=\"_blank\">(Documentation)</a>.<br/>\n",
              "                Project page: <a href=\"https://wandb.ai/jeongmin/uncategorized\" target=\"_blank\">https://wandb.ai/jeongmin/uncategorized</a><br/>\n",
              "                Sweep page: <a href=\"https://wandb.ai/jeongmin/uncategorized/sweeps/maudemkc\" target=\"_blank\">https://wandb.ai/jeongmin/uncategorized/sweeps/maudemkc</a><br/>\n",
              "Run page: <a href=\"https://wandb.ai/jeongmin/uncategorized/runs/ncuhwom1\" target=\"_blank\">https://wandb.ai/jeongmin/uncategorized/runs/ncuhwom1</a><br/>\n",
              "                Run data is saved locally in <code>/content/wandb/run-20210720_101129-ncuhwom1</code><br/><br/>\n",
              "            "
            ],
            "text/plain": [
              "<IPython.core.display.HTML object>"
            ]
          },
          "metadata": {
            "tags": []
          }
        },
        {
          "output_type": "stream",
          "text": [
            "Epoch 1/10\n",
            " 6/40 [===>..........................] - ETA: 12s - loss: 2.3026 - accuracy: 0.0959WARNING:tensorflow:Callback method `on_train_batch_end` is slow compared to the batch time (batch time: 0.0820s vs `on_train_batch_end` time: 0.2189s). Check your callbacks.\n",
            "40/40 [==============================] - 13s 278ms/step - loss: 2.3132 - accuracy: 0.0999 - val_loss: 2.3030 - val_accuracy: 0.0918\n",
            "Epoch 2/10\n",
            "40/40 [==============================] - 10s 260ms/step - loss: 2.3027 - accuracy: 0.1020 - val_loss: 2.3032 - val_accuracy: 0.0918\n",
            "Epoch 3/10\n",
            "40/40 [==============================] - 10s 261ms/step - loss: 2.3026 - accuracy: 0.0996 - val_loss: 2.3031 - val_accuracy: 0.0918\n",
            "Epoch 4/10\n",
            "40/40 [==============================] - 10s 261ms/step - loss: 2.3026 - accuracy: 0.1020 - val_loss: 2.3031 - val_accuracy: 0.0918\n",
            "Epoch 5/10\n",
            "40/40 [==============================] - 10s 259ms/step - loss: 2.3026 - accuracy: 0.1020 - val_loss: 2.3030 - val_accuracy: 0.0918\n",
            "Epoch 6/10\n",
            "40/40 [==============================] - 10s 261ms/step - loss: 2.3026 - accuracy: 0.1020 - val_loss: 2.3030 - val_accuracy: 0.0918\n",
            "Epoch 7/10\n",
            "40/40 [==============================] - 11s 274ms/step - loss: 2.3026 - accuracy: 0.1020 - val_loss: 2.3030 - val_accuracy: 0.0918\n",
            "Epoch 8/10\n",
            "40/40 [==============================] - 10s 259ms/step - loss: 2.3026 - accuracy: 0.1020 - val_loss: 2.3030 - val_accuracy: 0.0918\n",
            "Epoch 9/10\n",
            "40/40 [==============================] - 11s 262ms/step - loss: 2.3026 - accuracy: 0.1020 - val_loss: 2.3030 - val_accuracy: 0.0918\n",
            "Epoch 10/10\n",
            "40/40 [==============================] - 10s 262ms/step - loss: 2.3026 - accuracy: 0.1020 - val_loss: 2.3030 - val_accuracy: 0.0918\n",
            "10/10 [==============================] - 1s 75ms/step - loss: 2.3026 - accuracy: 0.1000\n"
          ],
          "name": "stdout"
        },
        {
          "output_type": "display_data",
          "data": {
            "text/html": [
              "<br/>Waiting for W&B process to finish, PID 6875<br/>Program ended successfully."
            ],
            "text/plain": [
              "<IPython.core.display.HTML object>"
            ]
          },
          "metadata": {
            "tags": []
          }
        },
        {
          "output_type": "display_data",
          "data": {
            "application/vnd.jupyter.widget-view+json": {
              "model_id": "a904282f3f474bfaa9144cd368c032d7",
              "version_major": 2,
              "version_minor": 0
            },
            "text/plain": [
              "VBox(children=(Label(value=' 0.73MB of 0.73MB uploaded (0.00MB deduped)\\r'), FloatProgress(value=1.0, max=1.0)…"
            ]
          },
          "metadata": {
            "tags": []
          }
        },
        {
          "output_type": "display_data",
          "data": {
            "text/html": [
              "Find user logs for this run at: <code>/content/wandb/run-20210720_101129-ncuhwom1/logs/debug.log</code>"
            ],
            "text/plain": [
              "<IPython.core.display.HTML object>"
            ]
          },
          "metadata": {
            "tags": []
          }
        },
        {
          "output_type": "display_data",
          "data": {
            "text/html": [
              "Find internal logs for this run at: <code>/content/wandb/run-20210720_101129-ncuhwom1/logs/debug-internal.log</code>"
            ],
            "text/plain": [
              "<IPython.core.display.HTML object>"
            ]
          },
          "metadata": {
            "tags": []
          }
        },
        {
          "output_type": "display_data",
          "data": {
            "text/html": [
              "<h3>Run summary:</h3><br/><style>\n",
              "    table.wandb td:nth-child(1) { padding: 0 10px; text-align: right }\n",
              "    </style><table class=\"wandb\">\n",
              "<tr><td>epoch</td><td>9</td></tr><tr><td>loss</td><td>2.30259</td></tr><tr><td>accuracy</td><td>0.10205</td></tr><tr><td>val_loss</td><td>2.30297</td></tr><tr><td>val_accuracy</td><td>0.0918</td></tr><tr><td>_runtime</td><td>133</td></tr><tr><td>_timestamp</td><td>1626776022</td></tr><tr><td>_step</td><td>9</td></tr><tr><td>best_val_loss</td><td>2.30295</td></tr><tr><td>best_epoch</td><td>8</td></tr></table>"
            ],
            "text/plain": [
              "<IPython.core.display.HTML object>"
            ]
          },
          "metadata": {
            "tags": []
          }
        },
        {
          "output_type": "display_data",
          "data": {
            "text/html": [
              "<h3>Run history:</h3><br/><style>\n",
              "    table.wandb td:nth-child(1) { padding: 0 10px; text-align: right }\n",
              "    </style><table class=\"wandb\">\n",
              "<tr><td>epoch</td><td>▁▂▃▃▄▅▆▆▇█</td></tr><tr><td>loss</td><td>█▁▁▁▁▁▁▁▁▁</td></tr><tr><td>accuracy</td><td>▂█▁███████</td></tr><tr><td>val_loss</td><td>▃█▇▆▁▁▂▂▁▂</td></tr><tr><td>val_accuracy</td><td>▁▁▁▁▁▁▁▁▁▁</td></tr><tr><td>_runtime</td><td>▁▂▂▄▄▅▆▇▇█</td></tr><tr><td>_timestamp</td><td>▁▂▂▄▄▅▆▇▇█</td></tr><tr><td>_step</td><td>▁▂▃▃▄▅▆▆▇█</td></tr></table><br/>"
            ],
            "text/plain": [
              "<IPython.core.display.HTML object>"
            ]
          },
          "metadata": {
            "tags": []
          }
        },
        {
          "output_type": "display_data",
          "data": {
            "text/html": [
              "Synced 5 W&B file(s), 1 media file(s), 0 artifact file(s) and 10 other file(s)"
            ],
            "text/plain": [
              "<IPython.core.display.HTML object>"
            ]
          },
          "metadata": {
            "tags": []
          }
        },
        {
          "output_type": "display_data",
          "data": {
            "text/html": [
              "\n",
              "                    <br/>Synced <strong style=\"color:#cdcd00\">peach-sweep-12</strong>: <a href=\"https://wandb.ai/jeongmin/uncategorized/runs/ncuhwom1\" target=\"_blank\">https://wandb.ai/jeongmin/uncategorized/runs/ncuhwom1</a><br/>\n",
              "                "
            ],
            "text/plain": [
              "<IPython.core.display.HTML object>"
            ]
          },
          "metadata": {
            "tags": []
          }
        },
        {
          "output_type": "stream",
          "text": [
            "\u001b[34m\u001b[1mwandb\u001b[0m: Sweep Agent: Waiting for job.\n",
            "\u001b[34m\u001b[1mwandb\u001b[0m: \u001b[32m\u001b[41mERROR\u001b[0m Error while calling W&B API: Post \"http://anaconda.default.svc.cluster.local/search\": context deadline exceeded (<Response [500]>)\n",
            "\u001b[34m\u001b[1mwandb\u001b[0m: Job received.\n",
            "\u001b[34m\u001b[1mwandb\u001b[0m: Agent Starting Run: efk83k53 with config:\n",
            "\u001b[34m\u001b[1mwandb\u001b[0m: \tbatch_size: 1024\n",
            "\u001b[34m\u001b[1mwandb\u001b[0m: \tepochs: 10\n",
            "\u001b[34m\u001b[1mwandb\u001b[0m: \thid_dim: 1024\n",
            "\u001b[34m\u001b[1mwandb\u001b[0m: \tlr: 0.0001\n",
            "\u001b[34m\u001b[1mwandb\u001b[0m: \tmodel_code: VGG11\n",
            "\u001b[34m\u001b[1mwandb\u001b[0m: \u001b[33mWARNING\u001b[0m Ignored wandb.init() arg project when running a sweep\n"
          ],
          "name": "stderr"
        },
        {
          "output_type": "display_data",
          "data": {
            "text/html": [
              "\n",
              "                Tracking run with wandb version 0.11.0<br/>\n",
              "                Syncing run <strong style=\"color:#cdcd00\">olive-sweep-13</strong> to <a href=\"https://wandb.ai\" target=\"_blank\">Weights & Biases</a> <a href=\"https://docs.wandb.com/integrations/jupyter.html\" target=\"_blank\">(Documentation)</a>.<br/>\n",
              "                Project page: <a href=\"https://wandb.ai/jeongmin/uncategorized\" target=\"_blank\">https://wandb.ai/jeongmin/uncategorized</a><br/>\n",
              "                Sweep page: <a href=\"https://wandb.ai/jeongmin/uncategorized/sweeps/maudemkc\" target=\"_blank\">https://wandb.ai/jeongmin/uncategorized/sweeps/maudemkc</a><br/>\n",
              "Run page: <a href=\"https://wandb.ai/jeongmin/uncategorized/runs/efk83k53\" target=\"_blank\">https://wandb.ai/jeongmin/uncategorized/runs/efk83k53</a><br/>\n",
              "                Run data is saved locally in <code>/content/wandb/run-20210720_101432-efk83k53</code><br/><br/>\n",
              "            "
            ],
            "text/plain": [
              "<IPython.core.display.HTML object>"
            ]
          },
          "metadata": {
            "tags": []
          }
        },
        {
          "output_type": "stream",
          "text": [
            "Epoch 1/10\n",
            " 6/40 [===>..........................] - ETA: 8s - loss: 2.3009 - accuracy: 0.1133WARNING:tensorflow:Callback method `on_train_batch_end` is slow compared to the batch time (batch time: 0.0521s vs `on_train_batch_end` time: 0.1346s). Check your callbacks.\n",
            "40/40 [==============================] - 8s 167ms/step - loss: 2.1772 - accuracy: 0.1669 - val_loss: 1.9899 - val_accuracy: 0.2517\n",
            "Epoch 2/10\n",
            "40/40 [==============================] - 6s 145ms/step - loss: 1.9055 - accuracy: 0.2866 - val_loss: 1.8983 - val_accuracy: 0.2946\n",
            "Epoch 3/10\n",
            "40/40 [==============================] - 6s 146ms/step - loss: 1.7431 - accuracy: 0.3464 - val_loss: 1.6741 - val_accuracy: 0.3644\n",
            "Epoch 4/10\n",
            "40/40 [==============================] - 6s 146ms/step - loss: 1.6466 - accuracy: 0.3855 - val_loss: 1.8171 - val_accuracy: 0.3503\n",
            "Epoch 5/10\n",
            "40/40 [==============================] - 6s 146ms/step - loss: 1.5955 - accuracy: 0.4105 - val_loss: 1.6261 - val_accuracy: 0.3903\n",
            "Epoch 6/10\n",
            "40/40 [==============================] - 6s 149ms/step - loss: 1.5046 - accuracy: 0.4421 - val_loss: 1.4815 - val_accuracy: 0.4384\n",
            "Epoch 7/10\n",
            "40/40 [==============================] - 6s 151ms/step - loss: 1.4667 - accuracy: 0.4608 - val_loss: 1.4752 - val_accuracy: 0.4655\n",
            "Epoch 8/10\n",
            "40/40 [==============================] - 6s 153ms/step - loss: 1.4038 - accuracy: 0.4816 - val_loss: 1.4970 - val_accuracy: 0.4444\n",
            "Epoch 9/10\n",
            "40/40 [==============================] - 6s 151ms/step - loss: 1.3650 - accuracy: 0.4925 - val_loss: 1.4042 - val_accuracy: 0.4855\n",
            "Epoch 10/10\n",
            "40/40 [==============================] - 6s 145ms/step - loss: 1.3181 - accuracy: 0.5166 - val_loss: 1.3229 - val_accuracy: 0.5093\n",
            "10/10 [==============================] - 1s 47ms/step - loss: 1.3162 - accuracy: 0.5115\n"
          ],
          "name": "stdout"
        },
        {
          "output_type": "display_data",
          "data": {
            "text/html": [
              "<br/>Waiting for W&B process to finish, PID 6971<br/>Program ended successfully."
            ],
            "text/plain": [
              "<IPython.core.display.HTML object>"
            ]
          },
          "metadata": {
            "tags": []
          }
        },
        {
          "output_type": "display_data",
          "data": {
            "application/vnd.jupyter.widget-view+json": {
              "model_id": "ddc95073554740f28cc6788bc5abedba",
              "version_minor": 0,
              "version_major": 2
            },
            "text/plain": [
              "VBox(children=(Label(value=' 0.55MB of 0.55MB uploaded (0.00MB deduped)\\r'), FloatProgress(value=1.0, max=1.0)…"
            ]
          },
          "metadata": {
            "tags": []
          }
        },
        {
          "output_type": "display_data",
          "data": {
            "text/html": [
              "Find user logs for this run at: <code>/content/wandb/run-20210720_101432-efk83k53/logs/debug.log</code>"
            ],
            "text/plain": [
              "<IPython.core.display.HTML object>"
            ]
          },
          "metadata": {
            "tags": []
          }
        },
        {
          "output_type": "display_data",
          "data": {
            "text/html": [
              "Find internal logs for this run at: <code>/content/wandb/run-20210720_101432-efk83k53/logs/debug-internal.log</code>"
            ],
            "text/plain": [
              "<IPython.core.display.HTML object>"
            ]
          },
          "metadata": {
            "tags": []
          }
        },
        {
          "output_type": "display_data",
          "data": {
            "text/html": [
              "<h3>Run summary:</h3><br/><style>\n",
              "    table.wandb td:nth-child(1) { padding: 0 10px; text-align: right }\n",
              "    </style><table class=\"wandb\">\n",
              "<tr><td>epoch</td><td>9</td></tr><tr><td>loss</td><td>1.31811</td></tr><tr><td>accuracy</td><td>0.5166</td></tr><tr><td>val_loss</td><td>1.32286</td></tr><tr><td>val_accuracy</td><td>0.5093</td></tr><tr><td>_runtime</td><td>88</td></tr><tr><td>_timestamp</td><td>1626776160</td></tr><tr><td>_step</td><td>9</td></tr><tr><td>best_val_loss</td><td>1.32286</td></tr><tr><td>best_epoch</td><td>9</td></tr></table>"
            ],
            "text/plain": [
              "<IPython.core.display.HTML object>"
            ]
          },
          "metadata": {
            "tags": []
          }
        },
        {
          "output_type": "display_data",
          "data": {
            "text/html": [
              "<h3>Run history:</h3><br/><style>\n",
              "    table.wandb td:nth-child(1) { padding: 0 10px; text-align: right }\n",
              "    </style><table class=\"wandb\">\n",
              "<tr><td>epoch</td><td>▁▂▃▃▄▅▆▆▇█</td></tr><tr><td>loss</td><td>█▆▄▄▃▃▂▂▁▁</td></tr><tr><td>accuracy</td><td>▁▃▅▅▆▇▇▇██</td></tr><tr><td>val_loss</td><td>█▇▅▆▄▃▃▃▂▁</td></tr><tr><td>val_accuracy</td><td>▁▂▄▄▅▆▇▆▇█</td></tr><tr><td>_runtime</td><td>▁▂▂▃▄▄▅▆▇█</td></tr><tr><td>_timestamp</td><td>▁▂▂▃▄▄▅▆▇█</td></tr><tr><td>_step</td><td>▁▂▃▃▄▅▆▆▇█</td></tr></table><br/>"
            ],
            "text/plain": [
              "<IPython.core.display.HTML object>"
            ]
          },
          "metadata": {
            "tags": []
          }
        },
        {
          "output_type": "display_data",
          "data": {
            "text/html": [
              "Synced 5 W&B file(s), 1 media file(s), 0 artifact file(s) and 10 other file(s)"
            ],
            "text/plain": [
              "<IPython.core.display.HTML object>"
            ]
          },
          "metadata": {
            "tags": []
          }
        },
        {
          "output_type": "display_data",
          "data": {
            "text/html": [
              "\n",
              "                    <br/>Synced <strong style=\"color:#cdcd00\">olive-sweep-13</strong>: <a href=\"https://wandb.ai/jeongmin/uncategorized/runs/efk83k53\" target=\"_blank\">https://wandb.ai/jeongmin/uncategorized/runs/efk83k53</a><br/>\n",
              "                "
            ],
            "text/plain": [
              "<IPython.core.display.HTML object>"
            ]
          },
          "metadata": {
            "tags": []
          }
        },
        {
          "output_type": "stream",
          "text": [
            "\u001b[34m\u001b[1mwandb\u001b[0m: Agent Starting Run: 98u4wvm9 with config:\n",
            "\u001b[34m\u001b[1mwandb\u001b[0m: \tbatch_size: 1024\n",
            "\u001b[34m\u001b[1mwandb\u001b[0m: \tepochs: 10\n",
            "\u001b[34m\u001b[1mwandb\u001b[0m: \thid_dim: 1024\n",
            "\u001b[34m\u001b[1mwandb\u001b[0m: \tlr: 0.0001\n",
            "\u001b[34m\u001b[1mwandb\u001b[0m: \tmodel_code: VGG13\n",
            "\u001b[34m\u001b[1mwandb\u001b[0m: \u001b[33mWARNING\u001b[0m Ignored wandb.init() arg project when running a sweep\n"
          ],
          "name": "stderr"
        },
        {
          "output_type": "display_data",
          "data": {
            "text/html": [
              "\n",
              "                Tracking run with wandb version 0.11.0<br/>\n",
              "                Syncing run <strong style=\"color:#cdcd00\">leafy-sweep-14</strong> to <a href=\"https://wandb.ai\" target=\"_blank\">Weights & Biases</a> <a href=\"https://docs.wandb.com/integrations/jupyter.html\" target=\"_blank\">(Documentation)</a>.<br/>\n",
              "                Project page: <a href=\"https://wandb.ai/jeongmin/uncategorized\" target=\"_blank\">https://wandb.ai/jeongmin/uncategorized</a><br/>\n",
              "                Sweep page: <a href=\"https://wandb.ai/jeongmin/uncategorized/sweeps/maudemkc\" target=\"_blank\">https://wandb.ai/jeongmin/uncategorized/sweeps/maudemkc</a><br/>\n",
              "Run page: <a href=\"https://wandb.ai/jeongmin/uncategorized/runs/98u4wvm9\" target=\"_blank\">https://wandb.ai/jeongmin/uncategorized/runs/98u4wvm9</a><br/>\n",
              "                Run data is saved locally in <code>/content/wandb/run-20210720_101609-98u4wvm9</code><br/><br/>\n",
              "            "
            ],
            "text/plain": [
              "<IPython.core.display.HTML object>"
            ]
          },
          "metadata": {
            "tags": []
          }
        },
        {
          "output_type": "stream",
          "text": [
            "Epoch 1/10\n",
            " 6/40 [===>..........................] - ETA: 9s - loss: 2.3019 - accuracy: 0.1131 WARNING:tensorflow:Callback method `on_train_batch_end` is slow compared to the batch time (batch time: 0.0649s vs `on_train_batch_end` time: 0.1697s). Check your callbacks.\n",
            "40/40 [==============================] - 9s 207ms/step - loss: 2.1920 - accuracy: 0.1625 - val_loss: 2.0088 - val_accuracy: 0.2586\n",
            "Epoch 2/10\n",
            "40/40 [==============================] - 8s 190ms/step - loss: 1.9305 - accuracy: 0.2815 - val_loss: 2.0028 - val_accuracy: 0.2606\n",
            "Epoch 3/10\n",
            "40/40 [==============================] - 8s 191ms/step - loss: 1.7932 - accuracy: 0.3354 - val_loss: 1.7529 - val_accuracy: 0.3481\n",
            "Epoch 4/10\n",
            "40/40 [==============================] - 7s 187ms/step - loss: 1.6694 - accuracy: 0.3805 - val_loss: 1.7042 - val_accuracy: 0.3763\n",
            "Epoch 5/10\n",
            "40/40 [==============================] - 8s 188ms/step - loss: 1.5986 - accuracy: 0.4066 - val_loss: 1.5678 - val_accuracy: 0.4136\n",
            "Epoch 6/10\n",
            "40/40 [==============================] - 8s 188ms/step - loss: 1.5326 - accuracy: 0.4331 - val_loss: 1.5233 - val_accuracy: 0.4348\n",
            "Epoch 7/10\n",
            "40/40 [==============================] - 8s 192ms/step - loss: 1.4724 - accuracy: 0.4573 - val_loss: 1.4544 - val_accuracy: 0.4638\n",
            "Epoch 8/10\n",
            "40/40 [==============================] - 8s 188ms/step - loss: 1.4133 - accuracy: 0.4827 - val_loss: 1.5191 - val_accuracy: 0.4443\n",
            "Epoch 9/10\n",
            "40/40 [==============================] - 8s 191ms/step - loss: 1.3600 - accuracy: 0.5005 - val_loss: 1.3931 - val_accuracy: 0.4833\n",
            "Epoch 10/10\n",
            "40/40 [==============================] - 7s 186ms/step - loss: 1.3207 - accuracy: 0.5160 - val_loss: 1.3657 - val_accuracy: 0.5001\n",
            "10/10 [==============================] - 1s 57ms/step - loss: 1.3583 - accuracy: 0.4987\n"
          ],
          "name": "stdout"
        },
        {
          "output_type": "display_data",
          "data": {
            "text/html": [
              "<br/>Waiting for W&B process to finish, PID 7067<br/>Program ended successfully."
            ],
            "text/plain": [
              "<IPython.core.display.HTML object>"
            ]
          },
          "metadata": {
            "tags": []
          }
        },
        {
          "output_type": "display_data",
          "data": {
            "application/vnd.jupyter.widget-view+json": {
              "model_id": "613e20476dd04b5fbb32206daaaad17c",
              "version_minor": 0,
              "version_major": 2
            },
            "text/plain": [
              "VBox(children=(Label(value=' 0.55MB of 0.55MB uploaded (0.00MB deduped)\\r'), FloatProgress(value=1.0, max=1.0)…"
            ]
          },
          "metadata": {
            "tags": []
          }
        },
        {
          "output_type": "display_data",
          "data": {
            "text/html": [
              "Find user logs for this run at: <code>/content/wandb/run-20210720_101609-98u4wvm9/logs/debug.log</code>"
            ],
            "text/plain": [
              "<IPython.core.display.HTML object>"
            ]
          },
          "metadata": {
            "tags": []
          }
        },
        {
          "output_type": "display_data",
          "data": {
            "text/html": [
              "Find internal logs for this run at: <code>/content/wandb/run-20210720_101609-98u4wvm9/logs/debug-internal.log</code>"
            ],
            "text/plain": [
              "<IPython.core.display.HTML object>"
            ]
          },
          "metadata": {
            "tags": []
          }
        },
        {
          "output_type": "display_data",
          "data": {
            "text/html": [
              "<h3>Run summary:</h3><br/><style>\n",
              "    table.wandb td:nth-child(1) { padding: 0 10px; text-align: right }\n",
              "    </style><table class=\"wandb\">\n",
              "<tr><td>epoch</td><td>9</td></tr><tr><td>loss</td><td>1.32072</td></tr><tr><td>accuracy</td><td>0.51595</td></tr><tr><td>val_loss</td><td>1.36565</td></tr><tr><td>val_accuracy</td><td>0.5001</td></tr><tr><td>_runtime</td><td>99</td></tr><tr><td>_timestamp</td><td>1626776268</td></tr><tr><td>_step</td><td>9</td></tr><tr><td>best_val_loss</td><td>1.36565</td></tr><tr><td>best_epoch</td><td>9</td></tr></table>"
            ],
            "text/plain": [
              "<IPython.core.display.HTML object>"
            ]
          },
          "metadata": {
            "tags": []
          }
        },
        {
          "output_type": "display_data",
          "data": {
            "text/html": [
              "<h3>Run history:</h3><br/><style>\n",
              "    table.wandb td:nth-child(1) { padding: 0 10px; text-align: right }\n",
              "    </style><table class=\"wandb\">\n",
              "<tr><td>epoch</td><td>▁▂▃▃▄▅▆▆▇█</td></tr><tr><td>loss</td><td>█▆▅▄▃▃▂▂▁▁</td></tr><tr><td>accuracy</td><td>▁▃▄▅▆▆▇▇██</td></tr><tr><td>val_loss</td><td>██▅▅▃▃▂▃▁▁</td></tr><tr><td>val_accuracy</td><td>▁▁▄▄▅▆▇▆██</td></tr><tr><td>_runtime</td><td>▁▂▂▃▄▅▆▇▇█</td></tr><tr><td>_timestamp</td><td>▁▂▂▃▄▅▆▇▇█</td></tr><tr><td>_step</td><td>▁▂▃▃▄▅▆▆▇█</td></tr></table><br/>"
            ],
            "text/plain": [
              "<IPython.core.display.HTML object>"
            ]
          },
          "metadata": {
            "tags": []
          }
        },
        {
          "output_type": "display_data",
          "data": {
            "text/html": [
              "Synced 5 W&B file(s), 1 media file(s), 0 artifact file(s) and 10 other file(s)"
            ],
            "text/plain": [
              "<IPython.core.display.HTML object>"
            ]
          },
          "metadata": {
            "tags": []
          }
        },
        {
          "output_type": "display_data",
          "data": {
            "text/html": [
              "\n",
              "                    <br/>Synced <strong style=\"color:#cdcd00\">leafy-sweep-14</strong>: <a href=\"https://wandb.ai/jeongmin/uncategorized/runs/98u4wvm9\" target=\"_blank\">https://wandb.ai/jeongmin/uncategorized/runs/98u4wvm9</a><br/>\n",
              "                "
            ],
            "text/plain": [
              "<IPython.core.display.HTML object>"
            ]
          },
          "metadata": {
            "tags": []
          }
        },
        {
          "output_type": "stream",
          "text": [
            "\u001b[34m\u001b[1mwandb\u001b[0m: Agent Starting Run: ew3214cw with config:\n",
            "\u001b[34m\u001b[1mwandb\u001b[0m: \tbatch_size: 1024\n",
            "\u001b[34m\u001b[1mwandb\u001b[0m: \tepochs: 10\n",
            "\u001b[34m\u001b[1mwandb\u001b[0m: \thid_dim: 1024\n",
            "\u001b[34m\u001b[1mwandb\u001b[0m: \tlr: 0.0001\n",
            "\u001b[34m\u001b[1mwandb\u001b[0m: \tmodel_code: VGG16\n",
            "\u001b[34m\u001b[1mwandb\u001b[0m: \u001b[33mWARNING\u001b[0m Ignored wandb.init() arg project when running a sweep\n"
          ],
          "name": "stderr"
        },
        {
          "output_type": "display_data",
          "data": {
            "text/html": [
              "\n",
              "                Tracking run with wandb version 0.11.0<br/>\n",
              "                Syncing run <strong style=\"color:#cdcd00\">fanciful-sweep-15</strong> to <a href=\"https://wandb.ai\" target=\"_blank\">Weights & Biases</a> <a href=\"https://docs.wandb.com/integrations/jupyter.html\" target=\"_blank\">(Documentation)</a>.<br/>\n",
              "                Project page: <a href=\"https://wandb.ai/jeongmin/uncategorized\" target=\"_blank\">https://wandb.ai/jeongmin/uncategorized</a><br/>\n",
              "                Sweep page: <a href=\"https://wandb.ai/jeongmin/uncategorized/sweeps/maudemkc\" target=\"_blank\">https://wandb.ai/jeongmin/uncategorized/sweeps/maudemkc</a><br/>\n",
              "Run page: <a href=\"https://wandb.ai/jeongmin/uncategorized/runs/ew3214cw\" target=\"_blank\">https://wandb.ai/jeongmin/uncategorized/runs/ew3214cw</a><br/>\n",
              "                Run data is saved locally in <code>/content/wandb/run-20210720_101801-ew3214cw</code><br/><br/>\n",
              "            "
            ],
            "text/plain": [
              "<IPython.core.display.HTML object>"
            ]
          },
          "metadata": {
            "tags": []
          }
        },
        {
          "output_type": "stream",
          "text": [
            "Epoch 1/10\n",
            " 6/40 [===>..........................] - ETA: 10s - loss: 2.3025 - accuracy: 0.0942WARNING:tensorflow:Callback method `on_train_batch_end` is slow compared to the batch time (batch time: 0.0702s vs `on_train_batch_end` time: 0.1916s). Check your callbacks.\n",
            "40/40 [==============================] - 11s 243ms/step - loss: 2.2415 - accuracy: 0.1309 - val_loss: 2.0864 - val_accuracy: 0.1751\n",
            "Epoch 2/10\n",
            "40/40 [==============================] - 9s 225ms/step - loss: 2.0024 - accuracy: 0.2338 - val_loss: 1.8793 - val_accuracy: 0.2529\n",
            "Epoch 3/10\n",
            "40/40 [==============================] - 9s 225ms/step - loss: 1.8268 - accuracy: 0.3022 - val_loss: 1.8841 - val_accuracy: 0.2776\n",
            "Epoch 4/10\n",
            "40/40 [==============================] - 10s 240ms/step - loss: 1.7048 - accuracy: 0.3479 - val_loss: 1.6978 - val_accuracy: 0.3508\n",
            "Epoch 5/10\n",
            "40/40 [==============================] - 9s 224ms/step - loss: 1.6354 - accuracy: 0.3760 - val_loss: 1.7439 - val_accuracy: 0.3348\n",
            "Epoch 6/10\n",
            "40/40 [==============================] - 10s 239ms/step - loss: 1.5575 - accuracy: 0.4054 - val_loss: 1.6604 - val_accuracy: 0.3710\n",
            "Epoch 7/10\n",
            "40/40 [==============================] - 9s 225ms/step - loss: 1.5542 - accuracy: 0.4135 - val_loss: 1.4593 - val_accuracy: 0.4469\n",
            "Epoch 8/10\n",
            "40/40 [==============================] - 9s 225ms/step - loss: 1.4348 - accuracy: 0.4582 - val_loss: 1.5922 - val_accuracy: 0.4246\n",
            "Epoch 9/10\n",
            "40/40 [==============================] - 9s 223ms/step - loss: 1.3697 - accuracy: 0.4866 - val_loss: 1.3199 - val_accuracy: 0.5062\n",
            "Epoch 10/10\n",
            "40/40 [==============================] - 9s 221ms/step - loss: 1.3311 - accuracy: 0.5054 - val_loss: 1.4652 - val_accuracy: 0.4500\n",
            "10/10 [==============================] - 1s 65ms/step - loss: 1.4580 - accuracy: 0.4558\n"
          ],
          "name": "stdout"
        },
        {
          "output_type": "display_data",
          "data": {
            "text/html": [
              "<br/>Waiting for W&B process to finish, PID 7163<br/>Program ended successfully."
            ],
            "text/plain": [
              "<IPython.core.display.HTML object>"
            ]
          },
          "metadata": {
            "tags": []
          }
        },
        {
          "output_type": "display_data",
          "data": {
            "application/vnd.jupyter.widget-view+json": {
              "model_id": "3d273f4350254893b5a4d00850bb86dc",
              "version_minor": 0,
              "version_major": 2
            },
            "text/plain": [
              "VBox(children=(Label(value=' 0.64MB of 0.64MB uploaded (0.00MB deduped)\\r'), FloatProgress(value=1.0, max=1.0)…"
            ]
          },
          "metadata": {
            "tags": []
          }
        },
        {
          "output_type": "display_data",
          "data": {
            "text/html": [
              "Find user logs for this run at: <code>/content/wandb/run-20210720_101801-ew3214cw/logs/debug.log</code>"
            ],
            "text/plain": [
              "<IPython.core.display.HTML object>"
            ]
          },
          "metadata": {
            "tags": []
          }
        },
        {
          "output_type": "display_data",
          "data": {
            "text/html": [
              "Find internal logs for this run at: <code>/content/wandb/run-20210720_101801-ew3214cw/logs/debug-internal.log</code>"
            ],
            "text/plain": [
              "<IPython.core.display.HTML object>"
            ]
          },
          "metadata": {
            "tags": []
          }
        },
        {
          "output_type": "display_data",
          "data": {
            "text/html": [
              "<h3>Run summary:</h3><br/><style>\n",
              "    table.wandb td:nth-child(1) { padding: 0 10px; text-align: right }\n",
              "    </style><table class=\"wandb\">\n",
              "<tr><td>epoch</td><td>9</td></tr><tr><td>loss</td><td>1.33114</td></tr><tr><td>accuracy</td><td>0.50542</td></tr><tr><td>val_loss</td><td>1.46522</td></tr><tr><td>val_accuracy</td><td>0.45</td></tr><tr><td>_runtime</td><td>107</td></tr><tr><td>_timestamp</td><td>1626776388</td></tr><tr><td>_step</td><td>9</td></tr><tr><td>best_val_loss</td><td>1.31989</td></tr><tr><td>best_epoch</td><td>8</td></tr></table>"
            ],
            "text/plain": [
              "<IPython.core.display.HTML object>"
            ]
          },
          "metadata": {
            "tags": []
          }
        },
        {
          "output_type": "display_data",
          "data": {
            "text/html": [
              "<h3>Run history:</h3><br/><style>\n",
              "    table.wandb td:nth-child(1) { padding: 0 10px; text-align: right }\n",
              "    </style><table class=\"wandb\">\n",
              "<tr><td>epoch</td><td>▁▂▃▃▄▅▆▆▇█</td></tr><tr><td>loss</td><td>█▆▅▄▃▃▃▂▁▁</td></tr><tr><td>accuracy</td><td>▁▃▄▅▆▆▆▇██</td></tr><tr><td>val_loss</td><td>█▆▆▄▅▄▂▃▁▂</td></tr><tr><td>val_accuracy</td><td>▁▃▃▅▄▅▇▆█▇</td></tr><tr><td>_runtime</td><td>▁▂▂▃▄▅▆▆▇█</td></tr><tr><td>_timestamp</td><td>▁▂▂▃▄▅▆▆▇█</td></tr><tr><td>_step</td><td>▁▂▃▃▄▅▆▆▇█</td></tr></table><br/>"
            ],
            "text/plain": [
              "<IPython.core.display.HTML object>"
            ]
          },
          "metadata": {
            "tags": []
          }
        },
        {
          "output_type": "display_data",
          "data": {
            "text/html": [
              "Synced 5 W&B file(s), 1 media file(s), 0 artifact file(s) and 10 other file(s)"
            ],
            "text/plain": [
              "<IPython.core.display.HTML object>"
            ]
          },
          "metadata": {
            "tags": []
          }
        },
        {
          "output_type": "display_data",
          "data": {
            "text/html": [
              "\n",
              "                    <br/>Synced <strong style=\"color:#cdcd00\">fanciful-sweep-15</strong>: <a href=\"https://wandb.ai/jeongmin/uncategorized/runs/ew3214cw\" target=\"_blank\">https://wandb.ai/jeongmin/uncategorized/runs/ew3214cw</a><br/>\n",
              "                "
            ],
            "text/plain": [
              "<IPython.core.display.HTML object>"
            ]
          },
          "metadata": {
            "tags": []
          }
        },
        {
          "output_type": "stream",
          "text": [
            "\u001b[34m\u001b[1mwandb\u001b[0m: Sweep Agent: Waiting for job.\n",
            "\u001b[34m\u001b[1mwandb\u001b[0m: Job received.\n",
            "\u001b[34m\u001b[1mwandb\u001b[0m: Agent Starting Run: ha041xyk with config:\n",
            "\u001b[34m\u001b[1mwandb\u001b[0m: \tbatch_size: 1024\n",
            "\u001b[34m\u001b[1mwandb\u001b[0m: \tepochs: 10\n",
            "\u001b[34m\u001b[1mwandb\u001b[0m: \thid_dim: 1024\n",
            "\u001b[34m\u001b[1mwandb\u001b[0m: \tlr: 0.0001\n",
            "\u001b[34m\u001b[1mwandb\u001b[0m: \tmodel_code: VGG19\n",
            "\u001b[34m\u001b[1mwandb\u001b[0m: \u001b[33mWARNING\u001b[0m Ignored wandb.init() arg project when running a sweep\n"
          ],
          "name": "stderr"
        },
        {
          "output_type": "display_data",
          "data": {
            "text/html": [
              "\n",
              "                Tracking run with wandb version 0.11.0<br/>\n",
              "                Syncing run <strong style=\"color:#cdcd00\">revived-sweep-16</strong> to <a href=\"https://wandb.ai\" target=\"_blank\">Weights & Biases</a> <a href=\"https://docs.wandb.com/integrations/jupyter.html\" target=\"_blank\">(Documentation)</a>.<br/>\n",
              "                Project page: <a href=\"https://wandb.ai/jeongmin/uncategorized\" target=\"_blank\">https://wandb.ai/jeongmin/uncategorized</a><br/>\n",
              "                Sweep page: <a href=\"https://wandb.ai/jeongmin/uncategorized/sweeps/maudemkc\" target=\"_blank\">https://wandb.ai/jeongmin/uncategorized/sweeps/maudemkc</a><br/>\n",
              "Run page: <a href=\"https://wandb.ai/jeongmin/uncategorized/runs/ha041xyk\" target=\"_blank\">https://wandb.ai/jeongmin/uncategorized/runs/ha041xyk</a><br/>\n",
              "                Run data is saved locally in <code>/content/wandb/run-20210720_102019-ha041xyk</code><br/><br/>\n",
              "            "
            ],
            "text/plain": [
              "<IPython.core.display.HTML object>"
            ]
          },
          "metadata": {
            "tags": []
          }
        },
        {
          "output_type": "stream",
          "text": [
            "Epoch 1/10\n",
            " 6/40 [===>..........................] - ETA: 12s - loss: 2.3026 - accuracy: 0.0964WARNING:tensorflow:Callback method `on_train_batch_end` is slow compared to the batch time (batch time: 0.0851s vs `on_train_batch_end` time: 0.2184s). Check your callbacks.\n",
            "40/40 [==============================] - 12s 282ms/step - loss: 2.2986 - accuracy: 0.1141 - val_loss: 2.3064 - val_accuracy: 0.0918\n",
            "Epoch 2/10\n",
            "40/40 [==============================] - 10s 260ms/step - loss: 2.3026 - accuracy: 0.1032 - val_loss: 2.3005 - val_accuracy: 0.1065\n",
            "Epoch 3/10\n",
            "40/40 [==============================] - 10s 262ms/step - loss: 2.1994 - accuracy: 0.1504 - val_loss: 2.0324 - val_accuracy: 0.2007\n",
            "Epoch 4/10\n",
            "40/40 [==============================] - 11s 274ms/step - loss: 1.9613 - accuracy: 0.2138 - val_loss: 1.8651 - val_accuracy: 0.2433\n",
            "Epoch 5/10\n",
            "40/40 [==============================] - 11s 262ms/step - loss: 1.8281 - accuracy: 0.2549 - val_loss: 1.7857 - val_accuracy: 0.2587\n",
            "Epoch 6/10\n",
            "40/40 [==============================] - 11s 274ms/step - loss: 1.7300 - accuracy: 0.2920 - val_loss: 1.6931 - val_accuracy: 0.3067\n",
            "Epoch 7/10\n",
            "40/40 [==============================] - 10s 262ms/step - loss: 1.6655 - accuracy: 0.3325 - val_loss: 2.0141 - val_accuracy: 0.2683\n",
            "Epoch 8/10\n",
            "40/40 [==============================] - 11s 263ms/step - loss: 1.7863 - accuracy: 0.2812 - val_loss: 1.7049 - val_accuracy: 0.2925\n",
            "Epoch 9/10\n",
            "40/40 [==============================] - 10s 262ms/step - loss: 1.6386 - accuracy: 0.3372 - val_loss: 1.6719 - val_accuracy: 0.3215\n",
            "Epoch 10/10\n",
            "40/40 [==============================] - 11s 263ms/step - loss: 1.5799 - accuracy: 0.3780 - val_loss: 1.7706 - val_accuracy: 0.3407\n",
            "10/10 [==============================] - 1s 82ms/step - loss: 1.7563 - accuracy: 0.3403\n"
          ],
          "name": "stdout"
        },
        {
          "output_type": "display_data",
          "data": {
            "text/html": [
              "<br/>Waiting for W&B process to finish, PID 7259<br/>Program ended successfully."
            ],
            "text/plain": [
              "<IPython.core.display.HTML object>"
            ]
          },
          "metadata": {
            "tags": []
          }
        },
        {
          "output_type": "display_data",
          "data": {
            "application/vnd.jupyter.widget-view+json": {
              "model_id": "3bb08425179d4bfe8b0844b260bd5dbd",
              "version_minor": 0,
              "version_major": 2
            },
            "text/plain": [
              "VBox(children=(Label(value=' 0.73MB of 0.73MB uploaded (0.00MB deduped)\\r'), FloatProgress(value=1.0, max=1.0)…"
            ]
          },
          "metadata": {
            "tags": []
          }
        },
        {
          "output_type": "display_data",
          "data": {
            "text/html": [
              "Find user logs for this run at: <code>/content/wandb/run-20210720_102019-ha041xyk/logs/debug.log</code>"
            ],
            "text/plain": [
              "<IPython.core.display.HTML object>"
            ]
          },
          "metadata": {
            "tags": []
          }
        },
        {
          "output_type": "display_data",
          "data": {
            "text/html": [
              "Find internal logs for this run at: <code>/content/wandb/run-20210720_102019-ha041xyk/logs/debug-internal.log</code>"
            ],
            "text/plain": [
              "<IPython.core.display.HTML object>"
            ]
          },
          "metadata": {
            "tags": []
          }
        },
        {
          "output_type": "display_data",
          "data": {
            "text/html": [
              "<h3>Run summary:</h3><br/><style>\n",
              "    table.wandb td:nth-child(1) { padding: 0 10px; text-align: right }\n",
              "    </style><table class=\"wandb\">\n",
              "<tr><td>epoch</td><td>9</td></tr><tr><td>loss</td><td>1.5799</td></tr><tr><td>accuracy</td><td>0.37802</td></tr><tr><td>val_loss</td><td>1.77061</td></tr><tr><td>val_accuracy</td><td>0.3407</td></tr><tr><td>_runtime</td><td>157</td></tr><tr><td>_timestamp</td><td>1626776576</td></tr><tr><td>_step</td><td>9</td></tr><tr><td>best_val_loss</td><td>1.67186</td></tr><tr><td>best_epoch</td><td>8</td></tr></table>"
            ],
            "text/plain": [
              "<IPython.core.display.HTML object>"
            ]
          },
          "metadata": {
            "tags": []
          }
        },
        {
          "output_type": "display_data",
          "data": {
            "text/html": [
              "<h3>Run history:</h3><br/><style>\n",
              "    table.wandb td:nth-child(1) { padding: 0 10px; text-align: right }\n",
              "    </style><table class=\"wandb\">\n",
              "<tr><td>epoch</td><td>▁▂▃▃▄▅▆▆▇█</td></tr><tr><td>loss</td><td>██▇▅▃▂▂▃▂▁</td></tr><tr><td>accuracy</td><td>▁▁▂▄▅▆▇▆▇█</td></tr><tr><td>val_loss</td><td>██▅▃▂▁▅▁▁▂</td></tr><tr><td>val_accuracy</td><td>▁▁▄▅▆▇▆▇▇█</td></tr><tr><td>_runtime</td><td>▁▂▃▄▄▅▆▇▇█</td></tr><tr><td>_timestamp</td><td>▁▂▃▄▄▅▆▇▇█</td></tr><tr><td>_step</td><td>▁▂▃▃▄▅▆▆▇█</td></tr></table><br/>"
            ],
            "text/plain": [
              "<IPython.core.display.HTML object>"
            ]
          },
          "metadata": {
            "tags": []
          }
        },
        {
          "output_type": "display_data",
          "data": {
            "text/html": [
              "Synced 5 W&B file(s), 1 media file(s), 0 artifact file(s) and 10 other file(s)"
            ],
            "text/plain": [
              "<IPython.core.display.HTML object>"
            ]
          },
          "metadata": {
            "tags": []
          }
        },
        {
          "output_type": "display_data",
          "data": {
            "text/html": [
              "\n",
              "                    <br/>Synced <strong style=\"color:#cdcd00\">revived-sweep-16</strong>: <a href=\"https://wandb.ai/jeongmin/uncategorized/runs/ha041xyk\" target=\"_blank\">https://wandb.ai/jeongmin/uncategorized/runs/ha041xyk</a><br/>\n",
              "                "
            ],
            "text/plain": [
              "<IPython.core.display.HTML object>"
            ]
          },
          "metadata": {
            "tags": []
          }
        },
        {
          "output_type": "stream",
          "text": [
            "\u001b[34m\u001b[1mwandb\u001b[0m: Sweep Agent: Waiting for job.\n",
            "\u001b[34m\u001b[1mwandb\u001b[0m: Sweep Agent: Exiting.\n"
          ],
          "name": "stderr"
        }
      ]
    },
    {
      "cell_type": "markdown",
      "metadata": {
        "id": "QBIobnGcbD2o"
      },
      "source": [
        "* [Experiment1](https://wandb.ai/jeongmin/uncategorized/sweeps/ny3r9m0f?workspace=user-jeongmin)\n",
        "* [Experiment2](https://wandb.ai/jeongmin/uncategorized/sweeps/maudemkc?workspace=user-jeongmin)\n",
        "\n"
      ]
    },
    {
      "cell_type": "code",
      "metadata": {
        "id": "pxora0m9Duwi"
      },
      "source": [
        ""
      ],
      "execution_count": 16,
      "outputs": []
    }
  ]
}