{
  "nbformat": 4,
  "nbformat_minor": 0,
  "metadata": {
    "colab": {
      "name": "MLP_cifar_test.ipynb",
      "provenance": [],
      "authorship_tag": "ABX9TyNdlYMxrz/HyaPYhFtw4ZSn",
      "include_colab_link": true
    },
    "kernelspec": {
      "name": "python3",
      "display_name": "Python 3"
    },
    "language_info": {
      "name": "python"
    },
    "accelerator": "GPU"
  },
  "cells": [
    {
      "cell_type": "markdown",
      "metadata": {
        "id": "view-in-github",
        "colab_type": "text"
      },
      "source": [
        "<a href=\"https://colab.research.google.com/github/silverstar0727/pragmatism-AI/blob/main/MLP_cifar_test.ipynb\" target=\"_parent\"><img src=\"https://colab.research.google.com/assets/colab-badge.svg\" alt=\"Open In Colab\"/></a>"
      ]
    },
    {
      "cell_type": "code",
      "metadata": {
        "id": "uPMgZsSRM747"
      },
      "source": [
        "import tensorflow as tf\n",
        "from sklearn.model_selection import train_test_split"
      ],
      "execution_count": null,
      "outputs": []
    },
    {
      "cell_type": "code",
      "metadata": {
        "colab": {
          "base_uri": "https://localhost:8080/"
        },
        "id": "bfnbDzsFNO66",
        "outputId": "43b653aa-9208-4b10-dfd9-e39e1935dead"
      },
      "source": [
        "cifar10 = tf.keras.datasets.cifar10\n",
        "\n",
        "(x_train, y_train), (x_test, y_test) = cifar10.load_data()\n",
        "x_train, x_test = x_train / 255.0, x_test / 255.0\n",
        "\n",
        "x_train, x_val, y_train, y_val = train_test_split(x_train, y_train, test_size=0.2, random_state=3)\n",
        "\n",
        "print(\"x shape\")\n",
        "print(f\"train: {x_train.shape}, val: {x_val.shape}, test: {x_test.shape}\")\n",
        "print(\"y shape\")\n",
        "print(f\"train: {y_train.shape}, val: {y_val.shape}, test: {y_test.shape}\")\n",
        "\n",
        "\n",
        "trainloader = tf.data.Dataset.from_tensor_slices((x_train, y_train))\n",
        "trainloader = trainloader.shuffle(1024).batch(128).prefetch(tf.data.experimental.AUTOTUNE)\n",
        "valloader = tf.data.Dataset.from_tensor_slices((x_val, y_val))\n",
        "valloader = valloader.batch(128).prefetch(tf.data.experimental.AUTOTUNE)\n",
        "testloader = tf.data.Dataset.from_tensor_slices((x_test, y_test))\n",
        "testloader = testloader.batch(128).prefetch(tf.data.experimental.AUTOTUNE)"
      ],
      "execution_count": null,
      "outputs": [
        {
          "output_type": "stream",
          "text": [
            "Downloading data from https://www.cs.toronto.edu/~kriz/cifar-10-python.tar.gz\n",
            "170500096/170498071 [==============================] - 4s 0us/step\n",
            "x shape\n",
            "train: (40000, 32, 32, 3), val: (10000, 32, 32, 3), test: (10000, 32, 32, 3)\n",
            "y shape\n",
            "train: (40000, 1), val: (10000, 1), test: (10000, 1)\n"
          ],
          "name": "stdout"
        }
      ]
    },
    {
      "cell_type": "code",
      "metadata": {
        "id": "XVD71-2bNCwN"
      },
      "source": [
        "class Model(tf.keras.Model):\n",
        "    def __init__(self):\n",
        "        super(Model, self).__init__()\n",
        "        self.flatten = tf.keras.layers.Flatten(input_shape = x_train.shape[1:])\n",
        "        self.fc = tf.keras.layers.Dense(512, activation='relu')\n",
        "        self.dropout = tf.keras.layers.Dropout(0.2)\n",
        "        self.outputs = tf.keras.layers.Dense(10, activation='softmax')\n",
        "\n",
        "    def call(self, inputs):\n",
        "        x = self.flatten(inputs)\n",
        "        x = self.fc(x)\n",
        "        x = self.dropout(x)\n",
        "        x = self.outputs(x)\n",
        "        return x"
      ],
      "execution_count": null,
      "outputs": []
    },
    {
      "cell_type": "code",
      "metadata": {
        "colab": {
          "base_uri": "https://localhost:8080/"
        },
        "id": "1FwDhbluNMxj",
        "outputId": "81a275c5-1640-47f3-f14e-27dee88654b5"
      },
      "source": [
        "net = Model()\n",
        "net.compile(optimizer='adam',\n",
        "            loss='sparse_categorical_crossentropy',\n",
        "            metrics=['accuracy'])\n",
        "\n",
        "result = net.fit(\n",
        "    trainloader, \n",
        "    epochs = 5,\n",
        "    validation_data=valloader,\n",
        "    batch_size=128)"
      ],
      "execution_count": null,
      "outputs": [
        {
          "output_type": "stream",
          "text": [
            "Epoch 1/5\n",
            "313/313 [==============================] - 2s 6ms/step - loss: 2.0458 - accuracy: 0.2755 - val_loss: 1.8533 - val_accuracy: 0.3377\n",
            "Epoch 2/5\n",
            "313/313 [==============================] - 2s 7ms/step - loss: 1.8475 - accuracy: 0.3392 - val_loss: 1.7505 - val_accuracy: 0.3822\n",
            "Epoch 3/5\n",
            "313/313 [==============================] - 2s 7ms/step - loss: 1.7830 - accuracy: 0.3604 - val_loss: 1.7060 - val_accuracy: 0.3926\n",
            "Epoch 4/5\n",
            "313/313 [==============================] - 2s 6ms/step - loss: 1.7507 - accuracy: 0.3723 - val_loss: 1.6907 - val_accuracy: 0.3998\n",
            "Epoch 5/5\n",
            "313/313 [==============================] - 2s 7ms/step - loss: 1.7272 - accuracy: 0.3828 - val_loss: 1.6792 - val_accuracy: 0.3971\n"
          ],
          "name": "stdout"
        }
      ]
    },
    {
      "cell_type": "code",
      "metadata": {
        "id": "K4QistlSN1cp"
      },
      "source": [
        ""
      ],
      "execution_count": null,
      "outputs": []
    }
  ]
}