{
  "nbformat": 4,
  "nbformat_minor": 0,
  "metadata": {
    "colab": {
      "name": "W&B_keras_sweep.ipynb",
      "provenance": [],
      "collapsed_sections": [],
      "authorship_tag": "ABX9TyOtsM1VTJl73moGvnOX5Rpj",
      "include_colab_link": true
    },
    "kernelspec": {
      "name": "python3",
      "display_name": "Python 3"
    },
    "language_info": {
      "name": "python"
    },
    "accelerator": "GPU",
    "widgets": {
      "application/vnd.jupyter.widget-state+json": {
        "99a4c7afafe6410691f2de8b9ce85eab": {
          "model_module": "@jupyter-widgets/controls",
          "model_name": "VBoxModel",
          "state": {
            "_view_name": "VBoxView",
            "_dom_classes": [],
            "_model_name": "VBoxModel",
            "_view_module": "@jupyter-widgets/controls",
            "_model_module_version": "1.5.0",
            "_view_count": null,
            "_view_module_version": "1.5.0",
            "box_style": "",
            "layout": "IPY_MODEL_0be9aa1b443747189b3545186cfcc0eb",
            "_model_module": "@jupyter-widgets/controls",
            "children": [
              "IPY_MODEL_ff0ce40cbc844fd490b16caaffcdeb91",
              "IPY_MODEL_a22b81f6b44a48da94c3b59106c1c745"
            ]
          }
        },
        "0be9aa1b443747189b3545186cfcc0eb": {
          "model_module": "@jupyter-widgets/base",
          "model_name": "LayoutModel",
          "state": {
            "_view_name": "LayoutView",
            "grid_template_rows": null,
            "right": null,
            "justify_content": null,
            "_view_module": "@jupyter-widgets/base",
            "overflow": null,
            "_model_module_version": "1.2.0",
            "_view_count": null,
            "flex_flow": null,
            "width": null,
            "min_width": null,
            "border": null,
            "align_items": null,
            "bottom": null,
            "_model_module": "@jupyter-widgets/base",
            "top": null,
            "grid_column": null,
            "overflow_y": null,
            "overflow_x": null,
            "grid_auto_flow": null,
            "grid_area": null,
            "grid_template_columns": null,
            "flex": null,
            "_model_name": "LayoutModel",
            "justify_items": null,
            "grid_row": null,
            "max_height": null,
            "align_content": null,
            "visibility": null,
            "align_self": null,
            "height": null,
            "min_height": null,
            "padding": null,
            "grid_auto_rows": null,
            "grid_gap": null,
            "max_width": null,
            "order": null,
            "_view_module_version": "1.2.0",
            "grid_template_areas": null,
            "object_position": null,
            "object_fit": null,
            "grid_auto_columns": null,
            "margin": null,
            "display": null,
            "left": null
          }
        },
        "ff0ce40cbc844fd490b16caaffcdeb91": {
          "model_module": "@jupyter-widgets/controls",
          "model_name": "LabelModel",
          "state": {
            "_view_name": "LabelView",
            "style": "IPY_MODEL_bdcc7c5e9a8842258235070973889ccd",
            "_dom_classes": [],
            "description": "",
            "_model_name": "LabelModel",
            "placeholder": "​",
            "_view_module": "@jupyter-widgets/controls",
            "_model_module_version": "1.5.0",
            "value": " 0.01MB of 0.01MB uploaded (0.00MB deduped)\r",
            "_view_count": null,
            "_view_module_version": "1.5.0",
            "description_tooltip": null,
            "_model_module": "@jupyter-widgets/controls",
            "layout": "IPY_MODEL_57958769c95e44979e7c8bb17f09af8e"
          }
        },
        "a22b81f6b44a48da94c3b59106c1c745": {
          "model_module": "@jupyter-widgets/controls",
          "model_name": "FloatProgressModel",
          "state": {
            "_view_name": "ProgressView",
            "style": "IPY_MODEL_87a50097ad0041b9984adf556a5e78b3",
            "_dom_classes": [],
            "description": "",
            "_model_name": "FloatProgressModel",
            "bar_style": "",
            "max": 1,
            "_view_module": "@jupyter-widgets/controls",
            "_model_module_version": "1.5.0",
            "value": 1,
            "_view_count": null,
            "_view_module_version": "1.5.0",
            "orientation": "horizontal",
            "min": 0,
            "description_tooltip": null,
            "_model_module": "@jupyter-widgets/controls",
            "layout": "IPY_MODEL_1a5364163edf41faaf3776bfdda0646a"
          }
        },
        "bdcc7c5e9a8842258235070973889ccd": {
          "model_module": "@jupyter-widgets/controls",
          "model_name": "DescriptionStyleModel",
          "state": {
            "_view_name": "StyleView",
            "_model_name": "DescriptionStyleModel",
            "description_width": "",
            "_view_module": "@jupyter-widgets/base",
            "_model_module_version": "1.5.0",
            "_view_count": null,
            "_view_module_version": "1.2.0",
            "_model_module": "@jupyter-widgets/controls"
          }
        },
        "57958769c95e44979e7c8bb17f09af8e": {
          "model_module": "@jupyter-widgets/base",
          "model_name": "LayoutModel",
          "state": {
            "_view_name": "LayoutView",
            "grid_template_rows": null,
            "right": null,
            "justify_content": null,
            "_view_module": "@jupyter-widgets/base",
            "overflow": null,
            "_model_module_version": "1.2.0",
            "_view_count": null,
            "flex_flow": null,
            "width": null,
            "min_width": null,
            "border": null,
            "align_items": null,
            "bottom": null,
            "_model_module": "@jupyter-widgets/base",
            "top": null,
            "grid_column": null,
            "overflow_y": null,
            "overflow_x": null,
            "grid_auto_flow": null,
            "grid_area": null,
            "grid_template_columns": null,
            "flex": null,
            "_model_name": "LayoutModel",
            "justify_items": null,
            "grid_row": null,
            "max_height": null,
            "align_content": null,
            "visibility": null,
            "align_self": null,
            "height": null,
            "min_height": null,
            "padding": null,
            "grid_auto_rows": null,
            "grid_gap": null,
            "max_width": null,
            "order": null,
            "_view_module_version": "1.2.0",
            "grid_template_areas": null,
            "object_position": null,
            "object_fit": null,
            "grid_auto_columns": null,
            "margin": null,
            "display": null,
            "left": null
          }
        },
        "87a50097ad0041b9984adf556a5e78b3": {
          "model_module": "@jupyter-widgets/controls",
          "model_name": "ProgressStyleModel",
          "state": {
            "_view_name": "StyleView",
            "_model_name": "ProgressStyleModel",
            "description_width": "",
            "_view_module": "@jupyter-widgets/base",
            "_model_module_version": "1.5.0",
            "_view_count": null,
            "_view_module_version": "1.2.0",
            "bar_color": null,
            "_model_module": "@jupyter-widgets/controls"
          }
        },
        "1a5364163edf41faaf3776bfdda0646a": {
          "model_module": "@jupyter-widgets/base",
          "model_name": "LayoutModel",
          "state": {
            "_view_name": "LayoutView",
            "grid_template_rows": null,
            "right": null,
            "justify_content": null,
            "_view_module": "@jupyter-widgets/base",
            "overflow": null,
            "_model_module_version": "1.2.0",
            "_view_count": null,
            "flex_flow": null,
            "width": null,
            "min_width": null,
            "border": null,
            "align_items": null,
            "bottom": null,
            "_model_module": "@jupyter-widgets/base",
            "top": null,
            "grid_column": null,
            "overflow_y": null,
            "overflow_x": null,
            "grid_auto_flow": null,
            "grid_area": null,
            "grid_template_columns": null,
            "flex": null,
            "_model_name": "LayoutModel",
            "justify_items": null,
            "grid_row": null,
            "max_height": null,
            "align_content": null,
            "visibility": null,
            "align_self": null,
            "height": null,
            "min_height": null,
            "padding": null,
            "grid_auto_rows": null,
            "grid_gap": null,
            "max_width": null,
            "order": null,
            "_view_module_version": "1.2.0",
            "grid_template_areas": null,
            "object_position": null,
            "object_fit": null,
            "grid_auto_columns": null,
            "margin": null,
            "display": null,
            "left": null
          }
        },
        "7020c935434b42b4a2ce56e53b9626da": {
          "model_module": "@jupyter-widgets/controls",
          "model_name": "VBoxModel",
          "state": {
            "_view_name": "VBoxView",
            "_dom_classes": [],
            "_model_name": "VBoxModel",
            "_view_module": "@jupyter-widgets/controls",
            "_model_module_version": "1.5.0",
            "_view_count": null,
            "_view_module_version": "1.5.0",
            "box_style": "",
            "layout": "IPY_MODEL_a355fdaede3b4541905a8ef0ed943399",
            "_model_module": "@jupyter-widgets/controls",
            "children": [
              "IPY_MODEL_d0f6c3771ef24a4ea2c90c37f1549257",
              "IPY_MODEL_74f1b0c48fee444ead214200f26d9c57"
            ]
          }
        },
        "a355fdaede3b4541905a8ef0ed943399": {
          "model_module": "@jupyter-widgets/base",
          "model_name": "LayoutModel",
          "state": {
            "_view_name": "LayoutView",
            "grid_template_rows": null,
            "right": null,
            "justify_content": null,
            "_view_module": "@jupyter-widgets/base",
            "overflow": null,
            "_model_module_version": "1.2.0",
            "_view_count": null,
            "flex_flow": null,
            "width": null,
            "min_width": null,
            "border": null,
            "align_items": null,
            "bottom": null,
            "_model_module": "@jupyter-widgets/base",
            "top": null,
            "grid_column": null,
            "overflow_y": null,
            "overflow_x": null,
            "grid_auto_flow": null,
            "grid_area": null,
            "grid_template_columns": null,
            "flex": null,
            "_model_name": "LayoutModel",
            "justify_items": null,
            "grid_row": null,
            "max_height": null,
            "align_content": null,
            "visibility": null,
            "align_self": null,
            "height": null,
            "min_height": null,
            "padding": null,
            "grid_auto_rows": null,
            "grid_gap": null,
            "max_width": null,
            "order": null,
            "_view_module_version": "1.2.0",
            "grid_template_areas": null,
            "object_position": null,
            "object_fit": null,
            "grid_auto_columns": null,
            "margin": null,
            "display": null,
            "left": null
          }
        },
        "d0f6c3771ef24a4ea2c90c37f1549257": {
          "model_module": "@jupyter-widgets/controls",
          "model_name": "LabelModel",
          "state": {
            "_view_name": "LabelView",
            "style": "IPY_MODEL_e930d33d66c64b8aac9d2a8add9c1819",
            "_dom_classes": [],
            "description": "",
            "_model_name": "LabelModel",
            "placeholder": "​",
            "_view_module": "@jupyter-widgets/controls",
            "_model_module_version": "1.5.0",
            "value": " 0.01MB of 0.01MB uploaded (0.00MB deduped)\r",
            "_view_count": null,
            "_view_module_version": "1.5.0",
            "description_tooltip": null,
            "_model_module": "@jupyter-widgets/controls",
            "layout": "IPY_MODEL_6700099687714439b964f8c7d3c5abee"
          }
        },
        "74f1b0c48fee444ead214200f26d9c57": {
          "model_module": "@jupyter-widgets/controls",
          "model_name": "FloatProgressModel",
          "state": {
            "_view_name": "ProgressView",
            "style": "IPY_MODEL_dc241c741626426c901d7fcfff39052e",
            "_dom_classes": [],
            "description": "",
            "_model_name": "FloatProgressModel",
            "bar_style": "",
            "max": 1,
            "_view_module": "@jupyter-widgets/controls",
            "_model_module_version": "1.5.0",
            "value": 1,
            "_view_count": null,
            "_view_module_version": "1.5.0",
            "orientation": "horizontal",
            "min": 0,
            "description_tooltip": null,
            "_model_module": "@jupyter-widgets/controls",
            "layout": "IPY_MODEL_a0b6e942b8544186a350fec57c2d4502"
          }
        },
        "e930d33d66c64b8aac9d2a8add9c1819": {
          "model_module": "@jupyter-widgets/controls",
          "model_name": "DescriptionStyleModel",
          "state": {
            "_view_name": "StyleView",
            "_model_name": "DescriptionStyleModel",
            "description_width": "",
            "_view_module": "@jupyter-widgets/base",
            "_model_module_version": "1.5.0",
            "_view_count": null,
            "_view_module_version": "1.2.0",
            "_model_module": "@jupyter-widgets/controls"
          }
        },
        "6700099687714439b964f8c7d3c5abee": {
          "model_module": "@jupyter-widgets/base",
          "model_name": "LayoutModel",
          "state": {
            "_view_name": "LayoutView",
            "grid_template_rows": null,
            "right": null,
            "justify_content": null,
            "_view_module": "@jupyter-widgets/base",
            "overflow": null,
            "_model_module_version": "1.2.0",
            "_view_count": null,
            "flex_flow": null,
            "width": null,
            "min_width": null,
            "border": null,
            "align_items": null,
            "bottom": null,
            "_model_module": "@jupyter-widgets/base",
            "top": null,
            "grid_column": null,
            "overflow_y": null,
            "overflow_x": null,
            "grid_auto_flow": null,
            "grid_area": null,
            "grid_template_columns": null,
            "flex": null,
            "_model_name": "LayoutModel",
            "justify_items": null,
            "grid_row": null,
            "max_height": null,
            "align_content": null,
            "visibility": null,
            "align_self": null,
            "height": null,
            "min_height": null,
            "padding": null,
            "grid_auto_rows": null,
            "grid_gap": null,
            "max_width": null,
            "order": null,
            "_view_module_version": "1.2.0",
            "grid_template_areas": null,
            "object_position": null,
            "object_fit": null,
            "grid_auto_columns": null,
            "margin": null,
            "display": null,
            "left": null
          }
        },
        "dc241c741626426c901d7fcfff39052e": {
          "model_module": "@jupyter-widgets/controls",
          "model_name": "ProgressStyleModel",
          "state": {
            "_view_name": "StyleView",
            "_model_name": "ProgressStyleModel",
            "description_width": "",
            "_view_module": "@jupyter-widgets/base",
            "_model_module_version": "1.5.0",
            "_view_count": null,
            "_view_module_version": "1.2.0",
            "bar_color": null,
            "_model_module": "@jupyter-widgets/controls"
          }
        },
        "a0b6e942b8544186a350fec57c2d4502": {
          "model_module": "@jupyter-widgets/base",
          "model_name": "LayoutModel",
          "state": {
            "_view_name": "LayoutView",
            "grid_template_rows": null,
            "right": null,
            "justify_content": null,
            "_view_module": "@jupyter-widgets/base",
            "overflow": null,
            "_model_module_version": "1.2.0",
            "_view_count": null,
            "flex_flow": null,
            "width": null,
            "min_width": null,
            "border": null,
            "align_items": null,
            "bottom": null,
            "_model_module": "@jupyter-widgets/base",
            "top": null,
            "grid_column": null,
            "overflow_y": null,
            "overflow_x": null,
            "grid_auto_flow": null,
            "grid_area": null,
            "grid_template_columns": null,
            "flex": null,
            "_model_name": "LayoutModel",
            "justify_items": null,
            "grid_row": null,
            "max_height": null,
            "align_content": null,
            "visibility": null,
            "align_self": null,
            "height": null,
            "min_height": null,
            "padding": null,
            "grid_auto_rows": null,
            "grid_gap": null,
            "max_width": null,
            "order": null,
            "_view_module_version": "1.2.0",
            "grid_template_areas": null,
            "object_position": null,
            "object_fit": null,
            "grid_auto_columns": null,
            "margin": null,
            "display": null,
            "left": null
          }
        },
        "594fe128562f43c598b37605c73db934": {
          "model_module": "@jupyter-widgets/controls",
          "model_name": "VBoxModel",
          "state": {
            "_view_name": "VBoxView",
            "_dom_classes": [],
            "_model_name": "VBoxModel",
            "_view_module": "@jupyter-widgets/controls",
            "_model_module_version": "1.5.0",
            "_view_count": null,
            "_view_module_version": "1.5.0",
            "box_style": "",
            "layout": "IPY_MODEL_a2fa26a595cd471eaecaa6daf353bd8a",
            "_model_module": "@jupyter-widgets/controls",
            "children": [
              "IPY_MODEL_5764aacf6baf4a9290ba2d7d17791571",
              "IPY_MODEL_97b9917850654250a4038c216cd3224d"
            ]
          }
        },
        "a2fa26a595cd471eaecaa6daf353bd8a": {
          "model_module": "@jupyter-widgets/base",
          "model_name": "LayoutModel",
          "state": {
            "_view_name": "LayoutView",
            "grid_template_rows": null,
            "right": null,
            "justify_content": null,
            "_view_module": "@jupyter-widgets/base",
            "overflow": null,
            "_model_module_version": "1.2.0",
            "_view_count": null,
            "flex_flow": null,
            "width": null,
            "min_width": null,
            "border": null,
            "align_items": null,
            "bottom": null,
            "_model_module": "@jupyter-widgets/base",
            "top": null,
            "grid_column": null,
            "overflow_y": null,
            "overflow_x": null,
            "grid_auto_flow": null,
            "grid_area": null,
            "grid_template_columns": null,
            "flex": null,
            "_model_name": "LayoutModel",
            "justify_items": null,
            "grid_row": null,
            "max_height": null,
            "align_content": null,
            "visibility": null,
            "align_self": null,
            "height": null,
            "min_height": null,
            "padding": null,
            "grid_auto_rows": null,
            "grid_gap": null,
            "max_width": null,
            "order": null,
            "_view_module_version": "1.2.0",
            "grid_template_areas": null,
            "object_position": null,
            "object_fit": null,
            "grid_auto_columns": null,
            "margin": null,
            "display": null,
            "left": null
          }
        },
        "5764aacf6baf4a9290ba2d7d17791571": {
          "model_module": "@jupyter-widgets/controls",
          "model_name": "LabelModel",
          "state": {
            "_view_name": "LabelView",
            "style": "IPY_MODEL_55a5f7017ed44064ad823c7a6f2784da",
            "_dom_classes": [],
            "description": "",
            "_model_name": "LabelModel",
            "placeholder": "​",
            "_view_module": "@jupyter-widgets/controls",
            "_model_module_version": "1.5.0",
            "value": " 0.01MB of 0.01MB uploaded (0.00MB deduped)\r",
            "_view_count": null,
            "_view_module_version": "1.5.0",
            "description_tooltip": null,
            "_model_module": "@jupyter-widgets/controls",
            "layout": "IPY_MODEL_d2b5be604b2641f9b8e8ec480fca1056"
          }
        },
        "97b9917850654250a4038c216cd3224d": {
          "model_module": "@jupyter-widgets/controls",
          "model_name": "FloatProgressModel",
          "state": {
            "_view_name": "ProgressView",
            "style": "IPY_MODEL_01999010692f476f9075d7593f324026",
            "_dom_classes": [],
            "description": "",
            "_model_name": "FloatProgressModel",
            "bar_style": "",
            "max": 1,
            "_view_module": "@jupyter-widgets/controls",
            "_model_module_version": "1.5.0",
            "value": 1,
            "_view_count": null,
            "_view_module_version": "1.5.0",
            "orientation": "horizontal",
            "min": 0,
            "description_tooltip": null,
            "_model_module": "@jupyter-widgets/controls",
            "layout": "IPY_MODEL_f597ad23408b425981f6bbb3a940ee07"
          }
        },
        "55a5f7017ed44064ad823c7a6f2784da": {
          "model_module": "@jupyter-widgets/controls",
          "model_name": "DescriptionStyleModel",
          "state": {
            "_view_name": "StyleView",
            "_model_name": "DescriptionStyleModel",
            "description_width": "",
            "_view_module": "@jupyter-widgets/base",
            "_model_module_version": "1.5.0",
            "_view_count": null,
            "_view_module_version": "1.2.0",
            "_model_module": "@jupyter-widgets/controls"
          }
        },
        "d2b5be604b2641f9b8e8ec480fca1056": {
          "model_module": "@jupyter-widgets/base",
          "model_name": "LayoutModel",
          "state": {
            "_view_name": "LayoutView",
            "grid_template_rows": null,
            "right": null,
            "justify_content": null,
            "_view_module": "@jupyter-widgets/base",
            "overflow": null,
            "_model_module_version": "1.2.0",
            "_view_count": null,
            "flex_flow": null,
            "width": null,
            "min_width": null,
            "border": null,
            "align_items": null,
            "bottom": null,
            "_model_module": "@jupyter-widgets/base",
            "top": null,
            "grid_column": null,
            "overflow_y": null,
            "overflow_x": null,
            "grid_auto_flow": null,
            "grid_area": null,
            "grid_template_columns": null,
            "flex": null,
            "_model_name": "LayoutModel",
            "justify_items": null,
            "grid_row": null,
            "max_height": null,
            "align_content": null,
            "visibility": null,
            "align_self": null,
            "height": null,
            "min_height": null,
            "padding": null,
            "grid_auto_rows": null,
            "grid_gap": null,
            "max_width": null,
            "order": null,
            "_view_module_version": "1.2.0",
            "grid_template_areas": null,
            "object_position": null,
            "object_fit": null,
            "grid_auto_columns": null,
            "margin": null,
            "display": null,
            "left": null
          }
        },
        "01999010692f476f9075d7593f324026": {
          "model_module": "@jupyter-widgets/controls",
          "model_name": "ProgressStyleModel",
          "state": {
            "_view_name": "StyleView",
            "_model_name": "ProgressStyleModel",
            "description_width": "",
            "_view_module": "@jupyter-widgets/base",
            "_model_module_version": "1.5.0",
            "_view_count": null,
            "_view_module_version": "1.2.0",
            "bar_color": null,
            "_model_module": "@jupyter-widgets/controls"
          }
        },
        "f597ad23408b425981f6bbb3a940ee07": {
          "model_module": "@jupyter-widgets/base",
          "model_name": "LayoutModel",
          "state": {
            "_view_name": "LayoutView",
            "grid_template_rows": null,
            "right": null,
            "justify_content": null,
            "_view_module": "@jupyter-widgets/base",
            "overflow": null,
            "_model_module_version": "1.2.0",
            "_view_count": null,
            "flex_flow": null,
            "width": null,
            "min_width": null,
            "border": null,
            "align_items": null,
            "bottom": null,
            "_model_module": "@jupyter-widgets/base",
            "top": null,
            "grid_column": null,
            "overflow_y": null,
            "overflow_x": null,
            "grid_auto_flow": null,
            "grid_area": null,
            "grid_template_columns": null,
            "flex": null,
            "_model_name": "LayoutModel",
            "justify_items": null,
            "grid_row": null,
            "max_height": null,
            "align_content": null,
            "visibility": null,
            "align_self": null,
            "height": null,
            "min_height": null,
            "padding": null,
            "grid_auto_rows": null,
            "grid_gap": null,
            "max_width": null,
            "order": null,
            "_view_module_version": "1.2.0",
            "grid_template_areas": null,
            "object_position": null,
            "object_fit": null,
            "grid_auto_columns": null,
            "margin": null,
            "display": null,
            "left": null
          }
        },
        "f87f398ef70a47539688708b15abfbc8": {
          "model_module": "@jupyter-widgets/controls",
          "model_name": "VBoxModel",
          "state": {
            "_view_name": "VBoxView",
            "_dom_classes": [],
            "_model_name": "VBoxModel",
            "_view_module": "@jupyter-widgets/controls",
            "_model_module_version": "1.5.0",
            "_view_count": null,
            "_view_module_version": "1.5.0",
            "box_style": "",
            "layout": "IPY_MODEL_3900c3d49ec44516ac7693935b1546d1",
            "_model_module": "@jupyter-widgets/controls",
            "children": [
              "IPY_MODEL_a045a020c57c40039efc9f2faaf2e59c",
              "IPY_MODEL_c672d10ea9e947f4841451c268306076"
            ]
          }
        },
        "3900c3d49ec44516ac7693935b1546d1": {
          "model_module": "@jupyter-widgets/base",
          "model_name": "LayoutModel",
          "state": {
            "_view_name": "LayoutView",
            "grid_template_rows": null,
            "right": null,
            "justify_content": null,
            "_view_module": "@jupyter-widgets/base",
            "overflow": null,
            "_model_module_version": "1.2.0",
            "_view_count": null,
            "flex_flow": null,
            "width": null,
            "min_width": null,
            "border": null,
            "align_items": null,
            "bottom": null,
            "_model_module": "@jupyter-widgets/base",
            "top": null,
            "grid_column": null,
            "overflow_y": null,
            "overflow_x": null,
            "grid_auto_flow": null,
            "grid_area": null,
            "grid_template_columns": null,
            "flex": null,
            "_model_name": "LayoutModel",
            "justify_items": null,
            "grid_row": null,
            "max_height": null,
            "align_content": null,
            "visibility": null,
            "align_self": null,
            "height": null,
            "min_height": null,
            "padding": null,
            "grid_auto_rows": null,
            "grid_gap": null,
            "max_width": null,
            "order": null,
            "_view_module_version": "1.2.0",
            "grid_template_areas": null,
            "object_position": null,
            "object_fit": null,
            "grid_auto_columns": null,
            "margin": null,
            "display": null,
            "left": null
          }
        },
        "a045a020c57c40039efc9f2faaf2e59c": {
          "model_module": "@jupyter-widgets/controls",
          "model_name": "LabelModel",
          "state": {
            "_view_name": "LabelView",
            "style": "IPY_MODEL_2fce9d5c889b4202a2d476b737076fb8",
            "_dom_classes": [],
            "description": "",
            "_model_name": "LabelModel",
            "placeholder": "​",
            "_view_module": "@jupyter-widgets/controls",
            "_model_module_version": "1.5.0",
            "value": " 0.01MB of 0.01MB uploaded (0.00MB deduped)\r",
            "_view_count": null,
            "_view_module_version": "1.5.0",
            "description_tooltip": null,
            "_model_module": "@jupyter-widgets/controls",
            "layout": "IPY_MODEL_16ee7a04de8b47b7afc4dd4adf1757d9"
          }
        },
        "c672d10ea9e947f4841451c268306076": {
          "model_module": "@jupyter-widgets/controls",
          "model_name": "FloatProgressModel",
          "state": {
            "_view_name": "ProgressView",
            "style": "IPY_MODEL_6cd63d1f9c4c4b50bb9ad9545aa27246",
            "_dom_classes": [],
            "description": "",
            "_model_name": "FloatProgressModel",
            "bar_style": "",
            "max": 1,
            "_view_module": "@jupyter-widgets/controls",
            "_model_module_version": "1.5.0",
            "value": 1,
            "_view_count": null,
            "_view_module_version": "1.5.0",
            "orientation": "horizontal",
            "min": 0,
            "description_tooltip": null,
            "_model_module": "@jupyter-widgets/controls",
            "layout": "IPY_MODEL_529d08f5f0f14725b4677c648bb55f8a"
          }
        },
        "2fce9d5c889b4202a2d476b737076fb8": {
          "model_module": "@jupyter-widgets/controls",
          "model_name": "DescriptionStyleModel",
          "state": {
            "_view_name": "StyleView",
            "_model_name": "DescriptionStyleModel",
            "description_width": "",
            "_view_module": "@jupyter-widgets/base",
            "_model_module_version": "1.5.0",
            "_view_count": null,
            "_view_module_version": "1.2.0",
            "_model_module": "@jupyter-widgets/controls"
          }
        },
        "16ee7a04de8b47b7afc4dd4adf1757d9": {
          "model_module": "@jupyter-widgets/base",
          "model_name": "LayoutModel",
          "state": {
            "_view_name": "LayoutView",
            "grid_template_rows": null,
            "right": null,
            "justify_content": null,
            "_view_module": "@jupyter-widgets/base",
            "overflow": null,
            "_model_module_version": "1.2.0",
            "_view_count": null,
            "flex_flow": null,
            "width": null,
            "min_width": null,
            "border": null,
            "align_items": null,
            "bottom": null,
            "_model_module": "@jupyter-widgets/base",
            "top": null,
            "grid_column": null,
            "overflow_y": null,
            "overflow_x": null,
            "grid_auto_flow": null,
            "grid_area": null,
            "grid_template_columns": null,
            "flex": null,
            "_model_name": "LayoutModel",
            "justify_items": null,
            "grid_row": null,
            "max_height": null,
            "align_content": null,
            "visibility": null,
            "align_self": null,
            "height": null,
            "min_height": null,
            "padding": null,
            "grid_auto_rows": null,
            "grid_gap": null,
            "max_width": null,
            "order": null,
            "_view_module_version": "1.2.0",
            "grid_template_areas": null,
            "object_position": null,
            "object_fit": null,
            "grid_auto_columns": null,
            "margin": null,
            "display": null,
            "left": null
          }
        },
        "6cd63d1f9c4c4b50bb9ad9545aa27246": {
          "model_module": "@jupyter-widgets/controls",
          "model_name": "ProgressStyleModel",
          "state": {
            "_view_name": "StyleView",
            "_model_name": "ProgressStyleModel",
            "description_width": "",
            "_view_module": "@jupyter-widgets/base",
            "_model_module_version": "1.5.0",
            "_view_count": null,
            "_view_module_version": "1.2.0",
            "bar_color": null,
            "_model_module": "@jupyter-widgets/controls"
          }
        },
        "529d08f5f0f14725b4677c648bb55f8a": {
          "model_module": "@jupyter-widgets/base",
          "model_name": "LayoutModel",
          "state": {
            "_view_name": "LayoutView",
            "grid_template_rows": null,
            "right": null,
            "justify_content": null,
            "_view_module": "@jupyter-widgets/base",
            "overflow": null,
            "_model_module_version": "1.2.0",
            "_view_count": null,
            "flex_flow": null,
            "width": null,
            "min_width": null,
            "border": null,
            "align_items": null,
            "bottom": null,
            "_model_module": "@jupyter-widgets/base",
            "top": null,
            "grid_column": null,
            "overflow_y": null,
            "overflow_x": null,
            "grid_auto_flow": null,
            "grid_area": null,
            "grid_template_columns": null,
            "flex": null,
            "_model_name": "LayoutModel",
            "justify_items": null,
            "grid_row": null,
            "max_height": null,
            "align_content": null,
            "visibility": null,
            "align_self": null,
            "height": null,
            "min_height": null,
            "padding": null,
            "grid_auto_rows": null,
            "grid_gap": null,
            "max_width": null,
            "order": null,
            "_view_module_version": "1.2.0",
            "grid_template_areas": null,
            "object_position": null,
            "object_fit": null,
            "grid_auto_columns": null,
            "margin": null,
            "display": null,
            "left": null
          }
        }
      }
    }
  },
  "cells": [
    {
      "cell_type": "markdown",
      "metadata": {
        "id": "view-in-github",
        "colab_type": "text"
      },
      "source": [
        "<a href=\"https://colab.research.google.com/github/silverstar0727/pragmatism-AI/blob/main/W%26B_keras_sweep.ipynb\" target=\"_parent\"><img src=\"https://colab.research.google.com/assets/colab-badge.svg\" alt=\"Open In Colab\"/></a>"
      ]
    },
    {
      "cell_type": "code",
      "metadata": {
        "colab": {
          "base_uri": "https://localhost:8080/"
        },
        "id": "g6CVrKhnCsFa",
        "outputId": "fd516beb-fe20-471a-f25f-949dbf683494"
      },
      "source": [
        "!pip install wandb -q"
      ],
      "execution_count": 1,
      "outputs": [
        {
          "output_type": "stream",
          "text": [
            "\u001b[K     |████████████████████████████████| 1.8MB 4.3MB/s \n",
            "\u001b[K     |████████████████████████████████| 102kB 13.8MB/s \n",
            "\u001b[K     |████████████████████████████████| 143kB 50.3MB/s \n",
            "\u001b[K     |████████████████████████████████| 143kB 50.1MB/s \n",
            "\u001b[K     |████████████████████████████████| 174kB 46.6MB/s \n",
            "\u001b[K     |████████████████████████████████| 71kB 9.4MB/s \n",
            "\u001b[?25h  Building wheel for subprocess32 (setup.py) ... \u001b[?25l\u001b[?25hdone\n",
            "  Building wheel for pathtools (setup.py) ... \u001b[?25l\u001b[?25hdone\n",
            "\u001b[31mERROR: requests 2.23.0 has requirement urllib3!=1.25.0,!=1.25.1,<1.26,>=1.21.1, but you'll have urllib3 1.26.6 which is incompatible.\u001b[0m\n",
            "\u001b[31mERROR: datascience 0.10.6 has requirement folium==0.2.1, but you'll have folium 0.8.3 which is incompatible.\u001b[0m\n"
          ],
          "name": "stdout"
        }
      ]
    },
    {
      "cell_type": "code",
      "metadata": {
        "colab": {
          "base_uri": "https://localhost:8080/"
        },
        "id": "Wolfsk6eCmP0",
        "outputId": "d2ff20a5-afee-47b0-a50b-b76c9e1b8d27"
      },
      "source": [
        "import tensorflow as tf\n",
        "from tensorflow import keras\n",
        "from tensorflow.keras.layers import *\n",
        "from tensorflow.keras.optimizers import *\n",
        "from tensorflow.keras.datasets import cifar10\n",
        "\n",
        "import os\n",
        "import numpy as np\n",
        "import pandas as pd\n",
        "import matplotlib.pyplot as plt\n",
        "\n",
        "import wandb\n",
        "from wandb.keras import WandbCallback"
      ],
      "execution_count": 2,
      "outputs": [
        {
          "output_type": "stream",
          "text": [
            "/usr/local/lib/python3.7/dist-packages/requests/__init__.py:91: RequestsDependencyWarning: urllib3 (1.26.6) or chardet (3.0.4) doesn't match a supported version!\n",
            "  RequestsDependencyWarning)\n"
          ],
          "name": "stderr"
        }
      ]
    },
    {
      "cell_type": "code",
      "metadata": {
        "colab": {
          "base_uri": "https://localhost:8080/",
          "height": 68
        },
        "id": "pC_dQIIJCmMK",
        "outputId": "bc8e6c52-dd29-4d86-cccb-c0c9a84059b7"
      },
      "source": [
        "wandb.login()"
      ],
      "execution_count": 3,
      "outputs": [
        {
          "output_type": "display_data",
          "data": {
            "application/javascript": [
              "\n",
              "        window._wandbApiKey = new Promise((resolve, reject) => {\n",
              "            function loadScript(url) {\n",
              "            return new Promise(function(resolve, reject) {\n",
              "                let newScript = document.createElement(\"script\");\n",
              "                newScript.onerror = reject;\n",
              "                newScript.onload = resolve;\n",
              "                document.body.appendChild(newScript);\n",
              "                newScript.src = url;\n",
              "            });\n",
              "            }\n",
              "            loadScript(\"https://cdn.jsdelivr.net/npm/postmate/build/postmate.min.js\").then(() => {\n",
              "            const iframe = document.createElement('iframe')\n",
              "            iframe.style.cssText = \"width:0;height:0;border:none\"\n",
              "            document.body.appendChild(iframe)\n",
              "            const handshake = new Postmate({\n",
              "                container: iframe,\n",
              "                url: 'https://wandb.ai/authorize'\n",
              "            });\n",
              "            const timeout = setTimeout(() => reject(\"Couldn't auto authenticate\"), 5000)\n",
              "            handshake.then(function(child) {\n",
              "                child.on('authorize', data => {\n",
              "                    clearTimeout(timeout)\n",
              "                    resolve(data)\n",
              "                });\n",
              "            });\n",
              "            })\n",
              "        });\n",
              "    "
            ],
            "text/plain": [
              "<IPython.core.display.Javascript object>"
            ]
          },
          "metadata": {
            "tags": []
          }
        },
        {
          "output_type": "stream",
          "text": [
            "\u001b[34m\u001b[1mwandb\u001b[0m: Appending key for api.wandb.ai to your netrc file: /root/.netrc\n"
          ],
          "name": "stderr"
        },
        {
          "output_type": "execute_result",
          "data": {
            "text/plain": [
              "True"
            ]
          },
          "metadata": {
            "tags": []
          },
          "execution_count": 3
        }
      ]
    },
    {
      "cell_type": "code",
      "metadata": {
        "colab": {
          "base_uri": "https://localhost:8080/"
        },
        "id": "f1erdQjoC0av",
        "outputId": "4f75e04c-505d-48e8-f9e6-91561e7006d3"
      },
      "source": [
        "mnist = tf.keras.datasets.mnist\n",
        "\n",
        "(x_train, y_train), (x_test, y_test) = mnist.load_data()\n",
        "x_train, x_test = x_train / 255.0, x_test / 255.0"
      ],
      "execution_count": 4,
      "outputs": [
        {
          "output_type": "stream",
          "text": [
            "Downloading data from https://storage.googleapis.com/tensorflow/tf-keras-datasets/mnist.npz\n",
            "11493376/11490434 [==============================] - 0s 0us/step\n"
          ],
          "name": "stdout"
        }
      ]
    },
    {
      "cell_type": "code",
      "metadata": {
        "id": "IEXK2YSlC0W1"
      },
      "source": [
        "AUTO = tf.data.experimental.AUTOTUNE\n",
        "IMG_SHAPE = 32\n",
        "CHANNELS = 3\n",
        "NUM_CLASSES = 10\n",
        "VAL_BATCH_SIZE = 64"
      ],
      "execution_count": 5,
      "outputs": []
    },
    {
      "cell_type": "code",
      "metadata": {
        "id": "H0el0s7RShn6"
      },
      "source": [
        "class Model(tf.keras.Model):\n",
        "    def __init__(self):\n",
        "        super(Model, self).__init__()\n",
        "        self.flatten = tf.keras.layers.Flatten(input_shape=(28, 28))\n",
        "        self.linear1 = tf.keras.layers.Dense(128, activation='relu')\n",
        "        self.dropout = tf.keras.layers.Dropout(0.2)\n",
        "        self.linear2 = tf.keras.layers.Dense(10, activation='softmax')\n",
        "\n",
        "    def call(self, x):\n",
        "        x = self.flatten(x)\n",
        "        x = self.linear1(x)\n",
        "        x = self.dropout(x)\n",
        "        x = self.linear2(x)\n",
        "\n",
        "        return x"
      ],
      "execution_count": 6,
      "outputs": []
    },
    {
      "cell_type": "code",
      "metadata": {
        "id": "Qggq4Q4cCmJ7"
      },
      "source": [
        "def train():\n",
        "    # Specify the hyperparameter to be tuned along with\n",
        "    # an initial value\n",
        "    config_defaults = {\n",
        "        'batch_size': 8,\n",
        "        'learning_rate': 0.01\n",
        "    }\n",
        "\n",
        "    # Initialize wandb with a sample project name\n",
        "    wandb.init(config=config_defaults)\n",
        "\n",
        "    # Specify the other hyperparameters to the configuration, if any\n",
        "    wandb.config.epochs = 25\n",
        "\n",
        "    # Prepare trainloader\n",
        "    trainloader = tf.data.Dataset.from_tensor_slices((x_train, y_train))\n",
        "    trainloader = trainloader.shuffle(1024).batch(wandb.config.batch_size).prefetch(tf.data.experimental.AUTOTUNE)\n",
        "    # prepare testloader \n",
        "    testloader = tf.data.Dataset.from_tensor_slices((x_test, y_test))\n",
        "    testloader = testloader.batch(wandb.config.batch_size).prefetch(tf.data.experimental.AUTOTUNE)\n",
        "\n",
        "    # Iniialize model with hyperparameters\n",
        "    keras.backend.clear_session()\n",
        "    \n",
        "    model = Model()\n",
        "\n",
        "    # Compile the model\n",
        "    opt = tf.keras.optimizers.Adam(learning_rate=wandb.config.learning_rate) # optimizer with different learning rate specified by config\n",
        "    model.compile(opt, 'sparse_categorical_crossentropy', metrics=['acc'])\n",
        "    \n",
        "    # Train the model\n",
        "    _ = model.fit(trainloader,\n",
        "                  epochs=wandb.config.epochs, \n",
        "                  validation_data=testloader,\n",
        "                  callbacks=[WandbCallback()]) # WandbCallback to automatically track metrics\n",
        "                            \n",
        "    # Evaluate    \n",
        "    loss, accuracy = model.evaluate(testloader, callbacks=[WandbCallback()])\n",
        "    print('Test Error Rate: ', round((1-accuracy)*100, 2))\n",
        "    wandb.log({'Test Error Rate': round((1-accuracy)*100, 2)}) # wandb.log to track custom metrics"
      ],
      "execution_count": 7,
      "outputs": []
    },
    {
      "cell_type": "code",
      "metadata": {
        "id": "yD2s3qpECmHv"
      },
      "source": [
        "sweep_config = {\n",
        "  'method': 'bayes', \n",
        "  'metric': {\n",
        "      'name': 'val_loss',\n",
        "      'goal': 'minimize'\n",
        "  },\n",
        "  'early_terminate':{\n",
        "      'type': 'hyperband',\n",
        "      'min_iter': 5\n",
        "  },\n",
        "  'parameters': {\n",
        "      'batch_size': {\n",
        "          'values': [8, 16, 32, 64, 128, 256]\n",
        "      },\n",
        "      'learning_rate':{\n",
        "          'values': [0.01, 0.005, 0.001, 0.0005, 0.0001]\n",
        "      }\n",
        "  }\n",
        "}"
      ],
      "execution_count": 8,
      "outputs": []
    },
    {
      "cell_type": "code",
      "metadata": {
        "colab": {
          "base_uri": "https://localhost:8080/"
        },
        "id": "vLcrjfOQCmFW",
        "outputId": "a223fe84-d932-431b-8094-4d5f40466e8f"
      },
      "source": [
        "sweep_id = wandb.sweep(sweep_config, project=\"abc\")"
      ],
      "execution_count": 9,
      "outputs": [
        {
          "output_type": "stream",
          "text": [
            "Create sweep with ID: 4936c6nf\n",
            "Sweep URL: https://wandb.ai/jeongmin/abc/sweeps/4936c6nf\n"
          ],
          "name": "stdout"
        }
      ]
    },
    {
      "cell_type": "code",
      "metadata": {
        "colab": {
          "base_uri": "https://localhost:8080/",
          "height": 1000,
          "referenced_widgets": [
            "99a4c7afafe6410691f2de8b9ce85eab",
            "0be9aa1b443747189b3545186cfcc0eb",
            "ff0ce40cbc844fd490b16caaffcdeb91",
            "a22b81f6b44a48da94c3b59106c1c745",
            "bdcc7c5e9a8842258235070973889ccd",
            "57958769c95e44979e7c8bb17f09af8e",
            "87a50097ad0041b9984adf556a5e78b3",
            "1a5364163edf41faaf3776bfdda0646a",
            "7020c935434b42b4a2ce56e53b9626da",
            "a355fdaede3b4541905a8ef0ed943399",
            "d0f6c3771ef24a4ea2c90c37f1549257",
            "74f1b0c48fee444ead214200f26d9c57",
            "e930d33d66c64b8aac9d2a8add9c1819",
            "6700099687714439b964f8c7d3c5abee",
            "dc241c741626426c901d7fcfff39052e",
            "a0b6e942b8544186a350fec57c2d4502",
            "594fe128562f43c598b37605c73db934",
            "a2fa26a595cd471eaecaa6daf353bd8a",
            "5764aacf6baf4a9290ba2d7d17791571",
            "97b9917850654250a4038c216cd3224d",
            "55a5f7017ed44064ad823c7a6f2784da",
            "d2b5be604b2641f9b8e8ec480fca1056",
            "01999010692f476f9075d7593f324026",
            "f597ad23408b425981f6bbb3a940ee07",
            "f87f398ef70a47539688708b15abfbc8",
            "3900c3d49ec44516ac7693935b1546d1",
            "a045a020c57c40039efc9f2faaf2e59c",
            "c672d10ea9e947f4841451c268306076",
            "2fce9d5c889b4202a2d476b737076fb8",
            "16ee7a04de8b47b7afc4dd4adf1757d9",
            "6cd63d1f9c4c4b50bb9ad9545aa27246",
            "529d08f5f0f14725b4677c648bb55f8a"
          ]
        },
        "id": "ScAcOXSiCmDJ",
        "outputId": "ecf01cf2-683d-476c-c0c2-d99ca29c8179"
      },
      "source": [
        "wandb.agent(sweep_id, function=train)"
      ],
      "execution_count": 10,
      "outputs": [
        {
          "output_type": "stream",
          "text": [
            "\u001b[34m\u001b[1mwandb\u001b[0m: Sweep Agent: Waiting for job.\n",
            "\u001b[34m\u001b[1mwandb\u001b[0m: Job received.\n",
            "\u001b[34m\u001b[1mwandb\u001b[0m: Agent Starting Run: ihps7vb5 with config:\n",
            "\u001b[34m\u001b[1mwandb\u001b[0m: \tbatch_size: 32\n",
            "\u001b[34m\u001b[1mwandb\u001b[0m: \tlearning_rate: 0.001\n",
            "\u001b[34m\u001b[1mwandb\u001b[0m: Currently logged in as: \u001b[33mjeongmin\u001b[0m (use `wandb login --relogin` to force relogin)\n"
          ],
          "name": "stderr"
        },
        {
          "output_type": "display_data",
          "data": {
            "text/html": [
              "\n",
              "                Tracking run with wandb version 0.11.0<br/>\n",
              "                Syncing run <strong style=\"color:#cdcd00\">efficient-sweep-1</strong> to <a href=\"https://wandb.ai\" target=\"_blank\">Weights & Biases</a> <a href=\"https://docs.wandb.com/integrations/jupyter.html\" target=\"_blank\">(Documentation)</a>.<br/>\n",
              "                Project page: <a href=\"https://wandb.ai/jeongmin/abc\" target=\"_blank\">https://wandb.ai/jeongmin/abc</a><br/>\n",
              "                Sweep page: <a href=\"https://wandb.ai/jeongmin/abc/sweeps/4936c6nf\" target=\"_blank\">https://wandb.ai/jeongmin/abc/sweeps/4936c6nf</a><br/>\n",
              "Run page: <a href=\"https://wandb.ai/jeongmin/abc/runs/ihps7vb5\" target=\"_blank\">https://wandb.ai/jeongmin/abc/runs/ihps7vb5</a><br/>\n",
              "                Run data is saved locally in <code>/content/wandb/run-20210719_105100-ihps7vb5</code><br/><br/>\n",
              "            "
            ],
            "text/plain": [
              "<IPython.core.display.HTML object>"
            ]
          },
          "metadata": {
            "tags": []
          }
        },
        {
          "output_type": "stream",
          "text": [
            "Epoch 1/25\n",
            "1875/1875 [==============================] - 6s 2ms/step - loss: 0.2879 - acc: 0.9173 - val_loss: 0.1325 - val_acc: 0.9594\n"
          ],
          "name": "stdout"
        },
        {
          "output_type": "stream",
          "text": [
            "\u001b[34m\u001b[1mwandb\u001b[0m: \u001b[32m\u001b[41mERROR\u001b[0m Can't save model, h5py returned error: Saving the model to HDF5 format requires the model to be a Functional model or a Sequential model. It does not work for subclassed models, because such models are defined via the body of a Python method, which isn't safely serializable. Consider saving to the Tensorflow SavedModel format (by setting save_format=\"tf\") or using `save_weights`.\n"
          ],
          "name": "stderr"
        },
        {
          "output_type": "stream",
          "text": [
            "Epoch 2/25\n",
            "1875/1875 [==============================] - 4s 2ms/step - loss: 0.1385 - acc: 0.9588 - val_loss: 0.0992 - val_acc: 0.9701\n",
            "Epoch 3/25\n",
            "1875/1875 [==============================] - 4s 2ms/step - loss: 0.1033 - acc: 0.9685 - val_loss: 0.0852 - val_acc: 0.9741\n",
            "Epoch 4/25\n",
            "1875/1875 [==============================] - 4s 2ms/step - loss: 0.0853 - acc: 0.9742 - val_loss: 0.0775 - val_acc: 0.9757\n",
            "Epoch 5/25\n",
            "1875/1875 [==============================] - 4s 2ms/step - loss: 0.0723 - acc: 0.9766 - val_loss: 0.0721 - val_acc: 0.9769\n",
            "Epoch 6/25\n",
            "1875/1875 [==============================] - 4s 2ms/step - loss: 0.0649 - acc: 0.9793 - val_loss: 0.0769 - val_acc: 0.9765\n",
            "Epoch 7/25\n",
            "1875/1875 [==============================] - 4s 2ms/step - loss: 0.0555 - acc: 0.9819 - val_loss: 0.0677 - val_acc: 0.9787\n",
            "Epoch 8/25\n",
            "1875/1875 [==============================] - 4s 2ms/step - loss: 0.0516 - acc: 0.9826 - val_loss: 0.0730 - val_acc: 0.9773\n",
            "Epoch 9/25\n",
            "1875/1875 [==============================] - 4s 2ms/step - loss: 0.0471 - acc: 0.9847 - val_loss: 0.0676 - val_acc: 0.9796\n",
            "Epoch 10/25\n",
            "1875/1875 [==============================] - 4s 2ms/step - loss: 0.0425 - acc: 0.9854 - val_loss: 0.0654 - val_acc: 0.9812\n",
            "Epoch 11/25\n",
            "1875/1875 [==============================] - 4s 2ms/step - loss: 0.0396 - acc: 0.9870 - val_loss: 0.0712 - val_acc: 0.9790\n",
            "Epoch 12/25\n",
            "1875/1875 [==============================] - 5s 2ms/step - loss: 0.0392 - acc: 0.9869 - val_loss: 0.0687 - val_acc: 0.9795\n",
            "Epoch 13/25\n",
            "1875/1875 [==============================] - 5s 2ms/step - loss: 0.0345 - acc: 0.9885 - val_loss: 0.0685 - val_acc: 0.9817\n",
            "Epoch 14/25\n",
            "1875/1875 [==============================] - 5s 2ms/step - loss: 0.0329 - acc: 0.9886 - val_loss: 0.0825 - val_acc: 0.9770\n",
            "Epoch 15/25\n",
            "1875/1875 [==============================] - 4s 2ms/step - loss: 0.0326 - acc: 0.9889 - val_loss: 0.0724 - val_acc: 0.9813\n",
            "Epoch 16/25\n",
            "1875/1875 [==============================] - 4s 2ms/step - loss: 0.0315 - acc: 0.9897 - val_loss: 0.0732 - val_acc: 0.9791\n",
            "Epoch 17/25\n",
            "1875/1875 [==============================] - 4s 2ms/step - loss: 0.0287 - acc: 0.9903 - val_loss: 0.0789 - val_acc: 0.9798\n",
            "Epoch 18/25\n",
            "1875/1875 [==============================] - 4s 2ms/step - loss: 0.0266 - acc: 0.9906 - val_loss: 0.0791 - val_acc: 0.9800\n",
            "Epoch 19/25\n",
            "1875/1875 [==============================] - 4s 2ms/step - loss: 0.0272 - acc: 0.9906 - val_loss: 0.0764 - val_acc: 0.9811\n",
            "Epoch 20/25\n",
            "1875/1875 [==============================] - 4s 2ms/step - loss: 0.0253 - acc: 0.9912 - val_loss: 0.0808 - val_acc: 0.9787\n",
            "Epoch 21/25\n",
            "1875/1875 [==============================] - 4s 2ms/step - loss: 0.0230 - acc: 0.9921 - val_loss: 0.0801 - val_acc: 0.9807\n",
            "Epoch 22/25\n",
            "1875/1875 [==============================] - 4s 2ms/step - loss: 0.0227 - acc: 0.9922 - val_loss: 0.0874 - val_acc: 0.9797\n",
            "Epoch 23/25\n",
            "1875/1875 [==============================] - 4s 2ms/step - loss: 0.0219 - acc: 0.9923 - val_loss: 0.0844 - val_acc: 0.9797\n",
            "Epoch 24/25\n",
            "1875/1875 [==============================] - 4s 2ms/step - loss: 0.0239 - acc: 0.9920 - val_loss: 0.0830 - val_acc: 0.9815\n",
            "Epoch 25/25\n",
            "1875/1875 [==============================] - 4s 2ms/step - loss: 0.0226 - acc: 0.9923 - val_loss: 0.0845 - val_acc: 0.9808\n",
            "313/313 [==============================] - 1s 2ms/step - loss: 0.0845 - acc: 0.9808\n",
            "Test Error Rate:  1.92\n"
          ],
          "name": "stdout"
        },
        {
          "output_type": "display_data",
          "data": {
            "text/html": [
              "<br/>Waiting for W&B process to finish, PID 151<br/>Program ended successfully."
            ],
            "text/plain": [
              "<IPython.core.display.HTML object>"
            ]
          },
          "metadata": {
            "tags": []
          }
        },
        {
          "output_type": "display_data",
          "data": {
            "application/vnd.jupyter.widget-view+json": {
              "model_id": "99a4c7afafe6410691f2de8b9ce85eab",
              "version_minor": 0,
              "version_major": 2
            },
            "text/plain": [
              "VBox(children=(Label(value=' 0.00MB of 0.00MB uploaded (0.00MB deduped)\\r'), FloatProgress(value=1.0, max=1.0)…"
            ]
          },
          "metadata": {
            "tags": []
          }
        },
        {
          "output_type": "display_data",
          "data": {
            "text/html": [
              "Find user logs for this run at: <code>/content/wandb/run-20210719_105100-ihps7vb5/logs/debug.log</code>"
            ],
            "text/plain": [
              "<IPython.core.display.HTML object>"
            ]
          },
          "metadata": {
            "tags": []
          }
        },
        {
          "output_type": "display_data",
          "data": {
            "text/html": [
              "Find internal logs for this run at: <code>/content/wandb/run-20210719_105100-ihps7vb5/logs/debug-internal.log</code>"
            ],
            "text/plain": [
              "<IPython.core.display.HTML object>"
            ]
          },
          "metadata": {
            "tags": []
          }
        },
        {
          "output_type": "display_data",
          "data": {
            "text/html": [
              "<h3>Run summary:</h3><br/><style>\n",
              "    table.wandb td:nth-child(1) { padding: 0 10px; text-align: right }\n",
              "    </style><table class=\"wandb\">\n",
              "<tr><td>epoch</td><td>24</td></tr><tr><td>loss</td><td>0.02255</td></tr><tr><td>acc</td><td>0.9923</td></tr><tr><td>val_loss</td><td>0.08446</td></tr><tr><td>val_acc</td><td>0.9808</td></tr><tr><td>_runtime</td><td>127</td></tr><tr><td>_timestamp</td><td>1626691987</td></tr><tr><td>_step</td><td>25</td></tr><tr><td>best_val_loss</td><td>0.06539</td></tr><tr><td>best_epoch</td><td>9</td></tr><tr><td>Test Error Rate</td><td>1.92</td></tr></table>"
            ],
            "text/plain": [
              "<IPython.core.display.HTML object>"
            ]
          },
          "metadata": {
            "tags": []
          }
        },
        {
          "output_type": "display_data",
          "data": {
            "text/html": [
              "<h3>Run history:</h3><br/><style>\n",
              "    table.wandb td:nth-child(1) { padding: 0 10px; text-align: right }\n",
              "    </style><table class=\"wandb\">\n",
              "<tr><td>epoch</td><td>▁▁▂▂▂▂▃▃▃▄▄▄▅▅▅▅▆▆▆▇▇▇▇██</td></tr><tr><td>loss</td><td>█▄▃▃▂▂▂▂▂▂▁▁▁▁▁▁▁▁▁▁▁▁▁▁▁</td></tr><tr><td>acc</td><td>▁▅▆▆▇▇▇▇▇▇█▇█████████████</td></tr><tr><td>val_loss</td><td>█▅▃▂▂▂▁▂▁▁▂▁▁▃▂▂▂▂▂▃▃▃▃▃▃</td></tr><tr><td>val_acc</td><td>▁▄▆▆▆▆▇▇▇█▇▇█▇█▇▇▇█▇█▇▇██</td></tr><tr><td>_runtime</td><td>▁▁▂▂▂▃▃▃▃▄▄▄▄▅▅▅▆▆▆▆▇▇▇███</td></tr><tr><td>_timestamp</td><td>▁▁▂▂▂▃▃▃▃▄▄▄▄▅▅▅▆▆▆▆▇▇▇███</td></tr><tr><td>_step</td><td>▁▁▂▂▂▂▃▃▃▄▄▄▄▅▅▅▅▆▆▆▇▇▇▇██</td></tr><tr><td>Test Error Rate</td><td>▁</td></tr></table><br/>"
            ],
            "text/plain": [
              "<IPython.core.display.HTML object>"
            ]
          },
          "metadata": {
            "tags": []
          }
        },
        {
          "output_type": "display_data",
          "data": {
            "text/html": [
              "Synced 5 W&B file(s), 1 media file(s), 0 artifact file(s) and 0 other file(s)"
            ],
            "text/plain": [
              "<IPython.core.display.HTML object>"
            ]
          },
          "metadata": {
            "tags": []
          }
        },
        {
          "output_type": "display_data",
          "data": {
            "text/html": [
              "\n",
              "                    <br/>Synced <strong style=\"color:#cdcd00\">efficient-sweep-1</strong>: <a href=\"https://wandb.ai/jeongmin/abc/runs/ihps7vb5\" target=\"_blank\">https://wandb.ai/jeongmin/abc/runs/ihps7vb5</a><br/>\n",
              "                "
            ],
            "text/plain": [
              "<IPython.core.display.HTML object>"
            ]
          },
          "metadata": {
            "tags": []
          }
        },
        {
          "output_type": "stream",
          "text": [
            "\u001b[34m\u001b[1mwandb\u001b[0m: Sweep Agent: Waiting for job.\n",
            "\u001b[34m\u001b[1mwandb\u001b[0m: Job received.\n",
            "\u001b[34m\u001b[1mwandb\u001b[0m: Agent Starting Run: gzq4d82u with config:\n",
            "\u001b[34m\u001b[1mwandb\u001b[0m: \tbatch_size: 16\n",
            "\u001b[34m\u001b[1mwandb\u001b[0m: \tlearning_rate: 0.0005\n"
          ],
          "name": "stderr"
        },
        {
          "output_type": "display_data",
          "data": {
            "text/html": [
              "\n",
              "                Tracking run with wandb version 0.11.0<br/>\n",
              "                Syncing run <strong style=\"color:#cdcd00\">jumping-sweep-2</strong> to <a href=\"https://wandb.ai\" target=\"_blank\">Weights & Biases</a> <a href=\"https://docs.wandb.com/integrations/jupyter.html\" target=\"_blank\">(Documentation)</a>.<br/>\n",
              "                Project page: <a href=\"https://wandb.ai/jeongmin/abc\" target=\"_blank\">https://wandb.ai/jeongmin/abc</a><br/>\n",
              "                Sweep page: <a href=\"https://wandb.ai/jeongmin/abc/sweeps/4936c6nf\" target=\"_blank\">https://wandb.ai/jeongmin/abc/sweeps/4936c6nf</a><br/>\n",
              "Run page: <a href=\"https://wandb.ai/jeongmin/abc/runs/gzq4d82u\" target=\"_blank\">https://wandb.ai/jeongmin/abc/runs/gzq4d82u</a><br/>\n",
              "                Run data is saved locally in <code>/content/wandb/run-20210719_105333-gzq4d82u</code><br/><br/>\n",
              "            "
            ],
            "text/plain": [
              "<IPython.core.display.HTML object>"
            ]
          },
          "metadata": {
            "tags": []
          }
        },
        {
          "output_type": "stream",
          "text": [
            "Epoch 1/25\n",
            "3750/3750 [==============================] - 9s 2ms/step - loss: 0.3199 - acc: 0.9090 - val_loss: 0.1638 - val_acc: 0.9488\n"
          ],
          "name": "stdout"
        },
        {
          "output_type": "stream",
          "text": [
            "\u001b[34m\u001b[1mwandb\u001b[0m: \u001b[32m\u001b[41mERROR\u001b[0m Can't save model, h5py returned error: Saving the model to HDF5 format requires the model to be a Functional model or a Sequential model. It does not work for subclassed models, because such models are defined via the body of a Python method, which isn't safely serializable. Consider saving to the Tensorflow SavedModel format (by setting save_format=\"tf\") or using `save_weights`.\n"
          ],
          "name": "stderr"
        },
        {
          "output_type": "stream",
          "text": [
            "Epoch 2/25\n",
            "3750/3750 [==============================] - 9s 2ms/step - loss: 0.1553 - acc: 0.9550 - val_loss: 0.1144 - val_acc: 0.9627\n",
            "Epoch 3/25\n",
            "3750/3750 [==============================] - 9s 2ms/step - loss: 0.1155 - acc: 0.9658 - val_loss: 0.0920 - val_acc: 0.9720\n",
            "Epoch 4/25\n",
            "3750/3750 [==============================] - 8s 2ms/step - loss: 0.0928 - acc: 0.9722 - val_loss: 0.0820 - val_acc: 0.9739\n",
            "Epoch 5/25\n",
            "3750/3750 [==============================] - 8s 2ms/step - loss: 0.0788 - acc: 0.9758 - val_loss: 0.0786 - val_acc: 0.9757\n",
            "Epoch 6/25\n",
            "3750/3750 [==============================] - 8s 2ms/step - loss: 0.0689 - acc: 0.9791 - val_loss: 0.0754 - val_acc: 0.9769\n",
            "Epoch 7/25\n",
            "3750/3750 [==============================] - 8s 2ms/step - loss: 0.0601 - acc: 0.9815 - val_loss: 0.0701 - val_acc: 0.9785\n",
            "Epoch 8/25\n",
            "3750/3750 [==============================] - 8s 2ms/step - loss: 0.0538 - acc: 0.9833 - val_loss: 0.0679 - val_acc: 0.9790\n",
            "Epoch 9/25\n",
            "3750/3750 [==============================] - 9s 2ms/step - loss: 0.0473 - acc: 0.9847 - val_loss: 0.0704 - val_acc: 0.9788\n",
            "Epoch 10/25\n",
            "3750/3750 [==============================] - 9s 2ms/step - loss: 0.0448 - acc: 0.9854 - val_loss: 0.0721 - val_acc: 0.9785\n",
            "Epoch 11/25\n",
            "3750/3750 [==============================] - 8s 2ms/step - loss: 0.0419 - acc: 0.9862 - val_loss: 0.0700 - val_acc: 0.9789\n",
            "Epoch 12/25\n",
            "3750/3750 [==============================] - 8s 2ms/step - loss: 0.0368 - acc: 0.9885 - val_loss: 0.0672 - val_acc: 0.9809\n",
            "Epoch 13/25\n",
            "3750/3750 [==============================] - 8s 2ms/step - loss: 0.0361 - acc: 0.9875 - val_loss: 0.0727 - val_acc: 0.9788\n",
            "Epoch 14/25\n",
            "3750/3750 [==============================] - 8s 2ms/step - loss: 0.0332 - acc: 0.9887 - val_loss: 0.0742 - val_acc: 0.9797\n",
            "Epoch 15/25\n",
            "3750/3750 [==============================] - 8s 2ms/step - loss: 0.0322 - acc: 0.9891 - val_loss: 0.0724 - val_acc: 0.9803\n",
            "Epoch 16/25\n",
            "3750/3750 [==============================] - 8s 2ms/step - loss: 0.0292 - acc: 0.9907 - val_loss: 0.0732 - val_acc: 0.9809\n",
            "Epoch 17/25\n",
            "3750/3750 [==============================] - 9s 2ms/step - loss: 0.0287 - acc: 0.9905 - val_loss: 0.0713 - val_acc: 0.9819\n",
            "Epoch 18/25\n",
            "3750/3750 [==============================] - 8s 2ms/step - loss: 0.0272 - acc: 0.9907 - val_loss: 0.0726 - val_acc: 0.9818\n",
            "Epoch 19/25\n",
            "3750/3750 [==============================] - 8s 2ms/step - loss: 0.0253 - acc: 0.9915 - val_loss: 0.0698 - val_acc: 0.9818\n",
            "Epoch 20/25\n",
            "3750/3750 [==============================] - 8s 2ms/step - loss: 0.0241 - acc: 0.9917 - val_loss: 0.0744 - val_acc: 0.9814\n",
            "Epoch 21/25\n",
            "3750/3750 [==============================] - 8s 2ms/step - loss: 0.0233 - acc: 0.9917 - val_loss: 0.0796 - val_acc: 0.9816\n",
            "Epoch 22/25\n",
            "3750/3750 [==============================] - 8s 2ms/step - loss: 0.0229 - acc: 0.9919 - val_loss: 0.0776 - val_acc: 0.9823\n",
            "Epoch 23/25\n",
            "3750/3750 [==============================] - 9s 2ms/step - loss: 0.0224 - acc: 0.9922 - val_loss: 0.0784 - val_acc: 0.9800\n",
            "Epoch 24/25\n",
            "3750/3750 [==============================] - 9s 2ms/step - loss: 0.0204 - acc: 0.9928 - val_loss: 0.0767 - val_acc: 0.9819\n",
            "Epoch 25/25\n",
            "3750/3750 [==============================] - 8s 2ms/step - loss: 0.0195 - acc: 0.9931 - val_loss: 0.0746 - val_acc: 0.9825\n",
            "625/625 [==============================] - 1s 2ms/step - loss: 0.0746 - acc: 0.9825\n",
            "Test Error Rate:  1.75\n"
          ],
          "name": "stdout"
        },
        {
          "output_type": "display_data",
          "data": {
            "text/html": [
              "<br/>Waiting for W&B process to finish, PID 318<br/>Program ended successfully."
            ],
            "text/plain": [
              "<IPython.core.display.HTML object>"
            ]
          },
          "metadata": {
            "tags": []
          }
        },
        {
          "output_type": "display_data",
          "data": {
            "application/vnd.jupyter.widget-view+json": {
              "model_id": "7020c935434b42b4a2ce56e53b9626da",
              "version_minor": 0,
              "version_major": 2
            },
            "text/plain": [
              "VBox(children=(Label(value=' 0.00MB of 0.00MB uploaded (0.00MB deduped)\\r'), FloatProgress(value=1.0, max=1.0)…"
            ]
          },
          "metadata": {
            "tags": []
          }
        },
        {
          "output_type": "display_data",
          "data": {
            "text/html": [
              "Find user logs for this run at: <code>/content/wandb/run-20210719_105333-gzq4d82u/logs/debug.log</code>"
            ],
            "text/plain": [
              "<IPython.core.display.HTML object>"
            ]
          },
          "metadata": {
            "tags": []
          }
        },
        {
          "output_type": "display_data",
          "data": {
            "text/html": [
              "Find internal logs for this run at: <code>/content/wandb/run-20210719_105333-gzq4d82u/logs/debug-internal.log</code>"
            ],
            "text/plain": [
              "<IPython.core.display.HTML object>"
            ]
          },
          "metadata": {
            "tags": []
          }
        },
        {
          "output_type": "display_data",
          "data": {
            "text/html": [
              "<h3>Run summary:</h3><br/><style>\n",
              "    table.wandb td:nth-child(1) { padding: 0 10px; text-align: right }\n",
              "    </style><table class=\"wandb\">\n",
              "<tr><td>epoch</td><td>24</td></tr><tr><td>loss</td><td>0.01949</td></tr><tr><td>acc</td><td>0.99315</td></tr><tr><td>val_loss</td><td>0.07461</td></tr><tr><td>val_acc</td><td>0.9825</td></tr><tr><td>_runtime</td><td>234</td></tr><tr><td>_timestamp</td><td>1626692247</td></tr><tr><td>_step</td><td>25</td></tr><tr><td>best_val_loss</td><td>0.06721</td></tr><tr><td>best_epoch</td><td>11</td></tr><tr><td>Test Error Rate</td><td>1.75</td></tr></table>"
            ],
            "text/plain": [
              "<IPython.core.display.HTML object>"
            ]
          },
          "metadata": {
            "tags": []
          }
        },
        {
          "output_type": "display_data",
          "data": {
            "text/html": [
              "<h3>Run history:</h3><br/><style>\n",
              "    table.wandb td:nth-child(1) { padding: 0 10px; text-align: right }\n",
              "    </style><table class=\"wandb\">\n",
              "<tr><td>epoch</td><td>▁▁▂▂▂▂▃▃▃▄▄▄▅▅▅▅▆▆▆▇▇▇▇██</td></tr><tr><td>loss</td><td>█▄▃▃▂▂▂▂▂▂▂▁▁▁▁▁▁▁▁▁▁▁▁▁▁</td></tr><tr><td>acc</td><td>▁▅▆▆▇▇▇▇▇▇▇██████████████</td></tr><tr><td>val_loss</td><td>█▄▃▂▂▂▁▁▁▁▁▁▁▂▁▁▁▁▁▂▂▂▂▂▂</td></tr><tr><td>val_acc</td><td>▁▄▆▆▇▇▇▇▇▇▇█▇▇████████▇██</td></tr><tr><td>_runtime</td><td>▁▁▂▂▂▂▃▃▃▄▄▄▄▅▅▅▆▆▆▆▇▇▇███</td></tr><tr><td>_timestamp</td><td>▁▁▂▂▂▂▃▃▃▄▄▄▄▅▅▅▆▆▆▆▇▇▇███</td></tr><tr><td>_step</td><td>▁▁▂▂▂▂▃▃▃▄▄▄▄▅▅▅▅▆▆▆▇▇▇▇██</td></tr><tr><td>Test Error Rate</td><td>▁</td></tr></table><br/>"
            ],
            "text/plain": [
              "<IPython.core.display.HTML object>"
            ]
          },
          "metadata": {
            "tags": []
          }
        },
        {
          "output_type": "display_data",
          "data": {
            "text/html": [
              "Synced 5 W&B file(s), 1 media file(s), 0 artifact file(s) and 0 other file(s)"
            ],
            "text/plain": [
              "<IPython.core.display.HTML object>"
            ]
          },
          "metadata": {
            "tags": []
          }
        },
        {
          "output_type": "display_data",
          "data": {
            "text/html": [
              "\n",
              "                    <br/>Synced <strong style=\"color:#cdcd00\">jumping-sweep-2</strong>: <a href=\"https://wandb.ai/jeongmin/abc/runs/gzq4d82u\" target=\"_blank\">https://wandb.ai/jeongmin/abc/runs/gzq4d82u</a><br/>\n",
              "                "
            ],
            "text/plain": [
              "<IPython.core.display.HTML object>"
            ]
          },
          "metadata": {
            "tags": []
          }
        },
        {
          "output_type": "stream",
          "text": [
            "\u001b[34m\u001b[1mwandb\u001b[0m: Agent Starting Run: o6nc1wpr with config:\n",
            "\u001b[34m\u001b[1mwandb\u001b[0m: \tbatch_size: 128\n",
            "\u001b[34m\u001b[1mwandb\u001b[0m: \tlearning_rate: 0.001\n"
          ],
          "name": "stderr"
        },
        {
          "output_type": "display_data",
          "data": {
            "text/html": [
              "\n",
              "                Tracking run with wandb version 0.11.0<br/>\n",
              "                Syncing run <strong style=\"color:#cdcd00\">stellar-sweep-3</strong> to <a href=\"https://wandb.ai\" target=\"_blank\">Weights & Biases</a> <a href=\"https://docs.wandb.com/integrations/jupyter.html\" target=\"_blank\">(Documentation)</a>.<br/>\n",
              "                Project page: <a href=\"https://wandb.ai/jeongmin/abc\" target=\"_blank\">https://wandb.ai/jeongmin/abc</a><br/>\n",
              "                Sweep page: <a href=\"https://wandb.ai/jeongmin/abc/sweeps/4936c6nf\" target=\"_blank\">https://wandb.ai/jeongmin/abc/sweeps/4936c6nf</a><br/>\n",
              "Run page: <a href=\"https://wandb.ai/jeongmin/abc/runs/o6nc1wpr\" target=\"_blank\">https://wandb.ai/jeongmin/abc/runs/o6nc1wpr</a><br/>\n",
              "                Run data is saved locally in <code>/content/wandb/run-20210719_105732-o6nc1wpr</code><br/><br/>\n",
              "            "
            ],
            "text/plain": [
              "<IPython.core.display.HTML object>"
            ]
          },
          "metadata": {
            "tags": []
          }
        },
        {
          "output_type": "stream",
          "text": [
            "Epoch 1/25\n",
            "469/469 [==============================] - 2s 4ms/step - loss: 0.4025 - acc: 0.8849 - val_loss: 0.1871 - val_acc: 0.9459\n"
          ],
          "name": "stdout"
        },
        {
          "output_type": "stream",
          "text": [
            "\u001b[34m\u001b[1mwandb\u001b[0m: \u001b[32m\u001b[41mERROR\u001b[0m Can't save model, h5py returned error: Saving the model to HDF5 format requires the model to be a Functional model or a Sequential model. It does not work for subclassed models, because such models are defined via the body of a Python method, which isn't safely serializable. Consider saving to the Tensorflow SavedModel format (by setting save_format=\"tf\") or using `save_weights`.\n"
          ],
          "name": "stderr"
        },
        {
          "output_type": "stream",
          "text": [
            "Epoch 2/25\n",
            "469/469 [==============================] - 2s 3ms/step - loss: 0.1908 - acc: 0.9453 - val_loss: 0.1329 - val_acc: 0.9606\n",
            "Epoch 3/25\n",
            "469/469 [==============================] - 1s 3ms/step - loss: 0.1445 - acc: 0.9573 - val_loss: 0.1096 - val_acc: 0.9683\n",
            "Epoch 4/25\n",
            "469/469 [==============================] - 2s 3ms/step - loss: 0.1172 - acc: 0.9656 - val_loss: 0.0929 - val_acc: 0.9736\n",
            "Epoch 5/25\n",
            "469/469 [==============================] - 1s 3ms/step - loss: 0.0986 - acc: 0.9704 - val_loss: 0.0855 - val_acc: 0.9744\n",
            "Epoch 6/25\n",
            "469/469 [==============================] - 2s 3ms/step - loss: 0.0864 - acc: 0.9746 - val_loss: 0.0818 - val_acc: 0.9765\n",
            "Epoch 7/25\n",
            "469/469 [==============================] - 2s 3ms/step - loss: 0.0774 - acc: 0.9765 - val_loss: 0.0765 - val_acc: 0.9767\n",
            "Epoch 8/25\n",
            "469/469 [==============================] - 2s 3ms/step - loss: 0.0674 - acc: 0.9791 - val_loss: 0.0759 - val_acc: 0.9768\n",
            "Epoch 9/25\n",
            "469/469 [==============================] - 2s 3ms/step - loss: 0.0623 - acc: 0.9810 - val_loss: 0.0760 - val_acc: 0.9778\n",
            "Epoch 10/25\n",
            "469/469 [==============================] - 2s 3ms/step - loss: 0.0565 - acc: 0.9823 - val_loss: 0.0751 - val_acc: 0.9779\n",
            "Epoch 11/25\n",
            "469/469 [==============================] - 1s 3ms/step - loss: 0.0513 - acc: 0.9844 - val_loss: 0.0680 - val_acc: 0.9804\n",
            "Epoch 12/25\n",
            "469/469 [==============================] - 2s 3ms/step - loss: 0.0472 - acc: 0.9855 - val_loss: 0.0706 - val_acc: 0.9803\n",
            "Epoch 13/25\n",
            "469/469 [==============================] - 2s 3ms/step - loss: 0.0453 - acc: 0.9854 - val_loss: 0.0697 - val_acc: 0.9798\n",
            "Epoch 14/25\n",
            "469/469 [==============================] - 2s 3ms/step - loss: 0.0416 - acc: 0.9867 - val_loss: 0.0685 - val_acc: 0.9791\n",
            "Epoch 15/25\n",
            "469/469 [==============================] - 2s 3ms/step - loss: 0.0385 - acc: 0.9878 - val_loss: 0.0654 - val_acc: 0.9802\n",
            "Epoch 16/25\n",
            "469/469 [==============================] - 2s 3ms/step - loss: 0.0371 - acc: 0.9882 - val_loss: 0.0712 - val_acc: 0.9796\n",
            "Epoch 17/25\n",
            "469/469 [==============================] - 2s 3ms/step - loss: 0.0347 - acc: 0.9888 - val_loss: 0.0711 - val_acc: 0.9794\n",
            "Epoch 18/25\n",
            "469/469 [==============================] - 1s 3ms/step - loss: 0.0335 - acc: 0.9890 - val_loss: 0.0673 - val_acc: 0.9799\n",
            "Epoch 19/25\n",
            "469/469 [==============================] - 2s 3ms/step - loss: 0.0296 - acc: 0.9903 - val_loss: 0.0676 - val_acc: 0.9811\n",
            "Epoch 20/25\n",
            "469/469 [==============================] - 2s 3ms/step - loss: 0.0289 - acc: 0.9908 - val_loss: 0.0710 - val_acc: 0.9799\n",
            "Epoch 21/25\n",
            "469/469 [==============================] - 1s 3ms/step - loss: 0.0263 - acc: 0.9914 - val_loss: 0.0656 - val_acc: 0.9817\n",
            "Epoch 22/25\n",
            "469/469 [==============================] - 2s 3ms/step - loss: 0.0258 - acc: 0.9919 - val_loss: 0.0710 - val_acc: 0.9800\n",
            "Epoch 23/25\n",
            "469/469 [==============================] - 2s 3ms/step - loss: 0.0269 - acc: 0.9910 - val_loss: 0.0748 - val_acc: 0.9793\n",
            "Epoch 24/25\n",
            "469/469 [==============================] - 1s 3ms/step - loss: 0.0243 - acc: 0.9917 - val_loss: 0.0657 - val_acc: 0.9810\n",
            "Epoch 25/25\n",
            "469/469 [==============================] - 2s 3ms/step - loss: 0.0226 - acc: 0.9924 - val_loss: 0.0716 - val_acc: 0.9816\n",
            "79/79 [==============================] - 0s 2ms/step - loss: 0.0716 - acc: 0.9816\n",
            "Test Error Rate:  1.84\n"
          ],
          "name": "stdout"
        },
        {
          "output_type": "display_data",
          "data": {
            "text/html": [
              "<br/>Waiting for W&B process to finish, PID 488<br/>Program ended successfully."
            ],
            "text/plain": [
              "<IPython.core.display.HTML object>"
            ]
          },
          "metadata": {
            "tags": []
          }
        },
        {
          "output_type": "display_data",
          "data": {
            "application/vnd.jupyter.widget-view+json": {
              "model_id": "594fe128562f43c598b37605c73db934",
              "version_minor": 0,
              "version_major": 2
            },
            "text/plain": [
              "VBox(children=(Label(value=' 0.00MB of 0.00MB uploaded (0.00MB deduped)\\r'), FloatProgress(value=1.0, max=1.0)…"
            ]
          },
          "metadata": {
            "tags": []
          }
        },
        {
          "output_type": "display_data",
          "data": {
            "text/html": [
              "Find user logs for this run at: <code>/content/wandb/run-20210719_105732-o6nc1wpr/logs/debug.log</code>"
            ],
            "text/plain": [
              "<IPython.core.display.HTML object>"
            ]
          },
          "metadata": {
            "tags": []
          }
        },
        {
          "output_type": "display_data",
          "data": {
            "text/html": [
              "Find internal logs for this run at: <code>/content/wandb/run-20210719_105732-o6nc1wpr/logs/debug-internal.log</code>"
            ],
            "text/plain": [
              "<IPython.core.display.HTML object>"
            ]
          },
          "metadata": {
            "tags": []
          }
        },
        {
          "output_type": "display_data",
          "data": {
            "text/html": [
              "<h3>Run summary:</h3><br/><style>\n",
              "    table.wandb td:nth-child(1) { padding: 0 10px; text-align: right }\n",
              "    </style><table class=\"wandb\">\n",
              "<tr><td>epoch</td><td>24</td></tr><tr><td>loss</td><td>0.02259</td></tr><tr><td>acc</td><td>0.99237</td></tr><tr><td>val_loss</td><td>0.07159</td></tr><tr><td>val_acc</td><td>0.9816</td></tr><tr><td>_runtime</td><td>56</td></tr><tr><td>_timestamp</td><td>1626692308</td></tr><tr><td>_step</td><td>25</td></tr><tr><td>best_val_loss</td><td>0.06538</td></tr><tr><td>best_epoch</td><td>14</td></tr><tr><td>Test Error Rate</td><td>1.84</td></tr></table>"
            ],
            "text/plain": [
              "<IPython.core.display.HTML object>"
            ]
          },
          "metadata": {
            "tags": []
          }
        },
        {
          "output_type": "display_data",
          "data": {
            "text/html": [
              "<h3>Run history:</h3><br/><style>\n",
              "    table.wandb td:nth-child(1) { padding: 0 10px; text-align: right }\n",
              "    </style><table class=\"wandb\">\n",
              "<tr><td>epoch</td><td>▁▁▂▂▂▂▃▃▃▄▄▄▅▅▅▅▆▆▆▇▇▇▇██</td></tr><tr><td>loss</td><td>█▄▃▃▂▂▂▂▂▂▂▁▁▁▁▁▁▁▁▁▁▁▁▁▁</td></tr><tr><td>acc</td><td>▁▅▆▆▇▇▇▇▇▇▇██████████████</td></tr><tr><td>val_loss</td><td>█▅▄▃▂▂▂▂▂▂▁▁▁▁▁▁▁▁▁▁▁▁▂▁▁</td></tr><tr><td>val_acc</td><td>▁▄▅▆▇▇▇▇▇▇███▇███████████</td></tr><tr><td>_runtime</td><td>▁▁▂▂▂▃▃▃▃▄▄▄▅▅▅▅▅▆▆▆▇▇▇███</td></tr><tr><td>_timestamp</td><td>▁▁▂▂▂▃▃▃▃▄▄▄▅▅▅▅▅▆▆▆▇▇▇███</td></tr><tr><td>_step</td><td>▁▁▂▂▂▂▃▃▃▄▄▄▄▅▅▅▅▆▆▆▇▇▇▇██</td></tr><tr><td>Test Error Rate</td><td>▁</td></tr></table><br/>"
            ],
            "text/plain": [
              "<IPython.core.display.HTML object>"
            ]
          },
          "metadata": {
            "tags": []
          }
        },
        {
          "output_type": "display_data",
          "data": {
            "text/html": [
              "Synced 5 W&B file(s), 1 media file(s), 0 artifact file(s) and 0 other file(s)"
            ],
            "text/plain": [
              "<IPython.core.display.HTML object>"
            ]
          },
          "metadata": {
            "tags": []
          }
        },
        {
          "output_type": "display_data",
          "data": {
            "text/html": [
              "\n",
              "                    <br/>Synced <strong style=\"color:#cdcd00\">stellar-sweep-3</strong>: <a href=\"https://wandb.ai/jeongmin/abc/runs/o6nc1wpr\" target=\"_blank\">https://wandb.ai/jeongmin/abc/runs/o6nc1wpr</a><br/>\n",
              "                "
            ],
            "text/plain": [
              "<IPython.core.display.HTML object>"
            ]
          },
          "metadata": {
            "tags": []
          }
        },
        {
          "output_type": "stream",
          "text": [
            "\u001b[34m\u001b[1mwandb\u001b[0m: Agent Starting Run: e7wlz13j with config:\n",
            "\u001b[34m\u001b[1mwandb\u001b[0m: \tbatch_size: 128\n",
            "\u001b[34m\u001b[1mwandb\u001b[0m: \tlearning_rate: 0.0001\n"
          ],
          "name": "stderr"
        },
        {
          "output_type": "display_data",
          "data": {
            "text/html": [
              "\n",
              "                Tracking run with wandb version 0.11.0<br/>\n",
              "                Syncing run <strong style=\"color:#cdcd00\">frosty-sweep-4</strong> to <a href=\"https://wandb.ai\" target=\"_blank\">Weights & Biases</a> <a href=\"https://docs.wandb.com/integrations/jupyter.html\" target=\"_blank\">(Documentation)</a>.<br/>\n",
              "                Project page: <a href=\"https://wandb.ai/jeongmin/abc\" target=\"_blank\">https://wandb.ai/jeongmin/abc</a><br/>\n",
              "                Sweep page: <a href=\"https://wandb.ai/jeongmin/abc/sweeps/4936c6nf\" target=\"_blank\">https://wandb.ai/jeongmin/abc/sweeps/4936c6nf</a><br/>\n",
              "Run page: <a href=\"https://wandb.ai/jeongmin/abc/runs/e7wlz13j\" target=\"_blank\">https://wandb.ai/jeongmin/abc/runs/e7wlz13j</a><br/>\n",
              "                Run data is saved locally in <code>/content/wandb/run-20210719_105833-e7wlz13j</code><br/><br/>\n",
              "            "
            ],
            "text/plain": [
              "<IPython.core.display.HTML object>"
            ]
          },
          "metadata": {
            "tags": []
          }
        },
        {
          "output_type": "stream",
          "text": [
            "Epoch 1/25\n",
            "469/469 [==============================] - 2s 4ms/step - loss: 1.0260 - acc: 0.7321 - val_loss: 0.4807 - val_acc: 0.8859\n"
          ],
          "name": "stdout"
        },
        {
          "output_type": "stream",
          "text": [
            "\u001b[34m\u001b[1mwandb\u001b[0m: \u001b[32m\u001b[41mERROR\u001b[0m Can't save model, h5py returned error: Saving the model to HDF5 format requires the model to be a Functional model or a Sequential model. It does not work for subclassed models, because such models are defined via the body of a Python method, which isn't safely serializable. Consider saving to the Tensorflow SavedModel format (by setting save_format=\"tf\") or using `save_weights`.\n"
          ],
          "name": "stderr"
        },
        {
          "output_type": "stream",
          "text": [
            "Epoch 2/25\n",
            "469/469 [==============================] - 2s 3ms/step - loss: 0.4673 - acc: 0.8725 - val_loss: 0.3511 - val_acc: 0.9091\n",
            "Epoch 3/25\n",
            "469/469 [==============================] - 2s 3ms/step - loss: 0.3762 - acc: 0.8949 - val_loss: 0.3029 - val_acc: 0.9180\n",
            "Epoch 4/25\n",
            "469/469 [==============================] - 2s 3ms/step - loss: 0.3313 - acc: 0.9070 - val_loss: 0.2726 - val_acc: 0.9241\n",
            "Epoch 5/25\n",
            "469/469 [==============================] - 2s 3ms/step - loss: 0.2993 - acc: 0.9156 - val_loss: 0.2500 - val_acc: 0.9294\n",
            "Epoch 6/25\n",
            "469/469 [==============================] - 2s 4ms/step - loss: 0.2750 - acc: 0.9222 - val_loss: 0.2323 - val_acc: 0.9337\n",
            "Epoch 7/25\n",
            "469/469 [==============================] - 2s 4ms/step - loss: 0.2560 - acc: 0.9273 - val_loss: 0.2171 - val_acc: 0.9384\n",
            "Epoch 8/25\n",
            "469/469 [==============================] - 2s 3ms/step - loss: 0.2400 - acc: 0.9320 - val_loss: 0.2036 - val_acc: 0.9410\n",
            "Epoch 9/25\n",
            "469/469 [==============================] - 2s 3ms/step - loss: 0.2257 - acc: 0.9360 - val_loss: 0.1932 - val_acc: 0.9434\n",
            "Epoch 10/25\n",
            "469/469 [==============================] - 2s 4ms/step - loss: 0.2119 - acc: 0.9404 - val_loss: 0.1821 - val_acc: 0.9465\n",
            "Epoch 11/25\n",
            "469/469 [==============================] - 2s 3ms/step - loss: 0.2022 - acc: 0.9425 - val_loss: 0.1735 - val_acc: 0.9494\n",
            "Epoch 12/25\n",
            "469/469 [==============================] - 1s 3ms/step - loss: 0.1913 - acc: 0.9458 - val_loss: 0.1655 - val_acc: 0.9522\n",
            "Epoch 13/25\n",
            "469/469 [==============================] - 2s 3ms/step - loss: 0.1820 - acc: 0.9484 - val_loss: 0.1583 - val_acc: 0.9532\n",
            "Epoch 14/25\n",
            "469/469 [==============================] - 1s 3ms/step - loss: 0.1758 - acc: 0.9492 - val_loss: 0.1519 - val_acc: 0.9554\n",
            "Epoch 15/25\n",
            "469/469 [==============================] - 2s 3ms/step - loss: 0.1681 - acc: 0.9527 - val_loss: 0.1466 - val_acc: 0.9570\n",
            "Epoch 16/25\n",
            " 56/469 [==>...........................] - ETA: 1s - loss: 0.1554 - acc: 0.9547"
          ],
          "name": "stdout"
        },
        {
          "output_type": "stream",
          "text": [
            "Exception ignored in: <function IteratorResourceDeleter.__del__ at 0x7f52a0a43d40>\n",
            "Traceback (most recent call last):\n",
            "  File \"/usr/local/lib/python3.7/dist-packages/tensorflow/python/data/ops/iterator_ops.py\", line 546, in __del__\n",
            "    handle=self._handle, deleter=self._deleter)\n",
            "  File \"/usr/local/lib/python3.7/dist-packages/tensorflow/python/ops/gen_dataset_ops.py\", line 1264, in delete_iterator\n",
            "    _ctx, \"DeleteIterator\", name, handle, deleter)\n",
            "Exception: \n"
          ],
          "name": "stderr"
        },
        {
          "output_type": "stream",
          "text": [
            "469/469 [==============================] - 1s 3ms/step - loss: 0.1603 - acc: 0.9540 - val_loss: 0.1408 - val_acc: 0.9588\n",
            "Epoch 17/25\n",
            "469/469 [==============================] - 1s 3ms/step - loss: 0.1542 - acc: 0.9556 - val_loss: 0.1359 - val_acc: 0.9607\n",
            "Epoch 18/25\n",
            "469/469 [==============================] - 2s 3ms/step - loss: 0.1493 - acc: 0.9575 - val_loss: 0.1317 - val_acc: 0.9622\n",
            "Epoch 19/25\n",
            "469/469 [==============================] - 1s 3ms/step - loss: 0.1431 - acc: 0.9581 - val_loss: 0.1273 - val_acc: 0.9621\n",
            "Epoch 20/25\n",
            "469/469 [==============================] - 1s 3ms/step - loss: 0.1394 - acc: 0.9602 - val_loss: 0.1239 - val_acc: 0.9638\n",
            "Epoch 21/25\n",
            "469/469 [==============================] - 2s 3ms/step - loss: 0.1342 - acc: 0.9615 - val_loss: 0.1201 - val_acc: 0.9654\n",
            "Epoch 22/25\n",
            "469/469 [==============================] - 2s 3ms/step - loss: 0.1308 - acc: 0.9621 - val_loss: 0.1172 - val_acc: 0.9656\n",
            "Epoch 23/25\n",
            "469/469 [==============================] - 1s 3ms/step - loss: 0.1252 - acc: 0.9636 - val_loss: 0.1141 - val_acc: 0.9664\n",
            "Epoch 24/25\n",
            "469/469 [==============================] - 2s 3ms/step - loss: 0.1222 - acc: 0.9647 - val_loss: 0.1116 - val_acc: 0.9669\n",
            "Epoch 25/25\n",
            "469/469 [==============================] - 2s 3ms/step - loss: 0.1193 - acc: 0.9649 - val_loss: 0.1090 - val_acc: 0.9679\n",
            "79/79 [==============================] - 0s 2ms/step - loss: 0.1090 - acc: 0.9679\n",
            "Test Error Rate:  3.21\n"
          ],
          "name": "stdout"
        },
        {
          "output_type": "display_data",
          "data": {
            "text/html": [
              "<br/>Waiting for W&B process to finish, PID 628<br/>Program ended successfully."
            ],
            "text/plain": [
              "<IPython.core.display.HTML object>"
            ]
          },
          "metadata": {
            "tags": []
          }
        },
        {
          "output_type": "display_data",
          "data": {
            "application/vnd.jupyter.widget-view+json": {
              "model_id": "f87f398ef70a47539688708b15abfbc8",
              "version_minor": 0,
              "version_major": 2
            },
            "text/plain": [
              "VBox(children=(Label(value=' 0.00MB of 0.00MB uploaded (0.00MB deduped)\\r'), FloatProgress(value=1.0, max=1.0)…"
            ]
          },
          "metadata": {
            "tags": []
          }
        },
        {
          "output_type": "display_data",
          "data": {
            "text/html": [
              "Find user logs for this run at: <code>/content/wandb/run-20210719_105833-e7wlz13j/logs/debug.log</code>"
            ],
            "text/plain": [
              "<IPython.core.display.HTML object>"
            ]
          },
          "metadata": {
            "tags": []
          }
        },
        {
          "output_type": "display_data",
          "data": {
            "text/html": [
              "Find internal logs for this run at: <code>/content/wandb/run-20210719_105833-e7wlz13j/logs/debug-internal.log</code>"
            ],
            "text/plain": [
              "<IPython.core.display.HTML object>"
            ]
          },
          "metadata": {
            "tags": []
          }
        },
        {
          "output_type": "display_data",
          "data": {
            "text/html": [
              "<h3>Run summary:</h3><br/><style>\n",
              "    table.wandb td:nth-child(1) { padding: 0 10px; text-align: right }\n",
              "    </style><table class=\"wandb\">\n",
              "<tr><td>epoch</td><td>24</td></tr><tr><td>loss</td><td>0.11926</td></tr><tr><td>acc</td><td>0.96493</td></tr><tr><td>val_loss</td><td>0.109</td></tr><tr><td>val_acc</td><td>0.9679</td></tr><tr><td>_runtime</td><td>58</td></tr><tr><td>_timestamp</td><td>1626692371</td></tr><tr><td>_step</td><td>25</td></tr><tr><td>best_val_loss</td><td>0.109</td></tr><tr><td>best_epoch</td><td>24</td></tr><tr><td>Test Error Rate</td><td>3.21</td></tr></table>"
            ],
            "text/plain": [
              "<IPython.core.display.HTML object>"
            ]
          },
          "metadata": {
            "tags": []
          }
        },
        {
          "output_type": "display_data",
          "data": {
            "text/html": [
              "<h3>Run history:</h3><br/><style>\n",
              "    table.wandb td:nth-child(1) { padding: 0 10px; text-align: right }\n",
              "    </style><table class=\"wandb\">\n",
              "<tr><td>epoch</td><td>▁▁▂▂▂▂▃▃▃▄▄▄▅▅▅▅▆▆▆▇▇▇▇██</td></tr><tr><td>loss</td><td>█▄▃▃▂▂▂▂▂▂▂▂▁▁▁▁▁▁▁▁▁▁▁▁▁</td></tr><tr><td>acc</td><td>▁▅▆▆▇▇▇▇▇▇▇▇█████████████</td></tr><tr><td>val_loss</td><td>█▆▅▄▄▃▃▃▃▂▂▂▂▂▂▂▂▁▁▁▁▁▁▁▁</td></tr><tr><td>val_acc</td><td>▁▃▄▄▅▅▅▆▆▆▆▇▇▇▇▇▇████████</td></tr><tr><td>_runtime</td><td>▁▁▂▂▂▂▃▃▃▄▄▄▅▅▅▅▆▆▆▆▇▇▇███</td></tr><tr><td>_timestamp</td><td>▁▁▂▂▂▂▃▃▃▄▄▄▅▅▅▅▆▆▆▆▇▇▇███</td></tr><tr><td>_step</td><td>▁▁▂▂▂▂▃▃▃▄▄▄▄▅▅▅▅▆▆▆▇▇▇▇██</td></tr><tr><td>Test Error Rate</td><td>▁</td></tr></table><br/>"
            ],
            "text/plain": [
              "<IPython.core.display.HTML object>"
            ]
          },
          "metadata": {
            "tags": []
          }
        },
        {
          "output_type": "display_data",
          "data": {
            "text/html": [
              "Synced 5 W&B file(s), 1 media file(s), 0 artifact file(s) and 0 other file(s)"
            ],
            "text/plain": [
              "<IPython.core.display.HTML object>"
            ]
          },
          "metadata": {
            "tags": []
          }
        },
        {
          "output_type": "display_data",
          "data": {
            "text/html": [
              "\n",
              "                    <br/>Synced <strong style=\"color:#cdcd00\">frosty-sweep-4</strong>: <a href=\"https://wandb.ai/jeongmin/abc/runs/e7wlz13j\" target=\"_blank\">https://wandb.ai/jeongmin/abc/runs/e7wlz13j</a><br/>\n",
              "                "
            ],
            "text/plain": [
              "<IPython.core.display.HTML object>"
            ]
          },
          "metadata": {
            "tags": []
          }
        },
        {
          "output_type": "stream",
          "text": [
            "\u001b[34m\u001b[1mwandb\u001b[0m: Agent Starting Run: 7jn4q6oc with config:\n",
            "\u001b[34m\u001b[1mwandb\u001b[0m: \tbatch_size: 256\n",
            "\u001b[34m\u001b[1mwandb\u001b[0m: \tlearning_rate: 0.0001\n"
          ],
          "name": "stderr"
        },
        {
          "output_type": "display_data",
          "data": {
            "text/html": [
              "\n",
              "                Tracking run with wandb version 0.11.0<br/>\n",
              "                Syncing run <strong style=\"color:#cdcd00\">morning-sweep-5</strong> to <a href=\"https://wandb.ai\" target=\"_blank\">Weights & Biases</a> <a href=\"https://docs.wandb.com/integrations/jupyter.html\" target=\"_blank\">(Documentation)</a>.<br/>\n",
              "                Project page: <a href=\"https://wandb.ai/jeongmin/abc\" target=\"_blank\">https://wandb.ai/jeongmin/abc</a><br/>\n",
              "                Sweep page: <a href=\"https://wandb.ai/jeongmin/abc/sweeps/4936c6nf\" target=\"_blank\">https://wandb.ai/jeongmin/abc/sweeps/4936c6nf</a><br/>\n",
              "Run page: <a href=\"https://wandb.ai/jeongmin/abc/runs/7jn4q6oc\" target=\"_blank\">https://wandb.ai/jeongmin/abc/runs/7jn4q6oc</a><br/>\n",
              "                Run data is saved locally in <code>/content/wandb/run-20210719_105937-7jn4q6oc</code><br/><br/>\n",
              "            "
            ],
            "text/plain": [
              "<IPython.core.display.HTML object>"
            ]
          },
          "metadata": {
            "tags": []
          }
        },
        {
          "output_type": "stream",
          "text": [
            "Epoch 1/25\n",
            "235/235 [==============================] - 1s 4ms/step - loss: 1.3773 - acc: 0.6350 - val_loss: 0.7329 - val_acc: 0.8435\n"
          ],
          "name": "stdout"
        },
        {
          "output_type": "stream",
          "text": [
            "\u001b[34m\u001b[1mwandb\u001b[0m: \u001b[32m\u001b[41mERROR\u001b[0m Can't save model, h5py returned error: Saving the model to HDF5 format requires the model to be a Functional model or a Sequential model. It does not work for subclassed models, because such models are defined via the body of a Python method, which isn't safely serializable. Consider saving to the Tensorflow SavedModel format (by setting save_format=\"tf\") or using `save_weights`.\n"
          ],
          "name": "stderr"
        },
        {
          "output_type": "stream",
          "text": [
            "Epoch 2/25\n",
            "103/235 [============>.................] - ETA: 0s - loss: 0.7118 - acc: 0.8207"
          ],
          "name": "stdout"
        },
        {
          "output_type": "stream",
          "text": [
            "\u001b[34m\u001b[1mwandb\u001b[0m: Ctrl + C detected. Stopping sweep.\n"
          ],
          "name": "stderr"
        }
      ]
    },
    {
      "cell_type": "code",
      "metadata": {
        "id": "BAZxk9uXEWsh"
      },
      "source": [
        ""
      ],
      "execution_count": null,
      "outputs": []
    }
  ]
}