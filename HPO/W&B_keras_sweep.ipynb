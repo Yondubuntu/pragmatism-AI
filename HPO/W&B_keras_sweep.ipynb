{
  "nbformat": 4,
  "nbformat_minor": 0,
  "metadata": {
    "colab": {
      "name": "W&B_keras_sweep.ipynb",
      "provenance": [],
      "collapsed_sections": [],
      "authorship_tag": "ABX9TyPuaOtsB+taosiEGGLC5l15",
      "include_colab_link": true
    },
    "kernelspec": {
      "name": "python3",
      "display_name": "Python 3"
    },
    "language_info": {
      "name": "python"
    },
    "accelerator": "GPU",
    "widgets": {
      "application/vnd.jupyter.widget-state+json": {
        "90a237fc99a2457ab6795df132aba375": {
          "model_module": "@jupyter-widgets/controls",
          "model_name": "VBoxModel",
          "state": {
            "_view_name": "VBoxView",
            "_dom_classes": [],
            "_model_name": "VBoxModel",
            "_view_module": "@jupyter-widgets/controls",
            "_model_module_version": "1.5.0",
            "_view_count": null,
            "_view_module_version": "1.5.0",
            "box_style": "",
            "layout": "IPY_MODEL_6be5e0c035c1431c878529e70049785a",
            "_model_module": "@jupyter-widgets/controls",
            "children": [
              "IPY_MODEL_fc4b5bd56b7e4cbb9b8e9568cade02ab",
              "IPY_MODEL_6f52a0333c5d483a990402dd01ad3535"
            ]
          }
        },
        "6be5e0c035c1431c878529e70049785a": {
          "model_module": "@jupyter-widgets/base",
          "model_name": "LayoutModel",
          "state": {
            "_view_name": "LayoutView",
            "grid_template_rows": null,
            "right": null,
            "justify_content": null,
            "_view_module": "@jupyter-widgets/base",
            "overflow": null,
            "_model_module_version": "1.2.0",
            "_view_count": null,
            "flex_flow": null,
            "width": null,
            "min_width": null,
            "border": null,
            "align_items": null,
            "bottom": null,
            "_model_module": "@jupyter-widgets/base",
            "top": null,
            "grid_column": null,
            "overflow_y": null,
            "overflow_x": null,
            "grid_auto_flow": null,
            "grid_area": null,
            "grid_template_columns": null,
            "flex": null,
            "_model_name": "LayoutModel",
            "justify_items": null,
            "grid_row": null,
            "max_height": null,
            "align_content": null,
            "visibility": null,
            "align_self": null,
            "height": null,
            "min_height": null,
            "padding": null,
            "grid_auto_rows": null,
            "grid_gap": null,
            "max_width": null,
            "order": null,
            "_view_module_version": "1.2.0",
            "grid_template_areas": null,
            "object_position": null,
            "object_fit": null,
            "grid_auto_columns": null,
            "margin": null,
            "display": null,
            "left": null
          }
        },
        "fc4b5bd56b7e4cbb9b8e9568cade02ab": {
          "model_module": "@jupyter-widgets/controls",
          "model_name": "LabelModel",
          "state": {
            "_view_name": "LabelView",
            "style": "IPY_MODEL_42e03d8fe5394798bf8853b0d265b724",
            "_dom_classes": [],
            "description": "",
            "_model_name": "LabelModel",
            "placeholder": "​",
            "_view_module": "@jupyter-widgets/controls",
            "_model_module_version": "1.5.0",
            "value": " 0.01MB of 0.01MB uploaded (0.00MB deduped)\r",
            "_view_count": null,
            "_view_module_version": "1.5.0",
            "description_tooltip": null,
            "_model_module": "@jupyter-widgets/controls",
            "layout": "IPY_MODEL_5588183dd17640bfb24e55995116cba1"
          }
        },
        "6f52a0333c5d483a990402dd01ad3535": {
          "model_module": "@jupyter-widgets/controls",
          "model_name": "FloatProgressModel",
          "state": {
            "_view_name": "ProgressView",
            "style": "IPY_MODEL_b0d5b680bdb24e5e92e5acab4de802fb",
            "_dom_classes": [],
            "description": "",
            "_model_name": "FloatProgressModel",
            "bar_style": "",
            "max": 1,
            "_view_module": "@jupyter-widgets/controls",
            "_model_module_version": "1.5.0",
            "value": 1,
            "_view_count": null,
            "_view_module_version": "1.5.0",
            "orientation": "horizontal",
            "min": 0,
            "description_tooltip": null,
            "_model_module": "@jupyter-widgets/controls",
            "layout": "IPY_MODEL_c1997495700d4edfadb7a66c15f5008b"
          }
        },
        "42e03d8fe5394798bf8853b0d265b724": {
          "model_module": "@jupyter-widgets/controls",
          "model_name": "DescriptionStyleModel",
          "state": {
            "_view_name": "StyleView",
            "_model_name": "DescriptionStyleModel",
            "description_width": "",
            "_view_module": "@jupyter-widgets/base",
            "_model_module_version": "1.5.0",
            "_view_count": null,
            "_view_module_version": "1.2.0",
            "_model_module": "@jupyter-widgets/controls"
          }
        },
        "5588183dd17640bfb24e55995116cba1": {
          "model_module": "@jupyter-widgets/base",
          "model_name": "LayoutModel",
          "state": {
            "_view_name": "LayoutView",
            "grid_template_rows": null,
            "right": null,
            "justify_content": null,
            "_view_module": "@jupyter-widgets/base",
            "overflow": null,
            "_model_module_version": "1.2.0",
            "_view_count": null,
            "flex_flow": null,
            "width": null,
            "min_width": null,
            "border": null,
            "align_items": null,
            "bottom": null,
            "_model_module": "@jupyter-widgets/base",
            "top": null,
            "grid_column": null,
            "overflow_y": null,
            "overflow_x": null,
            "grid_auto_flow": null,
            "grid_area": null,
            "grid_template_columns": null,
            "flex": null,
            "_model_name": "LayoutModel",
            "justify_items": null,
            "grid_row": null,
            "max_height": null,
            "align_content": null,
            "visibility": null,
            "align_self": null,
            "height": null,
            "min_height": null,
            "padding": null,
            "grid_auto_rows": null,
            "grid_gap": null,
            "max_width": null,
            "order": null,
            "_view_module_version": "1.2.0",
            "grid_template_areas": null,
            "object_position": null,
            "object_fit": null,
            "grid_auto_columns": null,
            "margin": null,
            "display": null,
            "left": null
          }
        },
        "b0d5b680bdb24e5e92e5acab4de802fb": {
          "model_module": "@jupyter-widgets/controls",
          "model_name": "ProgressStyleModel",
          "state": {
            "_view_name": "StyleView",
            "_model_name": "ProgressStyleModel",
            "description_width": "",
            "_view_module": "@jupyter-widgets/base",
            "_model_module_version": "1.5.0",
            "_view_count": null,
            "_view_module_version": "1.2.0",
            "bar_color": null,
            "_model_module": "@jupyter-widgets/controls"
          }
        },
        "c1997495700d4edfadb7a66c15f5008b": {
          "model_module": "@jupyter-widgets/base",
          "model_name": "LayoutModel",
          "state": {
            "_view_name": "LayoutView",
            "grid_template_rows": null,
            "right": null,
            "justify_content": null,
            "_view_module": "@jupyter-widgets/base",
            "overflow": null,
            "_model_module_version": "1.2.0",
            "_view_count": null,
            "flex_flow": null,
            "width": null,
            "min_width": null,
            "border": null,
            "align_items": null,
            "bottom": null,
            "_model_module": "@jupyter-widgets/base",
            "top": null,
            "grid_column": null,
            "overflow_y": null,
            "overflow_x": null,
            "grid_auto_flow": null,
            "grid_area": null,
            "grid_template_columns": null,
            "flex": null,
            "_model_name": "LayoutModel",
            "justify_items": null,
            "grid_row": null,
            "max_height": null,
            "align_content": null,
            "visibility": null,
            "align_self": null,
            "height": null,
            "min_height": null,
            "padding": null,
            "grid_auto_rows": null,
            "grid_gap": null,
            "max_width": null,
            "order": null,
            "_view_module_version": "1.2.0",
            "grid_template_areas": null,
            "object_position": null,
            "object_fit": null,
            "grid_auto_columns": null,
            "margin": null,
            "display": null,
            "left": null
          }
        },
        "d6565723c4e441e5909e2f6ca32ff3cf": {
          "model_module": "@jupyter-widgets/controls",
          "model_name": "VBoxModel",
          "state": {
            "_view_name": "VBoxView",
            "_dom_classes": [],
            "_model_name": "VBoxModel",
            "_view_module": "@jupyter-widgets/controls",
            "_model_module_version": "1.5.0",
            "_view_count": null,
            "_view_module_version": "1.5.0",
            "box_style": "",
            "layout": "IPY_MODEL_a6179e8380f240bc95e5f77c8050044f",
            "_model_module": "@jupyter-widgets/controls",
            "children": [
              "IPY_MODEL_f2c40a9c5d4e41caa89e3e83bb3f4183",
              "IPY_MODEL_2735c92f9fee40f9b85a8ca4401133e1"
            ]
          }
        },
        "a6179e8380f240bc95e5f77c8050044f": {
          "model_module": "@jupyter-widgets/base",
          "model_name": "LayoutModel",
          "state": {
            "_view_name": "LayoutView",
            "grid_template_rows": null,
            "right": null,
            "justify_content": null,
            "_view_module": "@jupyter-widgets/base",
            "overflow": null,
            "_model_module_version": "1.2.0",
            "_view_count": null,
            "flex_flow": null,
            "width": null,
            "min_width": null,
            "border": null,
            "align_items": null,
            "bottom": null,
            "_model_module": "@jupyter-widgets/base",
            "top": null,
            "grid_column": null,
            "overflow_y": null,
            "overflow_x": null,
            "grid_auto_flow": null,
            "grid_area": null,
            "grid_template_columns": null,
            "flex": null,
            "_model_name": "LayoutModel",
            "justify_items": null,
            "grid_row": null,
            "max_height": null,
            "align_content": null,
            "visibility": null,
            "align_self": null,
            "height": null,
            "min_height": null,
            "padding": null,
            "grid_auto_rows": null,
            "grid_gap": null,
            "max_width": null,
            "order": null,
            "_view_module_version": "1.2.0",
            "grid_template_areas": null,
            "object_position": null,
            "object_fit": null,
            "grid_auto_columns": null,
            "margin": null,
            "display": null,
            "left": null
          }
        },
        "f2c40a9c5d4e41caa89e3e83bb3f4183": {
          "model_module": "@jupyter-widgets/controls",
          "model_name": "LabelModel",
          "state": {
            "_view_name": "LabelView",
            "style": "IPY_MODEL_982149cdb19e4a65bca6b0e7f89cba80",
            "_dom_classes": [],
            "description": "",
            "_model_name": "LabelModel",
            "placeholder": "​",
            "_view_module": "@jupyter-widgets/controls",
            "_model_module_version": "1.5.0",
            "value": " 0.01MB of 0.01MB uploaded (0.00MB deduped)\r",
            "_view_count": null,
            "_view_module_version": "1.5.0",
            "description_tooltip": null,
            "_model_module": "@jupyter-widgets/controls",
            "layout": "IPY_MODEL_c57b31a8fa4f4183949e0dfcec1a8fec"
          }
        },
        "2735c92f9fee40f9b85a8ca4401133e1": {
          "model_module": "@jupyter-widgets/controls",
          "model_name": "FloatProgressModel",
          "state": {
            "_view_name": "ProgressView",
            "style": "IPY_MODEL_fcd5fc200956480dab4259bb2b89737e",
            "_dom_classes": [],
            "description": "",
            "_model_name": "FloatProgressModel",
            "bar_style": "",
            "max": 1,
            "_view_module": "@jupyter-widgets/controls",
            "_model_module_version": "1.5.0",
            "value": 1,
            "_view_count": null,
            "_view_module_version": "1.5.0",
            "orientation": "horizontal",
            "min": 0,
            "description_tooltip": null,
            "_model_module": "@jupyter-widgets/controls",
            "layout": "IPY_MODEL_eeb3927253464703b1ab764c6c35f7e5"
          }
        },
        "982149cdb19e4a65bca6b0e7f89cba80": {
          "model_module": "@jupyter-widgets/controls",
          "model_name": "DescriptionStyleModel",
          "state": {
            "_view_name": "StyleView",
            "_model_name": "DescriptionStyleModel",
            "description_width": "",
            "_view_module": "@jupyter-widgets/base",
            "_model_module_version": "1.5.0",
            "_view_count": null,
            "_view_module_version": "1.2.0",
            "_model_module": "@jupyter-widgets/controls"
          }
        },
        "c57b31a8fa4f4183949e0dfcec1a8fec": {
          "model_module": "@jupyter-widgets/base",
          "model_name": "LayoutModel",
          "state": {
            "_view_name": "LayoutView",
            "grid_template_rows": null,
            "right": null,
            "justify_content": null,
            "_view_module": "@jupyter-widgets/base",
            "overflow": null,
            "_model_module_version": "1.2.0",
            "_view_count": null,
            "flex_flow": null,
            "width": null,
            "min_width": null,
            "border": null,
            "align_items": null,
            "bottom": null,
            "_model_module": "@jupyter-widgets/base",
            "top": null,
            "grid_column": null,
            "overflow_y": null,
            "overflow_x": null,
            "grid_auto_flow": null,
            "grid_area": null,
            "grid_template_columns": null,
            "flex": null,
            "_model_name": "LayoutModel",
            "justify_items": null,
            "grid_row": null,
            "max_height": null,
            "align_content": null,
            "visibility": null,
            "align_self": null,
            "height": null,
            "min_height": null,
            "padding": null,
            "grid_auto_rows": null,
            "grid_gap": null,
            "max_width": null,
            "order": null,
            "_view_module_version": "1.2.0",
            "grid_template_areas": null,
            "object_position": null,
            "object_fit": null,
            "grid_auto_columns": null,
            "margin": null,
            "display": null,
            "left": null
          }
        },
        "fcd5fc200956480dab4259bb2b89737e": {
          "model_module": "@jupyter-widgets/controls",
          "model_name": "ProgressStyleModel",
          "state": {
            "_view_name": "StyleView",
            "_model_name": "ProgressStyleModel",
            "description_width": "",
            "_view_module": "@jupyter-widgets/base",
            "_model_module_version": "1.5.0",
            "_view_count": null,
            "_view_module_version": "1.2.0",
            "bar_color": null,
            "_model_module": "@jupyter-widgets/controls"
          }
        },
        "eeb3927253464703b1ab764c6c35f7e5": {
          "model_module": "@jupyter-widgets/base",
          "model_name": "LayoutModel",
          "state": {
            "_view_name": "LayoutView",
            "grid_template_rows": null,
            "right": null,
            "justify_content": null,
            "_view_module": "@jupyter-widgets/base",
            "overflow": null,
            "_model_module_version": "1.2.0",
            "_view_count": null,
            "flex_flow": null,
            "width": null,
            "min_width": null,
            "border": null,
            "align_items": null,
            "bottom": null,
            "_model_module": "@jupyter-widgets/base",
            "top": null,
            "grid_column": null,
            "overflow_y": null,
            "overflow_x": null,
            "grid_auto_flow": null,
            "grid_area": null,
            "grid_template_columns": null,
            "flex": null,
            "_model_name": "LayoutModel",
            "justify_items": null,
            "grid_row": null,
            "max_height": null,
            "align_content": null,
            "visibility": null,
            "align_self": null,
            "height": null,
            "min_height": null,
            "padding": null,
            "grid_auto_rows": null,
            "grid_gap": null,
            "max_width": null,
            "order": null,
            "_view_module_version": "1.2.0",
            "grid_template_areas": null,
            "object_position": null,
            "object_fit": null,
            "grid_auto_columns": null,
            "margin": null,
            "display": null,
            "left": null
          }
        },
        "bcb7a7aba4a2427f8ebbf8cde68c42bb": {
          "model_module": "@jupyter-widgets/controls",
          "model_name": "VBoxModel",
          "state": {
            "_view_name": "VBoxView",
            "_dom_classes": [],
            "_model_name": "VBoxModel",
            "_view_module": "@jupyter-widgets/controls",
            "_model_module_version": "1.5.0",
            "_view_count": null,
            "_view_module_version": "1.5.0",
            "box_style": "",
            "layout": "IPY_MODEL_2a364adea4e54807b6f2b3d2d4b6d056",
            "_model_module": "@jupyter-widgets/controls",
            "children": [
              "IPY_MODEL_c79d02f7363f4971aee12b28751f1296",
              "IPY_MODEL_3ecb503b0341491883198a134841b9f1"
            ]
          }
        },
        "2a364adea4e54807b6f2b3d2d4b6d056": {
          "model_module": "@jupyter-widgets/base",
          "model_name": "LayoutModel",
          "state": {
            "_view_name": "LayoutView",
            "grid_template_rows": null,
            "right": null,
            "justify_content": null,
            "_view_module": "@jupyter-widgets/base",
            "overflow": null,
            "_model_module_version": "1.2.0",
            "_view_count": null,
            "flex_flow": null,
            "width": null,
            "min_width": null,
            "border": null,
            "align_items": null,
            "bottom": null,
            "_model_module": "@jupyter-widgets/base",
            "top": null,
            "grid_column": null,
            "overflow_y": null,
            "overflow_x": null,
            "grid_auto_flow": null,
            "grid_area": null,
            "grid_template_columns": null,
            "flex": null,
            "_model_name": "LayoutModel",
            "justify_items": null,
            "grid_row": null,
            "max_height": null,
            "align_content": null,
            "visibility": null,
            "align_self": null,
            "height": null,
            "min_height": null,
            "padding": null,
            "grid_auto_rows": null,
            "grid_gap": null,
            "max_width": null,
            "order": null,
            "_view_module_version": "1.2.0",
            "grid_template_areas": null,
            "object_position": null,
            "object_fit": null,
            "grid_auto_columns": null,
            "margin": null,
            "display": null,
            "left": null
          }
        },
        "c79d02f7363f4971aee12b28751f1296": {
          "model_module": "@jupyter-widgets/controls",
          "model_name": "LabelModel",
          "state": {
            "_view_name": "LabelView",
            "style": "IPY_MODEL_186c9cde2d6249158570e9898c7e1246",
            "_dom_classes": [],
            "description": "",
            "_model_name": "LabelModel",
            "placeholder": "​",
            "_view_module": "@jupyter-widgets/controls",
            "_model_module_version": "1.5.0",
            "value": " 0.01MB of 0.01MB uploaded (0.00MB deduped)\r",
            "_view_count": null,
            "_view_module_version": "1.5.0",
            "description_tooltip": null,
            "_model_module": "@jupyter-widgets/controls",
            "layout": "IPY_MODEL_9a03bfdea7bb41df976e9f207b0f55e3"
          }
        },
        "3ecb503b0341491883198a134841b9f1": {
          "model_module": "@jupyter-widgets/controls",
          "model_name": "FloatProgressModel",
          "state": {
            "_view_name": "ProgressView",
            "style": "IPY_MODEL_e656269d8bb94ac5a3f0fb3ce09eb698",
            "_dom_classes": [],
            "description": "",
            "_model_name": "FloatProgressModel",
            "bar_style": "",
            "max": 1,
            "_view_module": "@jupyter-widgets/controls",
            "_model_module_version": "1.5.0",
            "value": 1,
            "_view_count": null,
            "_view_module_version": "1.5.0",
            "orientation": "horizontal",
            "min": 0,
            "description_tooltip": null,
            "_model_module": "@jupyter-widgets/controls",
            "layout": "IPY_MODEL_35fb7432527744808b224edb74f2d209"
          }
        },
        "186c9cde2d6249158570e9898c7e1246": {
          "model_module": "@jupyter-widgets/controls",
          "model_name": "DescriptionStyleModel",
          "state": {
            "_view_name": "StyleView",
            "_model_name": "DescriptionStyleModel",
            "description_width": "",
            "_view_module": "@jupyter-widgets/base",
            "_model_module_version": "1.5.0",
            "_view_count": null,
            "_view_module_version": "1.2.0",
            "_model_module": "@jupyter-widgets/controls"
          }
        },
        "9a03bfdea7bb41df976e9f207b0f55e3": {
          "model_module": "@jupyter-widgets/base",
          "model_name": "LayoutModel",
          "state": {
            "_view_name": "LayoutView",
            "grid_template_rows": null,
            "right": null,
            "justify_content": null,
            "_view_module": "@jupyter-widgets/base",
            "overflow": null,
            "_model_module_version": "1.2.0",
            "_view_count": null,
            "flex_flow": null,
            "width": null,
            "min_width": null,
            "border": null,
            "align_items": null,
            "bottom": null,
            "_model_module": "@jupyter-widgets/base",
            "top": null,
            "grid_column": null,
            "overflow_y": null,
            "overflow_x": null,
            "grid_auto_flow": null,
            "grid_area": null,
            "grid_template_columns": null,
            "flex": null,
            "_model_name": "LayoutModel",
            "justify_items": null,
            "grid_row": null,
            "max_height": null,
            "align_content": null,
            "visibility": null,
            "align_self": null,
            "height": null,
            "min_height": null,
            "padding": null,
            "grid_auto_rows": null,
            "grid_gap": null,
            "max_width": null,
            "order": null,
            "_view_module_version": "1.2.0",
            "grid_template_areas": null,
            "object_position": null,
            "object_fit": null,
            "grid_auto_columns": null,
            "margin": null,
            "display": null,
            "left": null
          }
        },
        "e656269d8bb94ac5a3f0fb3ce09eb698": {
          "model_module": "@jupyter-widgets/controls",
          "model_name": "ProgressStyleModel",
          "state": {
            "_view_name": "StyleView",
            "_model_name": "ProgressStyleModel",
            "description_width": "",
            "_view_module": "@jupyter-widgets/base",
            "_model_module_version": "1.5.0",
            "_view_count": null,
            "_view_module_version": "1.2.0",
            "bar_color": null,
            "_model_module": "@jupyter-widgets/controls"
          }
        },
        "35fb7432527744808b224edb74f2d209": {
          "model_module": "@jupyter-widgets/base",
          "model_name": "LayoutModel",
          "state": {
            "_view_name": "LayoutView",
            "grid_template_rows": null,
            "right": null,
            "justify_content": null,
            "_view_module": "@jupyter-widgets/base",
            "overflow": null,
            "_model_module_version": "1.2.0",
            "_view_count": null,
            "flex_flow": null,
            "width": null,
            "min_width": null,
            "border": null,
            "align_items": null,
            "bottom": null,
            "_model_module": "@jupyter-widgets/base",
            "top": null,
            "grid_column": null,
            "overflow_y": null,
            "overflow_x": null,
            "grid_auto_flow": null,
            "grid_area": null,
            "grid_template_columns": null,
            "flex": null,
            "_model_name": "LayoutModel",
            "justify_items": null,
            "grid_row": null,
            "max_height": null,
            "align_content": null,
            "visibility": null,
            "align_self": null,
            "height": null,
            "min_height": null,
            "padding": null,
            "grid_auto_rows": null,
            "grid_gap": null,
            "max_width": null,
            "order": null,
            "_view_module_version": "1.2.0",
            "grid_template_areas": null,
            "object_position": null,
            "object_fit": null,
            "grid_auto_columns": null,
            "margin": null,
            "display": null,
            "left": null
          }
        }
      }
    }
  },
  "cells": [
    {
      "cell_type": "markdown",
      "metadata": {
        "id": "view-in-github",
        "colab_type": "text"
      },
      "source": [
        "<a href=\"https://colab.research.google.com/github/silverstar0727/pragmatism-AI/blob/main/W%26B_keras_sweep.ipynb\" target=\"_parent\"><img src=\"https://colab.research.google.com/assets/colab-badge.svg\" alt=\"Open In Colab\"/></a>"
      ]
    },
    {
      "cell_type": "code",
      "metadata": {
        "colab": {
          "base_uri": "https://localhost:8080/"
        },
        "id": "g6CVrKhnCsFa",
        "outputId": "fd516beb-fe20-471a-f25f-949dbf683494"
      },
      "source": [
        "!pip install wandb -q"
      ],
      "execution_count": 1,
      "outputs": [
        {
          "output_type": "stream",
          "text": [
            "\u001b[K     |████████████████████████████████| 1.8MB 4.3MB/s \n",
            "\u001b[K     |████████████████████████████████| 102kB 13.8MB/s \n",
            "\u001b[K     |████████████████████████████████| 143kB 50.3MB/s \n",
            "\u001b[K     |████████████████████████████████| 143kB 50.1MB/s \n",
            "\u001b[K     |████████████████████████████████| 174kB 46.6MB/s \n",
            "\u001b[K     |████████████████████████████████| 71kB 9.4MB/s \n",
            "\u001b[?25h  Building wheel for subprocess32 (setup.py) ... \u001b[?25l\u001b[?25hdone\n",
            "  Building wheel for pathtools (setup.py) ... \u001b[?25l\u001b[?25hdone\n",
            "\u001b[31mERROR: requests 2.23.0 has requirement urllib3!=1.25.0,!=1.25.1,<1.26,>=1.21.1, but you'll have urllib3 1.26.6 which is incompatible.\u001b[0m\n",
            "\u001b[31mERROR: datascience 0.10.6 has requirement folium==0.2.1, but you'll have folium 0.8.3 which is incompatible.\u001b[0m\n"
          ],
          "name": "stdout"
        }
      ]
    },
    {
      "cell_type": "code",
      "metadata": {
        "id": "Wolfsk6eCmP0"
      },
      "source": [
        "import tensorflow as tf\n",
        "from tensorflow import keras\n",
        "from tensorflow.keras.layers import *\n",
        "from tensorflow.keras.optimizers import *\n",
        "from tensorflow.keras.datasets import cifar10\n",
        "\n",
        "import os\n",
        "import numpy as np\n",
        "import pandas as pd\n",
        "import matplotlib.pyplot as plt\n",
        "\n",
        "import wandb\n",
        "from wandb.keras import WandbCallback"
      ],
      "execution_count": 11,
      "outputs": []
    },
    {
      "cell_type": "code",
      "metadata": {
        "colab": {
          "base_uri": "https://localhost:8080/"
        },
        "id": "pC_dQIIJCmMK",
        "outputId": "8adfc42c-01d1-482f-bb58-81bb42310cf6"
      },
      "source": [
        "wandb.login()"
      ],
      "execution_count": 12,
      "outputs": [
        {
          "output_type": "execute_result",
          "data": {
            "text/plain": [
              "True"
            ]
          },
          "metadata": {
            "tags": []
          },
          "execution_count": 12
        }
      ]
    },
    {
      "cell_type": "code",
      "metadata": {
        "id": "f1erdQjoC0av"
      },
      "source": [
        "mnist = tf.keras.datasets.mnist\n",
        "\n",
        "(x_train, y_train), (x_test, y_test) = mnist.load_data()\n",
        "x_train, x_test = x_train / 255.0, x_test / 255.0"
      ],
      "execution_count": 43,
      "outputs": []
    },
    {
      "cell_type": "code",
      "metadata": {
        "id": "H0el0s7RShn6"
      },
      "source": [
        "class Model(tf.keras.Model):\n",
        "    def __init__(self):\n",
        "        super(Model, self).__init__()\n",
        "        self.flatten = tf.keras.layers.Flatten(input_shape=(28, 28))\n",
        "        self.linear1 = tf.keras.layers.Dense(128, activation='relu')\n",
        "        self.dropout = tf.keras.layers.Dropout(0.2)\n",
        "        self.linear2 = tf.keras.layers.Dense(10, activation='softmax')\n",
        "\n",
        "    def call(self, x):\n",
        "        x = self.flatten(x)\n",
        "        x = self.linear1(x)\n",
        "        x = self.dropout(x)\n",
        "        x = self.linear2(x)\n",
        "\n",
        "        return x"
      ],
      "execution_count": 44,
      "outputs": []
    },
    {
      "cell_type": "code",
      "metadata": {
        "id": "Qggq4Q4cCmJ7"
      },
      "source": [
        "def train():\n",
        "    # Specify the hyperparameter to be tuned along with\n",
        "    # an initial value\n",
        "    config_defaults = {\n",
        "        'batch_size': 8,\n",
        "        'learning_rate': 0.01\n",
        "    }\n",
        "\n",
        "    # Initialize wandb with a sample project name\n",
        "    wandb.init(config=config_defaults)\n",
        "\n",
        "    # Specify the other hyperparameters to the configuration, if any\n",
        "    wandb.config.epochs = 25\n",
        "\n",
        "    # Prepare trainloader\n",
        "    trainloader = tf.data.Dataset.from_tensor_slices((x_train, y_train))\n",
        "    trainloader = trainloader.shuffle(1024).batch(wandb.config.batch_size).prefetch(tf.data.experimental.AUTOTUNE)\n",
        "    # prepare testloader \n",
        "    testloader = tf.data.Dataset.from_tensor_slices((x_test, y_test))\n",
        "    testloader = testloader.batch(wandb.config.batch_size).prefetch(tf.data.experimental.AUTOTUNE)\n",
        "\n",
        "    # Iniialize model with hyperparameters\n",
        "    keras.backend.clear_session()\n",
        "    \n",
        "    model = Model()\n",
        "\n",
        "    # Compile the model\n",
        "    opt = tf.keras.optimizers.Adam(learning_rate=wandb.config.learning_rate) # optimizer with different learning rate specified by config\n",
        "    model.compile(opt, 'sparse_categorical_crossentropy', metrics=['acc'])\n",
        "    \n",
        "    # Train the model\n",
        "    _ = model.fit(trainloader,\n",
        "                  epochs=wandb.config.epochs, \n",
        "                  validation_data=testloader,\n",
        "                  callbacks=[WandbCallback(save_model=False)]) # WandbCallback to automatically track metrics\n",
        "                            \n",
        "    # Evaluate    \n",
        "    loss, accuracy = model.evaluate(testloader, callbacks=[WandbCallback(save_model=False)])\n",
        "    print('Test Error Rate: ', round((1-accuracy)*100, 2))\n",
        "    wandb.log({'Test Error Rate': round((1-accuracy)*100, 2)}) # wandb.log to track custom metrics"
      ],
      "execution_count": 45,
      "outputs": []
    },
    {
      "cell_type": "code",
      "metadata": {
        "id": "yD2s3qpECmHv"
      },
      "source": [
        "sweep_config = {\n",
        "  'method': 'bayes', \n",
        "  'metric': {\n",
        "      'name': 'val_loss',\n",
        "      'goal': 'minimize'\n",
        "  },\n",
        "  'early_terminate':{\n",
        "      'type': 'hyperband',\n",
        "      'min_iter': 5\n",
        "  },\n",
        "  'parameters': {\n",
        "      'batch_size': {\n",
        "          'values': [8, 16, 32, 64, 128, 256]\n",
        "      },\n",
        "      'learning_rate':{\n",
        "          'values': [0.01, 0.005, 0.001, 0.0005, 0.0001]\n",
        "      }\n",
        "  }\n",
        "}"
      ],
      "execution_count": 46,
      "outputs": []
    },
    {
      "cell_type": "code",
      "metadata": {
        "colab": {
          "base_uri": "https://localhost:8080/"
        },
        "id": "vLcrjfOQCmFW",
        "outputId": "89910b89-3189-40cb-92d4-b0780030ddaa"
      },
      "source": [
        "sweep_id = wandb.sweep(sweep_config, project=\"abc\")"
      ],
      "execution_count": 47,
      "outputs": [
        {
          "output_type": "stream",
          "text": [
            "Create sweep with ID: qt9snm2s\n",
            "Sweep URL: https://wandb.ai/jeongmin/abc/sweeps/qt9snm2s\n"
          ],
          "name": "stdout"
        }
      ]
    },
    {
      "cell_type": "code",
      "metadata": {
        "colab": {
          "base_uri": "https://localhost:8080/",
          "height": 1000,
          "referenced_widgets": [
            "90a237fc99a2457ab6795df132aba375",
            "6be5e0c035c1431c878529e70049785a",
            "fc4b5bd56b7e4cbb9b8e9568cade02ab",
            "6f52a0333c5d483a990402dd01ad3535",
            "42e03d8fe5394798bf8853b0d265b724",
            "5588183dd17640bfb24e55995116cba1",
            "b0d5b680bdb24e5e92e5acab4de802fb",
            "c1997495700d4edfadb7a66c15f5008b",
            "d6565723c4e441e5909e2f6ca32ff3cf",
            "a6179e8380f240bc95e5f77c8050044f",
            "f2c40a9c5d4e41caa89e3e83bb3f4183",
            "2735c92f9fee40f9b85a8ca4401133e1",
            "982149cdb19e4a65bca6b0e7f89cba80",
            "c57b31a8fa4f4183949e0dfcec1a8fec",
            "fcd5fc200956480dab4259bb2b89737e",
            "eeb3927253464703b1ab764c6c35f7e5",
            "bcb7a7aba4a2427f8ebbf8cde68c42bb",
            "2a364adea4e54807b6f2b3d2d4b6d056",
            "c79d02f7363f4971aee12b28751f1296",
            "3ecb503b0341491883198a134841b9f1",
            "186c9cde2d6249158570e9898c7e1246",
            "9a03bfdea7bb41df976e9f207b0f55e3",
            "e656269d8bb94ac5a3f0fb3ce09eb698",
            "35fb7432527744808b224edb74f2d209"
          ]
        },
        "id": "ScAcOXSiCmDJ",
        "outputId": "4c7d6d92-368b-4764-bf0d-7a6c91f5c826"
      },
      "source": [
        "wandb.agent(sweep_id, function=train)"
      ],
      "execution_count": 48,
      "outputs": [
        {
          "output_type": "stream",
          "text": [
            "\u001b[34m\u001b[1mwandb\u001b[0m: Agent Starting Run: jw6aqhx8 with config:\n",
            "\u001b[34m\u001b[1mwandb\u001b[0m: \tbatch_size: 64\n",
            "\u001b[34m\u001b[1mwandb\u001b[0m: \tlearning_rate: 0.0001\n"
          ],
          "name": "stderr"
        },
        {
          "output_type": "display_data",
          "data": {
            "text/html": [
              "\n",
              "                Tracking run with wandb version 0.11.0<br/>\n",
              "                Syncing run <strong style=\"color:#cdcd00\">generous-sweep-1</strong> to <a href=\"https://wandb.ai\" target=\"_blank\">Weights & Biases</a> <a href=\"https://docs.wandb.com/integrations/jupyter.html\" target=\"_blank\">(Documentation)</a>.<br/>\n",
              "                Project page: <a href=\"https://wandb.ai/jeongmin/abc\" target=\"_blank\">https://wandb.ai/jeongmin/abc</a><br/>\n",
              "                Sweep page: <a href=\"https://wandb.ai/jeongmin/abc/sweeps/qt9snm2s\" target=\"_blank\">https://wandb.ai/jeongmin/abc/sweeps/qt9snm2s</a><br/>\n",
              "Run page: <a href=\"https://wandb.ai/jeongmin/abc/runs/jw6aqhx8\" target=\"_blank\">https://wandb.ai/jeongmin/abc/runs/jw6aqhx8</a><br/>\n",
              "                Run data is saved locally in <code>/content/wandb/run-20210719_112326-jw6aqhx8</code><br/><br/>\n",
              "            "
            ],
            "text/plain": [
              "<IPython.core.display.HTML object>"
            ]
          },
          "metadata": {
            "tags": []
          }
        },
        {
          "output_type": "stream",
          "text": [
            "Epoch 1/25\n",
            "938/938 [==============================] - 3s 3ms/step - loss: 0.8797 - acc: 0.7631 - val_loss: 0.3927 - val_acc: 0.9015\n",
            "Epoch 2/25\n",
            "938/938 [==============================] - 2s 2ms/step - loss: 0.3896 - acc: 0.8928 - val_loss: 0.2956 - val_acc: 0.9197\n",
            "Epoch 3/25\n",
            "938/938 [==============================] - 2s 2ms/step - loss: 0.3162 - acc: 0.9122 - val_loss: 0.2550 - val_acc: 0.9290\n",
            "Epoch 4/25\n",
            "938/938 [==============================] - 2s 2ms/step - loss: 0.2750 - acc: 0.9235 - val_loss: 0.2268 - val_acc: 0.9340\n",
            "Epoch 5/25\n",
            "938/938 [==============================] - 2s 2ms/step - loss: 0.2472 - acc: 0.9301 - val_loss: 0.2054 - val_acc: 0.9409\n",
            "Epoch 6/25\n",
            "938/938 [==============================] - 2s 3ms/step - loss: 0.2265 - acc: 0.9355 - val_loss: 0.1887 - val_acc: 0.9447\n",
            "Epoch 7/25\n",
            "938/938 [==============================] - 2s 2ms/step - loss: 0.2078 - acc: 0.9418 - val_loss: 0.1750 - val_acc: 0.9485\n",
            "Epoch 8/25\n",
            "938/938 [==============================] - 2s 2ms/step - loss: 0.1923 - acc: 0.9453 - val_loss: 0.1622 - val_acc: 0.9521\n",
            "Epoch 9/25\n",
            "938/938 [==============================] - 2s 2ms/step - loss: 0.1789 - acc: 0.9491 - val_loss: 0.1515 - val_acc: 0.9556\n",
            "Epoch 10/25\n",
            "938/938 [==============================] - 2s 2ms/step - loss: 0.1681 - acc: 0.9525 - val_loss: 0.1431 - val_acc: 0.9577\n",
            "Epoch 11/25\n",
            "938/938 [==============================] - 2s 3ms/step - loss: 0.1593 - acc: 0.9543 - val_loss: 0.1360 - val_acc: 0.9607\n",
            "Epoch 12/25\n",
            "938/938 [==============================] - 3s 3ms/step - loss: 0.1505 - acc: 0.9565 - val_loss: 0.1298 - val_acc: 0.9616\n",
            "Epoch 13/25\n",
            "938/938 [==============================] - 2s 3ms/step - loss: 0.1426 - acc: 0.9591 - val_loss: 0.1242 - val_acc: 0.9634\n",
            "Epoch 14/25\n",
            "938/938 [==============================] - 3s 3ms/step - loss: 0.1379 - acc: 0.9606 - val_loss: 0.1194 - val_acc: 0.9650\n",
            "Epoch 15/25\n",
            "938/938 [==============================] - 3s 3ms/step - loss: 0.1307 - acc: 0.9624 - val_loss: 0.1149 - val_acc: 0.9666\n",
            "Epoch 16/25\n",
            "938/938 [==============================] - 3s 3ms/step - loss: 0.1243 - acc: 0.9641 - val_loss: 0.1111 - val_acc: 0.9670\n",
            "Epoch 17/25\n",
            "938/938 [==============================] - 3s 3ms/step - loss: 0.1188 - acc: 0.9663 - val_loss: 0.1073 - val_acc: 0.9685\n",
            "Epoch 18/25\n",
            "938/938 [==============================] - 3s 3ms/step - loss: 0.1140 - acc: 0.9669 - val_loss: 0.1043 - val_acc: 0.9700\n",
            "Epoch 19/25\n",
            "938/938 [==============================] - 3s 3ms/step - loss: 0.1102 - acc: 0.9686 - val_loss: 0.1016 - val_acc: 0.9702\n",
            "Epoch 20/25\n",
            "938/938 [==============================] - 2s 3ms/step - loss: 0.1066 - acc: 0.9689 - val_loss: 0.0988 - val_acc: 0.9711\n",
            "Epoch 21/25\n",
            "938/938 [==============================] - 3s 3ms/step - loss: 0.1024 - acc: 0.9709 - val_loss: 0.0968 - val_acc: 0.9712\n",
            "Epoch 22/25\n",
            "938/938 [==============================] - 2s 3ms/step - loss: 0.0989 - acc: 0.9715 - val_loss: 0.0934 - val_acc: 0.9722\n",
            "Epoch 23/25\n",
            "938/938 [==============================] - 2s 3ms/step - loss: 0.0951 - acc: 0.9722 - val_loss: 0.0919 - val_acc: 0.9724\n",
            "Epoch 24/25\n",
            "938/938 [==============================] - 2s 3ms/step - loss: 0.0933 - acc: 0.9735 - val_loss: 0.0894 - val_acc: 0.9738\n",
            "Epoch 25/25\n",
            "938/938 [==============================] - 2s 3ms/step - loss: 0.0887 - acc: 0.9744 - val_loss: 0.0877 - val_acc: 0.9739\n",
            "157/157 [==============================] - 0s 2ms/step - loss: 0.0877 - acc: 0.9739\n",
            "Test Error Rate:  2.61\n"
          ],
          "name": "stdout"
        },
        {
          "output_type": "display_data",
          "data": {
            "text/html": [
              "<br/>Waiting for W&B process to finish, PID 1505<br/>Program ended successfully."
            ],
            "text/plain": [
              "<IPython.core.display.HTML object>"
            ]
          },
          "metadata": {
            "tags": []
          }
        },
        {
          "output_type": "display_data",
          "data": {
            "application/vnd.jupyter.widget-view+json": {
              "model_id": "90a237fc99a2457ab6795df132aba375",
              "version_minor": 0,
              "version_major": 2
            },
            "text/plain": [
              "VBox(children=(Label(value=' 0.00MB of 0.00MB uploaded (0.00MB deduped)\\r'), FloatProgress(value=1.0, max=1.0)…"
            ]
          },
          "metadata": {
            "tags": []
          }
        },
        {
          "output_type": "display_data",
          "data": {
            "text/html": [
              "Find user logs for this run at: <code>/content/wandb/run-20210719_112326-jw6aqhx8/logs/debug.log</code>"
            ],
            "text/plain": [
              "<IPython.core.display.HTML object>"
            ]
          },
          "metadata": {
            "tags": []
          }
        },
        {
          "output_type": "display_data",
          "data": {
            "text/html": [
              "Find internal logs for this run at: <code>/content/wandb/run-20210719_112326-jw6aqhx8/logs/debug-internal.log</code>"
            ],
            "text/plain": [
              "<IPython.core.display.HTML object>"
            ]
          },
          "metadata": {
            "tags": []
          }
        },
        {
          "output_type": "display_data",
          "data": {
            "text/html": [
              "<h3>Run summary:</h3><br/><style>\n",
              "    table.wandb td:nth-child(1) { padding: 0 10px; text-align: right }\n",
              "    </style><table class=\"wandb\">\n",
              "<tr><td>epoch</td><td>24</td></tr><tr><td>loss</td><td>0.08873</td></tr><tr><td>acc</td><td>0.97438</td></tr><tr><td>val_loss</td><td>0.08769</td></tr><tr><td>val_acc</td><td>0.9739</td></tr><tr><td>_runtime</td><td>75</td></tr><tr><td>_timestamp</td><td>1626693881</td></tr><tr><td>_step</td><td>25</td></tr><tr><td>best_val_loss</td><td>0.08769</td></tr><tr><td>best_epoch</td><td>24</td></tr><tr><td>Test Error Rate</td><td>2.61</td></tr></table>"
            ],
            "text/plain": [
              "<IPython.core.display.HTML object>"
            ]
          },
          "metadata": {
            "tags": []
          }
        },
        {
          "output_type": "display_data",
          "data": {
            "text/html": [
              "<h3>Run history:</h3><br/><style>\n",
              "    table.wandb td:nth-child(1) { padding: 0 10px; text-align: right }\n",
              "    </style><table class=\"wandb\">\n",
              "<tr><td>epoch</td><td>▁▁▂▂▂▂▃▃▃▄▄▄▅▅▅▅▆▆▆▇▇▇▇██</td></tr><tr><td>loss</td><td>█▄▃▃▂▂▂▂▂▂▂▂▁▁▁▁▁▁▁▁▁▁▁▁▁</td></tr><tr><td>acc</td><td>▁▅▆▆▇▇▇▇▇▇▇▇▇████████████</td></tr><tr><td>val_loss</td><td>█▆▅▄▄▃▃▃▂▂▂▂▂▂▂▂▁▁▁▁▁▁▁▁▁</td></tr><tr><td>val_acc</td><td>▁▃▄▄▅▅▆▆▆▆▇▇▇▇▇▇▇████████</td></tr><tr><td>_runtime</td><td>▁▁▂▂▂▂▃▃▃▃▄▄▄▄▅▅▆▆▆▇▇▇▇███</td></tr><tr><td>_timestamp</td><td>▁▁▂▂▂▂▃▃▃▃▄▄▄▄▅▅▆▆▆▇▇▇▇███</td></tr><tr><td>_step</td><td>▁▁▂▂▂▂▃▃▃▄▄▄▄▅▅▅▅▆▆▆▇▇▇▇██</td></tr><tr><td>Test Error Rate</td><td>▁</td></tr></table><br/>"
            ],
            "text/plain": [
              "<IPython.core.display.HTML object>"
            ]
          },
          "metadata": {
            "tags": []
          }
        },
        {
          "output_type": "display_data",
          "data": {
            "text/html": [
              "Synced 5 W&B file(s), 1 media file(s), 0 artifact file(s) and 0 other file(s)"
            ],
            "text/plain": [
              "<IPython.core.display.HTML object>"
            ]
          },
          "metadata": {
            "tags": []
          }
        },
        {
          "output_type": "display_data",
          "data": {
            "text/html": [
              "\n",
              "                    <br/>Synced <strong style=\"color:#cdcd00\">generous-sweep-1</strong>: <a href=\"https://wandb.ai/jeongmin/abc/runs/jw6aqhx8\" target=\"_blank\">https://wandb.ai/jeongmin/abc/runs/jw6aqhx8</a><br/>\n",
              "                "
            ],
            "text/plain": [
              "<IPython.core.display.HTML object>"
            ]
          },
          "metadata": {
            "tags": []
          }
        },
        {
          "output_type": "stream",
          "text": [
            "\u001b[34m\u001b[1mwandb\u001b[0m: Agent Starting Run: 9g6xejgs with config:\n",
            "\u001b[34m\u001b[1mwandb\u001b[0m: \tbatch_size: 128\n",
            "\u001b[34m\u001b[1mwandb\u001b[0m: \tlearning_rate: 0.01\n"
          ],
          "name": "stderr"
        },
        {
          "output_type": "display_data",
          "data": {
            "text/html": [
              "\n",
              "                Tracking run with wandb version 0.11.0<br/>\n",
              "                Syncing run <strong style=\"color:#cdcd00\">rosy-sweep-2</strong> to <a href=\"https://wandb.ai\" target=\"_blank\">Weights & Biases</a> <a href=\"https://docs.wandb.com/integrations/jupyter.html\" target=\"_blank\">(Documentation)</a>.<br/>\n",
              "                Project page: <a href=\"https://wandb.ai/jeongmin/abc\" target=\"_blank\">https://wandb.ai/jeongmin/abc</a><br/>\n",
              "                Sweep page: <a href=\"https://wandb.ai/jeongmin/abc/sweeps/qt9snm2s\" target=\"_blank\">https://wandb.ai/jeongmin/abc/sweeps/qt9snm2s</a><br/>\n",
              "Run page: <a href=\"https://wandb.ai/jeongmin/abc/runs/9g6xejgs\" target=\"_blank\">https://wandb.ai/jeongmin/abc/runs/9g6xejgs</a><br/>\n",
              "                Run data is saved locally in <code>/content/wandb/run-20210719_112447-9g6xejgs</code><br/><br/>\n",
              "            "
            ],
            "text/plain": [
              "<IPython.core.display.HTML object>"
            ]
          },
          "metadata": {
            "tags": []
          }
        },
        {
          "output_type": "stream",
          "text": [
            "Epoch 1/25\n",
            "469/469 [==============================] - 2s 3ms/step - loss: 0.2735 - acc: 0.9165 - val_loss: 0.1557 - val_acc: 0.9524\n",
            "Epoch 2/25\n",
            "469/469 [==============================] - 1s 3ms/step - loss: 0.1684 - acc: 0.9493 - val_loss: 0.1304 - val_acc: 0.9638\n",
            "Epoch 3/25\n",
            "469/469 [==============================] - 1s 3ms/step - loss: 0.1440 - acc: 0.9559 - val_loss: 0.1500 - val_acc: 0.9584\n",
            "Epoch 4/25\n",
            "469/469 [==============================] - 1s 3ms/step - loss: 0.1333 - acc: 0.9592 - val_loss: 0.1356 - val_acc: 0.9644\n",
            "Epoch 5/25\n",
            "469/469 [==============================] - 1s 3ms/step - loss: 0.1276 - acc: 0.9617 - val_loss: 0.1433 - val_acc: 0.9645\n",
            "Epoch 6/25\n",
            "469/469 [==============================] - 1s 3ms/step - loss: 0.1193 - acc: 0.9631 - val_loss: 0.1551 - val_acc: 0.9626\n",
            "Epoch 7/25\n",
            "469/469 [==============================] - 1s 3ms/step - loss: 0.1136 - acc: 0.9658 - val_loss: 0.1399 - val_acc: 0.9654\n",
            "Epoch 8/25\n",
            "469/469 [==============================] - 1s 3ms/step - loss: 0.1106 - acc: 0.9668 - val_loss: 0.1312 - val_acc: 0.9705\n",
            "Epoch 9/25\n",
            "469/469 [==============================] - 1s 3ms/step - loss: 0.1075 - acc: 0.9678 - val_loss: 0.1527 - val_acc: 0.9644\n",
            "Epoch 10/25\n",
            "469/469 [==============================] - 1s 3ms/step - loss: 0.1028 - acc: 0.9695 - val_loss: 0.1683 - val_acc: 0.9635\n",
            "Epoch 11/25\n",
            "469/469 [==============================] - 1s 3ms/step - loss: 0.1000 - acc: 0.9706 - val_loss: 0.1604 - val_acc: 0.9668\n",
            "Epoch 12/25\n",
            "469/469 [==============================] - 1s 3ms/step - loss: 0.1001 - acc: 0.9701 - val_loss: 0.1601 - val_acc: 0.9666\n",
            "Epoch 13/25\n",
            "469/469 [==============================] - 1s 3ms/step - loss: 0.0885 - acc: 0.9737 - val_loss: 0.1722 - val_acc: 0.9649\n",
            "Epoch 14/25\n",
            "469/469 [==============================] - 1s 3ms/step - loss: 0.0986 - acc: 0.9718 - val_loss: 0.1779 - val_acc: 0.9663\n",
            "Epoch 15/25\n",
            "469/469 [==============================] - 1s 3ms/step - loss: 0.0966 - acc: 0.9726 - val_loss: 0.1749 - val_acc: 0.9685\n",
            "Epoch 16/25\n",
            "469/469 [==============================] - 1s 3ms/step - loss: 0.0905 - acc: 0.9735 - val_loss: 0.2237 - val_acc: 0.9630\n",
            "Epoch 17/25\n",
            "469/469 [==============================] - 1s 3ms/step - loss: 0.0842 - acc: 0.9760 - val_loss: 0.1765 - val_acc: 0.9709\n",
            "Epoch 18/25\n",
            "469/469 [==============================] - 1s 3ms/step - loss: 0.0861 - acc: 0.9754 - val_loss: 0.1766 - val_acc: 0.9699\n",
            "Epoch 19/25\n",
            "469/469 [==============================] - 1s 3ms/step - loss: 0.0872 - acc: 0.9760 - val_loss: 0.1850 - val_acc: 0.9695\n",
            "Epoch 20/25\n",
            "469/469 [==============================] - 1s 3ms/step - loss: 0.0830 - acc: 0.9766 - val_loss: 0.1761 - val_acc: 0.9706\n",
            "Epoch 21/25\n",
            "469/469 [==============================] - 1s 3ms/step - loss: 0.0866 - acc: 0.9761 - val_loss: 0.1975 - val_acc: 0.9698\n",
            "Epoch 22/25\n",
            "469/469 [==============================] - 1s 3ms/step - loss: 0.0799 - acc: 0.9779 - val_loss: 0.1899 - val_acc: 0.9700\n",
            "Epoch 23/25\n",
            "469/469 [==============================] - 1s 3ms/step - loss: 0.0860 - acc: 0.9766 - val_loss: 0.1769 - val_acc: 0.9717\n",
            "Epoch 24/25\n",
            "469/469 [==============================] - 1s 3ms/step - loss: 0.0747 - acc: 0.9793 - val_loss: 0.2200 - val_acc: 0.9701\n",
            "Epoch 25/25\n",
            "469/469 [==============================] - 1s 3ms/step - loss: 0.0830 - acc: 0.9777 - val_loss: 0.2121 - val_acc: 0.9689\n",
            "79/79 [==============================] - 0s 2ms/step - loss: 0.2121 - acc: 0.9689\n",
            "Test Error Rate:  3.11\n"
          ],
          "name": "stdout"
        },
        {
          "output_type": "display_data",
          "data": {
            "text/html": [
              "<br/>Waiting for W&B process to finish, PID 1645<br/>Program ended successfully."
            ],
            "text/plain": [
              "<IPython.core.display.HTML object>"
            ]
          },
          "metadata": {
            "tags": []
          }
        },
        {
          "output_type": "display_data",
          "data": {
            "application/vnd.jupyter.widget-view+json": {
              "model_id": "d6565723c4e441e5909e2f6ca32ff3cf",
              "version_minor": 0,
              "version_major": 2
            },
            "text/plain": [
              "VBox(children=(Label(value=' 0.00MB of 0.00MB uploaded (0.00MB deduped)\\r'), FloatProgress(value=1.0, max=1.0)…"
            ]
          },
          "metadata": {
            "tags": []
          }
        },
        {
          "output_type": "display_data",
          "data": {
            "text/html": [
              "Find user logs for this run at: <code>/content/wandb/run-20210719_112447-9g6xejgs/logs/debug.log</code>"
            ],
            "text/plain": [
              "<IPython.core.display.HTML object>"
            ]
          },
          "metadata": {
            "tags": []
          }
        },
        {
          "output_type": "display_data",
          "data": {
            "text/html": [
              "Find internal logs for this run at: <code>/content/wandb/run-20210719_112447-9g6xejgs/logs/debug-internal.log</code>"
            ],
            "text/plain": [
              "<IPython.core.display.HTML object>"
            ]
          },
          "metadata": {
            "tags": []
          }
        },
        {
          "output_type": "display_data",
          "data": {
            "text/html": [
              "<h3>Run summary:</h3><br/><style>\n",
              "    table.wandb td:nth-child(1) { padding: 0 10px; text-align: right }\n",
              "    </style><table class=\"wandb\">\n",
              "<tr><td>epoch</td><td>24</td></tr><tr><td>loss</td><td>0.08296</td></tr><tr><td>acc</td><td>0.97768</td></tr><tr><td>val_loss</td><td>0.21212</td></tr><tr><td>val_acc</td><td>0.9689</td></tr><tr><td>_runtime</td><td>51</td></tr><tr><td>_timestamp</td><td>1626693938</td></tr><tr><td>_step</td><td>25</td></tr><tr><td>best_val_loss</td><td>0.13037</td></tr><tr><td>best_epoch</td><td>1</td></tr><tr><td>Test Error Rate</td><td>3.11</td></tr></table>"
            ],
            "text/plain": [
              "<IPython.core.display.HTML object>"
            ]
          },
          "metadata": {
            "tags": []
          }
        },
        {
          "output_type": "display_data",
          "data": {
            "text/html": [
              "<h3>Run history:</h3><br/><style>\n",
              "    table.wandb td:nth-child(1) { padding: 0 10px; text-align: right }\n",
              "    </style><table class=\"wandb\">\n",
              "<tr><td>epoch</td><td>▁▁▂▂▂▂▃▃▃▄▄▄▅▅▅▅▆▆▆▇▇▇▇██</td></tr><tr><td>loss</td><td>█▄▃▃▃▃▂▂▂▂▂▂▁▂▂▂▁▁▁▁▁▁▁▁▁</td></tr><tr><td>acc</td><td>▁▅▅▆▆▆▆▇▇▇▇▇▇▇▇▇█████████</td></tr><tr><td>val_loss</td><td>▃▁▂▁▂▃▂▁▃▄▃▃▄▅▄█▄▄▅▄▆▅▄█▇</td></tr><tr><td>val_acc</td><td>▁▅▃▅▅▅▆█▅▅▆▆▆▆▇▅█▇▇█▇▇█▇▇</td></tr><tr><td>_runtime</td><td>▁▁▂▂▂▂▃▃▃▄▄▄▄▅▅▅▅▆▆▆▇▇▇███</td></tr><tr><td>_timestamp</td><td>▁▁▂▂▂▂▃▃▃▄▄▄▄▅▅▅▅▆▆▆▇▇▇███</td></tr><tr><td>_step</td><td>▁▁▂▂▂▂▃▃▃▄▄▄▄▅▅▅▅▆▆▆▇▇▇▇██</td></tr><tr><td>Test Error Rate</td><td>▁</td></tr></table><br/>"
            ],
            "text/plain": [
              "<IPython.core.display.HTML object>"
            ]
          },
          "metadata": {
            "tags": []
          }
        },
        {
          "output_type": "display_data",
          "data": {
            "text/html": [
              "Synced 5 W&B file(s), 1 media file(s), 0 artifact file(s) and 0 other file(s)"
            ],
            "text/plain": [
              "<IPython.core.display.HTML object>"
            ]
          },
          "metadata": {
            "tags": []
          }
        },
        {
          "output_type": "display_data",
          "data": {
            "text/html": [
              "\n",
              "                    <br/>Synced <strong style=\"color:#cdcd00\">rosy-sweep-2</strong>: <a href=\"https://wandb.ai/jeongmin/abc/runs/9g6xejgs\" target=\"_blank\">https://wandb.ai/jeongmin/abc/runs/9g6xejgs</a><br/>\n",
              "                "
            ],
            "text/plain": [
              "<IPython.core.display.HTML object>"
            ]
          },
          "metadata": {
            "tags": []
          }
        },
        {
          "output_type": "stream",
          "text": [
            "\u001b[34m\u001b[1mwandb\u001b[0m: Agent Starting Run: m8lno5h9 with config:\n",
            "\u001b[34m\u001b[1mwandb\u001b[0m: \tbatch_size: 256\n",
            "\u001b[34m\u001b[1mwandb\u001b[0m: \tlearning_rate: 0.001\n"
          ],
          "name": "stderr"
        },
        {
          "output_type": "display_data",
          "data": {
            "text/html": [
              "\n",
              "                Tracking run with wandb version 0.11.0<br/>\n",
              "                Syncing run <strong style=\"color:#cdcd00\">lemon-sweep-3</strong> to <a href=\"https://wandb.ai\" target=\"_blank\">Weights & Biases</a> <a href=\"https://docs.wandb.com/integrations/jupyter.html\" target=\"_blank\">(Documentation)</a>.<br/>\n",
              "                Project page: <a href=\"https://wandb.ai/jeongmin/abc\" target=\"_blank\">https://wandb.ai/jeongmin/abc</a><br/>\n",
              "                Sweep page: <a href=\"https://wandb.ai/jeongmin/abc/sweeps/qt9snm2s\" target=\"_blank\">https://wandb.ai/jeongmin/abc/sweeps/qt9snm2s</a><br/>\n",
              "Run page: <a href=\"https://wandb.ai/jeongmin/abc/runs/m8lno5h9\" target=\"_blank\">https://wandb.ai/jeongmin/abc/runs/m8lno5h9</a><br/>\n",
              "                Run data is saved locally in <code>/content/wandb/run-20210719_112544-m8lno5h9</code><br/><br/>\n",
              "            "
            ],
            "text/plain": [
              "<IPython.core.display.HTML object>"
            ]
          },
          "metadata": {
            "tags": []
          }
        },
        {
          "output_type": "stream",
          "text": [
            "Epoch 1/25\n",
            "235/235 [==============================] - 1s 4ms/step - loss: 0.5003 - acc: 0.8578 - val_loss: 0.2374 - val_acc: 0.9304\n",
            "Epoch 2/25\n",
            "235/235 [==============================] - 1s 4ms/step - loss: 0.2367 - acc: 0.9327 - val_loss: 0.1726 - val_acc: 0.9482\n",
            "Epoch 3/25\n",
            "235/235 [==============================] - 1s 4ms/step - loss: 0.1804 - acc: 0.9481 - val_loss: 0.1385 - val_acc: 0.9577\n",
            "Epoch 4/25\n",
            "235/235 [==============================] - 1s 4ms/step - loss: 0.1482 - acc: 0.9577 - val_loss: 0.1187 - val_acc: 0.9638\n",
            "Epoch 5/25\n",
            "235/235 [==============================] - 1s 4ms/step - loss: 0.1270 - acc: 0.9638 - val_loss: 0.1058 - val_acc: 0.9681\n",
            "Epoch 6/25\n",
            "235/235 [==============================] - 1s 4ms/step - loss: 0.1117 - acc: 0.9672 - val_loss: 0.0944 - val_acc: 0.9709\n",
            "Epoch 7/25\n",
            "235/235 [==============================] - 1s 4ms/step - loss: 0.1004 - acc: 0.9701 - val_loss: 0.0895 - val_acc: 0.9720\n",
            "Epoch 8/25\n",
            "235/235 [==============================] - 1s 4ms/step - loss: 0.0897 - acc: 0.9735 - val_loss: 0.0844 - val_acc: 0.9736\n",
            "Epoch 9/25\n",
            "235/235 [==============================] - 1s 4ms/step - loss: 0.0819 - acc: 0.9759 - val_loss: 0.0795 - val_acc: 0.9750\n",
            "Epoch 10/25\n",
            "235/235 [==============================] - 1s 4ms/step - loss: 0.0759 - acc: 0.9768 - val_loss: 0.0782 - val_acc: 0.9758\n",
            "Epoch 11/25\n",
            "235/235 [==============================] - 1s 4ms/step - loss: 0.0674 - acc: 0.9800 - val_loss: 0.0756 - val_acc: 0.9761\n",
            "Epoch 12/25\n",
            "235/235 [==============================] - 1s 4ms/step - loss: 0.0634 - acc: 0.9810 - val_loss: 0.0720 - val_acc: 0.9776\n",
            "Epoch 13/25\n",
            "235/235 [==============================] - 1s 3ms/step - loss: 0.0587 - acc: 0.9823 - val_loss: 0.0724 - val_acc: 0.9783\n",
            "Epoch 14/25\n",
            "235/235 [==============================] - 1s 3ms/step - loss: 0.0554 - acc: 0.9829 - val_loss: 0.0704 - val_acc: 0.9786\n",
            "Epoch 15/25\n",
            "235/235 [==============================] - 1s 3ms/step - loss: 0.0522 - acc: 0.9843 - val_loss: 0.0695 - val_acc: 0.9781\n",
            "Epoch 16/25\n",
            "235/235 [==============================] - 1s 4ms/step - loss: 0.0483 - acc: 0.9855 - val_loss: 0.0680 - val_acc: 0.9779\n",
            "Epoch 17/25\n",
            "235/235 [==============================] - 1s 4ms/step - loss: 0.0462 - acc: 0.9859 - val_loss: 0.0666 - val_acc: 0.9800\n",
            "Epoch 18/25\n",
            "235/235 [==============================] - 1s 3ms/step - loss: 0.0438 - acc: 0.9863 - val_loss: 0.0658 - val_acc: 0.9795\n",
            "Epoch 19/25\n",
            "235/235 [==============================] - 1s 3ms/step - loss: 0.0407 - acc: 0.9875 - val_loss: 0.0701 - val_acc: 0.9785\n",
            "Epoch 20/25\n",
            "235/235 [==============================] - 1s 4ms/step - loss: 0.0392 - acc: 0.9879 - val_loss: 0.0677 - val_acc: 0.9785\n",
            "Epoch 21/25\n",
            "235/235 [==============================] - 1s 3ms/step - loss: 0.0360 - acc: 0.9888 - val_loss: 0.0701 - val_acc: 0.9788\n",
            "Epoch 22/25\n",
            "235/235 [==============================] - 1s 3ms/step - loss: 0.0345 - acc: 0.9892 - val_loss: 0.0680 - val_acc: 0.9788\n",
            "Epoch 23/25\n",
            "235/235 [==============================] - 1s 3ms/step - loss: 0.0340 - acc: 0.9898 - val_loss: 0.0670 - val_acc: 0.9794\n",
            "Epoch 24/25\n",
            "235/235 [==============================] - 1s 3ms/step - loss: 0.0297 - acc: 0.9911 - val_loss: 0.0686 - val_acc: 0.9793\n",
            "Epoch 25/25\n",
            "235/235 [==============================] - 1s 4ms/step - loss: 0.0288 - acc: 0.9905 - val_loss: 0.0692 - val_acc: 0.9791\n",
            "40/40 [==============================] - 0s 2ms/step - loss: 0.0692 - acc: 0.9791\n",
            "Test Error Rate:  2.09\n"
          ],
          "name": "stdout"
        },
        {
          "output_type": "display_data",
          "data": {
            "text/html": [
              "<br/>Waiting for W&B process to finish, PID 1785<br/>Program ended successfully."
            ],
            "text/plain": [
              "<IPython.core.display.HTML object>"
            ]
          },
          "metadata": {
            "tags": []
          }
        },
        {
          "output_type": "display_data",
          "data": {
            "application/vnd.jupyter.widget-view+json": {
              "model_id": "bcb7a7aba4a2427f8ebbf8cde68c42bb",
              "version_minor": 0,
              "version_major": 2
            },
            "text/plain": [
              "VBox(children=(Label(value=' 0.00MB of 0.00MB uploaded (0.00MB deduped)\\r'), FloatProgress(value=1.0, max=1.0)…"
            ]
          },
          "metadata": {
            "tags": []
          }
        },
        {
          "output_type": "display_data",
          "data": {
            "text/html": [
              "Find user logs for this run at: <code>/content/wandb/run-20210719_112544-m8lno5h9/logs/debug.log</code>"
            ],
            "text/plain": [
              "<IPython.core.display.HTML object>"
            ]
          },
          "metadata": {
            "tags": []
          }
        },
        {
          "output_type": "display_data",
          "data": {
            "text/html": [
              "Find internal logs for this run at: <code>/content/wandb/run-20210719_112544-m8lno5h9/logs/debug-internal.log</code>"
            ],
            "text/plain": [
              "<IPython.core.display.HTML object>"
            ]
          },
          "metadata": {
            "tags": []
          }
        },
        {
          "output_type": "display_data",
          "data": {
            "text/html": [
              "<h3>Run summary:</h3><br/><style>\n",
              "    table.wandb td:nth-child(1) { padding: 0 10px; text-align: right }\n",
              "    </style><table class=\"wandb\">\n",
              "<tr><td>epoch</td><td>24</td></tr><tr><td>loss</td><td>0.02883</td></tr><tr><td>acc</td><td>0.99053</td></tr><tr><td>val_loss</td><td>0.06919</td></tr><tr><td>val_acc</td><td>0.9791</td></tr><tr><td>_runtime</td><td>31</td></tr><tr><td>_timestamp</td><td>1626693975</td></tr><tr><td>_step</td><td>25</td></tr><tr><td>best_val_loss</td><td>0.0658</td></tr><tr><td>best_epoch</td><td>17</td></tr><tr><td>Test Error Rate</td><td>2.09</td></tr></table>"
            ],
            "text/plain": [
              "<IPython.core.display.HTML object>"
            ]
          },
          "metadata": {
            "tags": []
          }
        },
        {
          "output_type": "display_data",
          "data": {
            "text/html": [
              "<h3>Run history:</h3><br/><style>\n",
              "    table.wandb td:nth-child(1) { padding: 0 10px; text-align: right }\n",
              "    </style><table class=\"wandb\">\n",
              "<tr><td>epoch</td><td>▁▁▂▂▂▂▃▃▃▄▄▄▅▅▅▅▆▆▆▇▇▇▇██</td></tr><tr><td>loss</td><td>█▄▃▃▂▂▂▂▂▂▂▂▁▁▁▁▁▁▁▁▁▁▁▁▁</td></tr><tr><td>acc</td><td>▁▅▆▆▇▇▇▇▇▇▇▇█████████████</td></tr><tr><td>val_loss</td><td>█▅▄▃▃▂▂▂▂▂▁▁▁▁▁▁▁▁▁▁▁▁▁▁▁</td></tr><tr><td>val_acc</td><td>▁▄▅▆▆▇▇▇▇▇▇██████████████</td></tr><tr><td>_runtime</td><td>▁▁▂▂▂▂▃▃▃▄▄▄▅▅▅▆▆▆▆▇▇▇▇███</td></tr><tr><td>_timestamp</td><td>▁▁▂▂▂▂▃▃▃▄▄▄▅▅▅▆▆▆▆▇▇▇▇███</td></tr><tr><td>_step</td><td>▁▁▂▂▂▂▃▃▃▄▄▄▄▅▅▅▅▆▆▆▇▇▇▇██</td></tr><tr><td>Test Error Rate</td><td>▁</td></tr></table><br/>"
            ],
            "text/plain": [
              "<IPython.core.display.HTML object>"
            ]
          },
          "metadata": {
            "tags": []
          }
        },
        {
          "output_type": "display_data",
          "data": {
            "text/html": [
              "Synced 5 W&B file(s), 1 media file(s), 0 artifact file(s) and 0 other file(s)"
            ],
            "text/plain": [
              "<IPython.core.display.HTML object>"
            ]
          },
          "metadata": {
            "tags": []
          }
        },
        {
          "output_type": "display_data",
          "data": {
            "text/html": [
              "\n",
              "                    <br/>Synced <strong style=\"color:#cdcd00\">lemon-sweep-3</strong>: <a href=\"https://wandb.ai/jeongmin/abc/runs/m8lno5h9\" target=\"_blank\">https://wandb.ai/jeongmin/abc/runs/m8lno5h9</a><br/>\n",
              "                "
            ],
            "text/plain": [
              "<IPython.core.display.HTML object>"
            ]
          },
          "metadata": {
            "tags": []
          }
        },
        {
          "output_type": "stream",
          "text": [
            "\u001b[34m\u001b[1mwandb\u001b[0m: Agent Starting Run: j8q9apgo with config:\n",
            "\u001b[34m\u001b[1mwandb\u001b[0m: \tbatch_size: 16\n",
            "\u001b[34m\u001b[1mwandb\u001b[0m: \tlearning_rate: 0.001\n"
          ],
          "name": "stderr"
        },
        {
          "output_type": "display_data",
          "data": {
            "text/html": [
              "\n",
              "                Tracking run with wandb version 0.11.0<br/>\n",
              "                Syncing run <strong style=\"color:#cdcd00\">sunny-sweep-4</strong> to <a href=\"https://wandb.ai\" target=\"_blank\">Weights & Biases</a> <a href=\"https://docs.wandb.com/integrations/jupyter.html\" target=\"_blank\">(Documentation)</a>.<br/>\n",
              "                Project page: <a href=\"https://wandb.ai/jeongmin/abc\" target=\"_blank\">https://wandb.ai/jeongmin/abc</a><br/>\n",
              "                Sweep page: <a href=\"https://wandb.ai/jeongmin/abc/sweeps/qt9snm2s\" target=\"_blank\">https://wandb.ai/jeongmin/abc/sweeps/qt9snm2s</a><br/>\n",
              "Run page: <a href=\"https://wandb.ai/jeongmin/abc/runs/j8q9apgo\" target=\"_blank\">https://wandb.ai/jeongmin/abc/runs/j8q9apgo</a><br/>\n",
              "                Run data is saved locally in <code>/content/wandb/run-20210719_112621-j8q9apgo</code><br/><br/>\n",
              "            "
            ],
            "text/plain": [
              "<IPython.core.display.HTML object>"
            ]
          },
          "metadata": {
            "tags": []
          }
        },
        {
          "output_type": "stream",
          "text": [
            "Epoch 1/25\n",
            "3750/3750 [==============================] - 8s 2ms/step - loss: 0.2561 - acc: 0.9262 - val_loss: 0.1293 - val_acc: 0.9604\n",
            "Epoch 2/25\n",
            "3750/3750 [==============================] - 8s 2ms/step - loss: 0.1258 - acc: 0.9619 - val_loss: 0.0945 - val_acc: 0.9715\n",
            "Epoch 3/25\n",
            " 615/3750 [===>..........................] - ETA: 6s - loss: 0.1016 - acc: 0.9695"
          ],
          "name": "stdout"
        },
        {
          "output_type": "stream",
          "text": [
            "\u001b[34m\u001b[1mwandb\u001b[0m: Ctrl + C detected. Stopping sweep.\n"
          ],
          "name": "stderr"
        }
      ]
    },
    {
      "cell_type": "code",
      "metadata": {
        "id": "BAZxk9uXEWsh"
      },
      "source": [
        ""
      ],
      "execution_count": 48,
      "outputs": []
    }
  ]
}