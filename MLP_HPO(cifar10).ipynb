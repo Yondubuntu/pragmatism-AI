{
  "nbformat": 4,
  "nbformat_minor": 0,
  "metadata": {
    "colab": {
      "name": "MLP_HPO(cifar10).ipynb",
      "provenance": [],
      "collapsed_sections": [],
      "authorship_tag": "ABX9TyP4lsg5HFdtQ35k+uIuF4fW",
      "include_colab_link": true
    },
    "kernelspec": {
      "name": "python3",
      "display_name": "Python 3"
    },
    "language_info": {
      "name": "python"
    },
    "accelerator": "GPU",
    "widgets": {
      "application/vnd.jupyter.widget-state+json": {
        "63b63a66d56f4c0496fe36c95eb7f0bd": {
          "model_module": "@jupyter-widgets/controls",
          "model_name": "VBoxModel",
          "state": {
            "_view_name": "VBoxView",
            "_dom_classes": [],
            "_model_name": "VBoxModel",
            "_view_module": "@jupyter-widgets/controls",
            "_model_module_version": "1.5.0",
            "_view_count": null,
            "_view_module_version": "1.5.0",
            "box_style": "",
            "layout": "IPY_MODEL_56b23b77dc74495eb2a88cb7503bac7d",
            "_model_module": "@jupyter-widgets/controls",
            "children": [
              "IPY_MODEL_692c5bd2b61e4ec593e1a0b90a8c0f4c",
              "IPY_MODEL_d30019b6a82e4e7884fce84adbf6f5ce"
            ]
          }
        },
        "56b23b77dc74495eb2a88cb7503bac7d": {
          "model_module": "@jupyter-widgets/base",
          "model_name": "LayoutModel",
          "state": {
            "_view_name": "LayoutView",
            "grid_template_rows": null,
            "right": null,
            "justify_content": null,
            "_view_module": "@jupyter-widgets/base",
            "overflow": null,
            "_model_module_version": "1.2.0",
            "_view_count": null,
            "flex_flow": null,
            "width": null,
            "min_width": null,
            "border": null,
            "align_items": null,
            "bottom": null,
            "_model_module": "@jupyter-widgets/base",
            "top": null,
            "grid_column": null,
            "overflow_y": null,
            "overflow_x": null,
            "grid_auto_flow": null,
            "grid_area": null,
            "grid_template_columns": null,
            "flex": null,
            "_model_name": "LayoutModel",
            "justify_items": null,
            "grid_row": null,
            "max_height": null,
            "align_content": null,
            "visibility": null,
            "align_self": null,
            "height": null,
            "min_height": null,
            "padding": null,
            "grid_auto_rows": null,
            "grid_gap": null,
            "max_width": null,
            "order": null,
            "_view_module_version": "1.2.0",
            "grid_template_areas": null,
            "object_position": null,
            "object_fit": null,
            "grid_auto_columns": null,
            "margin": null,
            "display": null,
            "left": null
          }
        },
        "692c5bd2b61e4ec593e1a0b90a8c0f4c": {
          "model_module": "@jupyter-widgets/controls",
          "model_name": "LabelModel",
          "state": {
            "_view_name": "LabelView",
            "style": "IPY_MODEL_4ebe2fbbf6c34edfb441a4d21cfcf97f",
            "_dom_classes": [],
            "description": "",
            "_model_name": "LabelModel",
            "placeholder": "​",
            "_view_module": "@jupyter-widgets/controls",
            "_model_module_version": "1.5.0",
            "value": " 0.60MB of 0.60MB uploaded (0.00MB deduped)\r",
            "_view_count": null,
            "_view_module_version": "1.5.0",
            "description_tooltip": null,
            "_model_module": "@jupyter-widgets/controls",
            "layout": "IPY_MODEL_4a1e5c38c6ca4f8ba42edc8e292da142"
          }
        },
        "d30019b6a82e4e7884fce84adbf6f5ce": {
          "model_module": "@jupyter-widgets/controls",
          "model_name": "FloatProgressModel",
          "state": {
            "_view_name": "ProgressView",
            "style": "IPY_MODEL_6725d65eefa647d6ad3b2335407744ed",
            "_dom_classes": [],
            "description": "",
            "_model_name": "FloatProgressModel",
            "bar_style": "",
            "max": 1,
            "_view_module": "@jupyter-widgets/controls",
            "_model_module_version": "1.5.0",
            "value": 1,
            "_view_count": null,
            "_view_module_version": "1.5.0",
            "orientation": "horizontal",
            "min": 0,
            "description_tooltip": null,
            "_model_module": "@jupyter-widgets/controls",
            "layout": "IPY_MODEL_58de6f53cead4a8481bea66bca4a9e81"
          }
        },
        "4ebe2fbbf6c34edfb441a4d21cfcf97f": {
          "model_module": "@jupyter-widgets/controls",
          "model_name": "DescriptionStyleModel",
          "state": {
            "_view_name": "StyleView",
            "_model_name": "DescriptionStyleModel",
            "description_width": "",
            "_view_module": "@jupyter-widgets/base",
            "_model_module_version": "1.5.0",
            "_view_count": null,
            "_view_module_version": "1.2.0",
            "_model_module": "@jupyter-widgets/controls"
          }
        },
        "4a1e5c38c6ca4f8ba42edc8e292da142": {
          "model_module": "@jupyter-widgets/base",
          "model_name": "LayoutModel",
          "state": {
            "_view_name": "LayoutView",
            "grid_template_rows": null,
            "right": null,
            "justify_content": null,
            "_view_module": "@jupyter-widgets/base",
            "overflow": null,
            "_model_module_version": "1.2.0",
            "_view_count": null,
            "flex_flow": null,
            "width": null,
            "min_width": null,
            "border": null,
            "align_items": null,
            "bottom": null,
            "_model_module": "@jupyter-widgets/base",
            "top": null,
            "grid_column": null,
            "overflow_y": null,
            "overflow_x": null,
            "grid_auto_flow": null,
            "grid_area": null,
            "grid_template_columns": null,
            "flex": null,
            "_model_name": "LayoutModel",
            "justify_items": null,
            "grid_row": null,
            "max_height": null,
            "align_content": null,
            "visibility": null,
            "align_self": null,
            "height": null,
            "min_height": null,
            "padding": null,
            "grid_auto_rows": null,
            "grid_gap": null,
            "max_width": null,
            "order": null,
            "_view_module_version": "1.2.0",
            "grid_template_areas": null,
            "object_position": null,
            "object_fit": null,
            "grid_auto_columns": null,
            "margin": null,
            "display": null,
            "left": null
          }
        },
        "6725d65eefa647d6ad3b2335407744ed": {
          "model_module": "@jupyter-widgets/controls",
          "model_name": "ProgressStyleModel",
          "state": {
            "_view_name": "StyleView",
            "_model_name": "ProgressStyleModel",
            "description_width": "",
            "_view_module": "@jupyter-widgets/base",
            "_model_module_version": "1.5.0",
            "_view_count": null,
            "_view_module_version": "1.2.0",
            "bar_color": null,
            "_model_module": "@jupyter-widgets/controls"
          }
        },
        "58de6f53cead4a8481bea66bca4a9e81": {
          "model_module": "@jupyter-widgets/base",
          "model_name": "LayoutModel",
          "state": {
            "_view_name": "LayoutView",
            "grid_template_rows": null,
            "right": null,
            "justify_content": null,
            "_view_module": "@jupyter-widgets/base",
            "overflow": null,
            "_model_module_version": "1.2.0",
            "_view_count": null,
            "flex_flow": null,
            "width": null,
            "min_width": null,
            "border": null,
            "align_items": null,
            "bottom": null,
            "_model_module": "@jupyter-widgets/base",
            "top": null,
            "grid_column": null,
            "overflow_y": null,
            "overflow_x": null,
            "grid_auto_flow": null,
            "grid_area": null,
            "grid_template_columns": null,
            "flex": null,
            "_model_name": "LayoutModel",
            "justify_items": null,
            "grid_row": null,
            "max_height": null,
            "align_content": null,
            "visibility": null,
            "align_self": null,
            "height": null,
            "min_height": null,
            "padding": null,
            "grid_auto_rows": null,
            "grid_gap": null,
            "max_width": null,
            "order": null,
            "_view_module_version": "1.2.0",
            "grid_template_areas": null,
            "object_position": null,
            "object_fit": null,
            "grid_auto_columns": null,
            "margin": null,
            "display": null,
            "left": null
          }
        },
        "08b0703b623a417596902181a6bd07a8": {
          "model_module": "@jupyter-widgets/controls",
          "model_name": "VBoxModel",
          "state": {
            "_view_name": "VBoxView",
            "_dom_classes": [],
            "_model_name": "VBoxModel",
            "_view_module": "@jupyter-widgets/controls",
            "_model_module_version": "1.5.0",
            "_view_count": null,
            "_view_module_version": "1.5.0",
            "box_style": "",
            "layout": "IPY_MODEL_a594f660b83841949da21dc4d272e388",
            "_model_module": "@jupyter-widgets/controls",
            "children": [
              "IPY_MODEL_54d932bdfe62443388272cbd85bc73d5",
              "IPY_MODEL_eda61d58df5742c6b900c4021ab5dc85"
            ]
          }
        },
        "a594f660b83841949da21dc4d272e388": {
          "model_module": "@jupyter-widgets/base",
          "model_name": "LayoutModel",
          "state": {
            "_view_name": "LayoutView",
            "grid_template_rows": null,
            "right": null,
            "justify_content": null,
            "_view_module": "@jupyter-widgets/base",
            "overflow": null,
            "_model_module_version": "1.2.0",
            "_view_count": null,
            "flex_flow": null,
            "width": null,
            "min_width": null,
            "border": null,
            "align_items": null,
            "bottom": null,
            "_model_module": "@jupyter-widgets/base",
            "top": null,
            "grid_column": null,
            "overflow_y": null,
            "overflow_x": null,
            "grid_auto_flow": null,
            "grid_area": null,
            "grid_template_columns": null,
            "flex": null,
            "_model_name": "LayoutModel",
            "justify_items": null,
            "grid_row": null,
            "max_height": null,
            "align_content": null,
            "visibility": null,
            "align_self": null,
            "height": null,
            "min_height": null,
            "padding": null,
            "grid_auto_rows": null,
            "grid_gap": null,
            "max_width": null,
            "order": null,
            "_view_module_version": "1.2.0",
            "grid_template_areas": null,
            "object_position": null,
            "object_fit": null,
            "grid_auto_columns": null,
            "margin": null,
            "display": null,
            "left": null
          }
        },
        "54d932bdfe62443388272cbd85bc73d5": {
          "model_module": "@jupyter-widgets/controls",
          "model_name": "LabelModel",
          "state": {
            "_view_name": "LabelView",
            "style": "IPY_MODEL_5c35cc8b38754ad78e458d770219f1fd",
            "_dom_classes": [],
            "description": "",
            "_model_name": "LabelModel",
            "placeholder": "​",
            "_view_module": "@jupyter-widgets/controls",
            "_model_module_version": "1.5.0",
            "value": " 0.39MB of 0.39MB uploaded (0.00MB deduped)\r",
            "_view_count": null,
            "_view_module_version": "1.5.0",
            "description_tooltip": null,
            "_model_module": "@jupyter-widgets/controls",
            "layout": "IPY_MODEL_84d594f356874e3daddcb7b0a54444e9"
          }
        },
        "eda61d58df5742c6b900c4021ab5dc85": {
          "model_module": "@jupyter-widgets/controls",
          "model_name": "FloatProgressModel",
          "state": {
            "_view_name": "ProgressView",
            "style": "IPY_MODEL_72db9cf3f46f404abaf5e1b435807d3a",
            "_dom_classes": [],
            "description": "",
            "_model_name": "FloatProgressModel",
            "bar_style": "",
            "max": 1,
            "_view_module": "@jupyter-widgets/controls",
            "_model_module_version": "1.5.0",
            "value": 1,
            "_view_count": null,
            "_view_module_version": "1.5.0",
            "orientation": "horizontal",
            "min": 0,
            "description_tooltip": null,
            "_model_module": "@jupyter-widgets/controls",
            "layout": "IPY_MODEL_285dc014a07f4e0aa912fa2d4411b801"
          }
        },
        "5c35cc8b38754ad78e458d770219f1fd": {
          "model_module": "@jupyter-widgets/controls",
          "model_name": "DescriptionStyleModel",
          "state": {
            "_view_name": "StyleView",
            "_model_name": "DescriptionStyleModel",
            "description_width": "",
            "_view_module": "@jupyter-widgets/base",
            "_model_module_version": "1.5.0",
            "_view_count": null,
            "_view_module_version": "1.2.0",
            "_model_module": "@jupyter-widgets/controls"
          }
        },
        "84d594f356874e3daddcb7b0a54444e9": {
          "model_module": "@jupyter-widgets/base",
          "model_name": "LayoutModel",
          "state": {
            "_view_name": "LayoutView",
            "grid_template_rows": null,
            "right": null,
            "justify_content": null,
            "_view_module": "@jupyter-widgets/base",
            "overflow": null,
            "_model_module_version": "1.2.0",
            "_view_count": null,
            "flex_flow": null,
            "width": null,
            "min_width": null,
            "border": null,
            "align_items": null,
            "bottom": null,
            "_model_module": "@jupyter-widgets/base",
            "top": null,
            "grid_column": null,
            "overflow_y": null,
            "overflow_x": null,
            "grid_auto_flow": null,
            "grid_area": null,
            "grid_template_columns": null,
            "flex": null,
            "_model_name": "LayoutModel",
            "justify_items": null,
            "grid_row": null,
            "max_height": null,
            "align_content": null,
            "visibility": null,
            "align_self": null,
            "height": null,
            "min_height": null,
            "padding": null,
            "grid_auto_rows": null,
            "grid_gap": null,
            "max_width": null,
            "order": null,
            "_view_module_version": "1.2.0",
            "grid_template_areas": null,
            "object_position": null,
            "object_fit": null,
            "grid_auto_columns": null,
            "margin": null,
            "display": null,
            "left": null
          }
        },
        "72db9cf3f46f404abaf5e1b435807d3a": {
          "model_module": "@jupyter-widgets/controls",
          "model_name": "ProgressStyleModel",
          "state": {
            "_view_name": "StyleView",
            "_model_name": "ProgressStyleModel",
            "description_width": "",
            "_view_module": "@jupyter-widgets/base",
            "_model_module_version": "1.5.0",
            "_view_count": null,
            "_view_module_version": "1.2.0",
            "bar_color": null,
            "_model_module": "@jupyter-widgets/controls"
          }
        },
        "285dc014a07f4e0aa912fa2d4411b801": {
          "model_module": "@jupyter-widgets/base",
          "model_name": "LayoutModel",
          "state": {
            "_view_name": "LayoutView",
            "grid_template_rows": null,
            "right": null,
            "justify_content": null,
            "_view_module": "@jupyter-widgets/base",
            "overflow": null,
            "_model_module_version": "1.2.0",
            "_view_count": null,
            "flex_flow": null,
            "width": null,
            "min_width": null,
            "border": null,
            "align_items": null,
            "bottom": null,
            "_model_module": "@jupyter-widgets/base",
            "top": null,
            "grid_column": null,
            "overflow_y": null,
            "overflow_x": null,
            "grid_auto_flow": null,
            "grid_area": null,
            "grid_template_columns": null,
            "flex": null,
            "_model_name": "LayoutModel",
            "justify_items": null,
            "grid_row": null,
            "max_height": null,
            "align_content": null,
            "visibility": null,
            "align_self": null,
            "height": null,
            "min_height": null,
            "padding": null,
            "grid_auto_rows": null,
            "grid_gap": null,
            "max_width": null,
            "order": null,
            "_view_module_version": "1.2.0",
            "grid_template_areas": null,
            "object_position": null,
            "object_fit": null,
            "grid_auto_columns": null,
            "margin": null,
            "display": null,
            "left": null
          }
        }
      }
    }
  },
  "cells": [
    {
      "cell_type": "markdown",
      "metadata": {
        "id": "view-in-github",
        "colab_type": "text"
      },
      "source": [
        "<a href=\"https://colab.research.google.com/github/silverstar0727/pragmatism-AI/blob/main/MLP_HPO(cifar10).ipynb\" target=\"_parent\"><img src=\"https://colab.research.google.com/assets/colab-badge.svg\" alt=\"Open In Colab\"/></a>"
      ]
    },
    {
      "cell_type": "code",
      "metadata": {
        "id": "OiTkNepdEy1R",
        "colab": {
          "base_uri": "https://localhost:8080/"
        },
        "outputId": "d914ad6c-e08f-4284-ad4a-0f74821c888e"
      },
      "source": [
        "!pip install -q wandb"
      ],
      "execution_count": 1,
      "outputs": [
        {
          "output_type": "stream",
          "text": [
            "\u001b[K     |████████████████████████████████| 1.8 MB 4.0 MB/s \n",
            "\u001b[K     |████████████████████████████████| 138 kB 17.4 MB/s \n",
            "\u001b[K     |████████████████████████████████| 170 kB 17.4 MB/s \n",
            "\u001b[K     |████████████████████████████████| 97 kB 5.8 MB/s \n",
            "\u001b[K     |████████████████████████████████| 133 kB 17.2 MB/s \n",
            "\u001b[K     |████████████████████████████████| 63 kB 2.2 MB/s \n",
            "\u001b[K     |████████████████████████████████| 62 kB 906 kB/s \n",
            "\u001b[?25h  Building wheel for subprocess32 (setup.py) ... \u001b[?25l\u001b[?25hdone\n",
            "  Building wheel for pathtools (setup.py) ... \u001b[?25l\u001b[?25hdone\n",
            "\u001b[31mERROR: pip's dependency resolver does not currently take into account all the packages that are installed. This behaviour is the source of the following dependency conflicts.\n",
            "google-colab 1.0.0 requires requests~=2.23.0, but you have requests 2.26.0 which is incompatible.\n",
            "datascience 0.10.6 requires folium==0.2.1, but you have folium 0.8.3 which is incompatible.\u001b[0m\n"
          ],
          "name": "stdout"
        }
      ]
    },
    {
      "cell_type": "code",
      "metadata": {
        "id": "2ZBBRPXYXZrG",
        "colab": {
          "base_uri": "https://localhost:8080/",
          "height": 102
        },
        "outputId": "7b7d814d-9251-407b-8531-ea0f6e263cf2"
      },
      "source": [
        "import tensorflow as tf\n",
        "import matplotlib.pyplot as plt\n",
        "from sklearn.model_selection import train_test_split\n",
        "import argparse\n",
        "from tensorflow import keras\n",
        "\n",
        "from wandb.keras import WandbCallback\n",
        "import wandb\n",
        "\n",
        "wandb.login()"
      ],
      "execution_count": 2,
      "outputs": [
        {
          "output_type": "display_data",
          "data": {
            "application/javascript": [
              "\n",
              "        window._wandbApiKey = new Promise((resolve, reject) => {\n",
              "            function loadScript(url) {\n",
              "            return new Promise(function(resolve, reject) {\n",
              "                let newScript = document.createElement(\"script\");\n",
              "                newScript.onerror = reject;\n",
              "                newScript.onload = resolve;\n",
              "                document.body.appendChild(newScript);\n",
              "                newScript.src = url;\n",
              "            });\n",
              "            }\n",
              "            loadScript(\"https://cdn.jsdelivr.net/npm/postmate/build/postmate.min.js\").then(() => {\n",
              "            const iframe = document.createElement('iframe')\n",
              "            iframe.style.cssText = \"width:0;height:0;border:none\"\n",
              "            document.body.appendChild(iframe)\n",
              "            const handshake = new Postmate({\n",
              "                container: iframe,\n",
              "                url: 'https://wandb.ai/authorize'\n",
              "            });\n",
              "            const timeout = setTimeout(() => reject(\"Couldn't auto authenticate\"), 5000)\n",
              "            handshake.then(function(child) {\n",
              "                child.on('authorize', data => {\n",
              "                    clearTimeout(timeout)\n",
              "                    resolve(data)\n",
              "                });\n",
              "            });\n",
              "            })\n",
              "        });\n",
              "    "
            ],
            "text/plain": [
              "<IPython.core.display.Javascript object>"
            ]
          },
          "metadata": {
            "tags": []
          }
        },
        {
          "output_type": "stream",
          "text": [
            "\u001b[34m\u001b[1mwandb\u001b[0m: You can find your API key in your browser here: https://wandb.ai/authorize\n"
          ],
          "name": "stderr"
        },
        {
          "output_type": "stream",
          "text": [
            "wandb: Paste an API key from your profile and hit enter: ··········\n"
          ],
          "name": "stdout"
        },
        {
          "output_type": "stream",
          "text": [
            "\u001b[34m\u001b[1mwandb\u001b[0m: Appending key for api.wandb.ai to your netrc file: /root/.netrc\n"
          ],
          "name": "stderr"
        },
        {
          "output_type": "execute_result",
          "data": {
            "text/plain": [
              "True"
            ]
          },
          "metadata": {
            "tags": []
          },
          "execution_count": 2
        }
      ]
    },
    {
      "cell_type": "code",
      "metadata": {
        "id": "zaLXDZIabIfa",
        "colab": {
          "base_uri": "https://localhost:8080/"
        },
        "outputId": "912ec460-1499-41ff-ebbe-5b018914cc2a"
      },
      "source": [
        "cifar10 = tf.keras.datasets.cifar10\n",
        "\n",
        "(x_train, y_train), (x_test, y_test) = cifar10.load_data()\n",
        "x_train, x_test = x_train / 255.0, x_test / 255.0\n",
        "\n",
        "x_train, x_val, y_train, y_val = train_test_split(x_train, y_train, test_size=0.2, random_state=3)\n",
        "\n",
        "print(\"x shape\")\n",
        "print(f\"train: {x_train.shape}, val: {x_val.shape}, test: {x_test.shape}\")\n",
        "print(\"y shape\")\n",
        "print(f\"train: {y_train.shape}, val: {y_val.shape}, test: {y_test.shape}\")"
      ],
      "execution_count": 3,
      "outputs": [
        {
          "output_type": "stream",
          "text": [
            "Downloading data from https://www.cs.toronto.edu/~kriz/cifar-10-python.tar.gz\n",
            "170500096/170498071 [==============================] - 2s 0us/step\n",
            "x shape\n",
            "train: (40000, 32, 32, 3), val: (10000, 32, 32, 3), test: (10000, 32, 32, 3)\n",
            "y shape\n",
            "train: (40000, 1), val: (10000, 1), test: (10000, 1)\n"
          ],
          "name": "stdout"
        }
      ]
    },
    {
      "cell_type": "code",
      "metadata": {
        "id": "zpoO6pctO5hd"
      },
      "source": [
        "class MLP(tf.keras.Model):\n",
        "    def __init__(self, act, hid_dim, dropout_rate, n_layer):\n",
        "        super(MLP, self).__init__()\n",
        "        self.act = act\n",
        "        self.hid_dim = hid_dim\n",
        "        self.dropout_rate = dropout_rate\n",
        "        self.n_layer = n_layer\n",
        "\n",
        "        self.flatten = tf.keras.layers.Flatten(input_shape = x_train.shape[1:])\n",
        "        self.fc = tf.keras.layers.Dense(self.hid_dim, activation=self.act)        \n",
        "        self.dropout = tf.keras.layers.Dropout(self.dropout_rate)\n",
        "        self.outputs = tf.keras.layers.Dense(10, activation='softmax')\n",
        "\n",
        "    def call(self, inputs):\n",
        "        x = self.flatten(inputs)\n",
        "        x = self.fc(x)\n",
        "        x = self.dropout(x)\n",
        "        x = self.outputs(x)\n",
        "        return x"
      ],
      "execution_count": 14,
      "outputs": []
    },
    {
      "cell_type": "code",
      "metadata": {
        "id": "QNw0u3JkmxJi"
      },
      "source": [
        "def experiment():\n",
        "    config_defaults = {\n",
        "        'hid_dim': 512,\n",
        "        'act': 'relu',\n",
        "        'lr': 0.001,\n",
        "        'epochs': 2,\n",
        "        'batch_size': 256\n",
        "    }\n",
        "\n",
        "    wandb.init(project='MLP-HPO', config=config_defaults, magic=True)\n",
        "    args = wandb.config\n",
        "    \n",
        "    # Prepare dataloader\n",
        "    trainloader = tf.data.Dataset.from_tensor_slices((x_train, y_train))\n",
        "    trainloader = trainloader.shuffle(1024).batch(args.batch_size).prefetch(tf.data.experimental.AUTOTUNE)\n",
        "    valloader = tf.data.Dataset.from_tensor_slices((x_val, y_val))\n",
        "    valloader = valloader.batch(args.batch_size).prefetch(tf.data.experimental.AUTOTUNE)\n",
        "    testloader = tf.data.Dataset.from_tensor_slices((x_test, y_test))\n",
        "    testloader = testloader.batch(args.batch_size).prefetch(tf.data.experimental.AUTOTUNE)\n",
        "\n",
        "    tf.keras.backend.clear_session()\n",
        "    \n",
        "    net = MLP(args.act, args.hid_dim, args.dropout_rate, args.n_layer)\n",
        "\n",
        "    loss = tf.keras.losses.SparseCategoricalCrossentropy()\n",
        "    optimizer = tf.keras.optimizers.SGD(learning_rate=args.lr)\n",
        "    metrics = tf.keras.metrics.SparseCategoricalAccuracy()\n",
        "    net.compile(optimizer, loss, metrics)\n",
        "\n",
        "    result = net.fit(\n",
        "        trainloader, \n",
        "        epochs=args.epochs, \n",
        "        validation_data=valloader, \n",
        "        batch_size=128,\n",
        "        callbacks=[WandbCallback(save_model=False)])\n",
        "\n",
        "    test_result = net.evaluate(testloader, callbacks=[WandbCallback(save_model=False)])"
      ],
      "execution_count": 15,
      "outputs": []
    },
    {
      "cell_type": "code",
      "metadata": {
        "id": "PZ2isgTvbwTC",
        "colab": {
          "base_uri": "https://localhost:8080/",
          "height": 1000,
          "referenced_widgets": [
            "63b63a66d56f4c0496fe36c95eb7f0bd",
            "56b23b77dc74495eb2a88cb7503bac7d",
            "692c5bd2b61e4ec593e1a0b90a8c0f4c",
            "d30019b6a82e4e7884fce84adbf6f5ce",
            "4ebe2fbbf6c34edfb441a4d21cfcf97f",
            "4a1e5c38c6ca4f8ba42edc8e292da142",
            "6725d65eefa647d6ad3b2335407744ed",
            "58de6f53cead4a8481bea66bca4a9e81",
            "08b0703b623a417596902181a6bd07a8",
            "a594f660b83841949da21dc4d272e388",
            "54d932bdfe62443388272cbd85bc73d5",
            "eda61d58df5742c6b900c4021ab5dc85",
            "5c35cc8b38754ad78e458d770219f1fd",
            "84d594f356874e3daddcb7b0a54444e9",
            "72db9cf3f46f404abaf5e1b435807d3a",
            "285dc014a07f4e0aa912fa2d4411b801"
          ]
        },
        "outputId": "be07b917-8705-45e5-f9e0-fbc1d517a8cf"
      },
      "source": [
        "sweep_config = {\n",
        "    'method': 'grid',\n",
        "    'parameters': {\n",
        "        'dropout_rate':{\n",
        "            'values': [0.2]\n",
        "        },\n",
        "        'hid_dim': {\n",
        "            'values': [512]\n",
        "        },\n",
        "        'act': {\n",
        "            'values': ['relu']\n",
        "        },\n",
        "        'lr': {\n",
        "            'values': [0.1]\n",
        "        },\n",
        "        'epochs': {\n",
        "            'values': [10]\n",
        "        },\n",
        "        'batch_size': {\n",
        "            'values': [256]\n",
        "        }\n",
        "    }\n",
        "}\n",
        "\n",
        "import wandb\n",
        "sweep_id = wandb.sweep(sweep_config)\n",
        "\n",
        "wandb.agent(sweep_id, function=experiment)"
      ],
      "execution_count": 16,
      "outputs": [
        {
          "output_type": "stream",
          "text": [
            "Create sweep with ID: 5una3ja4\n",
            "Sweep URL: https://wandb.ai/jeongmin/uncategorized/sweeps/5una3ja4\n"
          ],
          "name": "stdout"
        },
        {
          "output_type": "stream",
          "text": [
            "\u001b[34m\u001b[1mwandb\u001b[0m: Agent Starting Run: g30lhvrf with config:\n",
            "\u001b[34m\u001b[1mwandb\u001b[0m: \tact: relu\n",
            "\u001b[34m\u001b[1mwandb\u001b[0m: \tbatch_size: 256\n",
            "\u001b[34m\u001b[1mwandb\u001b[0m: \tdropout_rate: 0.2\n",
            "\u001b[34m\u001b[1mwandb\u001b[0m: \tepochs: 10\n",
            "\u001b[34m\u001b[1mwandb\u001b[0m: \thid_dim: 512\n",
            "\u001b[34m\u001b[1mwandb\u001b[0m: \tlr: 0.1\n",
            "\u001b[34m\u001b[1mwandb\u001b[0m: \tn_layer: 10\n",
            "\u001b[34m\u001b[1mwandb\u001b[0m: \tout_dim: 10\n",
            "\u001b[34m\u001b[1mwandb\u001b[0m: \u001b[33mWARNING\u001b[0m Ignored wandb.init() arg project when running a sweep\n"
          ],
          "name": "stderr"
        },
        {
          "output_type": "display_data",
          "data": {
            "text/html": [
              "\n",
              "                Tracking run with wandb version 0.11.0<br/>\n",
              "                Syncing run <strong style=\"color:#cdcd00\">rural-sweep-1</strong> to <a href=\"https://wandb.ai\" target=\"_blank\">Weights & Biases</a> <a href=\"https://docs.wandb.com/integrations/jupyter.html\" target=\"_blank\">(Documentation)</a>.<br/>\n",
              "                Project page: <a href=\"https://wandb.ai/jeongmin/uncategorized\" target=\"_blank\">https://wandb.ai/jeongmin/uncategorized</a><br/>\n",
              "                Sweep page: <a href=\"https://wandb.ai/jeongmin/uncategorized/sweeps/5una3ja4\" target=\"_blank\">https://wandb.ai/jeongmin/uncategorized/sweeps/5una3ja4</a><br/>\n",
              "Run page: <a href=\"https://wandb.ai/jeongmin/uncategorized/runs/g30lhvrf\" target=\"_blank\">https://wandb.ai/jeongmin/uncategorized/runs/g30lhvrf</a><br/>\n",
              "                Run data is saved locally in <code>/content/wandb/run-20210720_045918-g30lhvrf</code><br/><br/>\n",
              "            "
            ],
            "text/plain": [
              "<IPython.core.display.HTML object>"
            ]
          },
          "metadata": {
            "tags": []
          }
        },
        {
          "output_type": "stream",
          "text": [
            "Epoch 1/10\n",
            "  3/157 [..............................] - ETA: 28s - loss: 3.1806 - sparse_categorical_accuracy: 0.1276WARNING:tensorflow:Callback method `on_train_batch_begin` is slow compared to the batch time (batch time: 0.0081s vs `on_train_batch_begin` time: 0.0202s). Check your callbacks.\n",
            "WARNING:tensorflow:Callback method `on_train_batch_end` is slow compared to the batch time (batch time: 0.0081s vs `on_train_batch_end` time: 0.0399s). Check your callbacks.\n",
            "157/157 [==============================] - 2s 11ms/step - loss: 2.0810 - sparse_categorical_accuracy: 0.2507 - val_loss: 1.9715 - val_sparse_categorical_accuracy: 0.2781\n",
            "Epoch 2/10\n",
            "157/157 [==============================] - 1s 9ms/step - loss: 1.8754 - sparse_categorical_accuracy: 0.3317 - val_loss: 1.8471 - val_sparse_categorical_accuracy: 0.3437\n",
            "Epoch 3/10\n",
            "157/157 [==============================] - 1s 9ms/step - loss: 1.7944 - sparse_categorical_accuracy: 0.3652 - val_loss: 1.9328 - val_sparse_categorical_accuracy: 0.2924\n",
            "Epoch 4/10\n",
            "157/157 [==============================] - 1s 8ms/step - loss: 1.7436 - sparse_categorical_accuracy: 0.3814 - val_loss: 1.8714 - val_sparse_categorical_accuracy: 0.3245\n",
            "Epoch 5/10\n",
            "157/157 [==============================] - 1s 9ms/step - loss: 1.7143 - sparse_categorical_accuracy: 0.3914 - val_loss: 1.7515 - val_sparse_categorical_accuracy: 0.3605\n",
            "Epoch 6/10\n",
            "157/157 [==============================] - 1s 9ms/step - loss: 1.6736 - sparse_categorical_accuracy: 0.4088 - val_loss: 2.1384 - val_sparse_categorical_accuracy: 0.3126\n",
            "Epoch 7/10\n",
            "157/157 [==============================] - 1s 8ms/step - loss: 1.6498 - sparse_categorical_accuracy: 0.4178 - val_loss: 1.9324 - val_sparse_categorical_accuracy: 0.3395\n",
            "Epoch 8/10\n",
            "157/157 [==============================] - 1s 8ms/step - loss: 1.6326 - sparse_categorical_accuracy: 0.4232 - val_loss: 1.7463 - val_sparse_categorical_accuracy: 0.3854\n",
            "Epoch 9/10\n",
            "157/157 [==============================] - 1s 9ms/step - loss: 1.6198 - sparse_categorical_accuracy: 0.4304 - val_loss: 1.7743 - val_sparse_categorical_accuracy: 0.3564\n",
            "Epoch 10/10\n",
            "157/157 [==============================] - 1s 8ms/step - loss: 1.5875 - sparse_categorical_accuracy: 0.4405 - val_loss: 1.6502 - val_sparse_categorical_accuracy: 0.4132\n",
            "40/40 [==============================] - 0s 6ms/step - loss: 1.6459 - sparse_categorical_accuracy: 0.4135\n"
          ],
          "name": "stdout"
        },
        {
          "output_type": "display_data",
          "data": {
            "text/html": [
              "<br/>Waiting for W&B process to finish, PID 681<br/>Program ended successfully."
            ],
            "text/plain": [
              "<IPython.core.display.HTML object>"
            ]
          },
          "metadata": {
            "tags": []
          }
        },
        {
          "output_type": "display_data",
          "data": {
            "application/vnd.jupyter.widget-view+json": {
              "model_id": "63b63a66d56f4c0496fe36c95eb7f0bd",
              "version_minor": 0,
              "version_major": 2
            },
            "text/plain": [
              "VBox(children=(Label(value=' 0.00MB of 0.00MB uploaded (0.00MB deduped)\\r'), FloatProgress(value=1.0, max=1.0)…"
            ]
          },
          "metadata": {
            "tags": []
          }
        },
        {
          "output_type": "display_data",
          "data": {
            "text/html": [
              "Find user logs for this run at: <code>/content/wandb/run-20210720_045918-g30lhvrf/logs/debug.log</code>"
            ],
            "text/plain": [
              "<IPython.core.display.HTML object>"
            ]
          },
          "metadata": {
            "tags": []
          }
        },
        {
          "output_type": "display_data",
          "data": {
            "text/html": [
              "Find internal logs for this run at: <code>/content/wandb/run-20210720_045918-g30lhvrf/logs/debug-internal.log</code>"
            ],
            "text/plain": [
              "<IPython.core.display.HTML object>"
            ]
          },
          "metadata": {
            "tags": []
          }
        },
        {
          "output_type": "display_data",
          "data": {
            "text/html": [
              "<h3>Run summary:</h3><br/><style>\n",
              "    table.wandb td:nth-child(1) { padding: 0 10px; text-align: right }\n",
              "    </style><table class=\"wandb\">\n",
              "<tr><td>epoch</td><td>9</td></tr><tr><td>loss</td><td>1.58754</td></tr><tr><td>sparse_categorical_accuracy</td><td>0.44055</td></tr><tr><td>val_loss</td><td>1.65023</td></tr><tr><td>val_sparse_categorical_accuracy</td><td>0.4132</td></tr><tr><td>_runtime</td><td>27</td></tr><tr><td>_timestamp</td><td>1626757185</td></tr><tr><td>_step</td><td>9</td></tr><tr><td>best_val_loss</td><td>1.65023</td></tr><tr><td>best_epoch</td><td>9</td></tr></table>"
            ],
            "text/plain": [
              "<IPython.core.display.HTML object>"
            ]
          },
          "metadata": {
            "tags": []
          }
        },
        {
          "output_type": "display_data",
          "data": {
            "text/html": [
              "<h3>Run history:</h3><br/><style>\n",
              "    table.wandb td:nth-child(1) { padding: 0 10px; text-align: right }\n",
              "    </style><table class=\"wandb\">\n",
              "<tr><td>epoch</td><td>▁▂▃▃▄▅▆▆▇█</td></tr><tr><td>loss</td><td>█▅▄▃▃▂▂▂▁▁</td></tr><tr><td>sparse_categorical_accuracy</td><td>▁▄▅▆▆▇▇▇██</td></tr><tr><td>val_loss</td><td>▆▄▅▄▂█▅▂▃▁</td></tr><tr><td>val_sparse_categorical_accuracy</td><td>▁▄▂▃▅▃▄▇▅█</td></tr><tr><td>_runtime</td><td>▁▁▂▃▄▅▅▆▇█</td></tr><tr><td>_timestamp</td><td>▁▁▂▃▄▅▅▆▇█</td></tr><tr><td>_step</td><td>▁▂▃▃▄▅▆▆▇█</td></tr></table><br/>"
            ],
            "text/plain": [
              "<IPython.core.display.HTML object>"
            ]
          },
          "metadata": {
            "tags": []
          }
        },
        {
          "output_type": "display_data",
          "data": {
            "text/html": [
              "Synced 5 W&B file(s), 1 media file(s), 0 artifact file(s) and 10 other file(s)"
            ],
            "text/plain": [
              "<IPython.core.display.HTML object>"
            ]
          },
          "metadata": {
            "tags": []
          }
        },
        {
          "output_type": "display_data",
          "data": {
            "text/html": [
              "\n",
              "                    <br/>Synced <strong style=\"color:#cdcd00\">rural-sweep-1</strong>: <a href=\"https://wandb.ai/jeongmin/uncategorized/runs/g30lhvrf\" target=\"_blank\">https://wandb.ai/jeongmin/uncategorized/runs/g30lhvrf</a><br/>\n",
              "                "
            ],
            "text/plain": [
              "<IPython.core.display.HTML object>"
            ]
          },
          "metadata": {
            "tags": []
          }
        },
        {
          "output_type": "stream",
          "text": [
            "\u001b[34m\u001b[1mwandb\u001b[0m: Agent Starting Run: uagejsnt with config:\n",
            "\u001b[34m\u001b[1mwandb\u001b[0m: \tact: relu\n",
            "\u001b[34m\u001b[1mwandb\u001b[0m: \tbatch_size: 256\n",
            "\u001b[34m\u001b[1mwandb\u001b[0m: \tdropout_rate: 0.2\n",
            "\u001b[34m\u001b[1mwandb\u001b[0m: \tepochs: 10\n",
            "\u001b[34m\u001b[1mwandb\u001b[0m: \thid_dim: 512\n",
            "\u001b[34m\u001b[1mwandb\u001b[0m: \tlr: 0.1\n",
            "\u001b[34m\u001b[1mwandb\u001b[0m: \tn_layer: 20\n",
            "\u001b[34m\u001b[1mwandb\u001b[0m: \tout_dim: 10\n",
            "\u001b[34m\u001b[1mwandb\u001b[0m: \u001b[33mWARNING\u001b[0m Ignored wandb.init() arg project when running a sweep\n"
          ],
          "name": "stderr"
        },
        {
          "output_type": "display_data",
          "data": {
            "text/html": [
              "\n",
              "                Tracking run with wandb version 0.11.0<br/>\n",
              "                Syncing run <strong style=\"color:#cdcd00\">lucky-sweep-2</strong> to <a href=\"https://wandb.ai\" target=\"_blank\">Weights & Biases</a> <a href=\"https://docs.wandb.com/integrations/jupyter.html\" target=\"_blank\">(Documentation)</a>.<br/>\n",
              "                Project page: <a href=\"https://wandb.ai/jeongmin/uncategorized\" target=\"_blank\">https://wandb.ai/jeongmin/uncategorized</a><br/>\n",
              "                Sweep page: <a href=\"https://wandb.ai/jeongmin/uncategorized/sweeps/5una3ja4\" target=\"_blank\">https://wandb.ai/jeongmin/uncategorized/sweeps/5una3ja4</a><br/>\n",
              "Run page: <a href=\"https://wandb.ai/jeongmin/uncategorized/runs/uagejsnt\" target=\"_blank\">https://wandb.ai/jeongmin/uncategorized/runs/uagejsnt</a><br/>\n",
              "                Run data is saved locally in <code>/content/wandb/run-20210720_045951-uagejsnt</code><br/><br/>\n",
              "            "
            ],
            "text/plain": [
              "<IPython.core.display.HTML object>"
            ]
          },
          "metadata": {
            "tags": []
          }
        },
        {
          "output_type": "stream",
          "text": [
            "Epoch 1/10\n",
            "  3/157 [..............................] - ETA: 28s - loss: 3.8190 - sparse_categorical_accuracy: 0.1016WARNING:tensorflow:Callback method `on_train_batch_begin` is slow compared to the batch time (batch time: 0.0088s vs `on_train_batch_begin` time: 0.0239s). Check your callbacks.\n",
            "WARNING:tensorflow:Callback method `on_train_batch_end` is slow compared to the batch time (batch time: 0.0088s vs `on_train_batch_end` time: 0.0351s). Check your callbacks.\n",
            "157/157 [==============================] - 2s 12ms/step - loss: 2.0814 - sparse_categorical_accuracy: 0.2548 - val_loss: 1.9405 - val_sparse_categorical_accuracy: 0.2728\n",
            "Epoch 2/10\n",
            "157/157 [==============================] - 1s 8ms/step - loss: 1.8779 - sparse_categorical_accuracy: 0.3249 - val_loss: 2.4546 - val_sparse_categorical_accuracy: 0.1858\n",
            "Epoch 3/10\n",
            "157/157 [==============================] - 2s 10ms/step - loss: 1.8114 - sparse_categorical_accuracy: 0.3541 - val_loss: 1.8449 - val_sparse_categorical_accuracy: 0.3498\n",
            "Epoch 4/10\n",
            "157/157 [==============================] - 1s 8ms/step - loss: 1.7555 - sparse_categorical_accuracy: 0.3780 - val_loss: 1.8517 - val_sparse_categorical_accuracy: 0.3461\n",
            "Epoch 5/10\n",
            "157/157 [==============================] - 1s 9ms/step - loss: 1.7184 - sparse_categorical_accuracy: 0.3902 - val_loss: 1.7266 - val_sparse_categorical_accuracy: 0.3825\n",
            "Epoch 6/10\n",
            "157/157 [==============================] - 1s 7ms/step - loss: 1.6914 - sparse_categorical_accuracy: 0.4024 - val_loss: 1.7692 - val_sparse_categorical_accuracy: 0.3604\n",
            "Epoch 7/10\n",
            "157/157 [==============================] - 1s 9ms/step - loss: 1.6611 - sparse_categorical_accuracy: 0.4136 - val_loss: 1.7849 - val_sparse_categorical_accuracy: 0.3614\n",
            "Epoch 8/10\n",
            "157/157 [==============================] - 1s 8ms/step - loss: 1.6409 - sparse_categorical_accuracy: 0.4200 - val_loss: 1.7670 - val_sparse_categorical_accuracy: 0.3742\n",
            "Epoch 9/10\n",
            "157/157 [==============================] - 2s 9ms/step - loss: 1.6179 - sparse_categorical_accuracy: 0.4312 - val_loss: 1.8524 - val_sparse_categorical_accuracy: 0.3704\n",
            "Epoch 10/10\n",
            "157/157 [==============================] - 1s 8ms/step - loss: 1.6020 - sparse_categorical_accuracy: 0.4376 - val_loss: 1.8285 - val_sparse_categorical_accuracy: 0.3709\n",
            "40/40 [==============================] - 0s 6ms/step - loss: 1.8172 - sparse_categorical_accuracy: 0.3705\n"
          ],
          "name": "stdout"
        },
        {
          "output_type": "display_data",
          "data": {
            "text/html": [
              "<br/>Waiting for W&B process to finish, PID 781<br/>Program ended successfully."
            ],
            "text/plain": [
              "<IPython.core.display.HTML object>"
            ]
          },
          "metadata": {
            "tags": []
          }
        },
        {
          "output_type": "display_data",
          "data": {
            "application/vnd.jupyter.widget-view+json": {
              "model_id": "08b0703b623a417596902181a6bd07a8",
              "version_minor": 0,
              "version_major": 2
            },
            "text/plain": [
              "VBox(children=(Label(value=' 0.00MB of 0.00MB uploaded (0.00MB deduped)\\r'), FloatProgress(value=1.0, max=1.0)…"
            ]
          },
          "metadata": {
            "tags": []
          }
        },
        {
          "output_type": "display_data",
          "data": {
            "text/html": [
              "Find user logs for this run at: <code>/content/wandb/run-20210720_045951-uagejsnt/logs/debug.log</code>"
            ],
            "text/plain": [
              "<IPython.core.display.HTML object>"
            ]
          },
          "metadata": {
            "tags": []
          }
        },
        {
          "output_type": "display_data",
          "data": {
            "text/html": [
              "Find internal logs for this run at: <code>/content/wandb/run-20210720_045951-uagejsnt/logs/debug-internal.log</code>"
            ],
            "text/plain": [
              "<IPython.core.display.HTML object>"
            ]
          },
          "metadata": {
            "tags": []
          }
        },
        {
          "output_type": "display_data",
          "data": {
            "text/html": [
              "<h3>Run summary:</h3><br/><style>\n",
              "    table.wandb td:nth-child(1) { padding: 0 10px; text-align: right }\n",
              "    </style><table class=\"wandb\">\n",
              "<tr><td>epoch</td><td>9</td></tr><tr><td>loss</td><td>1.60202</td></tr><tr><td>sparse_categorical_accuracy</td><td>0.43765</td></tr><tr><td>val_loss</td><td>1.82846</td></tr><tr><td>val_sparse_categorical_accuracy</td><td>0.3709</td></tr><tr><td>_runtime</td><td>24</td></tr><tr><td>_timestamp</td><td>1626757215</td></tr><tr><td>_step</td><td>9</td></tr><tr><td>best_val_loss</td><td>1.72662</td></tr><tr><td>best_epoch</td><td>4</td></tr></table>"
            ],
            "text/plain": [
              "<IPython.core.display.HTML object>"
            ]
          },
          "metadata": {
            "tags": []
          }
        },
        {
          "output_type": "display_data",
          "data": {
            "text/html": [
              "<h3>Run history:</h3><br/><style>\n",
              "    table.wandb td:nth-child(1) { padding: 0 10px; text-align: right }\n",
              "    </style><table class=\"wandb\">\n",
              "<tr><td>epoch</td><td>▁▂▃▃▄▅▆▆▇█</td></tr><tr><td>loss</td><td>█▅▄▃▃▂▂▂▁▁</td></tr><tr><td>sparse_categorical_accuracy</td><td>▁▄▅▆▆▇▇▇██</td></tr><tr><td>val_loss</td><td>▃█▂▂▁▁▂▁▂▂</td></tr><tr><td>val_sparse_categorical_accuracy</td><td>▄▁▇▇█▇▇███</td></tr><tr><td>_runtime</td><td>▁▂▃▃▄▅▆▇██</td></tr><tr><td>_timestamp</td><td>▁▂▃▃▄▅▆▇██</td></tr><tr><td>_step</td><td>▁▂▃▃▄▅▆▆▇█</td></tr></table><br/>"
            ],
            "text/plain": [
              "<IPython.core.display.HTML object>"
            ]
          },
          "metadata": {
            "tags": []
          }
        },
        {
          "output_type": "display_data",
          "data": {
            "text/html": [
              "Synced 5 W&B file(s), 1 media file(s), 0 artifact file(s) and 10 other file(s)"
            ],
            "text/plain": [
              "<IPython.core.display.HTML object>"
            ]
          },
          "metadata": {
            "tags": []
          }
        },
        {
          "output_type": "display_data",
          "data": {
            "text/html": [
              "\n",
              "                    <br/>Synced <strong style=\"color:#cdcd00\">lucky-sweep-2</strong>: <a href=\"https://wandb.ai/jeongmin/uncategorized/runs/uagejsnt\" target=\"_blank\">https://wandb.ai/jeongmin/uncategorized/runs/uagejsnt</a><br/>\n",
              "                "
            ],
            "text/plain": [
              "<IPython.core.display.HTML object>"
            ]
          },
          "metadata": {
            "tags": []
          }
        },
        {
          "output_type": "stream",
          "text": [
            "\u001b[34m\u001b[1mwandb\u001b[0m: Sweep Agent: Waiting for job.\n",
            "\u001b[34m\u001b[1mwandb\u001b[0m: Sweep Agent: Exiting.\n"
          ],
          "name": "stderr"
        }
      ]
    },
    {
      "cell_type": "code",
      "metadata": {
        "id": "OLqq1IINRsbv"
      },
      "source": [
        ""
      ],
      "execution_count": null,
      "outputs": []
    }
  ]
}