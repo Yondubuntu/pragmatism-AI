{
  "nbformat": 4,
  "nbformat_minor": 0,
  "metadata": {
    "accelerator": "GPU",
    "colab": {
      "name": "ResNet(cifar100).ipynb",
      "provenance": [],
      "collapsed_sections": [],
      "machine_shape": "hm",
      "authorship_tag": "ABX9TyPmPrnRRqEAr4st2lg7XGwe",
      "include_colab_link": true
    },
    "kernelspec": {
      "display_name": "Python 3",
      "name": "python3"
    },
    "language_info": {
      "name": "python"
    },
    "widgets": {
      "application/vnd.jupyter.widget-state+json": {
        "4ae3c1cbb8c64c4e8e322826671552a7": {
          "model_module": "@jupyter-widgets/controls",
          "model_name": "VBoxModel",
          "model_module_version": "1.5.0",
          "state": {
            "_view_name": "VBoxView",
            "_dom_classes": [],
            "_model_name": "VBoxModel",
            "_view_module": "@jupyter-widgets/controls",
            "_model_module_version": "1.5.0",
            "_view_count": null,
            "_view_module_version": "1.5.0",
            "box_style": "",
            "layout": "IPY_MODEL_66191cdffdf74e87b6345d58d847111b",
            "_model_module": "@jupyter-widgets/controls",
            "children": [
              "IPY_MODEL_f707c692282847b587f309717a8a9035",
              "IPY_MODEL_4acd84ce5f1a46688f703d3799ca4858"
            ]
          }
        },
        "66191cdffdf74e87b6345d58d847111b": {
          "model_module": "@jupyter-widgets/base",
          "model_name": "LayoutModel",
          "model_module_version": "1.2.0",
          "state": {
            "_view_name": "LayoutView",
            "grid_template_rows": null,
            "right": null,
            "justify_content": null,
            "_view_module": "@jupyter-widgets/base",
            "overflow": null,
            "_model_module_version": "1.2.0",
            "_view_count": null,
            "flex_flow": null,
            "width": null,
            "min_width": null,
            "border": null,
            "align_items": null,
            "bottom": null,
            "_model_module": "@jupyter-widgets/base",
            "top": null,
            "grid_column": null,
            "overflow_y": null,
            "overflow_x": null,
            "grid_auto_flow": null,
            "grid_area": null,
            "grid_template_columns": null,
            "flex": null,
            "_model_name": "LayoutModel",
            "justify_items": null,
            "grid_row": null,
            "max_height": null,
            "align_content": null,
            "visibility": null,
            "align_self": null,
            "height": null,
            "min_height": null,
            "padding": null,
            "grid_auto_rows": null,
            "grid_gap": null,
            "max_width": null,
            "order": null,
            "_view_module_version": "1.2.0",
            "grid_template_areas": null,
            "object_position": null,
            "object_fit": null,
            "grid_auto_columns": null,
            "margin": null,
            "display": null,
            "left": null
          }
        },
        "f707c692282847b587f309717a8a9035": {
          "model_module": "@jupyter-widgets/controls",
          "model_name": "LabelModel",
          "model_module_version": "1.5.0",
          "state": {
            "_view_name": "LabelView",
            "style": "IPY_MODEL_145170dcfab44b2897658e9c2025aaa8",
            "_dom_classes": [],
            "description": "",
            "_model_name": "LabelModel",
            "placeholder": "​",
            "_view_module": "@jupyter-widgets/controls",
            "_model_module_version": "1.5.0",
            "value": " 0.01MB of 0.01MB uploaded (0.00MB deduped)\r",
            "_view_count": null,
            "_view_module_version": "1.5.0",
            "description_tooltip": null,
            "_model_module": "@jupyter-widgets/controls",
            "layout": "IPY_MODEL_a83a0ff3b83a4805a83edd566d5ffb97"
          }
        },
        "4acd84ce5f1a46688f703d3799ca4858": {
          "model_module": "@jupyter-widgets/controls",
          "model_name": "FloatProgressModel",
          "model_module_version": "1.5.0",
          "state": {
            "_view_name": "ProgressView",
            "style": "IPY_MODEL_9f7e938e7a324bf180d45e7efc1f8746",
            "_dom_classes": [],
            "description": "",
            "_model_name": "FloatProgressModel",
            "bar_style": "",
            "max": 1,
            "_view_module": "@jupyter-widgets/controls",
            "_model_module_version": "1.5.0",
            "value": 1,
            "_view_count": null,
            "_view_module_version": "1.5.0",
            "orientation": "horizontal",
            "min": 0,
            "description_tooltip": null,
            "_model_module": "@jupyter-widgets/controls",
            "layout": "IPY_MODEL_6eba884afd8445e48a8b8129a4bbbf23"
          }
        },
        "145170dcfab44b2897658e9c2025aaa8": {
          "model_module": "@jupyter-widgets/controls",
          "model_name": "DescriptionStyleModel",
          "model_module_version": "1.5.0",
          "state": {
            "_view_name": "StyleView",
            "_model_name": "DescriptionStyleModel",
            "description_width": "",
            "_view_module": "@jupyter-widgets/base",
            "_model_module_version": "1.5.0",
            "_view_count": null,
            "_view_module_version": "1.2.0",
            "_model_module": "@jupyter-widgets/controls"
          }
        },
        "a83a0ff3b83a4805a83edd566d5ffb97": {
          "model_module": "@jupyter-widgets/base",
          "model_name": "LayoutModel",
          "model_module_version": "1.2.0",
          "state": {
            "_view_name": "LayoutView",
            "grid_template_rows": null,
            "right": null,
            "justify_content": null,
            "_view_module": "@jupyter-widgets/base",
            "overflow": null,
            "_model_module_version": "1.2.0",
            "_view_count": null,
            "flex_flow": null,
            "width": null,
            "min_width": null,
            "border": null,
            "align_items": null,
            "bottom": null,
            "_model_module": "@jupyter-widgets/base",
            "top": null,
            "grid_column": null,
            "overflow_y": null,
            "overflow_x": null,
            "grid_auto_flow": null,
            "grid_area": null,
            "grid_template_columns": null,
            "flex": null,
            "_model_name": "LayoutModel",
            "justify_items": null,
            "grid_row": null,
            "max_height": null,
            "align_content": null,
            "visibility": null,
            "align_self": null,
            "height": null,
            "min_height": null,
            "padding": null,
            "grid_auto_rows": null,
            "grid_gap": null,
            "max_width": null,
            "order": null,
            "_view_module_version": "1.2.0",
            "grid_template_areas": null,
            "object_position": null,
            "object_fit": null,
            "grid_auto_columns": null,
            "margin": null,
            "display": null,
            "left": null
          }
        },
        "9f7e938e7a324bf180d45e7efc1f8746": {
          "model_module": "@jupyter-widgets/controls",
          "model_name": "ProgressStyleModel",
          "model_module_version": "1.5.0",
          "state": {
            "_view_name": "StyleView",
            "_model_name": "ProgressStyleModel",
            "description_width": "",
            "_view_module": "@jupyter-widgets/base",
            "_model_module_version": "1.5.0",
            "_view_count": null,
            "_view_module_version": "1.2.0",
            "bar_color": null,
            "_model_module": "@jupyter-widgets/controls"
          }
        },
        "6eba884afd8445e48a8b8129a4bbbf23": {
          "model_module": "@jupyter-widgets/base",
          "model_name": "LayoutModel",
          "model_module_version": "1.2.0",
          "state": {
            "_view_name": "LayoutView",
            "grid_template_rows": null,
            "right": null,
            "justify_content": null,
            "_view_module": "@jupyter-widgets/base",
            "overflow": null,
            "_model_module_version": "1.2.0",
            "_view_count": null,
            "flex_flow": null,
            "width": null,
            "min_width": null,
            "border": null,
            "align_items": null,
            "bottom": null,
            "_model_module": "@jupyter-widgets/base",
            "top": null,
            "grid_column": null,
            "overflow_y": null,
            "overflow_x": null,
            "grid_auto_flow": null,
            "grid_area": null,
            "grid_template_columns": null,
            "flex": null,
            "_model_name": "LayoutModel",
            "justify_items": null,
            "grid_row": null,
            "max_height": null,
            "align_content": null,
            "visibility": null,
            "align_self": null,
            "height": null,
            "min_height": null,
            "padding": null,
            "grid_auto_rows": null,
            "grid_gap": null,
            "max_width": null,
            "order": null,
            "_view_module_version": "1.2.0",
            "grid_template_areas": null,
            "object_position": null,
            "object_fit": null,
            "grid_auto_columns": null,
            "margin": null,
            "display": null,
            "left": null
          }
        },
        "484c9515c771410fbfa5f9d6c975d262": {
          "model_module": "@jupyter-widgets/controls",
          "model_name": "VBoxModel",
          "model_module_version": "1.5.0",
          "state": {
            "_view_name": "VBoxView",
            "_dom_classes": [],
            "_model_name": "VBoxModel",
            "_view_module": "@jupyter-widgets/controls",
            "_model_module_version": "1.5.0",
            "_view_count": null,
            "_view_module_version": "1.5.0",
            "box_style": "",
            "layout": "IPY_MODEL_02609b1521d742319fb0367d973583ee",
            "_model_module": "@jupyter-widgets/controls",
            "children": [
              "IPY_MODEL_9b55fd36867d45bf9759b9ae33be184f",
              "IPY_MODEL_293fb3f3eea244138e5ae46259b039f5"
            ]
          }
        },
        "02609b1521d742319fb0367d973583ee": {
          "model_module": "@jupyter-widgets/base",
          "model_name": "LayoutModel",
          "model_module_version": "1.2.0",
          "state": {
            "_view_name": "LayoutView",
            "grid_template_rows": null,
            "right": null,
            "justify_content": null,
            "_view_module": "@jupyter-widgets/base",
            "overflow": null,
            "_model_module_version": "1.2.0",
            "_view_count": null,
            "flex_flow": null,
            "width": null,
            "min_width": null,
            "border": null,
            "align_items": null,
            "bottom": null,
            "_model_module": "@jupyter-widgets/base",
            "top": null,
            "grid_column": null,
            "overflow_y": null,
            "overflow_x": null,
            "grid_auto_flow": null,
            "grid_area": null,
            "grid_template_columns": null,
            "flex": null,
            "_model_name": "LayoutModel",
            "justify_items": null,
            "grid_row": null,
            "max_height": null,
            "align_content": null,
            "visibility": null,
            "align_self": null,
            "height": null,
            "min_height": null,
            "padding": null,
            "grid_auto_rows": null,
            "grid_gap": null,
            "max_width": null,
            "order": null,
            "_view_module_version": "1.2.0",
            "grid_template_areas": null,
            "object_position": null,
            "object_fit": null,
            "grid_auto_columns": null,
            "margin": null,
            "display": null,
            "left": null
          }
        },
        "9b55fd36867d45bf9759b9ae33be184f": {
          "model_module": "@jupyter-widgets/controls",
          "model_name": "LabelModel",
          "model_module_version": "1.5.0",
          "state": {
            "_view_name": "LabelView",
            "style": "IPY_MODEL_3572a7252e0245cf93501b9db2a73635",
            "_dom_classes": [],
            "description": "",
            "_model_name": "LabelModel",
            "placeholder": "​",
            "_view_module": "@jupyter-widgets/controls",
            "_model_module_version": "1.5.0",
            "value": " 181.30MB of 181.30MB uploaded (0.00MB deduped)\r",
            "_view_count": null,
            "_view_module_version": "1.5.0",
            "description_tooltip": null,
            "_model_module": "@jupyter-widgets/controls",
            "layout": "IPY_MODEL_1fea3233d7f94c739ede42a972994a1c"
          }
        },
        "293fb3f3eea244138e5ae46259b039f5": {
          "model_module": "@jupyter-widgets/controls",
          "model_name": "FloatProgressModel",
          "model_module_version": "1.5.0",
          "state": {
            "_view_name": "ProgressView",
            "style": "IPY_MODEL_49848e0b9f82462d82a7d12ba958f3b4",
            "_dom_classes": [],
            "description": "",
            "_model_name": "FloatProgressModel",
            "bar_style": "",
            "max": 1,
            "_view_module": "@jupyter-widgets/controls",
            "_model_module_version": "1.5.0",
            "value": 1,
            "_view_count": null,
            "_view_module_version": "1.5.0",
            "orientation": "horizontal",
            "min": 0,
            "description_tooltip": null,
            "_model_module": "@jupyter-widgets/controls",
            "layout": "IPY_MODEL_a0074935ab3440dabab62f5ef77d9e07"
          }
        },
        "3572a7252e0245cf93501b9db2a73635": {
          "model_module": "@jupyter-widgets/controls",
          "model_name": "DescriptionStyleModel",
          "model_module_version": "1.5.0",
          "state": {
            "_view_name": "StyleView",
            "_model_name": "DescriptionStyleModel",
            "description_width": "",
            "_view_module": "@jupyter-widgets/base",
            "_model_module_version": "1.5.0",
            "_view_count": null,
            "_view_module_version": "1.2.0",
            "_model_module": "@jupyter-widgets/controls"
          }
        },
        "1fea3233d7f94c739ede42a972994a1c": {
          "model_module": "@jupyter-widgets/base",
          "model_name": "LayoutModel",
          "model_module_version": "1.2.0",
          "state": {
            "_view_name": "LayoutView",
            "grid_template_rows": null,
            "right": null,
            "justify_content": null,
            "_view_module": "@jupyter-widgets/base",
            "overflow": null,
            "_model_module_version": "1.2.0",
            "_view_count": null,
            "flex_flow": null,
            "width": null,
            "min_width": null,
            "border": null,
            "align_items": null,
            "bottom": null,
            "_model_module": "@jupyter-widgets/base",
            "top": null,
            "grid_column": null,
            "overflow_y": null,
            "overflow_x": null,
            "grid_auto_flow": null,
            "grid_area": null,
            "grid_template_columns": null,
            "flex": null,
            "_model_name": "LayoutModel",
            "justify_items": null,
            "grid_row": null,
            "max_height": null,
            "align_content": null,
            "visibility": null,
            "align_self": null,
            "height": null,
            "min_height": null,
            "padding": null,
            "grid_auto_rows": null,
            "grid_gap": null,
            "max_width": null,
            "order": null,
            "_view_module_version": "1.2.0",
            "grid_template_areas": null,
            "object_position": null,
            "object_fit": null,
            "grid_auto_columns": null,
            "margin": null,
            "display": null,
            "left": null
          }
        },
        "49848e0b9f82462d82a7d12ba958f3b4": {
          "model_module": "@jupyter-widgets/controls",
          "model_name": "ProgressStyleModel",
          "model_module_version": "1.5.0",
          "state": {
            "_view_name": "StyleView",
            "_model_name": "ProgressStyleModel",
            "description_width": "",
            "_view_module": "@jupyter-widgets/base",
            "_model_module_version": "1.5.0",
            "_view_count": null,
            "_view_module_version": "1.2.0",
            "bar_color": null,
            "_model_module": "@jupyter-widgets/controls"
          }
        },
        "a0074935ab3440dabab62f5ef77d9e07": {
          "model_module": "@jupyter-widgets/base",
          "model_name": "LayoutModel",
          "model_module_version": "1.2.0",
          "state": {
            "_view_name": "LayoutView",
            "grid_template_rows": null,
            "right": null,
            "justify_content": null,
            "_view_module": "@jupyter-widgets/base",
            "overflow": null,
            "_model_module_version": "1.2.0",
            "_view_count": null,
            "flex_flow": null,
            "width": null,
            "min_width": null,
            "border": null,
            "align_items": null,
            "bottom": null,
            "_model_module": "@jupyter-widgets/base",
            "top": null,
            "grid_column": null,
            "overflow_y": null,
            "overflow_x": null,
            "grid_auto_flow": null,
            "grid_area": null,
            "grid_template_columns": null,
            "flex": null,
            "_model_name": "LayoutModel",
            "justify_items": null,
            "grid_row": null,
            "max_height": null,
            "align_content": null,
            "visibility": null,
            "align_self": null,
            "height": null,
            "min_height": null,
            "padding": null,
            "grid_auto_rows": null,
            "grid_gap": null,
            "max_width": null,
            "order": null,
            "_view_module_version": "1.2.0",
            "grid_template_areas": null,
            "object_position": null,
            "object_fit": null,
            "grid_auto_columns": null,
            "margin": null,
            "display": null,
            "left": null
          }
        },
        "c5c699f055db490bb3485242c03a3e30": {
          "model_module": "@jupyter-widgets/controls",
          "model_name": "VBoxModel",
          "model_module_version": "1.5.0",
          "state": {
            "_view_name": "VBoxView",
            "_dom_classes": [],
            "_model_name": "VBoxModel",
            "_view_module": "@jupyter-widgets/controls",
            "_model_module_version": "1.5.0",
            "_view_count": null,
            "_view_module_version": "1.5.0",
            "box_style": "",
            "layout": "IPY_MODEL_68b4120686fb479f83f633c459198dcc",
            "_model_module": "@jupyter-widgets/controls",
            "children": [
              "IPY_MODEL_9ea2abf286d54f359a2e2ece0dc6c37a",
              "IPY_MODEL_52773d87bfb3414796a963f1f94ea71f"
            ]
          }
        },
        "68b4120686fb479f83f633c459198dcc": {
          "model_module": "@jupyter-widgets/base",
          "model_name": "LayoutModel",
          "model_module_version": "1.2.0",
          "state": {
            "_view_name": "LayoutView",
            "grid_template_rows": null,
            "right": null,
            "justify_content": null,
            "_view_module": "@jupyter-widgets/base",
            "overflow": null,
            "_model_module_version": "1.2.0",
            "_view_count": null,
            "flex_flow": null,
            "width": null,
            "min_width": null,
            "border": null,
            "align_items": null,
            "bottom": null,
            "_model_module": "@jupyter-widgets/base",
            "top": null,
            "grid_column": null,
            "overflow_y": null,
            "overflow_x": null,
            "grid_auto_flow": null,
            "grid_area": null,
            "grid_template_columns": null,
            "flex": null,
            "_model_name": "LayoutModel",
            "justify_items": null,
            "grid_row": null,
            "max_height": null,
            "align_content": null,
            "visibility": null,
            "align_self": null,
            "height": null,
            "min_height": null,
            "padding": null,
            "grid_auto_rows": null,
            "grid_gap": null,
            "max_width": null,
            "order": null,
            "_view_module_version": "1.2.0",
            "grid_template_areas": null,
            "object_position": null,
            "object_fit": null,
            "grid_auto_columns": null,
            "margin": null,
            "display": null,
            "left": null
          }
        },
        "9ea2abf286d54f359a2e2ece0dc6c37a": {
          "model_module": "@jupyter-widgets/controls",
          "model_name": "LabelModel",
          "model_module_version": "1.5.0",
          "state": {
            "_view_name": "LabelView",
            "style": "IPY_MODEL_a3fd55eb1e7741208113bece1356286f",
            "_dom_classes": [],
            "description": "",
            "_model_name": "LabelModel",
            "placeholder": "​",
            "_view_module": "@jupyter-widgets/controls",
            "_model_module_version": "1.5.0",
            "value": " 183.33MB of 183.33MB uploaded (0.00MB deduped)\r",
            "_view_count": null,
            "_view_module_version": "1.5.0",
            "description_tooltip": null,
            "_model_module": "@jupyter-widgets/controls",
            "layout": "IPY_MODEL_96ce4c37dcdb41c79e99c586c3b20469"
          }
        },
        "52773d87bfb3414796a963f1f94ea71f": {
          "model_module": "@jupyter-widgets/controls",
          "model_name": "FloatProgressModel",
          "model_module_version": "1.5.0",
          "state": {
            "_view_name": "ProgressView",
            "style": "IPY_MODEL_e655126ec48d43619b208a3caa9a21cd",
            "_dom_classes": [],
            "description": "",
            "_model_name": "FloatProgressModel",
            "bar_style": "",
            "max": 1,
            "_view_module": "@jupyter-widgets/controls",
            "_model_module_version": "1.5.0",
            "value": 1,
            "_view_count": null,
            "_view_module_version": "1.5.0",
            "orientation": "horizontal",
            "min": 0,
            "description_tooltip": null,
            "_model_module": "@jupyter-widgets/controls",
            "layout": "IPY_MODEL_658443e251c74a2cbb87041d4f15711e"
          }
        },
        "a3fd55eb1e7741208113bece1356286f": {
          "model_module": "@jupyter-widgets/controls",
          "model_name": "DescriptionStyleModel",
          "model_module_version": "1.5.0",
          "state": {
            "_view_name": "StyleView",
            "_model_name": "DescriptionStyleModel",
            "description_width": "",
            "_view_module": "@jupyter-widgets/base",
            "_model_module_version": "1.5.0",
            "_view_count": null,
            "_view_module_version": "1.2.0",
            "_model_module": "@jupyter-widgets/controls"
          }
        },
        "96ce4c37dcdb41c79e99c586c3b20469": {
          "model_module": "@jupyter-widgets/base",
          "model_name": "LayoutModel",
          "model_module_version": "1.2.0",
          "state": {
            "_view_name": "LayoutView",
            "grid_template_rows": null,
            "right": null,
            "justify_content": null,
            "_view_module": "@jupyter-widgets/base",
            "overflow": null,
            "_model_module_version": "1.2.0",
            "_view_count": null,
            "flex_flow": null,
            "width": null,
            "min_width": null,
            "border": null,
            "align_items": null,
            "bottom": null,
            "_model_module": "@jupyter-widgets/base",
            "top": null,
            "grid_column": null,
            "overflow_y": null,
            "overflow_x": null,
            "grid_auto_flow": null,
            "grid_area": null,
            "grid_template_columns": null,
            "flex": null,
            "_model_name": "LayoutModel",
            "justify_items": null,
            "grid_row": null,
            "max_height": null,
            "align_content": null,
            "visibility": null,
            "align_self": null,
            "height": null,
            "min_height": null,
            "padding": null,
            "grid_auto_rows": null,
            "grid_gap": null,
            "max_width": null,
            "order": null,
            "_view_module_version": "1.2.0",
            "grid_template_areas": null,
            "object_position": null,
            "object_fit": null,
            "grid_auto_columns": null,
            "margin": null,
            "display": null,
            "left": null
          }
        },
        "e655126ec48d43619b208a3caa9a21cd": {
          "model_module": "@jupyter-widgets/controls",
          "model_name": "ProgressStyleModel",
          "model_module_version": "1.5.0",
          "state": {
            "_view_name": "StyleView",
            "_model_name": "ProgressStyleModel",
            "description_width": "",
            "_view_module": "@jupyter-widgets/base",
            "_model_module_version": "1.5.0",
            "_view_count": null,
            "_view_module_version": "1.2.0",
            "bar_color": null,
            "_model_module": "@jupyter-widgets/controls"
          }
        },
        "658443e251c74a2cbb87041d4f15711e": {
          "model_module": "@jupyter-widgets/base",
          "model_name": "LayoutModel",
          "model_module_version": "1.2.0",
          "state": {
            "_view_name": "LayoutView",
            "grid_template_rows": null,
            "right": null,
            "justify_content": null,
            "_view_module": "@jupyter-widgets/base",
            "overflow": null,
            "_model_module_version": "1.2.0",
            "_view_count": null,
            "flex_flow": null,
            "width": null,
            "min_width": null,
            "border": null,
            "align_items": null,
            "bottom": null,
            "_model_module": "@jupyter-widgets/base",
            "top": null,
            "grid_column": null,
            "overflow_y": null,
            "overflow_x": null,
            "grid_auto_flow": null,
            "grid_area": null,
            "grid_template_columns": null,
            "flex": null,
            "_model_name": "LayoutModel",
            "justify_items": null,
            "grid_row": null,
            "max_height": null,
            "align_content": null,
            "visibility": null,
            "align_self": null,
            "height": null,
            "min_height": null,
            "padding": null,
            "grid_auto_rows": null,
            "grid_gap": null,
            "max_width": null,
            "order": null,
            "_view_module_version": "1.2.0",
            "grid_template_areas": null,
            "object_position": null,
            "object_fit": null,
            "grid_auto_columns": null,
            "margin": null,
            "display": null,
            "left": null
          }
        }
      }
    }
  },
  "cells": [
    {
      "cell_type": "markdown",
      "metadata": {
        "id": "view-in-github",
        "colab_type": "text"
      },
      "source": [
        "<a href=\"https://colab.research.google.com/github/silverstar0727/pragmatism-AI/blob/main/ResNet(cifar100).ipynb\" target=\"_parent\"><img src=\"https://colab.research.google.com/assets/colab-badge.svg\" alt=\"Open In Colab\"/></a>"
      ]
    },
    {
      "cell_type": "code",
      "metadata": {
        "colab": {
          "base_uri": "https://localhost:8080/"
        },
        "id": "LEx0rWNKBg5g",
        "outputId": "ff62ee0f-606c-4b45-ab69-9fe7ea9a9686"
      },
      "source": [
        "!pip install -q wandb"
      ],
      "execution_count": 1,
      "outputs": [
        {
          "output_type": "stream",
          "name": "stdout",
          "text": [
            "\u001b[K     |████████████████████████████████| 1.7 MB 4.2 MB/s \n",
            "\u001b[K     |████████████████████████████████| 139 kB 69.1 MB/s \n",
            "\u001b[K     |████████████████████████████████| 97 kB 6.7 MB/s \n",
            "\u001b[K     |████████████████████████████████| 180 kB 72.6 MB/s \n",
            "\u001b[K     |████████████████████████████████| 63 kB 1.8 MB/s \n",
            "\u001b[?25h  Building wheel for subprocess32 (setup.py) ... \u001b[?25l\u001b[?25hdone\n",
            "  Building wheel for pathtools (setup.py) ... \u001b[?25l\u001b[?25hdone\n"
          ]
        }
      ]
    },
    {
      "cell_type": "code",
      "metadata": {
        "id": "PWVA8VOfR5xo"
      },
      "source": [
        "import tensorflow as tf\n",
        "from sklearn.model_selection import train_test_split\n",
        "from tensorflow import keras\n",
        "\n",
        "from tensorflow.keras.layers import Input, Conv2D, ReLU, BatchNormalization,\\\n",
        "                                    Add, AveragePooling2D, Flatten, Dense\n",
        "from tensorflow.keras.models import Model\n",
        "\n",
        "from wandb.keras import WandbCallback\n",
        "import wandb"
      ],
      "execution_count": 2,
      "outputs": []
    },
    {
      "cell_type": "code",
      "metadata": {
        "colab": {
          "base_uri": "https://localhost:8080/"
        },
        "id": "x97EBGMrDMe3",
        "outputId": "94a51cc9-4bb1-4811-82d2-6f2956c5c796"
      },
      "source": [
        "cifar100 = tf.keras.datasets.cifar100\n",
        "\n",
        "(x_train, y_train), (x_test, y_test) = cifar100.load_data()\n",
        "\n",
        "x_train, x_test = x_train / 255.0, x_test / 255.0\n",
        "x_train, x_val, y_train, y_val = train_test_split(x_train, y_train, test_size=0.2, random_state=3)\n",
        "\n",
        "\n",
        "# Prepare dataloader\n",
        "trainloader = tf.data.Dataset.from_tensor_slices((x_train, y_train))\n",
        "trainloader = trainloader.shuffle(1024).batch(1024).prefetch(tf.data.experimental.AUTOTUNE)\n",
        "valloader = tf.data.Dataset.from_tensor_slices((x_val, y_val))\n",
        "valloader = valloader.batch(1024).prefetch(tf.data.experimental.AUTOTUNE)\n",
        "testloader = tf.data.Dataset.from_tensor_slices((x_test, y_test))\n",
        "testloader = testloader.batch(1024).prefetch(tf.data.experimental.AUTOTUNE)"
      ],
      "execution_count": 3,
      "outputs": [
        {
          "output_type": "stream",
          "name": "stdout",
          "text": [
            "Downloading data from https://www.cs.toronto.edu/~kriz/cifar-100-python.tar.gz\n",
            "169009152/169001437 [==============================] - 11s 0us/step\n",
            "169017344/169001437 [==============================] - 11s 0us/step\n"
          ]
        }
      ]
    },
    {
      "cell_type": "code",
      "metadata": {
        "id": "d3T8DkopR4Ri"
      },
      "source": [
        "def relu_bn(x):\n",
        "    x = ReLU()(x)\n",
        "    x = BatchNormalization()(x)\n",
        "    return x\n",
        "\n",
        "def residual_block(x, downsample, filters, kernel_size=3):\n",
        "    y = Conv2D(kernel_size=kernel_size,\n",
        "               strides= (1 if not downsample else 2),\n",
        "               filters=filters,\n",
        "               padding=\"same\")(x)\n",
        "    y = relu_bn(y)\n",
        "    y = Conv2D(kernel_size=kernel_size,\n",
        "               strides=1,\n",
        "               filters=filters,\n",
        "               padding=\"same\")(y)\n",
        "\n",
        "    if downsample:\n",
        "        x = Conv2D(kernel_size=1,\n",
        "                   strides=2,\n",
        "                   filters=filters,\n",
        "                   padding=\"same\")(x)\n",
        "    out = Add()([x, y])\n",
        "    out = relu_bn(out)\n",
        "    return out\n",
        "\n",
        "def create_res_net():\n",
        "    \n",
        "    inputs = Input(shape=(32, 32, 3))\n",
        "    num_filters = 64\n",
        "    \n",
        "    x = BatchNormalization()(inputs)\n",
        "    x = Conv2D(kernel_size=3,\n",
        "               strides=1,\n",
        "               filters=num_filters,\n",
        "               padding=\"same\")(x)\n",
        "    x = relu_bn(x)\n",
        "    \n",
        "    num_blocks_list = [2, 5, 5, 2]\n",
        "    for i in range(len(num_blocks_list)):\n",
        "        num_blocks = num_blocks_list[i]\n",
        "        for j in range(num_blocks):\n",
        "            x = residual_block(x, downsample=(j==0 and i!=0), filters=num_filters)\n",
        "        num_filters *= 2\n",
        "    \n",
        "    x = AveragePooling2D(4)(x)\n",
        "    x = Flatten()(x)\n",
        "    outputs = Dense(100, activation='softmax')(x)\n",
        "    \n",
        "    model = Model(inputs, outputs)\n",
        "\n",
        "    return model"
      ],
      "execution_count": 4,
      "outputs": []
    },
    {
      "cell_type": "code",
      "metadata": {
        "id": "wnGIWE3EWt-m"
      },
      "source": [
        "def experiment():\n",
        "    wandb.init(project='ResNet', magic=True)\n",
        "    args = wandb.config\n",
        "\n",
        "    # init\n",
        "    keras.backend.clear_session()\n",
        "    \n",
        "    net = create_res_net()\n",
        "    optimizer = tf.keras.optimizers.Adam(learning_rate=args.lr)\n",
        "    net.compile(optimizer=optimizer,\n",
        "                loss='sparse_categorical_crossentropy',\n",
        "                metrics=['accuracy'])\n",
        "    \n",
        "    result = net.fit(\n",
        "        trainloader, \n",
        "        epochs=args.epochs, \n",
        "        validation_data=valloader, \n",
        "        batch_size=1024,\n",
        "        callbacks=[WandbCallback(save_model=True)])\n",
        "\n",
        "    test_result = net.evaluate(testloader, callbacks=[WandbCallback(save_model=False)])"
      ],
      "execution_count": 5,
      "outputs": []
    },
    {
      "cell_type": "code",
      "metadata": {
        "colab": {
          "base_uri": "https://localhost:8080/",
          "height": 1000,
          "referenced_widgets": [
            "4ae3c1cbb8c64c4e8e322826671552a7",
            "66191cdffdf74e87b6345d58d847111b",
            "f707c692282847b587f309717a8a9035",
            "4acd84ce5f1a46688f703d3799ca4858",
            "145170dcfab44b2897658e9c2025aaa8",
            "a83a0ff3b83a4805a83edd566d5ffb97",
            "9f7e938e7a324bf180d45e7efc1f8746",
            "6eba884afd8445e48a8b8129a4bbbf23",
            "484c9515c771410fbfa5f9d6c975d262",
            "02609b1521d742319fb0367d973583ee",
            "9b55fd36867d45bf9759b9ae33be184f",
            "293fb3f3eea244138e5ae46259b039f5",
            "3572a7252e0245cf93501b9db2a73635",
            "1fea3233d7f94c739ede42a972994a1c",
            "49848e0b9f82462d82a7d12ba958f3b4",
            "a0074935ab3440dabab62f5ef77d9e07",
            "c5c699f055db490bb3485242c03a3e30",
            "68b4120686fb479f83f633c459198dcc",
            "9ea2abf286d54f359a2e2ece0dc6c37a",
            "52773d87bfb3414796a963f1f94ea71f",
            "a3fd55eb1e7741208113bece1356286f",
            "96ce4c37dcdb41c79e99c586c3b20469",
            "e655126ec48d43619b208a3caa9a21cd",
            "658443e251c74a2cbb87041d4f15711e"
          ]
        },
        "id": "xmXgmM7rBX5t",
        "outputId": "e8cc2544-bce1-4cc7-cae3-9d9124a24efa"
      },
      "source": [
        "sweep_config = {\n",
        "    'method': 'grid',\n",
        "    'parameters': {\n",
        "        'lr': {\n",
        "            'values': [0.001, 0.0001]\n",
        "        },\n",
        "        'epochs': {\n",
        "            'values': [20]\n",
        "        }\n",
        "    }\n",
        "}\n",
        "\n",
        "sweep_id = wandb.sweep(sweep_config)\n",
        "wandb.agent(sweep_id, function=experiment)"
      ],
      "execution_count": 6,
      "outputs": [
        {
          "data": {
            "application/javascript": [
              "\n",
              "        window._wandbApiKey = new Promise((resolve, reject) => {\n",
              "            function loadScript(url) {\n",
              "            return new Promise(function(resolve, reject) {\n",
              "                let newScript = document.createElement(\"script\");\n",
              "                newScript.onerror = reject;\n",
              "                newScript.onload = resolve;\n",
              "                document.body.appendChild(newScript);\n",
              "                newScript.src = url;\n",
              "            });\n",
              "            }\n",
              "            loadScript(\"https://cdn.jsdelivr.net/npm/postmate/build/postmate.min.js\").then(() => {\n",
              "            const iframe = document.createElement('iframe')\n",
              "            iframe.style.cssText = \"width:0;height:0;border:none\"\n",
              "            document.body.appendChild(iframe)\n",
              "            const handshake = new Postmate({\n",
              "                container: iframe,\n",
              "                url: 'https://wandb.ai/authorize'\n",
              "            });\n",
              "            const timeout = setTimeout(() => reject(\"Couldn't auto authenticate\"), 5000)\n",
              "            handshake.then(function(child) {\n",
              "                child.on('authorize', data => {\n",
              "                    clearTimeout(timeout)\n",
              "                    resolve(data)\n",
              "                });\n",
              "            });\n",
              "            })\n",
              "        });\n",
              "    "
            ],
            "text/plain": [
              "<IPython.core.display.Javascript object>"
            ]
          },
          "metadata": {},
          "output_type": "display_data"
        },
        {
          "metadata": {
            "tags": null
          },
          "name": "stderr",
          "output_type": "stream",
          "text": [
            "\u001b[34m\u001b[1mwandb\u001b[0m: Appending key for api.wandb.ai to your netrc file: /root/.netrc\n"
          ]
        },
        {
          "metadata": {
            "tags": null
          },
          "name": "stdout",
          "output_type": "stream",
          "text": [
            "Create sweep with ID: w5vxjxy4\n",
            "Sweep URL: https://wandb.ai/jeongmin/uncategorized/sweeps/w5vxjxy4\n"
          ]
        },
        {
          "metadata": {
            "tags": null
          },
          "name": "stderr",
          "output_type": "stream",
          "text": [
            "\u001b[34m\u001b[1mwandb\u001b[0m: Agent Starting Run: 8a8abyrh with config:\n",
            "\u001b[34m\u001b[1mwandb\u001b[0m: \tepochs: 20\n",
            "\u001b[34m\u001b[1mwandb\u001b[0m: \tlr: 0.001\n",
            "\u001b[34m\u001b[1mwandb\u001b[0m: Currently logged in as: \u001b[33mjeongmin\u001b[0m (use `wandb login --relogin` to force relogin)\n",
            "\u001b[34m\u001b[1mwandb\u001b[0m: \u001b[33mWARNING\u001b[0m Ignored wandb.init() arg project when running a sweep\n"
          ]
        },
        {
          "data": {
            "text/html": [
              "\n",
              "                Tracking run with wandb version 0.12.2<br/>\n",
              "                Syncing run <strong style=\"color:#cdcd00\">different-sweep-1</strong> to <a href=\"https://wandb.ai\" target=\"_blank\">Weights & Biases</a> <a href=\"https://docs.wandb.com/integrations/jupyter.html\" target=\"_blank\">(Documentation)</a>.<br/>\n",
              "                Project page: <a href=\"https://wandb.ai/jeongmin/uncategorized\" target=\"_blank\">https://wandb.ai/jeongmin/uncategorized</a><br/>\n",
              "                Sweep page: <a href=\"https://wandb.ai/jeongmin/uncategorized/sweeps/w5vxjxy4\" target=\"_blank\">https://wandb.ai/jeongmin/uncategorized/sweeps/w5vxjxy4</a><br/>\n",
              "Run page: <a href=\"https://wandb.ai/jeongmin/uncategorized/runs/8a8abyrh\" target=\"_blank\">https://wandb.ai/jeongmin/uncategorized/runs/8a8abyrh</a><br/>\n",
              "                Run data is saved locally in <code>/content/wandb/run-20210923_041821-8a8abyrh</code><br/><br/>\n",
              "            "
            ],
            "text/plain": [
              "<IPython.core.display.HTML object>"
            ]
          },
          "metadata": {},
          "output_type": "display_data"
        },
        {
          "metadata": {
            "tags": null
          },
          "name": "stderr",
          "output_type": "stream",
          "text": [
            "\u001b[34m\u001b[1mwandb\u001b[0m: \u001b[33mWARNING\u001b[0m Ignored wandb.init() arg project when running a sweep\n"
          ]
        },
        {
          "data": {
            "text/html": [
              "Finishing last run (ID:8a8abyrh) before initializing another..."
            ],
            "text/plain": [
              "<IPython.core.display.HTML object>"
            ]
          },
          "metadata": {},
          "output_type": "display_data"
        },
        {
          "data": {
            "text/html": [
              "<br/>Waiting for W&B process to finish, PID 218<br/>Program ended successfully."
            ],
            "text/plain": [
              "<IPython.core.display.HTML object>"
            ]
          },
          "metadata": {},
          "output_type": "display_data"
        },
        {
          "data": {
            "application/vnd.jupyter.widget-view+json": {
              "model_id": "4ae3c1cbb8c64c4e8e322826671552a7",
              "version_major": 2,
              "version_minor": 0
            },
            "text/plain": [
              "VBox(children=(Label(value=' 0.00MB of 0.00MB uploaded (0.00MB deduped)\\r'), FloatProgress(value=1.0, max=1.0)…"
            ]
          },
          "metadata": {},
          "output_type": "display_data"
        },
        {
          "data": {
            "text/html": [
              "Find user logs for this run at: <code>/content/wandb/run-20210923_041821-8a8abyrh/logs/debug.log</code>"
            ],
            "text/plain": [
              "<IPython.core.display.HTML object>"
            ]
          },
          "metadata": {},
          "output_type": "display_data"
        },
        {
          "data": {
            "text/html": [
              "Find internal logs for this run at: <code>/content/wandb/run-20210923_041821-8a8abyrh/logs/debug-internal.log</code>"
            ],
            "text/plain": [
              "<IPython.core.display.HTML object>"
            ]
          },
          "metadata": {},
          "output_type": "display_data"
        },
        {
          "data": {
            "text/html": [
              "Synced 5 W&B file(s), 0 media file(s), 0 artifact file(s) and 0 other file(s)"
            ],
            "text/plain": [
              "<IPython.core.display.HTML object>"
            ]
          },
          "metadata": {},
          "output_type": "display_data"
        },
        {
          "data": {
            "text/html": [
              "\n",
              "                    <br/>Synced <strong style=\"color:#cdcd00\">different-sweep-1</strong>: <a href=\"https://wandb.ai/jeongmin/uncategorized/runs/8a8abyrh\" target=\"_blank\">https://wandb.ai/jeongmin/uncategorized/runs/8a8abyrh</a><br/>\n",
              "                "
            ],
            "text/plain": [
              "<IPython.core.display.HTML object>"
            ]
          },
          "metadata": {},
          "output_type": "display_data"
        },
        {
          "data": {
            "text/html": [
              "...Successfully finished last run (ID:8a8abyrh). Initializing new run:<br/><br/>"
            ],
            "text/plain": [
              "<IPython.core.display.HTML object>"
            ]
          },
          "metadata": {},
          "output_type": "display_data"
        },
        {
          "data": {
            "text/html": [
              "\n",
              "                Tracking run with wandb version 0.12.2<br/>\n",
              "                Syncing run <strong style=\"color:#cdcd00\">different-sweep-1</strong> to <a href=\"https://wandb.ai\" target=\"_blank\">Weights & Biases</a> <a href=\"https://docs.wandb.com/integrations/jupyter.html\" target=\"_blank\">(Documentation)</a>.<br/>\n",
              "                Project page: <a href=\"https://wandb.ai/jeongmin/uncategorized\" target=\"_blank\">https://wandb.ai/jeongmin/uncategorized</a><br/>\n",
              "                Sweep page: <a href=\"https://wandb.ai/jeongmin/uncategorized/sweeps/w5vxjxy4\" target=\"_blank\">https://wandb.ai/jeongmin/uncategorized/sweeps/w5vxjxy4</a><br/>\n",
              "Run page: <a href=\"https://wandb.ai/jeongmin/uncategorized/runs/8a8abyrh\" target=\"_blank\">https://wandb.ai/jeongmin/uncategorized/runs/8a8abyrh</a><br/>\n",
              "                Run data is saved locally in <code>/content/wandb/run-20210923_041824-8a8abyrh</code><br/><br/>\n",
              "            "
            ],
            "text/plain": [
              "<IPython.core.display.HTML object>"
            ]
          },
          "metadata": {},
          "output_type": "display_data"
        },
        {
          "metadata": {
            "tags": null
          },
          "name": "stderr",
          "output_type": "stream",
          "text": [
            "/usr/local/lib/python3.7/dist-packages/keras/utils/generic_utils.py:497: CustomMaskWarning: Custom mask layers require a config and must override get_config. When loading, the custom mask layer must be passed to the custom_objects argument.\n",
            "  category=CustomMaskWarning)\n"
          ]
        },
        {
          "metadata": {
            "tags": null
          },
          "name": "stdout",
          "output_type": "stream",
          "text": [
            "Epoch 1/20\n",
            " 6/40 [===>..........................] - ETA: 42s - loss: 4.5795 - accuracy: 0.0260WARNING:tensorflow:Callback method `on_train_batch_end` is slow compared to the batch time (batch time: 0.3632s vs `on_train_batch_end` time: 0.6744s). Check your callbacks.\n",
            "40/40 [==============================] - 86s 1s/step - loss: 3.9381 - accuracy: 0.1085 - val_loss: 15.2295 - val_accuracy: 0.0127\n",
            "Epoch 2/20\n",
            "40/40 [==============================] - 53s 1s/step - loss: 3.3409 - accuracy: 0.1966 - val_loss: 4.8952 - val_accuracy: 0.0174\n",
            "Epoch 3/20\n",
            "40/40 [==============================] - 52s 1s/step - loss: 2.9354 - accuracy: 0.2651 - val_loss: 5.6986 - val_accuracy: 0.0147\n",
            "Epoch 4/20\n",
            "40/40 [==============================] - 53s 1s/step - loss: 2.5878 - accuracy: 0.3338 - val_loss: 7.9799 - val_accuracy: 0.0239\n",
            "Epoch 5/20\n",
            "40/40 [==============================] - 53s 1s/step - loss: 2.2904 - accuracy: 0.3953 - val_loss: 6.5459 - val_accuracy: 0.0167\n",
            "Epoch 6/20\n",
            "40/40 [==============================] - 53s 1s/step - loss: 2.0339 - accuracy: 0.4501 - val_loss: 4.2334 - val_accuracy: 0.1296\n",
            "Epoch 7/20\n",
            "40/40 [==============================] - 53s 1s/step - loss: 1.7884 - accuracy: 0.5048 - val_loss: 3.8844 - val_accuracy: 0.1751\n",
            "Epoch 8/20\n",
            "40/40 [==============================] - 53s 1s/step - loss: 1.5363 - accuracy: 0.5664 - val_loss: 4.0368 - val_accuracy: 0.1672\n",
            "Epoch 9/20\n",
            "40/40 [==============================] - 53s 1s/step - loss: 1.3248 - accuracy: 0.6207 - val_loss: 3.1404 - val_accuracy: 0.2761\n",
            "Epoch 10/20\n",
            "40/40 [==============================] - 53s 1s/step - loss: 1.1789 - accuracy: 0.6568 - val_loss: 3.2998 - val_accuracy: 0.2818\n",
            "Epoch 11/20\n",
            "40/40 [==============================] - 53s 1s/step - loss: 0.9827 - accuracy: 0.7095 - val_loss: 3.1952 - val_accuracy: 0.3091\n",
            "Epoch 12/20\n",
            "40/40 [==============================] - 53s 1s/step - loss: 0.9392 - accuracy: 0.7188 - val_loss: 3.0467 - val_accuracy: 0.3454\n",
            "Epoch 13/20\n",
            "40/40 [==============================] - 53s 1s/step - loss: 0.8046 - accuracy: 0.7550 - val_loss: 3.4381 - val_accuracy: 0.3358\n",
            "Epoch 14/20\n",
            "40/40 [==============================] - 53s 1s/step - loss: 0.6037 - accuracy: 0.8166 - val_loss: 3.1111 - val_accuracy: 0.3789\n",
            "Epoch 15/20\n",
            "40/40 [==============================] - 53s 1s/step - loss: 0.3884 - accuracy: 0.8823 - val_loss: 3.2221 - val_accuracy: 0.3890\n",
            "Epoch 16/20\n",
            "40/40 [==============================] - 53s 1s/step - loss: 0.2850 - accuracy: 0.9141 - val_loss: 3.1657 - val_accuracy: 0.4048\n",
            "Epoch 17/20\n",
            "40/40 [==============================] - 53s 1s/step - loss: 0.2317 - accuracy: 0.9316 - val_loss: 3.0538 - val_accuracy: 0.4382\n",
            "Epoch 18/20\n",
            "40/40 [==============================] - 53s 1s/step - loss: 0.1778 - accuracy: 0.9464 - val_loss: 3.0861 - val_accuracy: 0.4333\n",
            "Epoch 19/20\n",
            "40/40 [==============================] - 53s 1s/step - loss: 0.1413 - accuracy: 0.9593 - val_loss: 3.1388 - val_accuracy: 0.4384\n",
            "Epoch 20/20\n",
            "40/40 [==============================] - 53s 1s/step - loss: 0.1151 - accuracy: 0.9673 - val_loss: 3.1453 - val_accuracy: 0.4415\n",
            "10/10 [==============================] - 4s 383ms/step - loss: 3.1646 - accuracy: 0.4411\n"
          ]
        },
        {
          "data": {
            "text/html": [
              "<br/>Waiting for W&B process to finish, PID 257<br/>Program ended successfully."
            ],
            "text/plain": [
              "<IPython.core.display.HTML object>"
            ]
          },
          "metadata": {},
          "output_type": "display_data"
        },
        {
          "data": {
            "application/vnd.jupyter.widget-view+json": {
              "model_id": "484c9515c771410fbfa5f9d6c975d262",
              "version_major": 2,
              "version_minor": 0
            },
            "text/plain": [
              "VBox(children=(Label(value=' 180.20MB of 180.20MB uploaded (0.00MB deduped)\\r'), FloatProgress(value=1.0, max=…"
            ]
          },
          "metadata": {},
          "output_type": "display_data"
        },
        {
          "data": {
            "text/html": [
              "Find user logs for this run at: <code>/content/wandb/run-20210923_041824-8a8abyrh/logs/debug.log</code>"
            ],
            "text/plain": [
              "<IPython.core.display.HTML object>"
            ]
          },
          "metadata": {},
          "output_type": "display_data"
        },
        {
          "data": {
            "text/html": [
              "Find internal logs for this run at: <code>/content/wandb/run-20210923_041824-8a8abyrh/logs/debug-internal.log</code>"
            ],
            "text/plain": [
              "<IPython.core.display.HTML object>"
            ]
          },
          "metadata": {},
          "output_type": "display_data"
        },
        {
          "data": {
            "text/html": [
              "<h3>Run summary:</h3><br/><style>\n",
              "    table.wandb td:nth-child(1) { padding: 0 10px; text-align: right }\n",
              "    </style><table class=\"wandb\">\n",
              "<tr><td>accuracy</td><td>0.9673</td></tr><tr><td>best_epoch</td><td>11</td></tr><tr><td>best_val_loss</td><td>3.04668</td></tr><tr><td>epoch</td><td>19</td></tr><tr><td>loss</td><td>0.11507</td></tr><tr><td>val_accuracy</td><td>0.4415</td></tr><tr><td>val_loss</td><td>3.14535</td></tr></table>"
            ],
            "text/plain": [
              "<IPython.core.display.HTML object>"
            ]
          },
          "metadata": {},
          "output_type": "display_data"
        },
        {
          "data": {
            "text/html": [
              "<h3>Run history:</h3><br/><style>\n",
              "    table.wandb td:nth-child(1) { padding: 0 10px; text-align: right }\n",
              "    </style><table class=\"wandb\">\n",
              "<tr><td>accuracy</td><td>▁▂▂▃▃▄▄▅▅▅▆▆▆▇▇█████</td></tr><tr><td>epoch</td><td>▁▁▂▂▂▃▃▄▄▄▅▅▅▆▆▇▇▇██</td></tr><tr><td>loss</td><td>█▇▆▆▅▅▄▄▃▃▃▃▂▂▂▁▁▁▁▁</td></tr><tr><td>val_accuracy</td><td>▁▁▁▁▁▃▄▄▅▅▆▆▆▇▇▇████</td></tr><tr><td>val_loss</td><td>█▂▃▄▃▂▁▂▁▁▁▁▁▁▁▁▁▁▁▁</td></tr></table><br/>"
            ],
            "text/plain": [
              "<IPython.core.display.HTML object>"
            ]
          },
          "metadata": {},
          "output_type": "display_data"
        },
        {
          "data": {
            "text/html": [
              "Synced 5 W&B file(s), 1 media file(s), 0 artifact file(s) and 11 other file(s)"
            ],
            "text/plain": [
              "<IPython.core.display.HTML object>"
            ]
          },
          "metadata": {},
          "output_type": "display_data"
        },
        {
          "data": {
            "text/html": [
              "\n",
              "                    <br/>Synced <strong style=\"color:#cdcd00\">different-sweep-1</strong>: <a href=\"https://wandb.ai/jeongmin/uncategorized/runs/8a8abyrh\" target=\"_blank\">https://wandb.ai/jeongmin/uncategorized/runs/8a8abyrh</a><br/>\n",
              "                "
            ],
            "text/plain": [
              "<IPython.core.display.HTML object>"
            ]
          },
          "metadata": {},
          "output_type": "display_data"
        },
        {
          "metadata": {
            "tags": null
          },
          "name": "stderr",
          "output_type": "stream",
          "text": [
            "\u001b[34m\u001b[1mwandb\u001b[0m: Agent Starting Run: kudtv034 with config:\n",
            "\u001b[34m\u001b[1mwandb\u001b[0m: \tepochs: 20\n",
            "\u001b[34m\u001b[1mwandb\u001b[0m: \tlr: 0.0001\n",
            "\u001b[34m\u001b[1mwandb\u001b[0m: \u001b[33mWARNING\u001b[0m Ignored wandb.init() arg project when running a sweep\n"
          ]
        },
        {
          "data": {
            "text/html": [
              "\n",
              "                Tracking run with wandb version 0.12.2<br/>\n",
              "                Syncing run <strong style=\"color:#cdcd00\">swift-sweep-2</strong> to <a href=\"https://wandb.ai\" target=\"_blank\">Weights & Biases</a> <a href=\"https://docs.wandb.com/integrations/jupyter.html\" target=\"_blank\">(Documentation)</a>.<br/>\n",
              "                Project page: <a href=\"https://wandb.ai/jeongmin/uncategorized\" target=\"_blank\">https://wandb.ai/jeongmin/uncategorized</a><br/>\n",
              "                Sweep page: <a href=\"https://wandb.ai/jeongmin/uncategorized/sweeps/w5vxjxy4\" target=\"_blank\">https://wandb.ai/jeongmin/uncategorized/sweeps/w5vxjxy4</a><br/>\n",
              "Run page: <a href=\"https://wandb.ai/jeongmin/uncategorized/runs/kudtv034\" target=\"_blank\">https://wandb.ai/jeongmin/uncategorized/runs/kudtv034</a><br/>\n",
              "                Run data is saved locally in <code>/content/wandb/run-20210923_043706-kudtv034</code><br/><br/>\n",
              "            "
            ],
            "text/plain": [
              "<IPython.core.display.HTML object>"
            ]
          },
          "metadata": {},
          "output_type": "display_data"
        },
        {
          "output_type": "stream",
          "name": "stdout",
          "text": [
            "Epoch 1/20\n",
            " 6/40 [===>..........................] - ETA: 46s - loss: 4.5962 - accuracy: 0.0199WARNING:tensorflow:Callback method `on_train_batch_end` is slow compared to the batch time (batch time: 0.3936s vs `on_train_batch_end` time: 0.9053s). Check your callbacks.\n",
            "40/40 [==============================] - 57s 1s/step - loss: 4.3268 - accuracy: 0.0538 - val_loss: 4.6445 - val_accuracy: 0.0094\n",
            "Epoch 2/20\n",
            "40/40 [==============================] - 53s 1s/step - loss: 3.8151 - accuracy: 0.1280 - val_loss: 4.7678 - val_accuracy: 0.0094\n",
            "Epoch 3/20\n",
            "40/40 [==============================] - 53s 1s/step - loss: 3.4252 - accuracy: 0.1953 - val_loss: 4.9576 - val_accuracy: 0.0110\n",
            "Epoch 4/20\n",
            "40/40 [==============================] - 53s 1s/step - loss: 3.0406 - accuracy: 0.2745 - val_loss: 5.2696 - val_accuracy: 0.0110\n",
            "Epoch 5/20\n",
            "40/40 [==============================] - 53s 1s/step - loss: 2.6531 - accuracy: 0.3656 - val_loss: 5.2923 - val_accuracy: 0.0081\n",
            "Epoch 6/20\n",
            "40/40 [==============================] - 53s 1s/step - loss: 2.2530 - accuracy: 0.4615 - val_loss: 5.3759 - val_accuracy: 0.0135\n",
            "Epoch 7/20\n",
            "40/40 [==============================] - 53s 1s/step - loss: 1.9747 - accuracy: 0.5244 - val_loss: 5.5968 - val_accuracy: 0.0243\n",
            "Epoch 8/20\n",
            "40/40 [==============================] - 53s 1s/step - loss: 1.8009 - accuracy: 0.5504 - val_loss: 5.2657 - val_accuracy: 0.0442\n",
            "Epoch 9/20\n",
            "40/40 [==============================] - 53s 1s/step - loss: 1.5997 - accuracy: 0.5989 - val_loss: 4.8208 - val_accuracy: 0.0682\n",
            "Epoch 10/20\n",
            "40/40 [==============================] - 53s 1s/step - loss: 1.4195 - accuracy: 0.6374 - val_loss: 4.4573 - val_accuracy: 0.1123\n",
            "Epoch 11/20\n",
            "40/40 [==============================] - 53s 1s/step - loss: 1.2788 - accuracy: 0.6689 - val_loss: 4.3740 - val_accuracy: 0.1351\n",
            "Epoch 12/20\n",
            "40/40 [==============================] - 53s 1s/step - loss: 1.0714 - accuracy: 0.7261 - val_loss: 4.0695 - val_accuracy: 0.1708\n",
            "Epoch 13/20\n",
            "40/40 [==============================] - 53s 1s/step - loss: 0.8840 - accuracy: 0.7788 - val_loss: 4.1590 - val_accuracy: 0.1833\n",
            "Epoch 14/20\n",
            "40/40 [==============================] - 53s 1s/step - loss: 0.7695 - accuracy: 0.8051 - val_loss: 4.2270 - val_accuracy: 0.1949\n",
            "Epoch 15/20\n",
            "40/40 [==============================] - 53s 1s/step - loss: 0.5767 - accuracy: 0.8611 - val_loss: 4.2452 - val_accuracy: 0.2012\n",
            "Epoch 16/20\n",
            "40/40 [==============================] - 53s 1s/step - loss: 0.3979 - accuracy: 0.9137 - val_loss: 4.2884 - val_accuracy: 0.2097\n",
            "Epoch 17/20\n",
            "40/40 [==============================] - 53s 1s/step - loss: 0.3140 - accuracy: 0.9341 - val_loss: 4.3723 - val_accuracy: 0.1994\n",
            "Epoch 18/20\n",
            "40/40 [==============================] - 53s 1s/step - loss: 0.2144 - accuracy: 0.9593 - val_loss: 4.4576 - val_accuracy: 0.1998\n",
            "Epoch 19/20\n",
            "40/40 [==============================] - 53s 1s/step - loss: 0.1780 - accuracy: 0.9695 - val_loss: 4.4776 - val_accuracy: 0.2054\n",
            "Epoch 20/20\n",
            "40/40 [==============================] - 53s 1s/step - loss: 0.1258 - accuracy: 0.9800 - val_loss: 4.5785 - val_accuracy: 0.2043\n",
            "10/10 [==============================] - 4s 383ms/step - loss: 4.5331 - accuracy: 0.2063\n"
          ]
        },
        {
          "output_type": "display_data",
          "data": {
            "text/html": [
              "<br/>Waiting for W&B process to finish, PID 693<br/>Program ended successfully."
            ],
            "text/plain": [
              "<IPython.core.display.HTML object>"
            ]
          },
          "metadata": {}
        },
        {
          "output_type": "display_data",
          "data": {
            "application/vnd.jupyter.widget-view+json": {
              "model_id": "c5c699f055db490bb3485242c03a3e30",
              "version_minor": 0,
              "version_major": 2
            },
            "text/plain": [
              "VBox(children=(Label(value=' 163.80MB of 182.22MB uploaded (0.00MB deduped)\\r'), FloatProgress(value=0.8988815…"
            ]
          },
          "metadata": {}
        },
        {
          "output_type": "display_data",
          "data": {
            "text/html": [
              "Find user logs for this run at: <code>/content/wandb/run-20210923_043706-kudtv034/logs/debug.log</code>"
            ],
            "text/plain": [
              "<IPython.core.display.HTML object>"
            ]
          },
          "metadata": {}
        },
        {
          "output_type": "display_data",
          "data": {
            "text/html": [
              "Find internal logs for this run at: <code>/content/wandb/run-20210923_043706-kudtv034/logs/debug-internal.log</code>"
            ],
            "text/plain": [
              "<IPython.core.display.HTML object>"
            ]
          },
          "metadata": {}
        },
        {
          "output_type": "display_data",
          "data": {
            "text/html": [
              "<h3>Run summary:</h3><br/><style>\n",
              "    table.wandb td:nth-child(1) { padding: 0 10px; text-align: right }\n",
              "    </style><table class=\"wandb\">\n",
              "<tr><td>accuracy</td><td>0.98002</td></tr><tr><td>best_epoch</td><td>11</td></tr><tr><td>best_val_loss</td><td>4.06951</td></tr><tr><td>epoch</td><td>19</td></tr><tr><td>loss</td><td>0.12578</td></tr><tr><td>val_accuracy</td><td>0.2043</td></tr><tr><td>val_loss</td><td>4.57847</td></tr></table>"
            ],
            "text/plain": [
              "<IPython.core.display.HTML object>"
            ]
          },
          "metadata": {}
        },
        {
          "output_type": "display_data",
          "data": {
            "text/html": [
              "<h3>Run history:</h3><br/><style>\n",
              "    table.wandb td:nth-child(1) { padding: 0 10px; text-align: right }\n",
              "    </style><table class=\"wandb\">\n",
              "<tr><td>accuracy</td><td>▁▂▂▃▃▄▅▅▅▅▆▆▆▇▇▇████</td></tr><tr><td>epoch</td><td>▁▁▂▂▂▃▃▄▄▄▅▅▅▆▆▇▇▇██</td></tr><tr><td>loss</td><td>█▇▆▆▅▅▄▄▃▃▃▃▂▂▂▁▁▁▁▁</td></tr><tr><td>val_accuracy</td><td>▁▁▁▁▁▁▂▂▃▅▅▇▇▇██████</td></tr><tr><td>val_loss</td><td>▄▄▅▇▇▇█▆▄▃▂▁▁▂▂▂▂▃▃▃</td></tr></table><br/>"
            ],
            "text/plain": [
              "<IPython.core.display.HTML object>"
            ]
          },
          "metadata": {}
        },
        {
          "output_type": "display_data",
          "data": {
            "text/html": [
              "Synced 5 W&B file(s), 1 media file(s), 0 artifact file(s) and 11 other file(s)"
            ],
            "text/plain": [
              "<IPython.core.display.HTML object>"
            ]
          },
          "metadata": {}
        },
        {
          "output_type": "display_data",
          "data": {
            "text/html": [
              "\n",
              "                    <br/>Synced <strong style=\"color:#cdcd00\">swift-sweep-2</strong>: <a href=\"https://wandb.ai/jeongmin/uncategorized/runs/kudtv034\" target=\"_blank\">https://wandb.ai/jeongmin/uncategorized/runs/kudtv034</a><br/>\n",
              "                "
            ],
            "text/plain": [
              "<IPython.core.display.HTML object>"
            ]
          },
          "metadata": {}
        },
        {
          "output_type": "stream",
          "name": "stderr",
          "text": [
            "\u001b[34m\u001b[1mwandb\u001b[0m: Sweep Agent: Waiting for job.\n",
            "\u001b[34m\u001b[1mwandb\u001b[0m: Sweep Agent: Exiting.\n"
          ]
        }
      ]
    }
  ]
}