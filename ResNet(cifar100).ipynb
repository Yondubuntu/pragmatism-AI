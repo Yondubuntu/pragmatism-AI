{
  "nbformat": 4,
  "nbformat_minor": 0,
  "metadata": {
    "accelerator": "GPU",
    "colab": {
      "name": "ResNet(cifar100).ipynb",
      "provenance": [],
      "collapsed_sections": [],
      "authorship_tag": "ABX9TyO2EC7e4hlkvyHFm33xmbHB",
      "include_colab_link": true
    },
    "kernelspec": {
      "display_name": "Python 3",
      "name": "python3"
    },
    "language_info": {
      "name": "python"
    },
    "widgets": {
      "application/vnd.jupyter.widget-state+json": {}
    }
  },
  "cells": [
    {
      "cell_type": "markdown",
      "metadata": {
        "id": "view-in-github",
        "colab_type": "text"
      },
      "source": [
        "<a href=\"https://colab.research.google.com/github/silverstar0727/pragmatism-AI/blob/main/ResNet(cifar100).ipynb\" target=\"_parent\"><img src=\"https://colab.research.google.com/assets/colab-badge.svg\" alt=\"Open In Colab\"/></a>"
      ]
    },
    {
      "cell_type": "code",
      "metadata": {
        "colab": {
          "base_uri": "https://localhost:8080/"
        },
        "id": "LEx0rWNKBg5g",
        "outputId": "f35770d2-f9d5-4835-d068-9f767cee8922"
      },
      "source": [
        "!pip install -q wandb"
      ],
      "execution_count": null,
      "outputs": [
        {
          "output_type": "stream",
          "text": [
            "\u001b[K     |████████████████████████████████| 1.8 MB 14.8 MB/s \n",
            "\u001b[K     |████████████████████████████████| 133 kB 57.8 MB/s \n",
            "\u001b[K     |████████████████████████████████| 170 kB 66.8 MB/s \n",
            "\u001b[K     |████████████████████████████████| 97 kB 8.5 MB/s \n",
            "\u001b[K     |████████████████████████████████| 138 kB 60.9 MB/s \n",
            "\u001b[K     |████████████████████████████████| 63 kB 2.4 MB/s \n",
            "\u001b[K     |████████████████████████████████| 62 kB 927 kB/s \n",
            "\u001b[?25h  Building wheel for subprocess32 (setup.py) ... \u001b[?25l\u001b[?25hdone\n",
            "  Building wheel for pathtools (setup.py) ... \u001b[?25l\u001b[?25hdone\n",
            "\u001b[31mERROR: pip's dependency resolver does not currently take into account all the packages that are installed. This behaviour is the source of the following dependency conflicts.\n",
            "google-colab 1.0.0 requires requests~=2.23.0, but you have requests 2.26.0 which is incompatible.\n",
            "datascience 0.10.6 requires folium==0.2.1, but you have folium 0.8.3 which is incompatible.\u001b[0m\n"
          ],
          "name": "stdout"
        }
      ]
    },
    {
      "cell_type": "code",
      "metadata": {
        "colab": {
          "base_uri": "https://localhost:8080/",
          "height": 68
        },
        "id": "PWVA8VOfR5xo",
        "outputId": "e9c1e4b5-7f0d-41f2-fc37-45db1300a1bc"
      },
      "source": [
        "import tensorflow as tf\n",
        "from sklearn.model_selection import train_test_split\n",
        "from tensorflow import keras\n",
        "\n",
        "from tensorflow.keras.layers import Input, Conv2D, ReLU, BatchNormalization,\\\n",
        "                                    Add, AveragePooling2D, Flatten, Dense\n",
        "from tensorflow.keras.models import Model\n",
        "\n",
        "from wandb.keras import WandbCallback\n",
        "import wandb\n",
        "\n",
        "wandb.login()"
      ],
      "execution_count": null,
      "outputs": [
        {
          "output_type": "display_data",
          "data": {
            "application/javascript": [
              "\n",
              "        window._wandbApiKey = new Promise((resolve, reject) => {\n",
              "            function loadScript(url) {\n",
              "            return new Promise(function(resolve, reject) {\n",
              "                let newScript = document.createElement(\"script\");\n",
              "                newScript.onerror = reject;\n",
              "                newScript.onload = resolve;\n",
              "                document.body.appendChild(newScript);\n",
              "                newScript.src = url;\n",
              "            });\n",
              "            }\n",
              "            loadScript(\"https://cdn.jsdelivr.net/npm/postmate/build/postmate.min.js\").then(() => {\n",
              "            const iframe = document.createElement('iframe')\n",
              "            iframe.style.cssText = \"width:0;height:0;border:none\"\n",
              "            document.body.appendChild(iframe)\n",
              "            const handshake = new Postmate({\n",
              "                container: iframe,\n",
              "                url: 'https://wandb.ai/authorize'\n",
              "            });\n",
              "            const timeout = setTimeout(() => reject(\"Couldn't auto authenticate\"), 5000)\n",
              "            handshake.then(function(child) {\n",
              "                child.on('authorize', data => {\n",
              "                    clearTimeout(timeout)\n",
              "                    resolve(data)\n",
              "                });\n",
              "            });\n",
              "            })\n",
              "        });\n",
              "    "
            ],
            "text/plain": [
              "<IPython.core.display.Javascript object>"
            ]
          },
          "metadata": {
            "tags": []
          }
        },
        {
          "output_type": "stream",
          "text": [
            "\u001b[34m\u001b[1mwandb\u001b[0m: Appending key for api.wandb.ai to your netrc file: /root/.netrc\n"
          ],
          "name": "stderr"
        },
        {
          "output_type": "execute_result",
          "data": {
            "text/plain": [
              "True"
            ]
          },
          "metadata": {
            "tags": []
          },
          "execution_count": 2
        }
      ]
    },
    {
      "cell_type": "code",
      "metadata": {
        "colab": {
          "base_uri": "https://localhost:8080/"
        },
        "id": "x97EBGMrDMe3",
        "outputId": "8b9713fc-1f1f-49fd-be90-a933c4b455fe"
      },
      "source": [
        "cifar100 = tf.keras.datasets.cifar10\n",
        "\n",
        "(x_train, y_train), (x_test, y_test) = cifar100.load_data()\n",
        "\n",
        "x_train, x_test = x_train / 255.0, x_test / 255.0\n",
        "x_train, x_val, y_train, y_val = train_test_split(x_train, y_train, test_size=0.2, random_state=3)"
      ],
      "execution_count": null,
      "outputs": [
        {
          "output_type": "stream",
          "text": [
            "Downloading data from https://www.cs.toronto.edu/~kriz/cifar-10-python.tar.gz\n",
            "170500096/170498071 [==============================] - 6s 0us/step\n"
          ],
          "name": "stdout"
        }
      ]
    },
    {
      "cell_type": "code",
      "metadata": {
        "id": "d3T8DkopR4Ri"
      },
      "source": [
        "def relu_bn(x):\n",
        "    x = ReLU()(x)\n",
        "    x = BatchNormalization()(x)\n",
        "    return x\n",
        "\n",
        "def residual_block(x, downsample, filters, kernel_size=3):\n",
        "    y = Conv2D(kernel_size=kernel_size,\n",
        "               strides= (1 if not downsample else 2),\n",
        "               filters=filters,\n",
        "               padding=\"same\")(x)\n",
        "    y = relu_bn(y)\n",
        "    y = Conv2D(kernel_size=kernel_size,\n",
        "               strides=1,\n",
        "               filters=filters,\n",
        "               padding=\"same\")(y)\n",
        "\n",
        "    if downsample:\n",
        "        x = Conv2D(kernel_size=1,\n",
        "                   strides=2,\n",
        "                   filters=filters,\n",
        "                   padding=\"same\")(x)\n",
        "    out = Add()([x, y])\n",
        "    out = relu_bn(out)\n",
        "    return out\n",
        "\n",
        "def create_res_net():\n",
        "    \n",
        "    inputs = Input(shape=(32, 32, 3))\n",
        "    num_filters = 64\n",
        "    \n",
        "    x = BatchNormalization()(inputs)\n",
        "    x = Conv2D(kernel_size=3,\n",
        "               strides=1,\n",
        "               filters=num_filters,\n",
        "               padding=\"same\")(x)\n",
        "    x = relu_bn(x)\n",
        "    \n",
        "    num_blocks_list = [2, 5, 5, 2]\n",
        "    for i in range(len(num_blocks_list)):\n",
        "        num_blocks = num_blocks_list[i]\n",
        "        for j in range(num_blocks):\n",
        "            x = residual_block(x, downsample=(j==0 and i!=0), filters=num_filters)\n",
        "        num_filters *= 2\n",
        "    \n",
        "    x = AveragePooling2D(4)(x)\n",
        "    x = Flatten()(x)\n",
        "    outputs = Dense(100, activation='softmax')(x)\n",
        "    \n",
        "    model = Model(inputs, outputs)\n",
        "\n",
        "    return model"
      ],
      "execution_count": null,
      "outputs": []
    },
    {
      "cell_type": "code",
      "metadata": {
        "id": "wnGIWE3EWt-m"
      },
      "source": [
        "def experiment():\n",
        "    config_defaults = {\n",
        "        'epochs': 2,\n",
        "        'batch_size': 1024,\n",
        "        'lr': 0.1\n",
        "    }\n",
        "\n",
        "    wandb.init(project='VGGs', config=config_defaults, magic=True)\n",
        "    args = wandb.config\n",
        "    \n",
        "    # Prepare dataloader\n",
        "    trainloader = tf.data.Dataset.from_tensor_slices((x_train, y_train))\n",
        "    trainloader = trainloader.shuffle(1024).batch(args.batch_size).prefetch(tf.data.experimental.AUTOTUNE)\n",
        "    valloader = tf.data.Dataset.from_tensor_slices((x_val, y_val))\n",
        "    valloader = valloader.batch(args.batch_size).prefetch(tf.data.experimental.AUTOTUNE)\n",
        "    testloader = tf.data.Dataset.from_tensor_slices((x_test, y_test))\n",
        "    testloader = testloader.batch(args.batch_size).prefetch(tf.data.experimental.AUTOTUNE)\n",
        "\n",
        "    # init\n",
        "    keras.backend.clear_session()\n",
        "    \n",
        "    net = create_res_net()\n",
        "    optimizer = tf.keras.optimizers.Adam(learning_rate=args.lr)\n",
        "    net.compile(optimizer=optimizer,\n",
        "                loss='sparse_categorical_crossentropy',\n",
        "                metrics=['accuracy'])\n",
        "\n",
        "    result = net.fit(\n",
        "        trainloader, \n",
        "        epochs=args.epochs, \n",
        "        validation_data=valloader, \n",
        "        batch_size=args.batch_size,\n",
        "        callbacks=[WandbCallback(save_model=False)])\n",
        "\n",
        "    test_result = net.evaluate(testloader, callbacks=[WandbCallback(save_model=False)])"
      ],
      "execution_count": null,
      "outputs": []
    },
    {
      "cell_type": "code",
      "metadata": {
        "colab": {
          "background_save": true,
          "base_uri": "https://localhost:8080/",
          "height": 1000,
          "referenced_widgets": [
            "7f216ee7c3ee4c4697881d103b191c5e"
          ]
        },
        "id": "xmXgmM7rBX5t",
        "outputId": "44b262a7-8fb3-4a7f-d6de-a01f9bf913fa"
      },
      "source": [
        "sweep_config = {\n",
        "    'method': 'grid',\n",
        "    'parameters': {\n",
        "        'lr': {\n",
        "            'values': [0.01, 0.001, 0.0001]\n",
        "        },\n",
        "        'epochs': {\n",
        "            'values': [25]\n",
        "        },\n",
        "        'batch_size': {\n",
        "            'values': [1024]\n",
        "        }\n",
        "    }\n",
        "}\n",
        "\n",
        "import wandb\n",
        "sweep_id = wandb.sweep(sweep_config)\n",
        "\n",
        "wandb.agent(sweep_id, function=experiment)"
      ],
      "execution_count": null,
      "outputs": [
        {
          "output_type": "stream",
          "text": [
            "Create sweep with ID: km23mv7v\n",
            "Sweep URL: https://wandb.ai/jeongmin/uncategorized/sweeps/km23mv7v\n"
          ],
          "name": "stdout"
        },
        {
          "output_type": "stream",
          "text": [
            "\u001b[34m\u001b[1mwandb\u001b[0m: Agent Starting Run: 8aiho63z with config:\n",
            "\u001b[34m\u001b[1mwandb\u001b[0m: \tbatch_size: 1024\n",
            "\u001b[34m\u001b[1mwandb\u001b[0m: \tepochs: 25\n",
            "\u001b[34m\u001b[1mwandb\u001b[0m: \tlr: 0.01\n",
            "\u001b[34m\u001b[1mwandb\u001b[0m: Currently logged in as: \u001b[33mjeongmin\u001b[0m (use `wandb login --relogin` to force relogin)\n",
            "\u001b[34m\u001b[1mwandb\u001b[0m: \u001b[33mWARNING\u001b[0m Ignored wandb.init() arg project when running a sweep\n"
          ],
          "name": "stderr"
        },
        {
          "output_type": "display_data",
          "data": {
            "text/html": [
              "\n",
              "                Tracking run with wandb version 0.11.0<br/>\n",
              "                Syncing run <strong style=\"color:#cdcd00\">stilted-sweep-1</strong> to <a href=\"https://wandb.ai\" target=\"_blank\">Weights & Biases</a> <a href=\"https://docs.wandb.com/integrations/jupyter.html\" target=\"_blank\">(Documentation)</a>.<br/>\n",
              "                Project page: <a href=\"https://wandb.ai/jeongmin/uncategorized\" target=\"_blank\">https://wandb.ai/jeongmin/uncategorized</a><br/>\n",
              "                Sweep page: <a href=\"https://wandb.ai/jeongmin/uncategorized/sweeps/km23mv7v\" target=\"_blank\">https://wandb.ai/jeongmin/uncategorized/sweeps/km23mv7v</a><br/>\n",
              "Run page: <a href=\"https://wandb.ai/jeongmin/uncategorized/runs/8aiho63z\" target=\"_blank\">https://wandb.ai/jeongmin/uncategorized/runs/8aiho63z</a><br/>\n",
              "                Run data is saved locally in <code>/content/wandb/run-20210720_164931-8aiho63z</code><br/><br/>\n",
              "            "
            ],
            "text/plain": [
              "<IPython.core.display.HTML object>"
            ]
          },
          "metadata": {
            "tags": []
          }
        },
        {
          "output_type": "stream",
          "text": [
            "\u001b[34m\u001b[1mwandb\u001b[0m: \u001b[33mWARNING\u001b[0m Ignored wandb.init() arg project when running a sweep\n"
          ],
          "name": "stderr"
        },
        {
          "output_type": "display_data",
          "data": {
            "text/html": [
              "Finishing last run (ID:8aiho63z) before initializing another..."
            ],
            "text/plain": [
              "<IPython.core.display.HTML object>"
            ]
          },
          "metadata": {
            "tags": []
          }
        },
        {
          "output_type": "display_data",
          "data": {
            "text/html": [
              "<br/>Waiting for W&B process to finish, PID 138<br/>Program ended successfully."
            ],
            "text/plain": [
              "<IPython.core.display.HTML object>"
            ]
          },
          "metadata": {
            "tags": []
          }
        },
        {
          "output_type": "display_data",
          "data": {
            "application/vnd.jupyter.widget-view+json": {
              "model_id": "7f216ee7c3ee4c4697881d103b191c5e",
              "version_major": 2,
              "version_minor": 0
            },
            "text/plain": [
              "VBox(children=(Label(value=' 0.00MB of 0.00MB uploaded (0.00MB deduped)\\r'), FloatProgress(value=1.0, max=1.0)…"
            ]
          },
          "metadata": {
            "tags": []
          }
        },
        {
          "output_type": "display_data",
          "data": {
            "text/html": [
              "Find user logs for this run at: <code>/content/wandb/run-20210720_164931-8aiho63z/logs/debug.log</code>"
            ],
            "text/plain": [
              "<IPython.core.display.HTML object>"
            ]
          },
          "metadata": {
            "tags": []
          }
        },
        {
          "output_type": "display_data",
          "data": {
            "text/html": [
              "Find internal logs for this run at: <code>/content/wandb/run-20210720_164931-8aiho63z/logs/debug-internal.log</code>"
            ],
            "text/plain": [
              "<IPython.core.display.HTML object>"
            ]
          },
          "metadata": {
            "tags": []
          }
        },
        {
          "output_type": "display_data",
          "data": {
            "text/html": [
              "Synced 5 W&B file(s), 0 media file(s), 0 artifact file(s) and 0 other file(s)"
            ],
            "text/plain": [
              "<IPython.core.display.HTML object>"
            ]
          },
          "metadata": {
            "tags": []
          }
        },
        {
          "output_type": "display_data",
          "data": {
            "text/html": [
              "\n",
              "                    <br/>Synced <strong style=\"color:#cdcd00\">stilted-sweep-1</strong>: <a href=\"https://wandb.ai/jeongmin/uncategorized/runs/8aiho63z\" target=\"_blank\">https://wandb.ai/jeongmin/uncategorized/runs/8aiho63z</a><br/>\n",
              "                "
            ],
            "text/plain": [
              "<IPython.core.display.HTML object>"
            ]
          },
          "metadata": {
            "tags": []
          }
        },
        {
          "output_type": "display_data",
          "data": {
            "text/html": [
              "...Successfully finished last run (ID:8aiho63z). Initializing new run:<br/><br/>"
            ],
            "text/plain": [
              "<IPython.core.display.HTML object>"
            ]
          },
          "metadata": {
            "tags": []
          }
        },
        {
          "output_type": "display_data",
          "data": {
            "text/html": [
              "\n",
              "                Tracking run with wandb version 0.11.0<br/>\n",
              "                Syncing run <strong style=\"color:#cdcd00\">stilted-sweep-1</strong> to <a href=\"https://wandb.ai\" target=\"_blank\">Weights & Biases</a> <a href=\"https://docs.wandb.com/integrations/jupyter.html\" target=\"_blank\">(Documentation)</a>.<br/>\n",
              "                Project page: <a href=\"https://wandb.ai/jeongmin/uncategorized\" target=\"_blank\">https://wandb.ai/jeongmin/uncategorized</a><br/>\n",
              "                Sweep page: <a href=\"https://wandb.ai/jeongmin/uncategorized/sweeps/km23mv7v\" target=\"_blank\">https://wandb.ai/jeongmin/uncategorized/sweeps/km23mv7v</a><br/>\n",
              "Run page: <a href=\"https://wandb.ai/jeongmin/uncategorized/runs/8aiho63z\" target=\"_blank\">https://wandb.ai/jeongmin/uncategorized/runs/8aiho63z</a><br/>\n",
              "                Run data is saved locally in <code>/content/wandb/run-20210720_164933-8aiho63z</code><br/><br/>\n",
              "            "
            ],
            "text/plain": [
              "<IPython.core.display.HTML object>"
            ]
          },
          "metadata": {
            "tags": []
          }
        },
        {
          "output_type": "stream",
          "text": [
            "/usr/local/lib/python3.7/dist-packages/tensorflow/python/keras/utils/generic_utils.py:497: CustomMaskWarning: Custom mask layers require a config and must override get_config. When loading, the custom mask layer must be passed to the custom_objects argument.\n",
            "  category=CustomMaskWarning)\n"
          ],
          "name": "stderr"
        },
        {
          "output_type": "stream",
          "text": [
            "Epoch 1/25\n",
            "40/40 [==============================] - 7650s 191s/step - loss: 3.0427 - accuracy: 0.1470 - val_loss: 19556513792.0000 - val_accuracy: 0.0970\n",
            "Epoch 2/25\n",
            "16/40 [===========>..................] - ETA: 1:14:08 - loss: 2.1975 - accuracy: 0.2053"
          ],
          "name": "stdout"
        }
      ]
    },
    {
      "cell_type": "markdown",
      "metadata": {
        "id": "e2XbUwJkGRJA"
      },
      "source": [
        "[Experiment](https://wandb.ai/jeongmin/uncategorized/sweeps/ef7doh12?workspace=user-jeongmin)"
      ]
    },
    {
      "cell_type": "code",
      "metadata": {
        "colab": {
          "background_save": true
        },
        "id": "VF1C5Daa0hJv"
      },
      "source": [
        ""
      ],
      "execution_count": null,
      "outputs": []
    }
  ]
}